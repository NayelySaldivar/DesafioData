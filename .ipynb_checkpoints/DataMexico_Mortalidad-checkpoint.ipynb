{
 "cells": [
  {
   "cell_type": "markdown",
   "metadata": {},
   "source": [
    "<h2> Desafío Data México </h2>\n",
    "<h4> <p> Segunda Edición - Datos con perspectiva de género </p> </h4> "
   ]
  },
  {
   "cell_type": "markdown",
   "metadata": {},
   "source": [
    "Importación de librerías:"
   ]
  },
  {
   "cell_type": "code",
   "execution_count": 1,
   "metadata": {},
   "outputs": [],
   "source": [
    "import pandas as pd\n",
    "import numpy as np\n",
    "import requests\n",
    "import plotly.express as px"
   ]
  },
  {
   "cell_type": "code",
   "execution_count": 2,
   "metadata": {},
   "outputs": [],
   "source": [
    "pd.options.display.max_columns = None\n",
    "pd.options.display.max_rows = None"
   ]
  },
  {
   "cell_type": "markdown",
   "metadata": {},
   "source": [
    "Carga de información:"
   ]
  },
  {
   "cell_type": "markdown",
   "metadata": {},
   "source": [
    "- Utilizamos la **DataMexico API Explorer** para obtener los datos actualizados:"
   ]
  },
  {
   "cell_type": "code",
   "execution_count": 3,
   "metadata": {},
   "outputs": [],
   "source": [
    "data=requests.get('https://api.datamexico.org/tesseract/data.jsonrecords?cube=gobmx_covid&drilldowns=Death+Date%2CCovid+Result%2CHealth+Institution+Attended%2CPneumonia+Diagnose%2CSpeaks+Indigenous+Language%2CCOPD+Diagnose%2CAsthma+Diagnose%2CInmunosupresion+Diagnose%2CHypertension+Diagnose%2CCardiovascular+Diagnose%2CObesity+Diagnose%2CChronic+Kidney+Failure+Diagnose%2CDiabetes+Diagnose%2CSmoking+Diagnose%2CContact+with+Another+Covid+Case%2CState+Patient+Attended%2CState+Patient+Origin&measures=Cases&parents=false&sparse=false')\n",
    "data_api=pd.DataFrame(data.json()[\"data\"])"
   ]
  },
  {
   "cell_type": "code",
   "execution_count": null,
   "metadata": {},
   "outputs": [],
   "source": [
    "# basecovid=pd.read_csv('BaseCovid2021.csv')"
   ]
  },
  {
   "cell_type": "markdown",
   "metadata": {},
   "source": [
    "- Datos históricos de **Mortalidad 2012-2019** del INEGI:"
   ]
  },
  {
   "cell_type": "code",
   "execution_count": 4,
   "metadata": {},
   "outputs": [],
   "source": [
    "hist_muertes=pd.read_csv(f'defunciones_generales_{2012}.csv')\n",
    "hist_muertes['date']='2012'\n",
    "\n",
    "for i in range(2013,2020):\n",
    "    aux=pd.read_csv(f'defunciones_generales_{i}.csv')\n",
    "    aux['date']=i\n",
    "    hist_muertes=pd.concat([hist_muertes,aux])"
   ]
  },
  {
   "cell_type": "code",
   "execution_count": null,
   "metadata": {},
   "outputs": [],
   "source": [
    "hist_muertes.to_csv(\"Bases_INEGI.csv\")"
   ]
  },
  {
   "cell_type": "code",
   "execution_count": null,
   "metadata": {},
   "outputs": [],
   "source": [
    "# hist_muertes[600000:600050]\n",
    "hist_muertes.tail(2)"
   ]
  },
  {
   "cell_type": "markdown",
   "metadata": {},
   "source": [
    "- Resultados de **Censo Nacional de Población 2020** realizado por el INEGI:"
   ]
  },
  {
   "cell_type": "code",
   "execution_count": null,
   "metadata": {
    "scrolled": false
   },
   "outputs": [],
   "source": [
    "# inegi2020=pd.read_csv('inegi2020_con_clavegeo.csv')"
   ]
  },
  {
   "cell_type": "markdown",
   "metadata": {},
   "source": [
    "### Exploración de Información"
   ]
  },
  {
   "cell_type": "code",
   "execution_count": null,
   "metadata": {},
   "outputs": [],
   "source": [
    "def Exp_Data(data):\n",
    "    \n",
    "    print(f'Shape: {data.shape}\\n')\n",
    "\n",
    "    nulos=data.isnull().sum()\n",
    "    print(f'Datos nulos: \\n {nulos[nulos>0]}\\n')\n",
    "    \n",
    "    info=data.info()\n",
    "    \n",
    "    return data.head(3)"
   ]
  },
  {
   "cell_type": "markdown",
   "metadata": {},
   "source": [
    "API Data México"
   ]
  },
  {
   "cell_type": "code",
   "execution_count": null,
   "metadata": {},
   "outputs": [],
   "source": [
    "Exp_Data(data_api)"
   ]
  },
  {
   "cell_type": "markdown",
   "metadata": {},
   "source": [
    "Hay valores nulos en **State** los podemos llenar con el ID que les corresponda, para eso creamos una dupla con las claves únicas:"
   ]
  },
  {
   "cell_type": "code",
   "execution_count": null,
   "metadata": {},
   "outputs": [],
   "source": [
    "cve_state=[[clave,data_api[data_api['State ID']==clave]['State'].unique()[0]] for clave in sorted(data_api['State ID'].unique())]\n",
    "claves=[clave[0] for clave in cve_state]\n",
    "edos=[edo[1] for edo in cve_state]"
   ]
  },
  {
   "cell_type": "markdown",
   "metadata": {},
   "source": [
    "Y tranformamos la data en DF:"
   ]
  },
  {
   "cell_type": "code",
   "execution_count": null,
   "metadata": {},
   "outputs": [],
   "source": [
    "df_cve_state=pd.DataFrame({'State ID':claves, 'State': edos}).set_index('State ID')\n",
    "df_cve_state.head(2)"
   ]
  },
  {
   "cell_type": "markdown",
   "metadata": {},
   "source": [
    "Hacemos *merge* para rellenar los valores y eliminamos la columna dulicada:"
   ]
  },
  {
   "cell_type": "code",
   "execution_count": null,
   "metadata": {},
   "outputs": [],
   "source": [
    "inner_join = pd.merge(data_api,df_cve_state,on ='State ID',how ='inner')\n",
    "data_api=inner_join.drop('State_x',axis=1)\n",
    "print(f'Valores nulos: {data_api.isna().sum().sum()}')"
   ]
  },
  {
   "cell_type": "markdown",
   "metadata": {},
   "source": [
    "INEGI"
   ]
  },
  {
   "cell_type": "code",
   "execution_count": null,
   "metadata": {},
   "outputs": [],
   "source": [
    "Exp_Data(inegi2020)"
   ]
  },
  {
   "cell_type": "code",
   "execution_count": null,
   "metadata": {},
   "outputs": [],
   "source": [
    "data_api.head(3)"
   ]
  },
  {
   "cell_type": "markdown",
   "metadata": {},
   "source": [
    "### Mortalidad mujeres"
   ]
  },
  {
   "cell_type": "code",
   "execution_count": 5,
   "metadata": {},
   "outputs": [],
   "source": [
    "mortalidad_mujeres = hist_muertes.loc[hist_muertes['sexo'] == 2]"
   ]
  },
  {
   "cell_type": "markdown",
   "metadata": {},
   "source": [
    "Removemos outliers para el año de ocurrencia"
   ]
  },
  {
   "cell_type": "code",
   "execution_count": null,
   "metadata": {},
   "outputs": [],
   "source": [
    "outliers = mortalidad_mujeres.loc[mortalidad_mujeres['anio_ocur'] == 9999]\n",
    "lista = outliers.index.to_list()"
   ]
  },
  {
   "cell_type": "code",
   "execution_count": 6,
   "metadata": {},
   "outputs": [],
   "source": [
    "mortalidad_mujeres = mortalidad_mujeres.drop([65254,75238,85213,87781,191879, 209226, 349174, 391293, 470337, 481586, 578035, 579352, 580016,580972, 581455, 601474])"
   ]
  },
  {
   "cell_type": "code",
   "execution_count": null,
   "metadata": {},
   "outputs": [],
   "source": []
  },
  {
   "cell_type": "code",
   "execution_count": 8,
   "metadata": {},
   "outputs": [
    {
     "data": {
      "text/plain": [
       "I219    296099\n",
       "E112     95447\n",
       "E119     89895\n",
       "J189     59558\n",
       "C509     51602\n",
       "J449     47039\n",
       "E149     45418\n",
       "K746     42459\n",
       "E117     38305\n",
       "E142     36543\n",
       "C539     31667\n",
       "I10X     31084\n",
       "I110     29971\n",
       "I64X     29076\n",
       "J440     28872\n",
       "N189     27399\n",
       "I120     27173\n",
       "E116     26760\n",
       "I619     25036\n",
       "N390     23576\n",
       "Name: causa_def, dtype: int64"
      ]
     },
     "execution_count": 8,
     "metadata": {},
     "output_type": "execute_result"
    }
   ],
   "source": [
    "frecuencias= mortalidad_mujeres['causa_def'].value_counts()\n",
    "frecuencias.head(20)"
   ]
  },
  {
   "cell_type": "code",
   "execution_count": null,
   "metadata": {},
   "outputs": [],
   "source": [
    "#I219 Infarto agudo del miocardio\n",
    "#E119 Diabetes mellitus no insulinodependiente, sin complicaciones\n",
    "#E112 Diabetes mellitus no insulinodependiente, con complicaciones renales\n",
    "#E149 Diabetes mellitus no especificada\n",
    "#J189 Neumonia no especificada \n",
    "#C509 Tumor maligno de mama \n",
    "#J449 Enfermedad pulmonar obstructiva\n",
    "#K746 Cirrosis del higado\n",
    "#E142 Diabetes mellitus no especificada, con complicaciones renales\n",
    "#C539 Tumor maligno del cuello del utero\n",
    "#I10X Hipertension esencial (primaria)\n",
    "#I64X Accidente vascular encefálico \n",
    "#I110 Enfermedad cardiaca hipertensiva con insuficiencia cardiaca\n",
    "#J440 Enfermedad pulmonar obstructiva crónica con infección aguda de las vías respiratorias\n",
    "#E117 Diabetes mellitus no insulinodependiente con complicaciones múltiples\n",
    "#N189 Enfermedad renal crónica \n",
    "#I120 Enfermedad renal hipertensiva\n",
    "#I619 Enfermedad renal hipertensiva con insuficiencia renal\n",
    "#C169 Tumor maligno del estómago\n",
    "#N390 Infección en vías urinarias "
   ]
  },
  {
   "cell_type": "markdown",
   "metadata": {},
   "source": [
    "### Regiones Nielsen "
   ]
  },
  {
   "cell_type": "code",
   "execution_count": null,
   "metadata": {},
   "outputs": [],
   "source": [
    "# NIELSEN\n",
    "# Área I: Pacífico - Baja California Norte, Baja California Sur, Sonora, Sinaloa, Nayarit (5) - [2, 3, 26, 25, 18]\n",
    "# Área II: Norte - Chihuahua, Coahuila, Durango, Nuevo León, San Luis Potosí, Tamaulipas, Zacatecas (7) - [8, 5, 10, 19, 24, 28, 32]\n",
    "# Área III: Bajío-  Aguascalientes, Jalisco, Guanajuato, Colima, Michoacan (5) - [1, 14, 11, 6, 16]\n",
    "# Área IV: Centro- Hidalgo, Querétaro, Morelos, Edo. México, Tlaxcala, Puebla, Guerrero (7) - [13, 22, 17, 15, 29, 21, 12]\n",
    "# Área V: Valle de México - Cdmx (1) - [9]\n",
    "# Área VI: Sureste - Chiapas, Campeche, Yucatan, Quintana Roo, Veracruz, Oaxaca, Tabasco (7) - [7, 4, 31, 23, 30, 20, 27]"
   ]
  },
  {
   "cell_type": "code",
   "execution_count": 9,
   "metadata": {},
   "outputs": [],
   "source": [
    "pacifico = mortalidad_mujeres[mortalidad_mujeres['ent_regis'].isin([2, 3, 26, 25, 18])]\n",
    "norte = mortalidad_mujeres[mortalidad_mujeres['ent_regis'].isin([8, 5, 10, 19, 24, 28, 32])]\n",
    "bajio = mortalidad_mujeres[mortalidad_mujeres['ent_regis'].isin([1, 14, 11, 6, 16])]\n",
    "centro = mortalidad_mujeres[mortalidad_mujeres['ent_regis'].isin([13, 22, 17, 15, 29, 21, 12])]\n",
    "vallem = mortalidad_mujeres[mortalidad_mujeres['ent_regis'].isin([9])]\n",
    "sureste = mortalidad_mujeres[mortalidad_mujeres['ent_regis'].isin([7, 4, 31, 23, 30, 20, 27])]"
   ]
  },
  {
   "cell_type": "code",
   "execution_count": null,
   "metadata": {},
   "outputs": [],
   "source": [
    "defuncionesi = pacifico['causa_def'].value_counts() # No hay diferencias significativas\n",
    "#Infarto agudo del miocardio, Diabetes no insulinodependiente, Tumor maligno de mama, Neumonia no especificada, Diabetes no especificada "
   ]
  },
  {
   "cell_type": "code",
   "execution_count": null,
   "metadata": {},
   "outputs": [],
   "source": [
    "defuncionesii = norte['causa_def'].value_counts() # No hay diferencias significativas\n",
    "# Infarto agudo del miocardio, Diabetes no insulinodependiente, Diabetes no insulinodependiente, Neumonia no especificada, Tumor maligno de mama  "
   ]
  },
  {
   "cell_type": "code",
   "execution_count": null,
   "metadata": {},
   "outputs": [],
   "source": [
    "defuncionesiii = bajio['causa_def'].value_counts() # No hay diferencias significativas\n",
    "# Infarto agudo del miocardio, Diabetes no insulinodependiente, Diabetes no insulinodependiente, Neumonia, Tumor maligno de mama"
   ]
  },
  {
   "cell_type": "code",
   "execution_count": null,
   "metadata": {},
   "outputs": [],
   "source": [
    "defuncionesiv = centro['causa_def'].value_counts() #Registra más probabilidad de morir de diabetes\n",
    "# Infarto agudo del miocardio, Diabetes no insulinodependiente, Diabetes no insulinodependiente, Enfermedad pulmonar obstructiva, Diabetes mellitus no insulinodependiente "
   ]
  },
  {
   "cell_type": "code",
   "execution_count": null,
   "metadata": {},
   "outputs": [],
   "source": [
    "defuncionesv= vallem['causa_def'].value_counts() #No hay diferencias significativas\n",
    "#Infarto agudo del miocardio, Diabetes no insulinodependiente, Neumonia no especificada, Diabetes no insulinodependiente, Tumor maligno de mama  "
   ]
  },
  {
   "cell_type": "code",
   "execution_count": null,
   "metadata": {},
   "outputs": [],
   "source": [
    "defuncionesvi = sureste['causa_def'].value_counts() #Más probabilidad de morir de diabetes, único caso de cirrosis\n",
    "#Infarto agudo, Diabetes, Diabetes, Cirrosis del higado, Diabetes"
   ]
  },
  {
   "cell_type": "markdown",
   "metadata": {},
   "source": []
  },
  {
   "cell_type": "markdown",
   "metadata": {},
   "source": [
    "### Clasificación de las Enfermedades según la CIE-10 "
   ]
  },
  {
   "cell_type": "code",
   "execution_count": null,
   "metadata": {},
   "outputs": [],
   "source": [
    "EPOC=[\"J44\"+str(i) for i in range(0,10)]\n",
    "\n",
    "asma=[\"J450\",\"J451\",\"J458\",\"J459\",\"J46X\"]\n",
    "\n",
    "# cardiovascular=[\"I0\"+str(i)+str(j) for i in range(5,10) for j in range(0,10)]+\\ # Cardiopatía reumática\n",
    "# [\"I10X\"]+[\"I1\"+str(i)+str(j) for i in range(0,6) for j in range(0,10)]+\\ # Hipertensión Arterial\n",
    "# [\"I42X\"]+[\"I42\"+str(i)+str(j)  for i in range(0,10) for j in range(0,10)]+\\ # Miocardiopatías\n",
    "# [\"I50X\"]+[\"I50\"+str(i)+str(j)  for i in range(0,10) for j in range(0,10)]+\\ # Insuficiencia cardiaca\n",
    "# [\"I60X\"]+[\"I\"+str(i)+str(j)  for i in range(60,70) for j in range(0,10)] +\\ # Enfermedad cerebrovascular\n",
    "# [\"I70X\",\"I80X\"]+[\"I\"+str(i)+str(j)  for i in range(70,90) for j in range(0,10)] +\\ # Enfermedad vascular perifería\n",
    "# [\"Q20X\"]+[\"Q2\"+str(i)+str(j)  for i in range(0,9) for j in range(0,10)] # Cardiopatía congénita\n",
    "\n",
    "cardiovascular=[\"I0\"+str(i)+str(j) for i in range(5,10) for j in range(0,10)]+ \\\n",
    "[\"I10X\"]+[\"I1\"+str(i)+str(j) for i in range(0,6) for j in range(0,10)]+ \\\n",
    "[\"I42X\"]+[\"I42\"+str(i) for i in range(0,10)]+\\\n",
    "[\"I50X\"]+[\"I50\"+str(i)  for i in range(0,10)]+\\\n",
    "[\"I60X\"]+[\"I\"+str(i)+str(j)  for i in range(60,70) for j in range(0,10)] +\\\n",
    "[\"I70X\",\"I80X\"]+[\"I\"+str(i)+str(j)  for i in range(70,90) for j in range(0,10)] +\\\n",
    "[\"Q20X\"]+[\"Q2\"+str(i)+str(j)  for i in range(0,9) for j in range(0,10)] \n",
    "\n",
    "hipertension=['G932','I270','I272','K766','O10X','O11X','O13X','O14X','O16X','P292']+ \\\n",
    "[\"O\"+str(i)+str(j) for i in range(10,15) for j in range(0,10)]+\\\n",
    "[\"O16\"+str(i) for i in range(0,10)]\n",
    "\n",
    "diabetes=[\"E1\"+str(i)+str(j) for i in range(0,5) for j in range(0,10)]+['E232','N251','P702']+[\"O24\"+str(i) for i in range(0,10)]\n",
    "\n",
    "neumonia=[\"J1\"+str(i)+str(j) for i in range(0,9) for j in range(0,10)]+['J851']+[\"P23\"+str(i) for i in range(0,10)]\n",
    "\n",
    "insuf_renal=[\"N1\"+str(i)+str(j) for i in range(7,10) for j in range(0,10)]+[\"I17X\",\"I18X\",\"I19X\"]+['P960']\n",
    "\n",
    "obesidad=[\"E66\"+str(i) for i in range(0,10)]\n",
    "\n",
    "'''VIH [B20-B24] + Cáncer [C0-C97] + Rechazo de trasplantes [T86] ''' \n",
    "inmunosup=[\"B\"+str(i)+str(j) for i in range(20,25) for j in range(0,10)]+['B24X','O987','R75X']+\\\n",
    "[\"C00\"+str(i) for i in range(0,10)]+[\"C0\"+str(i) for i in range(10,100)]+[\"C\"+str(i)+str(j) for i in range(10,97) for j in range(0,10)]+\\\n",
    "[\"T86\"+str(i) for i in range(0,10)]"
   ]
  },
  {
   "cell_type": "markdown",
   "metadata": {},
   "source": [
    "**Catálogo completo de enfermedades**"
   ]
  },
  {
   "cell_type": "markdown",
   "metadata": {},
   "source": [
    "Concatenamos todas las incidencias:"
   ]
  },
  {
   "cell_type": "code",
   "execution_count": null,
   "metadata": {},
   "outputs": [],
   "source": [
    "cat_enfermedad=pd.read_csv(f'decatcausa{2012}.csv', encoding='latin-1')\n",
    "\n",
    "for i in range(2013,2020):\n",
    "    aux=pd.read_csv(f'decatcausa{i}.csv',encoding='latin-1')\n",
    "    cat_enfermedad=pd.concat([cat_enfermedad,aux])\n",
    "    \n",
    "cat_enfermedad=cat_enfermedad.reset_index()"
   ]
  },
  {
   "cell_type": "markdown",
   "metadata": {},
   "source": [
    "Creamos los diccionarios para encontrar las claves únicas:"
   ]
  },
  {
   "cell_type": "code",
   "execution_count": null,
   "metadata": {},
   "outputs": [],
   "source": [
    "claves_duplicadas={}\n",
    "\n",
    "for i in range(len(cat_enfermedad)):\n",
    "    claves_duplicadas[cat_enfermedad['CVE'][i]]=str(cat_enfermedad['DESCRIP'][i])\n",
    "    \n",
    "dict_no_duplicados = {} \n",
    "for key, value in claves_duplicadas.items(): \n",
    "    if not value in dict_no_duplicados.values(): \n",
    "        dict_no_duplicados[key] = value "
   ]
  },
  {
   "cell_type": "markdown",
   "metadata": {},
   "source": [
    "Creamos y exportamos un DF con todas los dictámenes históricos:"
   ]
  },
  {
   "cell_type": "code",
   "execution_count": null,
   "metadata": {},
   "outputs": [],
   "source": [
    "claves=pd.DataFrame(list(dict_no_duplicados.keys()),columns=['Clave'])  \n",
    "\n",
    "desc=[]\n",
    "for i in claves['Clave']:\n",
    "    desc.append(dict_no_duplicados[str(i)])\n",
    "    \n",
    "descr=pd.DataFrame(pd.Series(desc),columns=['Dictamen'])\n",
    "\n",
    "catalogo_completo=pd.concat([claves,descr],axis=1)\n",
    "\n",
    "catalogo_completo.to_csv('Catalogo_CIE_10.csv')\n",
    "catalogo_completo.head(5)"
   ]
  },
  {
   "cell_type": "code",
   "execution_count": null,
   "metadata": {},
   "outputs": [],
   "source": [
    "import altair as alt\n",
    "from vega_datasets import data\n",
    "\n",
    "source = data.unemployment_across_industries.url\n",
    "selection = alt.selection_multi(fields=['series'], bind='legend')\n",
    "\n",
    "alt.Chart(source).mark_area().encode(\n",
    "    alt.X('yearmonth(date):T', axis=alt.Axis(domain=False, format='%Y', tickSize=0)),\n",
    "    alt.Y('sum(count):Q', stack='center', axis=None),\n",
    "    alt.Color('series:N', scale=alt.Scale(scheme='category20b')),\n",
    "    opacity=alt.condition(selection, alt.value(1), alt.value(0.2))\n",
    ").add_selection(\n",
    "    selection\n",
    ")\n"
   ]
  },
  {
   "cell_type": "code",
   "execution_count": null,
   "metadata": {},
   "outputs": [],
   "source": [
    "import plotly.express as px\n",
    "df = px.data.iris()\n",
    "fig = px.scatter(df, x=\"sepal_width\", y=\"sepal_length\", color=\"species\",\n",
    "                 size='petal_length', hover_data=['petal_width'])\n",
    "fig.show()"
   ]
  },
  {
   "cell_type": "code",
   "execution_count": null,
   "metadata": {},
   "outputs": [],
   "source": [
    "import plotly.express as px\n",
    "df = px.data.tips()\n",
    "fig = px.sunburst(df, path=['day', 'time', 'sex'], values='total_bill')\n",
    "fig.show()"
   ]
  },
  {
   "cell_type": "code",
   "execution_count": null,
   "metadata": {
    "scrolled": true
   },
   "outputs": [],
   "source": [
    "df = pacifico\n",
    "fig = px.line(df, x='anio_ocur', y='causa_def', color='causa_def')\n",
    "fig.show()"
   ]
  },
  {
   "cell_type": "code",
   "execution_count": null,
   "metadata": {},
   "outputs": [],
   "source": []
  }
 ],
 "metadata": {
  "kernelspec": {
   "display_name": "Python 3",
   "language": "python",
   "name": "python3"
  },
  "language_info": {
   "codemirror_mode": {
    "name": "ipython",
    "version": 3
   },
   "file_extension": ".py",
   "mimetype": "text/x-python",
   "name": "python",
   "nbconvert_exporter": "python",
   "pygments_lexer": "ipython3",
   "version": "3.8.5"
  }
 },
 "nbformat": 4,
 "nbformat_minor": 4
}
