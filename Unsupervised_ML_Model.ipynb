{
  "nbformat": 4,
  "nbformat_minor": 0,
  "metadata": {
    "colab": {
      "name": "Unsupervised_ML_Model.ipynb",
      "provenance": [],
      "collapsed_sections": [
        "B6Swq34pBwIT",
        "goy41ld1CcTa",
        "avNuw8r9Crgp",
        "e_HcDpTUv8mA",
        "eC4OlXTIypCf",
        "8OxzQn4RxJTM"
      ],
      "authorship_tag": "ABX9TyOWFaZdyuUN1D0EXC1h4QvL",
      "include_colab_link": true
    },
    "kernelspec": {
      "name": "python3",
      "display_name": "Python 3"
    }
  },
  "cells": [
    {
      "cell_type": "markdown",
      "metadata": {
        "id": "view-in-github",
        "colab_type": "text"
      },
      "source": [
        "<a href=\"https://colab.research.google.com/github/NayelySaldivar/DesafioData/blob/main/Unsupervised_ML_Model.ipynb\" target=\"_parent\"><img src=\"https://colab.research.google.com/assets/colab-badge.svg\" alt=\"Open In Colab\"/></a>"
      ]
    },
    {
      "cell_type": "markdown",
      "metadata": {
        "id": "-XH8IxckBd0N"
      },
      "source": [
        "<h2> Desafío Data México </h2>\n",
        "<h4> <p> Segunda Edición - Datos con perspectiva de género </p> </h4> "
      ]
    },
    {
      "cell_type": "markdown",
      "metadata": {
        "id": "nqv4RUdsBll3"
      },
      "source": [
        "##### Importación de librerías:"
      ]
    },
    {
      "cell_type": "code",
      "metadata": {
        "id": "ORWSSmHFBSMl"
      },
      "source": [
        "import pandas as pd\n",
        "import numpy as np\n",
        "import requests\n",
        "import plotly.express as px\n",
        "import seaborn as sns"
      ],
      "execution_count": 1,
      "outputs": []
    },
    {
      "cell_type": "code",
      "metadata": {
        "colab": {
          "base_uri": "https://localhost:8080/"
        },
        "id": "lVrs6aAMK4zT",
        "outputId": "faa36104-0552-45a2-cff1-fd16b1c7a85f"
      },
      "source": [
        "from google.colab import drive\n",
        "drive.mount('/content/drive')"
      ],
      "execution_count": 2,
      "outputs": [
        {
          "output_type": "stream",
          "text": [
            "Mounted at /content/drive\n"
          ],
          "name": "stdout"
        }
      ]
    },
    {
      "cell_type": "markdown",
      "metadata": {
        "id": "mXdZ1b9YBteA"
      },
      "source": [
        "## Carga de Bases de Datos:"
      ]
    },
    {
      "cell_type": "markdown",
      "metadata": {
        "id": "B6Swq34pBwIT"
      },
      "source": [
        "### - Resultados Covid desde la plataforma **DataMexico**:"
      ]
    },
    {
      "cell_type": "markdown",
      "metadata": {
        "id": "mRxsuIU4GuUf"
      },
      "source": [
        "- Utilizamos la **DataMexico API Explorer** para obtener los datos actualizados:"
      ]
    },
    {
      "cell_type": "code",
      "metadata": {
        "id": "prCoMD3OBp-T"
      },
      "source": [
        "data=requests.get('https://api.datamexico.org/tesseract/cubes/gobmx_covid/aggregate.jsonrecords?drilldowns%5B%5D=Death+Date.Death+Date.Death+Date&drilldowns%5B%5D=Covid+Result.Covid+Result.Covid+Result&drilldowns%5B%5D=Health+Institution+Attended.Health+Institution+Attended.Health+Institution+Attended&drilldowns%5B%5D=Pneumonia+Diagnose.Pneumonia+Diagnose.Pneumonia+Diagnose&drilldowns%5B%5D=COPD+Diagnose.COPD+Diagnose.COPD+Diagnose&drilldowns%5B%5D=Asthma+Diagnose.Asthma+Diagnose.Asthma+Diagnose&drilldowns%5B%5D=Inmunosupresion+Diagnose.Inmunosupresion+Diagnose.Inmunosupresion+Diagnose&drilldowns%5B%5D=Hypertension+Diagnose.Hypertension+Diagnose.Hypertension+Diagnose&drilldowns%5B%5D=Cardiovascular+Diagnose.Cardiovascular+Diagnose.Cardiovascular+Diagnose&drilldowns%5B%5D=Obesity+Diagnose.Obesity+Diagnose.Obesity+Diagnose&drilldowns%5B%5D=Chronic+Kidney+Failure+Diagnose.Chronic+Kidney+Failure+Diagnose.Chronic+Kidney+Failure+Diagnose&drilldowns%5B%5D=Diabetes+Diagnose.Diabetes+Diagnose.Diabetes+Diagnose&drilldowns%5B%5D=State+Patient+Attended.State+Patient+Attended.State+Patient+Attended&drilldowns%5B%5D=State+Patient+Origin.State+Patient+Origin.State+Patient+Origin&drilldowns%5B%5D=Sex.Sex.Sex&drilldowns%5B%5D=Age+Group.Age+Group.Age&drilldowns%5B%5D=Municipality+Patient+Residence.Geography.Municipality&measures%5B%5D=Cases&parents=false&sparse=false')\n",
        "data_api=pd.DataFrame(data.json()[\"data\"])\n",
        "data_api.shape"
      ],
      "execution_count": 3,
      "outputs": []
    },
    {
      "cell_type": "markdown",
      "metadata": {
        "id": "goy41ld1CcTa"
      },
      "source": [
        "### - Datos históricos de **Mortalidad en Mujeres 2012-2019** del INEGI:"
      ]
    },
    {
      "cell_type": "code",
      "metadata": {
        "id": "olWWodSsBp2y"
      },
      "source": [
        "mortalidad_mujeres=pd.read_csv(f'/content/drive/MyDrive/DesafioData/Base_INEGI_Mujeres.csv')\n",
        "mortalidad_mujeres.shape"
      ],
      "execution_count": 6,
      "outputs": []
    },
    {
      "cell_type": "markdown",
      "metadata": {
        "id": "avNuw8r9Crgp"
      },
      "source": [
        "### - Catálogo de enfermedades según la **CIE - 10**"
      ]
    },
    {
      "cell_type": "markdown",
      "metadata": {
        "id": "nRhLr_-DCzgZ"
      },
      "source": [
        "Concatenamos todas las incidencias:"
      ]
    },
    {
      "cell_type": "code",
      "metadata": {
        "id": "5-Ot09jKBpt1"
      },
      "source": [
        "CIE=pd.read_csv(f'/content/drive/MyDrive/DesafioData/Catalogo_CIE_10.csv', encoding='latin-1')"
      ],
      "execution_count": 12,
      "outputs": []
    },
    {
      "cell_type": "markdown",
      "metadata": {
        "id": "nsNety93IJlw"
      },
      "source": [
        "## Preparación de la información para construir el modelo"
      ]
    },
    {
      "cell_type": "code",
      "metadata": {
        "id": "Gki5BZO7iUlM"
      },
      "source": [
        "!pip install feature_engine"
      ],
      "execution_count": null,
      "outputs": []
    },
    {
      "cell_type": "markdown",
      "metadata": {
        "id": "e_HcDpTUv8mA"
      },
      "source": [
        "### Tabulados de Mortalidad **INEGI**"
      ]
    },
    {
      "cell_type": "markdown",
      "metadata": {
        "id": "n32AiNEJZd6Q"
      },
      "source": [
        "Debido a la cantidad de datos y los recursos con los que contamos, decidimos tomar el último quiquenio que tenemos registrado en el histórico de muertes para crear nuestro modelo de ML:"
      ]
    },
    {
      "cell_type": "code",
      "metadata": {
        "id": "HjPVOOEWbMQf"
      },
      "source": [
        "data_mujeres_quinquenio = mortalidad_mujeres[mortalidad_mujeres['date'].isin([2015,2016,2017,2018,2019])].reset_index(drop=True)"
      ],
      "execution_count": 27,
      "outputs": []
    },
    {
      "cell_type": "markdown",
      "metadata": {
        "id": "4GE83rkrc6Q8"
      },
      "source": [
        "Volvemos dummies las variables de los grupos de enfermedad:"
      ]
    },
    {
      "cell_type": "code",
      "metadata": {
        "id": "zOQRjnjsdjJC"
      },
      "source": [
        "data_mujeres=data_mujeres_quinquenio['gpo_enfermedad']"
      ],
      "execution_count": 28,
      "outputs": []
    },
    {
      "cell_type": "code",
      "metadata": {
        "id": "8u-5_Lxckp23"
      },
      "source": [
        "dum_df = pd.get_dummies(data_mujeres, columns=['gpo_enfermedad'], prefix=\"Gpo_Enfermedad_is\")"
      ],
      "execution_count": 29,
      "outputs": []
    },
    {
      "cell_type": "markdown",
      "metadata": {
        "id": "d_8oUdxnZjTz"
      },
      "source": [
        "Añadimos las variables que coinciden con la base de COVID:"
      ]
    },
    {
      "cell_type": "code",
      "metadata": {
        "colab": {
          "base_uri": "https://localhost:8080/",
          "height": 131
        },
        "id": "1JPJMCDXbbGS",
        "outputId": "01da7a80-f691-4f40-d881-c05377c00824"
      },
      "source": [
        "data_mujeres=pd.concat([dum_df,data_mujeres_quinquenio[['sexo','edad_real','derechohab','ent_regis']]],axis=1)\n",
        "data_mujeres.head(2)"
      ],
      "execution_count": 30,
      "outputs": [
        {
          "output_type": "execute_result",
          "data": {
            "text/html": [
              "<div>\n",
              "<style scoped>\n",
              "    .dataframe tbody tr th:only-of-type {\n",
              "        vertical-align: middle;\n",
              "    }\n",
              "\n",
              "    .dataframe tbody tr th {\n",
              "        vertical-align: top;\n",
              "    }\n",
              "\n",
              "    .dataframe thead th {\n",
              "        text-align: right;\n",
              "    }\n",
              "</style>\n",
              "<table border=\"1\" class=\"dataframe\">\n",
              "  <thead>\n",
              "    <tr style=\"text-align: right;\">\n",
              "      <th></th>\n",
              "      <th>Gpo_Enfermedad_is_EPOC</th>\n",
              "      <th>Gpo_Enfermedad_is_asma</th>\n",
              "      <th>Gpo_Enfermedad_is_cardiovascular</th>\n",
              "      <th>Gpo_Enfermedad_is_diabetes</th>\n",
              "      <th>Gpo_Enfermedad_is_hipertension</th>\n",
              "      <th>Gpo_Enfermedad_is_inmunosupresores</th>\n",
              "      <th>Gpo_Enfermedad_is_insuf_renal</th>\n",
              "      <th>Gpo_Enfermedad_is_neumonia</th>\n",
              "      <th>Gpo_Enfermedad_is_obesidad</th>\n",
              "      <th>Gpo_Enfermedad_is_otros</th>\n",
              "      <th>sexo</th>\n",
              "      <th>edad_real</th>\n",
              "      <th>derechohab</th>\n",
              "      <th>ent_regis</th>\n",
              "    </tr>\n",
              "  </thead>\n",
              "  <tbody>\n",
              "    <tr>\n",
              "      <th>0</th>\n",
              "      <td>0</td>\n",
              "      <td>0</td>\n",
              "      <td>0</td>\n",
              "      <td>0</td>\n",
              "      <td>0</td>\n",
              "      <td>0</td>\n",
              "      <td>0</td>\n",
              "      <td>0</td>\n",
              "      <td>0</td>\n",
              "      <td>1</td>\n",
              "      <td>2</td>\n",
              "      <td>40</td>\n",
              "      <td>7</td>\n",
              "      <td>1</td>\n",
              "    </tr>\n",
              "    <tr>\n",
              "      <th>1</th>\n",
              "      <td>0</td>\n",
              "      <td>0</td>\n",
              "      <td>0</td>\n",
              "      <td>0</td>\n",
              "      <td>0</td>\n",
              "      <td>0</td>\n",
              "      <td>0</td>\n",
              "      <td>0</td>\n",
              "      <td>0</td>\n",
              "      <td>1</td>\n",
              "      <td>2</td>\n",
              "      <td>66</td>\n",
              "      <td>2</td>\n",
              "      <td>1</td>\n",
              "    </tr>\n",
              "  </tbody>\n",
              "</table>\n",
              "</div>"
            ],
            "text/plain": [
              "   Gpo_Enfermedad_is_EPOC  Gpo_Enfermedad_is_asma  ...  derechohab  ent_regis\n",
              "0                       0                       0  ...           7          1\n",
              "1                       0                       0  ...           2          1\n",
              "\n",
              "[2 rows x 14 columns]"
            ]
          },
          "metadata": {
            "tags": []
          },
          "execution_count": 30
        }
      ]
    },
    {
      "cell_type": "markdown",
      "metadata": {
        "id": "PwTiKnKQve6Z"
      },
      "source": [
        "Eliminamos los registros que queden fuera de nuestros grupos de enfermedad:"
      ]
    },
    {
      "cell_type": "code",
      "metadata": {
        "colab": {
          "base_uri": "https://localhost:8080/"
        },
        "id": "xw05GwHZjPcp",
        "outputId": "520c4cb8-9c80-4f0a-8704-35ac66b657d0"
      },
      "source": [
        "rows_to_drop=data_mujeres[data_mujeres['Gpo_Enfermedad_is_otros']==1].index\n",
        "data_mujeres_limpia=data_mujeres.copy()\n",
        "\n",
        "print(f'Shape Inicial: {data_mujeres_limpia.shape}')\n",
        "data_mujeres_limpia=data_mujeres_limpia.drop(rows_to_drop,axis=0).reset_index(drop=True)\n",
        "data_mujeres_limpia=data_mujeres_limpia.drop('Gpo_Enfermedad_is_otros',axis=1)\n",
        "print(f'Shape Inicial: {data_mujeres_limpia.shape}')"
      ],
      "execution_count": 31,
      "outputs": [
        {
          "output_type": "stream",
          "text": [
            "Shape Inicial: (1488372, 14)\n",
            "Shape Inicial: (988232, 13)\n"
          ],
          "name": "stdout"
        }
      ]
    },
    {
      "cell_type": "markdown",
      "metadata": {
        "id": "38pW4REmX0ax"
      },
      "source": [
        "### Datos **Covid-19** API Data México"
      ]
    },
    {
      "cell_type": "markdown",
      "metadata": {
        "id": "pk7pTUZLhcFe"
      },
      "source": [
        "Homologamos los valores dummies de la base:"
      ]
    },
    {
      "cell_type": "code",
      "metadata": {
        "id": "IinvEa8hfc5k"
      },
      "source": [
        "enfermedades=['Pneumonia Diagnose ID','COPD Diagnose ID','Asthma Diagnose ID','Inmunosupresion Diagnose ID','Hypertension Diagnose ID','Cardiovascular Diagnose ID','Obesity Diagnose ID','Chronic Kidney Failure Diagnose ID','Diabetes Diagnose ID']\n",
        "\n",
        "for enf in enfermedades:\n",
        "  data_api[enf]=np.where(data_api[enf]==1,1,0)"
      ],
      "execution_count": 34,
      "outputs": []
    },
    {
      "cell_type": "markdown",
      "metadata": {
        "id": "mXWI6PutwP-F"
      },
      "source": [
        "Orden de las columnas"
      ]
    },
    {
      "cell_type": "code",
      "metadata": {
        "id": "mF2s2nh6lvLJ"
      },
      "source": [
        "# columnas_ml=['EPOC','Asma','Cardiovascular','Diabetes','Hipertension','Inmunosupresion','Inf_Renal','Neumonia','Obesidad','Sexo','Edad','Institucion','Estado','Municipio']\n",
        "data_api_ml_completo=data_api[['COPD Diagnose ID','Asthma Diagnose ID','Cardiovascular Diagnose ID','Diabetes Diagnose ID','Hypertension Diagnose ID','Inmunosupresion Diagnose ID','Chronic Kidney Failure Diagnose ID','Pneumonia Diagnose ID','Obesity Diagnose ID','Sex ID','Age','Health Institution Attended','State Patient Attended ID']]"
      ],
      "execution_count": 35,
      "outputs": []
    },
    {
      "cell_type": "markdown",
      "metadata": {
        "id": "mlNv2GyjwS0w"
      },
      "source": [
        "Encoding del tipo de institución en el que se atendió el fallecido"
      ]
    },
    {
      "cell_type": "code",
      "metadata": {
        "id": "pXLEottlXW4H"
      },
      "source": [
        "data_api_ml_completo['Health Institution Attended']=np.where(\n",
        "    data_api_ml_completo['Health Institution Attended']=='IMSS',2,np.where(\n",
        "    data_api_ml_completo['Health Institution Attended']=='ISSSTE',3,np.where(\n",
        "    data_api_ml_completo['Health Institution Attended']=='PEMEX',4,np.where(\n",
        "    data_api_ml_completo['Health Institution Attended']=='SEDENA',5,np.where(\n",
        "    data_api_ml_completo['Health Institution Attended']=='SEMAR',6,np.where(\n",
        "    data_api_ml_completo['Health Institution Attended']=='IMSS-Bienestar',7,8    \n",
        "    )    \n",
        "    )\n",
        "    )    \n",
        "    )    \n",
        "    )\n",
        "    )"
      ],
      "execution_count": null,
      "outputs": []
    },
    {
      "cell_type": "markdown",
      "metadata": {
        "id": "IHRdIQPkwjTM"
      },
      "source": [
        "## Unificación de variables"
      ]
    },
    {
      "cell_type": "markdown",
      "metadata": {
        "id": "7HqEw3OtQBI1"
      },
      "source": [
        "Tenemos nuestras bases completas, ahora hay que homologar el nombre de las columnas:"
      ]
    },
    {
      "cell_type": "code",
      "metadata": {
        "id": "LCZn7Jh2PoG3"
      },
      "source": [
        "data_inegi_ml=data_mujeres_limpia.copy().drop('sexo',axis=1)\n",
        "data_api_ml=data_api_ml_completo[data_api_ml_completo['Sex ID']==2].drop('Sex ID',axis=1).reset_index(drop=True)\n",
        "\n",
        "columnas_ml=['EPOC','Asma','Cardiovascular','Diabetes','Hipertension','Inmunosupresion','Inf_Renal','Neumonia','Obesidad','Edad','Institucion','Estado']\n",
        "data_inegi_ml.columns=columnas_ml\n",
        "data_api_ml.columns=columnas_ml"
      ],
      "execution_count": null,
      "outputs": []
    },
    {
      "cell_type": "code",
      "metadata": {
        "id": "IcG5sNfqSOz4"
      },
      "source": [
        "# data_api_ml_completo.to_csv('Base_Covid_2303.csv')"
      ],
      "execution_count": null,
      "outputs": []
    },
    {
      "cell_type": "markdown",
      "metadata": {
        "id": "d24Duw3kPpdZ"
      },
      "source": [
        "## Unsupervised ML - Clusterización "
      ]
    },
    {
      "cell_type": "markdown",
      "metadata": {
        "id": "MRtb2Jowlv0y"
      },
      "source": [
        "### K Means"
      ]
    },
    {
      "cell_type": "code",
      "metadata": {
        "id": "EMU7id4Ilxnp"
      },
      "source": [
        "from sklearn.cluster import KMeans\n",
        "import matplotlib.pyplot as plt"
      ],
      "execution_count": null,
      "outputs": []
    },
    {
      "cell_type": "markdown",
      "metadata": {
        "id": "G1xNC8Mdnjqn"
      },
      "source": [
        "Con ayuda el elbow method buscamos el número de clusters óptimo para la partición:"
      ]
    },
    {
      "cell_type": "code",
      "metadata": {
        "colab": {
          "base_uri": "https://localhost:8080/",
          "height": 295
        },
        "id": "mYvSpZv7lzgW",
        "outputId": "f86abe25-2414-4aa3-d69f-d7e199568ca1"
      },
      "source": [
        "K = range(1,15)\n",
        "sum_squared_distances = []\n",
        "for k in K:\n",
        "  model = KMeans(n_clusters=k).fit(data_api_ml)\n",
        "  sum_squared_distances.append(model.inertia_)\n",
        "plt.plot(K, sum_squared_distances, \"bx-\")\n",
        "plt.xlabel(\"K Values\")\n",
        "plt.ylabel(\"Sum Squared Distances\")\n",
        "plt.title(\"Elbow Method\")\n",
        "plt.show()"
      ],
      "execution_count": null,
      "outputs": [
        {
          "output_type": "display_data",
          "data": {
            "image/png": "[encoded data removed]",
            "text/plain": [
              "<Figure size 432x288 with 1 Axes>"
            ]
          },
          "metadata": {
            "tags": [],
            "needs_background": "light"
          }
        }
      ]
    },
    {
      "cell_type": "markdown",
      "metadata": {
        "id": "xU-6qcCunyVm"
      },
      "source": [
        "Identificamos 6 clusters"
      ]
    },
    {
      "cell_type": "code",
      "metadata": {
        "id": "0t7Anny0nwJW"
      },
      "source": [
        "kmeans = KMeans(n_clusters=6)\n",
        "data_api_clusters = kmeans.fit(data_api_ml)\n",
        "preds = data_api_clusters.fit_predict(data_api_ml)"
      ],
      "execution_count": null,
      "outputs": []
    },
    {
      "cell_type": "markdown",
      "metadata": {
        "id": "mE3lOZ-HoVbl"
      },
      "source": [
        "Marcamos cada cluster en la base con la columna **cluster**:"
      ]
    },
    {
      "cell_type": "code",
      "metadata": {
        "colab": {
          "base_uri": "https://localhost:8080/",
          "height": 131
        },
        "id": "C7Rd94LTnwAP",
        "outputId": "4a30bb68-db09-4fd1-e660-91f56bcc080b"
      },
      "source": [
        "data_api_ml['Cluster_KMeans']=preds\n",
        "data_api_ml.head(2)"
      ],
      "execution_count": null,
      "outputs": [
        {
          "output_type": "execute_result",
          "data": {
            "text/html": [
              "<div>\n",
              "<style scoped>\n",
              "    .dataframe tbody tr th:only-of-type {\n",
              "        vertical-align: middle;\n",
              "    }\n",
              "\n",
              "    .dataframe tbody tr th {\n",
              "        vertical-align: top;\n",
              "    }\n",
              "\n",
              "    .dataframe thead th {\n",
              "        text-align: right;\n",
              "    }\n",
              "</style>\n",
              "<table border=\"1\" class=\"dataframe\">\n",
              "  <thead>\n",
              "    <tr style=\"text-align: right;\">\n",
              "      <th></th>\n",
              "      <th>EPOC</th>\n",
              "      <th>Asma</th>\n",
              "      <th>Cardiovascular</th>\n",
              "      <th>Diabetes</th>\n",
              "      <th>Hipertension</th>\n",
              "      <th>Inmunosupresion</th>\n",
              "      <th>Inf_Renal</th>\n",
              "      <th>Neumonia</th>\n",
              "      <th>Obesidad</th>\n",
              "      <th>Edad</th>\n",
              "      <th>Institucion</th>\n",
              "      <th>Estado</th>\n",
              "      <th>Cluster_KMeans</th>\n",
              "    </tr>\n",
              "  </thead>\n",
              "  <tbody>\n",
              "    <tr>\n",
              "      <th>0</th>\n",
              "      <td>0</td>\n",
              "      <td>0</td>\n",
              "      <td>0</td>\n",
              "      <td>0</td>\n",
              "      <td>0</td>\n",
              "      <td>1</td>\n",
              "      <td>0</td>\n",
              "      <td>0</td>\n",
              "      <td>0</td>\n",
              "      <td>65</td>\n",
              "      <td>2</td>\n",
              "      <td>9</td>\n",
              "      <td>2</td>\n",
              "    </tr>\n",
              "    <tr>\n",
              "      <th>1</th>\n",
              "      <td>0</td>\n",
              "      <td>0</td>\n",
              "      <td>0</td>\n",
              "      <td>1</td>\n",
              "      <td>0</td>\n",
              "      <td>0</td>\n",
              "      <td>0</td>\n",
              "      <td>0</td>\n",
              "      <td>1</td>\n",
              "      <td>67</td>\n",
              "      <td>2</td>\n",
              "      <td>5</td>\n",
              "      <td>2</td>\n",
              "    </tr>\n",
              "  </tbody>\n",
              "</table>\n",
              "</div>"
            ],
            "text/plain": [
              "   EPOC  Asma  Cardiovascular  ...  Institucion  Estado  Cluster_KMeans\n",
              "0     0     0               0  ...            2       9               2\n",
              "1     0     0               0  ...            2       5               2\n",
              "\n",
              "[2 rows x 13 columns]"
            ]
          },
          "metadata": {
            "tags": []
          },
          "execution_count": 59
        }
      ]
    },
    {
      "cell_type": "code",
      "metadata": {
        "id": "m2i8x1JUomnN"
      },
      "source": [
        "# data_api_ml[data_api_ml.Cluster==0].Estado.value_counts()"
      ],
      "execution_count": null,
      "outputs": []
    },
    {
      "cell_type": "markdown",
      "metadata": {
        "id": "eC4OlXTIypCf"
      },
      "source": [
        "### DBSCAN"
      ]
    },
    {
      "cell_type": "code",
      "metadata": {
        "id": "dJ4ZO71qyrDV"
      },
      "source": [
        "from sklearn.neighbors import NearestNeighbors\n",
        "from sklearn.cluster import DBSCAN"
      ],
      "execution_count": null,
      "outputs": []
    },
    {
      "cell_type": "markdown",
      "metadata": {
        "id": "i5NkJFWUy3XX"
      },
      "source": [
        "Con ayuda de NN identificamos la distancia óptima"
      ]
    },
    {
      "cell_type": "code",
      "metadata": {
        "colab": {
          "base_uri": "https://localhost:8080/",
          "height": 374
        },
        "id": "7fJmE_6Ayxnb",
        "outputId": "74e0b5db-a5dd-481a-fa42-d27d08aaecc7"
      },
      "source": [
        "nearest_neighbors = NearestNeighbors(n_neighbors=100)\n",
        "nearest_neighbors.fit(data_api_ml.drop('Cluster',axis=1))\n",
        "distances, indices = nearest_neighbors.kneighbors(data_api_ml.drop('Cluster',axis=1))\n",
        "distances = np.sort(distances, axis=0)[:,1]\n",
        "plt.figure(figsize=(10,6))\n",
        "plt.plot(distances)\n",
        "plt.show()"
      ],
      "execution_count": null,
      "outputs": [
        {
          "output_type": "display_data",
          "data": {
            "image/png": "[encoded data removed]",
            "text/plain": [
              "<Figure size 720x432 with 1 Axes>"
            ]
          },
          "metadata": {
            "tags": [],
            "needs_background": "light"
          }
        }
      ]
    },
    {
      "cell_type": "markdown",
      "metadata": {
        "id": "UTB6mGmkziGF"
      },
      "source": [
        "Creamos el modelo:"
      ]
    },
    {
      "cell_type": "code",
      "metadata": {
        "colab": {
          "base_uri": "https://localhost:8080/"
        },
        "id": "2kCfVgU5yxkd",
        "outputId": "8f22e65b-7b84-43b0-8731-12e1da0dc49c"
      },
      "source": [
        "m = DBSCAN(eps=3, min_samples=28)\n",
        "m.fit(data_api_ml.drop('Cluster',axis=1))"
      ],
      "execution_count": null,
      "outputs": [
        {
          "output_type": "execute_result",
          "data": {
            "text/plain": [
              "DBSCAN(algorithm='auto', eps=3, leaf_size=30, metric='euclidean',\n",
              "       metric_params=None, min_samples=28, n_jobs=None, p=None)"
            ]
          },
          "metadata": {
            "tags": []
          },
          "execution_count": 56
        }
      ]
    },
    {
      "cell_type": "markdown",
      "metadata": {
        "id": "nd00llNIuEpH"
      },
      "source": [
        "Creamos los cluster y etiquetamos el ruido."
      ]
    },
    {
      "cell_type": "code",
      "metadata": {
        "colab": {
          "base_uri": "https://localhost:8080/"
        },
        "id": "5smV77Oqrz2e",
        "outputId": "e14540ae-3867-4d3a-b9bc-36f3ea812599"
      },
      "source": [
        "#Asignar nuestros labels/clusters\n",
        "labels = m.labels_\n",
        "\n",
        "#Empezar a enmascarar nuestros datos\n",
        "labels_mask_general = np.zeros_like(labels,dtype=bool)\n",
        "\n",
        "#Colocar outliers como verdadero\n",
        "labels_mask_general[m.core_sample_indices_] = True\n",
        "\n",
        "n_clusters = len(set(labels)) - (1 if -1 in labels else 0)\n",
        "n_noise = list(labels).count(-1)\n",
        "\n",
        "print(f'Número de clusters: {n_clusters}')\n",
        "print(f'Registros con ruido: {n_noise}')"
      ],
      "execution_count": null,
      "outputs": [
        {
          "output_type": "stream",
          "text": [
            "Número de clusters: 121\n",
            "Registros con ruido: 35776\n"
          ],
          "name": "stdout"
        }
      ]
    },
    {
      "cell_type": "code",
      "metadata": {
        "colab": {
          "base_uri": "https://localhost:8080/",
          "height": 131
        },
        "id": "2gMzAeIeyxhY",
        "outputId": "509484cd-40ce-4e4e-f6fd-c414096abf0d"
      },
      "source": [
        "data_api_ml['Cluster_DBSCAN']=labels\n",
        "data_api_ml.head(2)"
      ],
      "execution_count": null,
      "outputs": [
        {
          "output_type": "execute_result",
          "data": {
            "text/html": [
              "<div>\n",
              "<style scoped>\n",
              "    .dataframe tbody tr th:only-of-type {\n",
              "        vertical-align: middle;\n",
              "    }\n",
              "\n",
              "    .dataframe tbody tr th {\n",
              "        vertical-align: top;\n",
              "    }\n",
              "\n",
              "    .dataframe thead th {\n",
              "        text-align: right;\n",
              "    }\n",
              "</style>\n",
              "<table border=\"1\" class=\"dataframe\">\n",
              "  <thead>\n",
              "    <tr style=\"text-align: right;\">\n",
              "      <th></th>\n",
              "      <th>EPOC</th>\n",
              "      <th>Asma</th>\n",
              "      <th>Cardiovascular</th>\n",
              "      <th>Diabetes</th>\n",
              "      <th>Hipertension</th>\n",
              "      <th>Inmunosupresion</th>\n",
              "      <th>Inf_Renal</th>\n",
              "      <th>Neumonia</th>\n",
              "      <th>Obesidad</th>\n",
              "      <th>Edad</th>\n",
              "      <th>Institucion</th>\n",
              "      <th>Estado</th>\n",
              "      <th>Municipio</th>\n",
              "      <th>Cluster</th>\n",
              "      <th>Cluster_DBSCAN</th>\n",
              "    </tr>\n",
              "  </thead>\n",
              "  <tbody>\n",
              "    <tr>\n",
              "      <th>0</th>\n",
              "      <td>0</td>\n",
              "      <td>0</td>\n",
              "      <td>0</td>\n",
              "      <td>0</td>\n",
              "      <td>0</td>\n",
              "      <td>1</td>\n",
              "      <td>0</td>\n",
              "      <td>0</td>\n",
              "      <td>0</td>\n",
              "      <td>65</td>\n",
              "      <td>2</td>\n",
              "      <td>9</td>\n",
              "      <td>9007</td>\n",
              "      <td>0</td>\n",
              "      <td>0</td>\n",
              "    </tr>\n",
              "    <tr>\n",
              "      <th>1</th>\n",
              "      <td>0</td>\n",
              "      <td>0</td>\n",
              "      <td>0</td>\n",
              "      <td>1</td>\n",
              "      <td>0</td>\n",
              "      <td>0</td>\n",
              "      <td>0</td>\n",
              "      <td>0</td>\n",
              "      <td>1</td>\n",
              "      <td>67</td>\n",
              "      <td>2</td>\n",
              "      <td>5</td>\n",
              "      <td>5030</td>\n",
              "      <td>0</td>\n",
              "      <td>1</td>\n",
              "    </tr>\n",
              "  </tbody>\n",
              "</table>\n",
              "</div>"
            ],
            "text/plain": [
              "   EPOC  Asma  Cardiovascular  ...  Municipio  Cluster  Cluster_DBSCAN\n",
              "0     0     0               0  ...       9007        0               0\n",
              "1     0     0               0  ...       5030        0               1\n",
              "\n",
              "[2 rows x 15 columns]"
            ]
          },
          "metadata": {
            "tags": []
          },
          "execution_count": 58
        }
      ]
    },
    {
      "cell_type": "markdown",
      "metadata": {
        "id": "9oOEgHoQt9OU"
      },
      "source": [
        "Analicemos los clusters:"
      ]
    },
    {
      "cell_type": "code",
      "metadata": {
        "id": "02u0SNPVsW36"
      },
      "source": [
        ""
      ],
      "execution_count": null,
      "outputs": []
    },
    {
      "cell_type": "markdown",
      "metadata": {
        "id": "8OxzQn4RxJTM"
      },
      "source": [
        "### HDBSCAN"
      ]
    },
    {
      "cell_type": "code",
      "metadata": {
        "colab": {
          "base_uri": "https://localhost:8080/"
        },
        "id": "JnMb590pxIt8",
        "outputId": "b85bad3d-b9eb-4665-cdfb-f63e80334174"
      },
      "source": [
        "pip install hdbscan"
      ],
      "execution_count": null,
      "outputs": [
        {
          "output_type": "stream",
          "text": [
            "Requirement already satisfied: hdbscan in /usr/local/lib/python3.7/dist-packages (0.8.27)\n",
            "Requirement already satisfied: scipy>=1.0 in /usr/local/lib/python3.7/dist-packages (from hdbscan) (1.4.1)\n",
            "Requirement already satisfied: cython>=0.27 in /usr/local/lib/python3.7/dist-packages (from hdbscan) (0.29.22)\n",
            "Requirement already satisfied: scikit-learn>=0.20 in /usr/local/lib/python3.7/dist-packages (from hdbscan) (0.22.2.post1)\n",
            "Requirement already satisfied: joblib>=1.0 in /usr/local/lib/python3.7/dist-packages (from hdbscan) (1.0.1)\n",
            "Requirement already satisfied: six in /usr/local/lib/python3.7/dist-packages (from hdbscan) (1.15.0)\n",
            "Requirement already satisfied: numpy>=1.16 in /usr/local/lib/python3.7/dist-packages (from hdbscan) (1.19.5)\n"
          ],
          "name": "stdout"
        }
      ]
    },
    {
      "cell_type": "code",
      "metadata": {
        "id": "h_6bKgF5wXTE"
      },
      "source": [
        "import sklearn.cluster as cluster\n",
        "import scipy.cluster.hierarchy as sch\n",
        "import hdbscan\n",
        "from random import sample "
      ],
      "execution_count": null,
      "outputs": []
    },
    {
      "cell_type": "markdown",
      "metadata": {
        "id": "QlQ5nj2y-H4O"
      },
      "source": [
        "Para la visualización del dendograma y visualizar los parámetros de clusterización tomaremos una muestra aleatoria de los datos:"
      ]
    },
    {
      "cell_type": "code",
      "metadata": {
        "id": "ANGh3IzV-GbC"
      },
      "source": [
        "muestra_hdbscan=data_api_ml.drop(['Cluster','Cluster_DBSCAN'],axis=1).sample(frac=.1)"
      ],
      "execution_count": null,
      "outputs": []
    },
    {
      "cell_type": "code",
      "metadata": {
        "colab": {
          "base_uri": "https://localhost:8080/",
          "height": 268
        },
        "id": "kygcAwPtsWx8",
        "outputId": "2dfd8b99-63c2-436d-994b-015040be56e8"
      },
      "source": [
        "dendogram = sch.dendrogram(sch.linkage(muestra_hdbscan,method='ward'))\n",
        "plt.title('Dendogram')\n",
        "plt.xlabel('Customers')\n",
        "plt.ylabel('Distancia Euclidiana')\n",
        "plt.show()"
      ],
      "execution_count": null,
      "outputs": [
        {
          "output_type": "display_data",
          "data": {
            "image/png": "[encoded data removed]",
            "text/plain": [
              "<Figure size 432x288 with 1 Axes>"
            ]
          },
          "metadata": {
            "tags": [],
            "needs_background": "light"
          }
        }
      ]
    },
    {
      "cell_type": "markdown",
      "metadata": {
        "id": "SO2wrugOAJOu"
      },
      "source": [
        "Tomando la distancia vertical más larga y contando las veces que cruza con otras ramos, obtenemos que el tamaño minimo de los clusters debe ser de . \n",
        "Ejecutamos el modelo con esos parámetros:"
      ]
    },
    {
      "cell_type": "code",
      "metadata": {
        "colab": {
          "base_uri": "https://localhost:8080/"
        },
        "id": "MVUUiFhNsWtC",
        "outputId": "a709c89f-5669-4f6e-d4da-08d4053c9a4d"
      },
      "source": [
        "clusterer = hdbscan.HDBSCAN(min_cluster_size=5, gen_min_span_tree=True)\n",
        "m.fit(data_api_ml.drop(['Cluster','Cluster_DBSCAN'],axis=1))"
      ],
      "execution_count": null,
      "outputs": [
        {
          "output_type": "execute_result",
          "data": {
            "text/plain": [
              "DBSCAN(algorithm='auto', eps=3, leaf_size=30, metric='euclidean',\n",
              "       metric_params=None, min_samples=28, n_jobs=None, p=None)"
            ]
          },
          "metadata": {
            "tags": []
          },
          "execution_count": 66
        }
      ]
    },
    {
      "cell_type": "code",
      "metadata": {
        "colab": {
          "base_uri": "https://localhost:8080/"
        },
        "id": "--wTebSuBPCm",
        "outputId": "5cb79eac-2321-4a68-b3f6-d3e21b628763"
      },
      "source": [
        "# Asignar nuestros labels/clusters\n",
        "labels = m.labels_\n",
        "\n",
        "# Empezar a enmascarar nuestros datos\n",
        "labels_mask_general = np.zeros_like(labels,dtype=bool)\n",
        "\n",
        "# Colocar outliers como verdadero\n",
        "labels_mask_general[m.core_sample_indices_] = True\n",
        "\n",
        "n_clusters = len(set(labels)) - (1 if -1 in labels else 0)\n",
        "n_noise = list(labels).count(-1)\n",
        "\n",
        "print(f'Número de clusters: {n_clusters}')\n",
        "print(f'Registros con ruido: {n_noise}')"
      ],
      "execution_count": null,
      "outputs": [
        {
          "output_type": "stream",
          "text": [
            "Número de clusters: 121\n",
            "Registros con ruido: 35776\n"
          ],
          "name": "stdout"
        }
      ]
    },
    {
      "cell_type": "markdown",
      "metadata": {
        "id": "DU9dA-wQBSFb"
      },
      "source": [
        "Asignamos los labels obtenidos:"
      ]
    },
    {
      "cell_type": "code",
      "metadata": {
        "colab": {
          "base_uri": "https://localhost:8080/",
          "height": 131
        },
        "id": "J66TRjFGBRbL",
        "outputId": "ceb80b5c-26c9-4588-cada-99a8d24fa965"
      },
      "source": [
        "data_api_ml['Cluster_HDBSCAN']=labels\n",
        "data_api_ml.head(2)"
      ],
      "execution_count": null,
      "outputs": [
        {
          "output_type": "execute_result",
          "data": {
            "text/html": [
              "<div>\n",
              "<style scoped>\n",
              "    .dataframe tbody tr th:only-of-type {\n",
              "        vertical-align: middle;\n",
              "    }\n",
              "\n",
              "    .dataframe tbody tr th {\n",
              "        vertical-align: top;\n",
              "    }\n",
              "\n",
              "    .dataframe thead th {\n",
              "        text-align: right;\n",
              "    }\n",
              "</style>\n",
              "<table border=\"1\" class=\"dataframe\">\n",
              "  <thead>\n",
              "    <tr style=\"text-align: right;\">\n",
              "      <th></th>\n",
              "      <th>EPOC</th>\n",
              "      <th>Asma</th>\n",
              "      <th>Cardiovascular</th>\n",
              "      <th>Diabetes</th>\n",
              "      <th>Hipertension</th>\n",
              "      <th>Inmunosupresion</th>\n",
              "      <th>Inf_Renal</th>\n",
              "      <th>Neumonia</th>\n",
              "      <th>Obesidad</th>\n",
              "      <th>Edad</th>\n",
              "      <th>Institucion</th>\n",
              "      <th>Estado</th>\n",
              "      <th>Municipio</th>\n",
              "      <th>Cluster</th>\n",
              "      <th>Cluster_DBSCAN</th>\n",
              "      <th>Cluster_HDBSCAN</th>\n",
              "    </tr>\n",
              "  </thead>\n",
              "  <tbody>\n",
              "    <tr>\n",
              "      <th>0</th>\n",
              "      <td>0</td>\n",
              "      <td>0</td>\n",
              "      <td>0</td>\n",
              "      <td>0</td>\n",
              "      <td>0</td>\n",
              "      <td>1</td>\n",
              "      <td>0</td>\n",
              "      <td>0</td>\n",
              "      <td>0</td>\n",
              "      <td>65</td>\n",
              "      <td>2</td>\n",
              "      <td>9</td>\n",
              "      <td>9007</td>\n",
              "      <td>0</td>\n",
              "      <td>0</td>\n",
              "      <td>0</td>\n",
              "    </tr>\n",
              "    <tr>\n",
              "      <th>1</th>\n",
              "      <td>0</td>\n",
              "      <td>0</td>\n",
              "      <td>0</td>\n",
              "      <td>1</td>\n",
              "      <td>0</td>\n",
              "      <td>0</td>\n",
              "      <td>0</td>\n",
              "      <td>0</td>\n",
              "      <td>1</td>\n",
              "      <td>67</td>\n",
              "      <td>2</td>\n",
              "      <td>5</td>\n",
              "      <td>5030</td>\n",
              "      <td>0</td>\n",
              "      <td>1</td>\n",
              "      <td>1</td>\n",
              "    </tr>\n",
              "  </tbody>\n",
              "</table>\n",
              "</div>"
            ],
            "text/plain": [
              "   EPOC  Asma  Cardiovascular  ...  Cluster  Cluster_DBSCAN  Cluster_HDBSCAN\n",
              "0     0     0               0  ...        0               0                0\n",
              "1     0     0               0  ...        0               1                1\n",
              "\n",
              "[2 rows x 16 columns]"
            ]
          },
          "metadata": {
            "tags": []
          },
          "execution_count": 68
        }
      ]
    },
    {
      "cell_type": "markdown",
      "metadata": {
        "id": "eUW4Jh2aTJAS"
      },
      "source": [
        "### GMM"
      ]
    },
    {
      "cell_type": "code",
      "metadata": {
        "id": "DViFs3fITLIk"
      },
      "source": [
        "from sklearn.mixture import GaussianMixture as GMM\n",
        "from matplotlib.pyplot import figure"
      ],
      "execution_count": null,
      "outputs": []
    },
    {
      "cell_type": "code",
      "metadata": {
        "colab": {
          "base_uri": "https://localhost:8080/",
          "height": 374
        },
        "id": "9zs_Vlki0bI1",
        "outputId": "50c47474-a459-4b42-ac27-954c8069f3c4"
      },
      "source": [
        "figure(figsize=(15,6))\n",
        "data_api_ml.Edad.plot(kind='kde');"
      ],
      "execution_count": null,
      "outputs": [
        {
          "output_type": "display_data",
          "data": {
            "image/png": "[encoded data removed]",
            "text/plain": [
              "<Figure size 1080x432 with 1 Axes>"
            ]
          },
          "metadata": {
            "tags": [],
            "needs_background": "light"
          }
        }
      ]
    },
    {
      "cell_type": "markdown",
      "metadata": {
        "id": "s26pebhATeHj"
      },
      "source": [
        "Para obtener el número de componentes, obtenemos el valor de las 4 covarianzas."
      ]
    },
    {
      "cell_type": "code",
      "metadata": {
        "colab": {
          "base_uri": "https://localhost:8080/",
          "height": 350
        },
        "id": "wJmVatTjTNGi",
        "outputId": "31ce367f-f44f-40d2-9a25-967f266b78d4"
      },
      "source": [
        "fig, ax = plt.subplots(figsize=(10, 5))\n",
        "\n",
        "n_components = range(1, 20)\n",
        "covariance_types = ['spherical', 'tied', 'diag', 'full']\n",
        "\n",
        "for covariance_type in covariance_types:\n",
        "    valores_bic = []\n",
        "    \n",
        "    for i in n_components:\n",
        "        modelo = GMM(n_components=i, covariance_type=covariance_type)\n",
        "        modelo = modelo.fit(data_api_ml.drop('Cluster_KMeans',axis=1))\n",
        "        valores_bic.append(modelo.bic(data_api_ml.drop('Cluster_KMeans',axis=1)))\n",
        "        # modelo = modelo.fit(data_api_ml.drop(['Cluster','Cluster_DBSCAN','Cluster_HDBSCAN'],axis=1))\n",
        "        # valores_bic.append(modelo.bic(data_api_ml.drop(['Cluster','Cluster_DBSCAN','Cluster_HDBSCAN'],axis=1)))\n",
        "        \n",
        "    ax.plot(n_components, valores_bic, label=covariance_type)\n",
        "ax.set_title(\"Valores BIC\")\n",
        "ax.set_xlabel(\"Número componentes\")\n",
        "ax.legend();"
      ],
      "execution_count": null,
      "outputs": [
        {
          "output_type": "display_data",
          "data": {
            "image/png": "[encoded data removed]",
            "text/plain": [
              "<Figure size 720x360 with 1 Axes>"
            ]
          },
          "metadata": {
            "tags": [],
            "needs_background": "light"
          }
        }
      ]
    },
    {
      "cell_type": "markdown",
      "metadata": {
        "id": "7eISAs7dToDx"
      },
      "source": [
        "Corremos el modelo con el número de componentes = 13. "
      ]
    },
    {
      "cell_type": "code",
      "metadata": {
        "colab": {
          "base_uri": "https://localhost:8080/",
          "height": 131
        },
        "id": "IZgTO7NaTdZ-",
        "outputId": "78b2f7ad-ea08-48ee-885d-b618c40e164d"
      },
      "source": [
        "gm  = GMM(n_components=13, covariance_type='full')\n",
        "gm.fit(data_api_ml.drop('Cluster_KMeans',axis=1))\n",
        "# gm.fit(data_api_ml.drop(['Cluster','Cluster_DBSCAN','Cluster_HDBSCAN'],axis=1))\n",
        "\n",
        "labels = gm.predict(data_api_ml.drop('Cluster_KMeans',axis=1))\n",
        "# labels = gm.predict(data_api_ml.drop(['Cluster','Cluster_DBSCAN','Cluster_HDBSCAN'],axis=1))\n",
        "data_api_ml['Cluster_GMM']= labels\n",
        "data_api_ml.head(2)"
      ],
      "execution_count": null,
      "outputs": [
        {
          "output_type": "execute_result",
          "data": {
            "text/html": [
              "<div>\n",
              "<style scoped>\n",
              "    .dataframe tbody tr th:only-of-type {\n",
              "        vertical-align: middle;\n",
              "    }\n",
              "\n",
              "    .dataframe tbody tr th {\n",
              "        vertical-align: top;\n",
              "    }\n",
              "\n",
              "    .dataframe thead th {\n",
              "        text-align: right;\n",
              "    }\n",
              "</style>\n",
              "<table border=\"1\" class=\"dataframe\">\n",
              "  <thead>\n",
              "    <tr style=\"text-align: right;\">\n",
              "      <th></th>\n",
              "      <th>EPOC</th>\n",
              "      <th>Asma</th>\n",
              "      <th>Cardiovascular</th>\n",
              "      <th>Diabetes</th>\n",
              "      <th>Hipertension</th>\n",
              "      <th>Inmunosupresion</th>\n",
              "      <th>Inf_Renal</th>\n",
              "      <th>Neumonia</th>\n",
              "      <th>Obesidad</th>\n",
              "      <th>Edad</th>\n",
              "      <th>Institucion</th>\n",
              "      <th>Estado</th>\n",
              "      <th>Cluster_KMeans</th>\n",
              "      <th>Cluster_GMM</th>\n",
              "    </tr>\n",
              "  </thead>\n",
              "  <tbody>\n",
              "    <tr>\n",
              "      <th>0</th>\n",
              "      <td>0</td>\n",
              "      <td>0</td>\n",
              "      <td>0</td>\n",
              "      <td>0</td>\n",
              "      <td>0</td>\n",
              "      <td>1</td>\n",
              "      <td>0</td>\n",
              "      <td>0</td>\n",
              "      <td>0</td>\n",
              "      <td>65</td>\n",
              "      <td>2</td>\n",
              "      <td>9</td>\n",
              "      <td>2</td>\n",
              "      <td>7</td>\n",
              "    </tr>\n",
              "    <tr>\n",
              "      <th>1</th>\n",
              "      <td>0</td>\n",
              "      <td>0</td>\n",
              "      <td>0</td>\n",
              "      <td>1</td>\n",
              "      <td>0</td>\n",
              "      <td>0</td>\n",
              "      <td>0</td>\n",
              "      <td>0</td>\n",
              "      <td>1</td>\n",
              "      <td>67</td>\n",
              "      <td>2</td>\n",
              "      <td>5</td>\n",
              "      <td>2</td>\n",
              "      <td>3</td>\n",
              "    </tr>\n",
              "  </tbody>\n",
              "</table>\n",
              "</div>"
            ],
            "text/plain": [
              "   EPOC  Asma  Cardiovascular  ...  Estado  Cluster_KMeans  Cluster_GMM\n",
              "0     0     0               0  ...       9               2            7\n",
              "1     0     0               0  ...       5               2            3\n",
              "\n",
              "[2 rows x 14 columns]"
            ]
          },
          "metadata": {
            "tags": []
          },
          "execution_count": 65
        }
      ]
    },
    {
      "cell_type": "code",
      "metadata": {
        "id": "bHROlmNrWp58"
      },
      "source": [
        "# data_api_ml['Cluster_GMM'].value_counts()"
      ],
      "execution_count": null,
      "outputs": []
    },
    {
      "cell_type": "markdown",
      "metadata": {
        "id": "DFeRZqbY797r"
      },
      "source": [
        "### Evaluando nuestro modelo"
      ]
    },
    {
      "cell_type": "code",
      "metadata": {
        "id": "Uhm4yKZh8BLM"
      },
      "source": [
        "from sklearn.metrics import silhouette_score"
      ],
      "execution_count": null,
      "outputs": []
    },
    {
      "cell_type": "code",
      "metadata": {
        "id": "1RfeUv729X9x"
      },
      "source": [
        "silhouette_score(data_api_ml.drop(['Cluster_KMeans'],axis=1),kmeans.labels_,metric='euclidean',sample_size=len(X))"
      ],
      "execution_count": null,
      "outputs": []
    },
    {
      "cell_type": "code",
      "metadata": {
        "id": "gBvUXs_C9X6-"
      },
      "source": [
        ""
      ],
      "execution_count": null,
      "outputs": []
    },
    {
      "cell_type": "code",
      "metadata": {
        "id": "P_Ho4f-q9X3n"
      },
      "source": [
        ""
      ],
      "execution_count": null,
      "outputs": []
    },
    {
      "cell_type": "code",
      "metadata": {
        "id": "oQp03J0z9X0Q"
      },
      "source": [
        ""
      ],
      "execution_count": null,
      "outputs": []
    },
    {
      "cell_type": "code",
      "metadata": {
        "id": "O1Xo7PLO9Xxh"
      },
      "source": [
        ""
      ],
      "execution_count": null,
      "outputs": []
    },
    {
      "cell_type": "code",
      "metadata": {
        "id": "rzmDcJbx9Xs8"
      },
      "source": [
        ""
      ],
      "execution_count": null,
      "outputs": []
    },
    {
      "cell_type": "code",
      "metadata": {
        "id": "oe2JwQuyW5g7"
      },
      "source": [
        "data_api_ml.to_csv('Cluster_Covid.csv')"
      ],
      "execution_count": null,
      "outputs": []
    }
  ]
}