{
  "nbformat": 4,
  "nbformat_minor": 0,
  "metadata": {
    "colab": {
      "name": "DataMexico_Unsupervised_ML_Model.ipynb",
      "provenance": [],
      "collapsed_sections": [
        "B6Swq34pBwIT",
        "goy41ld1CcTa",
        "nsNety93IJlw",
        "IHRdIQPkwjTM",
        "eC4OlXTIypCf",
        "8OxzQn4RxJTM",
        "eUW4Jh2aTJAS"
      ],
      "authorship_tag": "ABX9TyMAKDToQz1pTXMkljy0/xpl",
      "include_colab_link": true
    },
    "kernelspec": {
      "name": "python3",
      "display_name": "Python 3"
    }
  },
  "cells": [
    {
      "cell_type": "markdown",
      "metadata": {
        "id": "view-in-github",
        "colab_type": "text"
      },
      "source": [
        "<a href=\"https://colab.research.google.com/github/NayelySaldivar/DesafioData/blob/main/DataMexico_Unsupervised_ML_Model.ipynb\" target=\"_parent\"><img src=\"https://colab.research.google.com/assets/colab-badge.svg\" alt=\"Open In Colab\"/></a>"
      ]
    },
    {
      "cell_type": "markdown",
      "metadata": {
        "id": "-XH8IxckBd0N"
      },
      "source": [
        "<h2> Desafío Data México </h2>\n",
        "<h4> <p> Segunda Edición - Datos con perspectiva de género </p> </h4> "
      ]
    },
    {
      "cell_type": "markdown",
      "metadata": {
        "id": "nqv4RUdsBll3"
      },
      "source": [
        "##### Importación de librerías:"
      ]
    },
    {
      "cell_type": "code",
      "metadata": {
        "id": "ORWSSmHFBSMl"
      },
      "source": [
        "import pandas as pd\n",
        "import numpy as np\n",
        "import requests\n",
        "import plotly.express as px\n",
        "import seaborn as sns"
      ],
      "execution_count": 1,
      "outputs": []
    },
    {
      "cell_type": "code",
      "metadata": {
        "colab": {
          "base_uri": "https://localhost:8080/"
        },
        "id": "lVrs6aAMK4zT",
        "outputId": "b69fea8c-4c27-4ac2-d5b6-fb545653396f"
      },
      "source": [
        "from google.colab import drive\n",
        "drive.mount('/content/drive')"
      ],
      "execution_count": 2,
      "outputs": [
        {
          "output_type": "stream",
          "text": [
            "Drive already mounted at /content/drive; to attempt to forcibly remount, call drive.mount(\"/content/drive\", force_remount=True).\n"
          ],
          "name": "stdout"
        }
      ]
    },
    {
      "cell_type": "markdown",
      "metadata": {
        "id": "mXdZ1b9YBteA"
      },
      "source": [
        "## Carga de Bases de Datos:"
      ]
    },
    {
      "cell_type": "markdown",
      "metadata": {
        "id": "B6Swq34pBwIT"
      },
      "source": [
        "### - Resultados Covid desde la plataforma **DataMexico**:"
      ]
    },
    {
      "cell_type": "markdown",
      "metadata": {
        "id": "mRxsuIU4GuUf"
      },
      "source": [
        "- Utilizamos la **DataMexico API Explorer** para obtener los datos actualizados:"
      ]
    },
    {
      "cell_type": "code",
      "metadata": {
        "id": "prCoMD3OBp-T",
        "colab": {
          "base_uri": "https://localhost:8080/"
        },
        "outputId": "fa7d82b1-14dc-4761-a9c3-ed57a1037ab8"
      },
      "source": [
        "data=requests.get('https://api.datamexico.org/tesseract/cubes/gobmx_covid/aggregate.jsonrecords?drilldowns%5B%5D=Death+Date.Death+Date.Death+Date&drilldowns%5B%5D=Covid+Result.Covid+Result.Covid+Result&drilldowns%5B%5D=Health+Institution+Attended.Health+Institution+Attended.Health+Institution+Attended&drilldowns%5B%5D=Pneumonia+Diagnose.Pneumonia+Diagnose.Pneumonia+Diagnose&drilldowns%5B%5D=COPD+Diagnose.COPD+Diagnose.COPD+Diagnose&drilldowns%5B%5D=Asthma+Diagnose.Asthma+Diagnose.Asthma+Diagnose&drilldowns%5B%5D=Inmunosupresion+Diagnose.Inmunosupresion+Diagnose.Inmunosupresion+Diagnose&drilldowns%5B%5D=Hypertension+Diagnose.Hypertension+Diagnose.Hypertension+Diagnose&drilldowns%5B%5D=Cardiovascular+Diagnose.Cardiovascular+Diagnose.Cardiovascular+Diagnose&drilldowns%5B%5D=Obesity+Diagnose.Obesity+Diagnose.Obesity+Diagnose&drilldowns%5B%5D=Chronic+Kidney+Failure+Diagnose.Chronic+Kidney+Failure+Diagnose.Chronic+Kidney+Failure+Diagnose&drilldowns%5B%5D=Diabetes+Diagnose.Diabetes+Diagnose.Diabetes+Diagnose&drilldowns%5B%5D=State+Patient+Attended.State+Patient+Attended.State+Patient+Attended&drilldowns%5B%5D=State+Patient+Origin.State+Patient+Origin.State+Patient+Origin&drilldowns%5B%5D=Sex.Sex.Sex&drilldowns%5B%5D=Age+Group.Age+Group.Age&drilldowns%5B%5D=Municipality+Patient+Residence.Geography.Municipality&measures%5B%5D=Cases&parents=false&sparse=false')\n",
        "data_api=pd.DataFrame(data.json()[\"data\"])\n",
        "data_api.shape"
      ],
      "execution_count": 7,
      "outputs": [
        {
          "output_type": "execute_result",
          "data": {
            "text/plain": [
              "(264566, 34)"
            ]
          },
          "metadata": {
            "tags": []
          },
          "execution_count": 7
        }
      ]
    },
    {
      "cell_type": "markdown",
      "metadata": {
        "id": "goy41ld1CcTa"
      },
      "source": [
        "### - Datos históricos de **Mortalidad en Mujeres 2012-2019** del INEGI:"
      ]
    },
    {
      "cell_type": "code",
      "metadata": {
        "id": "olWWodSsBp2y",
        "colab": {
          "base_uri": "https://localhost:8080/"
        },
        "outputId": "6884824e-cba6-4f39-8304-4c44bc2e1274"
      },
      "source": [
        "mortalidad_mujeres=pd.read_csv(f'/content/drive/MyDrive/DesafioData/Bases_INEGI_Mujeres.csv')\n",
        "mortalidad_mujeres.shape"
      ],
      "execution_count": 8,
      "outputs": [
        {
          "output_type": "execute_result",
          "data": {
            "text/plain": [
              "(2272081, 22)"
            ]
          },
          "metadata": {
            "tags": []
          },
          "execution_count": 8
        }
      ]
    },
    {
      "cell_type": "markdown",
      "metadata": {
        "id": "nsNety93IJlw"
      },
      "source": [
        "## Preparación de la información para construir el modelo"
      ]
    },
    {
      "cell_type": "code",
      "metadata": {
        "id": "Gki5BZO7iUlM",
        "colab": {
          "base_uri": "https://localhost:8080/"
        },
        "outputId": "5603472d-527a-4fa5-c6b0-9e808175b054"
      },
      "source": [
        "!pip install feature_engine"
      ],
      "execution_count": 10,
      "outputs": [
        {
          "output_type": "stream",
          "text": [
            "Requirement already satisfied: feature_engine in /usr/local/lib/python3.7/dist-packages (1.0.2)\n",
            "Requirement already satisfied: statsmodels>=0.11.1 in /usr/local/lib/python3.7/dist-packages (from feature_engine) (0.12.2)\n",
            "Requirement already satisfied: pandas>=1.0.3 in /usr/local/lib/python3.7/dist-packages (from feature_engine) (1.1.5)\n",
            "Requirement already satisfied: scikit-learn>=0.22.2 in /usr/local/lib/python3.7/dist-packages (from feature_engine) (0.22.2.post1)\n",
            "Requirement already satisfied: numpy>=1.18.2 in /usr/local/lib/python3.7/dist-packages (from feature_engine) (1.19.5)\n",
            "Requirement already satisfied: scipy>=1.4.1 in /usr/local/lib/python3.7/dist-packages (from feature_engine) (1.4.1)\n",
            "Requirement already satisfied: patsy>=0.5 in /usr/local/lib/python3.7/dist-packages (from statsmodels>=0.11.1->feature_engine) (0.5.1)\n",
            "Requirement already satisfied: python-dateutil>=2.7.3 in /usr/local/lib/python3.7/dist-packages (from pandas>=1.0.3->feature_engine) (2.8.1)\n",
            "Requirement already satisfied: pytz>=2017.2 in /usr/local/lib/python3.7/dist-packages (from pandas>=1.0.3->feature_engine) (2018.9)\n",
            "Requirement already satisfied: joblib>=0.11 in /usr/local/lib/python3.7/dist-packages (from scikit-learn>=0.22.2->feature_engine) (1.0.1)\n",
            "Requirement already satisfied: six in /usr/local/lib/python3.7/dist-packages (from patsy>=0.5->statsmodels>=0.11.1->feature_engine) (1.15.0)\n"
          ],
          "name": "stdout"
        }
      ]
    },
    {
      "cell_type": "markdown",
      "metadata": {
        "id": "e_HcDpTUv8mA"
      },
      "source": [
        "### Tabulados de Mortalidad **INEGI**"
      ]
    },
    {
      "cell_type": "markdown",
      "metadata": {
        "id": "n32AiNEJZd6Q"
      },
      "source": [
        "Debido a la cantidad de datos y los recursos con los que contamos, decidimos tomar el último quiquenio que tenemos registrado en el histórico de muertes para crear nuestro modelo de ML:"
      ]
    },
    {
      "cell_type": "code",
      "metadata": {
        "id": "HjPVOOEWbMQf"
      },
      "source": [
        "data_mujeres_quinquenio = mortalidad_mujeres[mortalidad_mujeres['date'].isin([2015,2016,2017,2018,2019])].reset_index(drop=True)"
      ],
      "execution_count": 11,
      "outputs": []
    },
    {
      "cell_type": "markdown",
      "metadata": {
        "id": "4GE83rkrc6Q8"
      },
      "source": [
        "Volvemos dummies las variables de los grupos de enfermedad y el tipo de institución en donde se realizó el registro:"
      ]
    },
    {
      "cell_type": "code",
      "metadata": {
        "id": "XTmecIhehdMl"
      },
      "source": [
        "data_mujeres=data_mujeres_quinquenio['gpo_enfermedad']\n",
        "data_institucion=data_mujeres_quinquenio['derechohab']\n",
        "\n",
        "dum_df = pd.get_dummies(data_mujeres, columns=['gpo_enfermedad'], prefix=\"Gpo_Enfermedad_is\")\n",
        "dum_ins = pd.get_dummies(data_institucion, columns=['derechohab'], prefix=\"Institucion_is\")"
      ],
      "execution_count": 12,
      "outputs": []
    },
    {
      "cell_type": "markdown",
      "metadata": {
        "id": "d_8oUdxnZjTz"
      },
      "source": [
        "Añadimos las variables que coinciden con la base de COVID:"
      ]
    },
    {
      "cell_type": "code",
      "metadata": {
        "colab": {
          "base_uri": "https://localhost:8080/",
          "height": 0
        },
        "id": "1JPJMCDXbbGS",
        "outputId": "687ee40d-ffb9-4ac7-b350-b9328a936c0d"
      },
      "source": [
        "data_mujeres=pd.concat([dum_df,data_mujeres_quinquenio[['sexo','edad_real']],dum_ins,data_mujeres_quinquenio['ent_regis']],axis=1)\n",
        "data_mujeres.head(2)"
      ],
      "execution_count": 13,
      "outputs": [
        {
          "output_type": "execute_result",
          "data": {
            "text/html": [
              "<div>\n",
              "<style scoped>\n",
              "    .dataframe tbody tr th:only-of-type {\n",
              "        vertical-align: middle;\n",
              "    }\n",
              "\n",
              "    .dataframe tbody tr th {\n",
              "        vertical-align: top;\n",
              "    }\n",
              "\n",
              "    .dataframe thead th {\n",
              "        text-align: right;\n",
              "    }\n",
              "</style>\n",
              "<table border=\"1\" class=\"dataframe\">\n",
              "  <thead>\n",
              "    <tr style=\"text-align: right;\">\n",
              "      <th></th>\n",
              "      <th>Gpo_Enfermedad_is_EPOC</th>\n",
              "      <th>Gpo_Enfermedad_is_asma</th>\n",
              "      <th>Gpo_Enfermedad_is_cardiovascular</th>\n",
              "      <th>Gpo_Enfermedad_is_diabetes</th>\n",
              "      <th>Gpo_Enfermedad_is_hipertension</th>\n",
              "      <th>Gpo_Enfermedad_is_inmunosupresores</th>\n",
              "      <th>Gpo_Enfermedad_is_insuf_renal</th>\n",
              "      <th>Gpo_Enfermedad_is_neumonia</th>\n",
              "      <th>Gpo_Enfermedad_is_obesidad</th>\n",
              "      <th>Gpo_Enfermedad_is_otros</th>\n",
              "      <th>sexo</th>\n",
              "      <th>edad_real</th>\n",
              "      <th>Institucion_is_1</th>\n",
              "      <th>Institucion_is_2</th>\n",
              "      <th>Institucion_is_3</th>\n",
              "      <th>Institucion_is_4</th>\n",
              "      <th>Institucion_is_5</th>\n",
              "      <th>Institucion_is_6</th>\n",
              "      <th>Institucion_is_7</th>\n",
              "      <th>Institucion_is_8</th>\n",
              "      <th>Institucion_is_9</th>\n",
              "      <th>Institucion_is_99</th>\n",
              "      <th>ent_regis</th>\n",
              "    </tr>\n",
              "  </thead>\n",
              "  <tbody>\n",
              "    <tr>\n",
              "      <th>0</th>\n",
              "      <td>0</td>\n",
              "      <td>0</td>\n",
              "      <td>0</td>\n",
              "      <td>0</td>\n",
              "      <td>0</td>\n",
              "      <td>0</td>\n",
              "      <td>0</td>\n",
              "      <td>0</td>\n",
              "      <td>0</td>\n",
              "      <td>1</td>\n",
              "      <td>2</td>\n",
              "      <td>40</td>\n",
              "      <td>0</td>\n",
              "      <td>0</td>\n",
              "      <td>0</td>\n",
              "      <td>0</td>\n",
              "      <td>0</td>\n",
              "      <td>0</td>\n",
              "      <td>1</td>\n",
              "      <td>0</td>\n",
              "      <td>0</td>\n",
              "      <td>0</td>\n",
              "      <td>1</td>\n",
              "    </tr>\n",
              "    <tr>\n",
              "      <th>1</th>\n",
              "      <td>0</td>\n",
              "      <td>0</td>\n",
              "      <td>0</td>\n",
              "      <td>0</td>\n",
              "      <td>0</td>\n",
              "      <td>0</td>\n",
              "      <td>0</td>\n",
              "      <td>0</td>\n",
              "      <td>0</td>\n",
              "      <td>1</td>\n",
              "      <td>2</td>\n",
              "      <td>66</td>\n",
              "      <td>0</td>\n",
              "      <td>1</td>\n",
              "      <td>0</td>\n",
              "      <td>0</td>\n",
              "      <td>0</td>\n",
              "      <td>0</td>\n",
              "      <td>0</td>\n",
              "      <td>0</td>\n",
              "      <td>0</td>\n",
              "      <td>0</td>\n",
              "      <td>1</td>\n",
              "    </tr>\n",
              "  </tbody>\n",
              "</table>\n",
              "</div>"
            ],
            "text/plain": [
              "   Gpo_Enfermedad_is_EPOC  Gpo_Enfermedad_is_asma  ...  Institucion_is_99  ent_regis\n",
              "0                       0                       0  ...                  0          1\n",
              "1                       0                       0  ...                  0          1\n",
              "\n",
              "[2 rows x 23 columns]"
            ]
          },
          "metadata": {
            "tags": []
          },
          "execution_count": 13
        }
      ]
    },
    {
      "cell_type": "markdown",
      "metadata": {
        "id": "PwTiKnKQve6Z"
      },
      "source": [
        "Eliminamos los registros que queden fuera de nuestros grupos de enfermedad:"
      ]
    },
    {
      "cell_type": "code",
      "metadata": {
        "colab": {
          "base_uri": "https://localhost:8080/"
        },
        "id": "xw05GwHZjPcp",
        "outputId": "1e0f7627-1f0b-45ad-9556-5d4800741fb6"
      },
      "source": [
        "data_mujeres_limpia=data_mujeres.copy()\n",
        "\n",
        "print(f'Shape Inicial: {data_mujeres_limpia.shape}')\n",
        "\n",
        "rows_to_drop=data_mujeres[data_mujeres['Gpo_Enfermedad_is_otros']==1].index\n",
        "data_mujeres_limpia=data_mujeres_limpia.drop(rows_to_drop,axis=0).reset_index(drop=True)\n",
        "\n",
        "rows_to_drop=data_mujeres_limpia[data_mujeres_limpia['Institucion_is_99']==1].index\n",
        "data_mujeres_limpia=data_mujeres_limpia.drop(rows_to_drop,axis=0).reset_index(drop=True)\n",
        "\n",
        "data_mujeres_limpia=data_mujeres_limpia.drop(['Gpo_Enfermedad_is_otros','Institucion_is_99'],axis=1)\n",
        "\n",
        "print(f'Shape Inicial: {data_mujeres_limpia.shape}')"
      ],
      "execution_count": 14,
      "outputs": [
        {
          "output_type": "stream",
          "text": [
            "Shape Inicial: (1488372, 23)\n",
            "Shape Inicial: (897243, 21)\n"
          ],
          "name": "stdout"
        }
      ]
    },
    {
      "cell_type": "markdown",
      "metadata": {
        "id": "38pW4REmX0ax"
      },
      "source": [
        "### Datos **Covid-19** API Data México"
      ]
    },
    {
      "cell_type": "markdown",
      "metadata": {
        "id": "mlNv2GyjwS0w"
      },
      "source": [
        "Encoding del tipo de institución en el que se atendió el fallecido"
      ]
    },
    {
      "cell_type": "code",
      "metadata": {
        "id": "pXLEottlXW4H"
      },
      "source": [
        "data_api['Health Institution Attended']=np.where(\n",
        "    data_api['Health Institution Attended']=='IMSS',2,np.where(\n",
        "    data_api['Health Institution Attended']=='ISSSTE',3,np.where(\n",
        "    data_api['Health Institution Attended']=='PEMEX',4,np.where(\n",
        "    data_api['Health Institution Attended']=='SEDENA',5,np.where(\n",
        "    data_api['Health Institution Attended']=='SEMAR',6,np.where(\n",
        "    data_api['Health Institution Attended']=='IMSS-Bienestar',7,8    \n",
        "    )    \n",
        "    )\n",
        "    )    \n",
        "    )    \n",
        "    )\n",
        "    )"
      ],
      "execution_count": 15,
      "outputs": []
    },
    {
      "cell_type": "markdown",
      "metadata": {
        "id": "pk7pTUZLhcFe"
      },
      "source": [
        "Homologamos los valores dummies de la base:"
      ]
    },
    {
      "cell_type": "code",
      "metadata": {
        "id": "IinvEa8hfc5k",
        "colab": {
          "base_uri": "https://localhost:8080/"
        },
        "outputId": "245af70b-d0e8-4d5e-f140-ff60551b1124"
      },
      "source": [
        "enfermedades=['Pneumonia Diagnose ID','COPD Diagnose ID','Asthma Diagnose ID','Inmunosupresion Diagnose ID','Hypertension Diagnose ID','Cardiovascular Diagnose ID','Obesity Diagnose ID','Chronic Kidney Failure Diagnose ID','Diabetes Diagnose ID']\n",
        "\n",
        "for enf in enfermedades:\n",
        "  data_api[enf]=np.where(data_api[enf]==1,1,0)\n",
        "\n",
        "data_institucion=data_api['Health Institution Attended']\n",
        "dum_df = pd.get_dummies(data_institucion, columns=['Health Institution Attended'], prefix=\"Institucion_is\")\n",
        "\n",
        "aux=pd.Series(0,index=range(len(data_api)))\n",
        "dum_ins=pd.concat([aux,dum_df,aux],axis=1)\n",
        "dum_ins.shape"
      ],
      "execution_count": 16,
      "outputs": [
        {
          "output_type": "execute_result",
          "data": {
            "text/plain": [
              "(264566, 9)"
            ]
          },
          "metadata": {
            "tags": []
          },
          "execution_count": 16
        }
      ]
    },
    {
      "cell_type": "markdown",
      "metadata": {
        "id": "mXWI6PutwP-F"
      },
      "source": [
        "Orden de las columnas"
      ]
    },
    {
      "cell_type": "code",
      "metadata": {
        "id": "mF2s2nh6lvLJ",
        "colab": {
          "base_uri": "https://localhost:8080/"
        },
        "outputId": "bafe66e0-aff3-48d1-e2b2-fd61f862b081"
      },
      "source": [
        "# columnas_ml=['EPOC','Asma','Cardiovascular','Diabetes','Hipertension','Inmunosupresion','Inf_Renal','Neumonia','Obesidad','Sexo','Edad','Institucion','Estado','Municipio']\n",
        "data_api_ml_completo=pd.concat([data_api[['COPD Diagnose ID','Asthma Diagnose ID','Cardiovascular Diagnose ID','Diabetes Diagnose ID','Hypertension Diagnose ID','Inmunosupresion Diagnose ID','Chronic Kidney Failure Diagnose ID','Pneumonia Diagnose ID','Obesity Diagnose ID','Sex ID','Age']],dum_ins,data_api['State Patient Attended ID']],axis=1)\n",
        "data_api_ml_completo.shape"
      ],
      "execution_count": 17,
      "outputs": [
        {
          "output_type": "execute_result",
          "data": {
            "text/plain": [
              "(264566, 21)"
            ]
          },
          "metadata": {
            "tags": []
          },
          "execution_count": 17
        }
      ]
    },
    {
      "cell_type": "code",
      "metadata": {
        "colab": {
          "base_uri": "https://localhost:8080/",
          "height": 0
        },
        "id": "e4YPhVThahlr",
        "outputId": "f4095804-def5-4e49-e777-984c50e922cd"
      },
      "source": [
        "data_api_ml_completo.head(2)"
      ],
      "execution_count": 18,
      "outputs": [
        {
          "output_type": "execute_result",
          "data": {
            "text/html": [
              "<div>\n",
              "<style scoped>\n",
              "    .dataframe tbody tr th:only-of-type {\n",
              "        vertical-align: middle;\n",
              "    }\n",
              "\n",
              "    .dataframe tbody tr th {\n",
              "        vertical-align: top;\n",
              "    }\n",
              "\n",
              "    .dataframe thead th {\n",
              "        text-align: right;\n",
              "    }\n",
              "</style>\n",
              "<table border=\"1\" class=\"dataframe\">\n",
              "  <thead>\n",
              "    <tr style=\"text-align: right;\">\n",
              "      <th></th>\n",
              "      <th>COPD Diagnose ID</th>\n",
              "      <th>Asthma Diagnose ID</th>\n",
              "      <th>Cardiovascular Diagnose ID</th>\n",
              "      <th>Diabetes Diagnose ID</th>\n",
              "      <th>Hypertension Diagnose ID</th>\n",
              "      <th>Inmunosupresion Diagnose ID</th>\n",
              "      <th>Chronic Kidney Failure Diagnose ID</th>\n",
              "      <th>Pneumonia Diagnose ID</th>\n",
              "      <th>Obesity Diagnose ID</th>\n",
              "      <th>Sex ID</th>\n",
              "      <th>Age</th>\n",
              "      <th>0</th>\n",
              "      <th>Institucion_is_2</th>\n",
              "      <th>Institucion_is_3</th>\n",
              "      <th>Institucion_is_4</th>\n",
              "      <th>Institucion_is_5</th>\n",
              "      <th>Institucion_is_6</th>\n",
              "      <th>Institucion_is_7</th>\n",
              "      <th>Institucion_is_8</th>\n",
              "      <th>1</th>\n",
              "      <th>State Patient Attended ID</th>\n",
              "    </tr>\n",
              "  </thead>\n",
              "  <tbody>\n",
              "    <tr>\n",
              "      <th>0</th>\n",
              "      <td>0</td>\n",
              "      <td>0</td>\n",
              "      <td>0</td>\n",
              "      <td>0</td>\n",
              "      <td>0</td>\n",
              "      <td>1</td>\n",
              "      <td>0</td>\n",
              "      <td>0</td>\n",
              "      <td>0</td>\n",
              "      <td>2</td>\n",
              "      <td>65</td>\n",
              "      <td>0</td>\n",
              "      <td>1</td>\n",
              "      <td>0</td>\n",
              "      <td>0</td>\n",
              "      <td>0</td>\n",
              "      <td>0</td>\n",
              "      <td>0</td>\n",
              "      <td>0</td>\n",
              "      <td>0</td>\n",
              "      <td>9</td>\n",
              "    </tr>\n",
              "    <tr>\n",
              "      <th>1</th>\n",
              "      <td>0</td>\n",
              "      <td>1</td>\n",
              "      <td>0</td>\n",
              "      <td>0</td>\n",
              "      <td>0</td>\n",
              "      <td>0</td>\n",
              "      <td>0</td>\n",
              "      <td>0</td>\n",
              "      <td>0</td>\n",
              "      <td>1</td>\n",
              "      <td>15</td>\n",
              "      <td>0</td>\n",
              "      <td>1</td>\n",
              "      <td>0</td>\n",
              "      <td>0</td>\n",
              "      <td>0</td>\n",
              "      <td>0</td>\n",
              "      <td>0</td>\n",
              "      <td>0</td>\n",
              "      <td>0</td>\n",
              "      <td>2</td>\n",
              "    </tr>\n",
              "  </tbody>\n",
              "</table>\n",
              "</div>"
            ],
            "text/plain": [
              "   COPD Diagnose ID  Asthma Diagnose ID  ...  1  State Patient Attended ID\n",
              "0                 0                   0  ...  0                          9\n",
              "1                 0                   1  ...  0                          2\n",
              "\n",
              "[2 rows x 21 columns]"
            ]
          },
          "metadata": {
            "tags": []
          },
          "execution_count": 18
        }
      ]
    },
    {
      "cell_type": "markdown",
      "metadata": {
        "id": "IHRdIQPkwjTM"
      },
      "source": [
        "## Unificación de variables"
      ]
    },
    {
      "cell_type": "code",
      "metadata": {
        "colab": {
          "base_uri": "https://localhost:8080/",
          "height": 0
        },
        "id": "fRVGwTigtqq1",
        "outputId": "9d057af3-a697-46d8-c8b8-8dd5f1b7e689"
      },
      "source": [
        "data_mujeres_limpia.head(2)"
      ],
      "execution_count": 19,
      "outputs": [
        {
          "output_type": "execute_result",
          "data": {
            "text/html": [
              "<div>\n",
              "<style scoped>\n",
              "    .dataframe tbody tr th:only-of-type {\n",
              "        vertical-align: middle;\n",
              "    }\n",
              "\n",
              "    .dataframe tbody tr th {\n",
              "        vertical-align: top;\n",
              "    }\n",
              "\n",
              "    .dataframe thead th {\n",
              "        text-align: right;\n",
              "    }\n",
              "</style>\n",
              "<table border=\"1\" class=\"dataframe\">\n",
              "  <thead>\n",
              "    <tr style=\"text-align: right;\">\n",
              "      <th></th>\n",
              "      <th>Gpo_Enfermedad_is_EPOC</th>\n",
              "      <th>Gpo_Enfermedad_is_asma</th>\n",
              "      <th>Gpo_Enfermedad_is_cardiovascular</th>\n",
              "      <th>Gpo_Enfermedad_is_diabetes</th>\n",
              "      <th>Gpo_Enfermedad_is_hipertension</th>\n",
              "      <th>Gpo_Enfermedad_is_inmunosupresores</th>\n",
              "      <th>Gpo_Enfermedad_is_insuf_renal</th>\n",
              "      <th>Gpo_Enfermedad_is_neumonia</th>\n",
              "      <th>Gpo_Enfermedad_is_obesidad</th>\n",
              "      <th>sexo</th>\n",
              "      <th>edad_real</th>\n",
              "      <th>Institucion_is_1</th>\n",
              "      <th>Institucion_is_2</th>\n",
              "      <th>Institucion_is_3</th>\n",
              "      <th>Institucion_is_4</th>\n",
              "      <th>Institucion_is_5</th>\n",
              "      <th>Institucion_is_6</th>\n",
              "      <th>Institucion_is_7</th>\n",
              "      <th>Institucion_is_8</th>\n",
              "      <th>Institucion_is_9</th>\n",
              "      <th>ent_regis</th>\n",
              "    </tr>\n",
              "  </thead>\n",
              "  <tbody>\n",
              "    <tr>\n",
              "      <th>0</th>\n",
              "      <td>0</td>\n",
              "      <td>0</td>\n",
              "      <td>0</td>\n",
              "      <td>1</td>\n",
              "      <td>0</td>\n",
              "      <td>0</td>\n",
              "      <td>0</td>\n",
              "      <td>0</td>\n",
              "      <td>0</td>\n",
              "      <td>2</td>\n",
              "      <td>67</td>\n",
              "      <td>1</td>\n",
              "      <td>0</td>\n",
              "      <td>0</td>\n",
              "      <td>0</td>\n",
              "      <td>0</td>\n",
              "      <td>0</td>\n",
              "      <td>0</td>\n",
              "      <td>0</td>\n",
              "      <td>0</td>\n",
              "      <td>1</td>\n",
              "    </tr>\n",
              "    <tr>\n",
              "      <th>1</th>\n",
              "      <td>0</td>\n",
              "      <td>0</td>\n",
              "      <td>0</td>\n",
              "      <td>1</td>\n",
              "      <td>0</td>\n",
              "      <td>0</td>\n",
              "      <td>0</td>\n",
              "      <td>0</td>\n",
              "      <td>0</td>\n",
              "      <td>2</td>\n",
              "      <td>74</td>\n",
              "      <td>0</td>\n",
              "      <td>0</td>\n",
              "      <td>0</td>\n",
              "      <td>0</td>\n",
              "      <td>0</td>\n",
              "      <td>0</td>\n",
              "      <td>1</td>\n",
              "      <td>0</td>\n",
              "      <td>0</td>\n",
              "      <td>1</td>\n",
              "    </tr>\n",
              "  </tbody>\n",
              "</table>\n",
              "</div>"
            ],
            "text/plain": [
              "   Gpo_Enfermedad_is_EPOC  Gpo_Enfermedad_is_asma  ...  Institucion_is_9  ent_regis\n",
              "0                       0                       0  ...                 0          1\n",
              "1                       0                       0  ...                 0          1\n",
              "\n",
              "[2 rows x 21 columns]"
            ]
          },
          "metadata": {
            "tags": []
          },
          "execution_count": 19
        }
      ]
    },
    {
      "cell_type": "markdown",
      "metadata": {
        "id": "7HqEw3OtQBI1"
      },
      "source": [
        "Tenemos nuestras bases completas, ahora hay que homologar el nombre de las columnas:"
      ]
    },
    {
      "cell_type": "code",
      "metadata": {
        "id": "LCZn7Jh2PoG3"
      },
      "source": [
        "data_inegi_ml=data_mujeres_limpia.copy().drop('sexo',axis=1)\n",
        "data_api_ml=data_api_ml_completo[data_api_ml_completo['Sex ID']==2].drop('Sex ID',axis=1).reset_index(drop=True)\n",
        "\n",
        "columnas_ml=['EPOC','Asma','Cardiovascular','Diabetes','Hipertension','Inmunosupresion','Inf_Renal','Neumonia','Obesidad','Edad',\\\n",
        "             'Ninguno','IMSS','ISSSTE','PEMEX','SEDENA','SEMAR','Popular/Bienestar','Otro','Prospera','Estado']\n",
        "\n",
        "data_inegi_ml.columns=columnas_ml\n",
        "data_api_ml.columns=columnas_ml"
      ],
      "execution_count": 20,
      "outputs": []
    },
    {
      "cell_type": "markdown",
      "metadata": {
        "id": "-FEoj9OidJf4"
      },
      "source": [
        "## Salvamos los csv por si acaso de muere la RAM otra vez :C"
      ]
    },
    {
      "cell_type": "code",
      "metadata": {
        "id": "IcG5sNfqSOz4",
        "colab": {
          "base_uri": "https://localhost:8080/",
          "height": 241
        },
        "outputId": "7585b526-c784-431a-b50e-010a2e55af15"
      },
      "source": [
        "# data_inegi_ml.to_csv('Base_INEGI_ML.csv')\n",
        "# data_api_ml.to_csv('Base_Covid_ML.csv')\n",
        "# data_ml=pd.concat([data_inegi_ml,data_api_ml],axis=0).reset_index(drop=True)\n",
        "# data_ml.to_csv('BaseCompleta_ML.csv',index_label=False)\n",
        "print(data_ml.shape)\n",
        "data_ml.head()"
      ],
      "execution_count": 4,
      "outputs": [
        {
          "output_type": "stream",
          "text": [
            "(997129, 20)\n"
          ],
          "name": "stdout"
        },
        {
          "output_type": "execute_result",
          "data": {
            "text/html": [
              "<div>\n",
              "<style scoped>\n",
              "    .dataframe tbody tr th:only-of-type {\n",
              "        vertical-align: middle;\n",
              "    }\n",
              "\n",
              "    .dataframe tbody tr th {\n",
              "        vertical-align: top;\n",
              "    }\n",
              "\n",
              "    .dataframe thead th {\n",
              "        text-align: right;\n",
              "    }\n",
              "</style>\n",
              "<table border=\"1\" class=\"dataframe\">\n",
              "  <thead>\n",
              "    <tr style=\"text-align: right;\">\n",
              "      <th></th>\n",
              "      <th>EPOC</th>\n",
              "      <th>Asma</th>\n",
              "      <th>Cardiovascular</th>\n",
              "      <th>Diabetes</th>\n",
              "      <th>Hipertension</th>\n",
              "      <th>Inmunosupresion</th>\n",
              "      <th>Inf_Renal</th>\n",
              "      <th>Neumonia</th>\n",
              "      <th>Obesidad</th>\n",
              "      <th>Edad</th>\n",
              "      <th>Ninguno</th>\n",
              "      <th>IMSS</th>\n",
              "      <th>ISSSTE</th>\n",
              "      <th>PEMEX</th>\n",
              "      <th>SEDENA</th>\n",
              "      <th>SEMAR</th>\n",
              "      <th>Popular/Bienestar</th>\n",
              "      <th>Otro</th>\n",
              "      <th>Prospera</th>\n",
              "      <th>Estado</th>\n",
              "    </tr>\n",
              "  </thead>\n",
              "  <tbody>\n",
              "    <tr>\n",
              "      <th>0</th>\n",
              "      <td>0</td>\n",
              "      <td>0</td>\n",
              "      <td>0</td>\n",
              "      <td>1</td>\n",
              "      <td>0</td>\n",
              "      <td>0</td>\n",
              "      <td>0</td>\n",
              "      <td>0</td>\n",
              "      <td>0</td>\n",
              "      <td>67</td>\n",
              "      <td>1</td>\n",
              "      <td>0</td>\n",
              "      <td>0</td>\n",
              "      <td>0</td>\n",
              "      <td>0</td>\n",
              "      <td>0</td>\n",
              "      <td>0</td>\n",
              "      <td>0</td>\n",
              "      <td>0</td>\n",
              "      <td>1</td>\n",
              "    </tr>\n",
              "    <tr>\n",
              "      <th>1</th>\n",
              "      <td>0</td>\n",
              "      <td>0</td>\n",
              "      <td>0</td>\n",
              "      <td>1</td>\n",
              "      <td>0</td>\n",
              "      <td>0</td>\n",
              "      <td>0</td>\n",
              "      <td>0</td>\n",
              "      <td>0</td>\n",
              "      <td>74</td>\n",
              "      <td>0</td>\n",
              "      <td>0</td>\n",
              "      <td>0</td>\n",
              "      <td>0</td>\n",
              "      <td>0</td>\n",
              "      <td>0</td>\n",
              "      <td>1</td>\n",
              "      <td>0</td>\n",
              "      <td>0</td>\n",
              "      <td>1</td>\n",
              "    </tr>\n",
              "    <tr>\n",
              "      <th>2</th>\n",
              "      <td>0</td>\n",
              "      <td>0</td>\n",
              "      <td>1</td>\n",
              "      <td>0</td>\n",
              "      <td>0</td>\n",
              "      <td>0</td>\n",
              "      <td>0</td>\n",
              "      <td>0</td>\n",
              "      <td>0</td>\n",
              "      <td>70</td>\n",
              "      <td>0</td>\n",
              "      <td>0</td>\n",
              "      <td>1</td>\n",
              "      <td>0</td>\n",
              "      <td>0</td>\n",
              "      <td>0</td>\n",
              "      <td>0</td>\n",
              "      <td>0</td>\n",
              "      <td>0</td>\n",
              "      <td>1</td>\n",
              "    </tr>\n",
              "    <tr>\n",
              "      <th>3</th>\n",
              "      <td>0</td>\n",
              "      <td>0</td>\n",
              "      <td>1</td>\n",
              "      <td>0</td>\n",
              "      <td>0</td>\n",
              "      <td>0</td>\n",
              "      <td>0</td>\n",
              "      <td>0</td>\n",
              "      <td>0</td>\n",
              "      <td>4</td>\n",
              "      <td>0</td>\n",
              "      <td>1</td>\n",
              "      <td>0</td>\n",
              "      <td>0</td>\n",
              "      <td>0</td>\n",
              "      <td>0</td>\n",
              "      <td>0</td>\n",
              "      <td>0</td>\n",
              "      <td>0</td>\n",
              "      <td>1</td>\n",
              "    </tr>\n",
              "    <tr>\n",
              "      <th>4</th>\n",
              "      <td>0</td>\n",
              "      <td>0</td>\n",
              "      <td>0</td>\n",
              "      <td>0</td>\n",
              "      <td>0</td>\n",
              "      <td>1</td>\n",
              "      <td>0</td>\n",
              "      <td>0</td>\n",
              "      <td>0</td>\n",
              "      <td>56</td>\n",
              "      <td>0</td>\n",
              "      <td>1</td>\n",
              "      <td>0</td>\n",
              "      <td>0</td>\n",
              "      <td>0</td>\n",
              "      <td>0</td>\n",
              "      <td>0</td>\n",
              "      <td>0</td>\n",
              "      <td>0</td>\n",
              "      <td>1</td>\n",
              "    </tr>\n",
              "  </tbody>\n",
              "</table>\n",
              "</div>"
            ],
            "text/plain": [
              "   EPOC  Asma  Cardiovascular  ...  Otro  Prospera  Estado\n",
              "0     0     0               0  ...     0         0       1\n",
              "1     0     0               0  ...     0         0       1\n",
              "2     0     0               1  ...     0         0       1\n",
              "3     0     0               1  ...     0         0       1\n",
              "4     0     0               0  ...     0         0       1\n",
              "\n",
              "[5 rows x 20 columns]"
            ]
          },
          "metadata": {
            "tags": []
          },
          "execution_count": 4
        }
      ]
    },
    {
      "cell_type": "code",
      "metadata": {
        "id": "yz85W2KfI96D"
      },
      "source": [
        "# data_inegi_ml=pd.read_csv('Base_INEGI_ML.csv')\n",
        "# data_api_ml=pd.read_csv('Base_Covid_ML.csv')\n",
        "data_ml=pd.read_csv('BaseCompleta_ML.csv')"
      ],
      "execution_count": 47,
      "outputs": []
    },
    {
      "cell_type": "markdown",
      "metadata": {
        "id": "d24Duw3kPpdZ"
      },
      "source": [
        "## Unsupervised ML - Clusterización "
      ]
    },
    {
      "cell_type": "code",
      "metadata": {
        "id": "tXZjZXThefiE"
      },
      "source": [
        "from sklearn.preprocessing import StandardScaler\n",
        "from sklearn.metrics import silhouette_score"
      ],
      "execution_count": 49,
      "outputs": []
    },
    {
      "cell_type": "code",
      "metadata": {
        "id": "laRoiT3sexbK"
      },
      "source": [
        "# silhouette_score(X,kmeans.labels_,metric='euclidean',sample_size=len(X))\n",
        "standardized_data = StandardScaler().fit_transform(data_ml.drop('Estado',axis=1))"
      ],
      "execution_count": 50,
      "outputs": []
    },
    {
      "cell_type": "markdown",
      "metadata": {
        "id": "MRtb2Jowlv0y"
      },
      "source": [
        "### K Means"
      ]
    },
    {
      "cell_type": "code",
      "metadata": {
        "id": "EMU7id4Ilxnp"
      },
      "source": [
        "from sklearn.cluster import KMeans\n",
        "import matplotlib.pyplot as plt"
      ],
      "execution_count": 46,
      "outputs": []
    },
    {
      "cell_type": "markdown",
      "metadata": {
        "id": "G1xNC8Mdnjqn"
      },
      "source": [
        "Con ayuda el elbow method buscamos el número de clusters óptimo para la partición:"
      ]
    },
    {
      "cell_type": "code",
      "metadata": {
        "colab": {
          "base_uri": "https://localhost:8080/",
          "height": 295
        },
        "id": "mYvSpZv7lzgW",
        "outputId": "ed25025f-5aa1-47db-d256-8668e016d0ff"
      },
      "source": [
        "K = range(1,15)\n",
        "sum_squared_distances = []\n",
        "for k in K:\n",
        "  # model = KMeans(n_clusters=k).fit(data_api_ml.drop('Estado',axis=1))\n",
        "  model = KMeans(n_clusters=k).fit(standardized_data)\n",
        "  sum_squared_distances.append(model.inertia_)\n",
        "plt.plot(K, sum_squared_distances, \"bx-\")\n",
        "plt.xlabel(\"K Values\")\n",
        "plt.ylabel(\"Sum Squared Distances\")\n",
        "plt.title(\"Elbow Method\")\n",
        "plt.show()"
      ],
      "execution_count": 52,
      "outputs": [
        {
          "output_type": "display_data",
          "data": {
            "image/png": "[encoded data removed]",
            "text/plain": [
              "<Figure size 432x288 with 1 Axes>"
            ]
          },
          "metadata": {
            "tags": [],
            "needs_background": "light"
          }
        }
      ]
    },
    {
      "cell_type": "code",
      "metadata": {
        "colab": {
          "base_uri": "https://localhost:8080/",
          "height": 295
        },
        "id": "TrGXEQ9wjlRm",
        "outputId": "9ab37b49-1a90-4677-dd2e-d8ed6d004cfc"
      },
      "source": [
        "K = range(1,15)\n",
        "sum_squared_distances = []\n",
        "for k in K:\n",
        "  # model = KMeans(n_clusters=k).fit(data_api_ml.drop('Estado',axis=1))\n",
        "  model = KMeans(n_clusters=k).fit(data_ml.drop('Estado',axis=1))\n",
        "  sum_squared_distances.append(model.inertia_)\n",
        "plt.plot(K, sum_squared_distances, \"bx-\")\n",
        "plt.xlabel(\"K Values\")\n",
        "plt.ylabel(\"Sum Squared Distances\")\n",
        "plt.title(\"Elbow Method\")\n",
        "plt.show()"
      ],
      "execution_count": 53,
      "outputs": [
        {
          "output_type": "display_data",
          "data": {
            "image/png": "[encoded data removed]",
            "text/plain": [
              "<Figure size 432x288 with 1 Axes>"
            ]
          },
          "metadata": {
            "tags": [],
            "needs_background": "light"
          }
        }
      ]
    },
    {
      "cell_type": "markdown",
      "metadata": {
        "id": "xU-6qcCunyVm"
      },
      "source": [
        "Identificamos 4 clusters"
      ]
    },
    {
      "cell_type": "code",
      "metadata": {
        "id": "0t7Anny0nwJW"
      },
      "source": [
        "kmeans = KMeans(n_clusters=4)\n",
        "data_api_clusters = kmeans.fit(standardized_data)\n",
        "preds = data_api_clusters.fit_predict(standardized_data)\n",
        "# data_api_clusters = kmeans.fit(data_ml.drop(['Estado','Cluster_KMeans'],axis=1))\n",
        "# preds = data_api_clusters.fit_predict(data_ml.drop(['Estado','Cluster_KMeans'],axis=1))"
      ],
      "execution_count": 59,
      "outputs": []
    },
    {
      "cell_type": "markdown",
      "metadata": {
        "id": "mE3lOZ-HoVbl"
      },
      "source": [
        "Marcamos cada cluster en la base con la columna **cluster**:"
      ]
    },
    {
      "cell_type": "code",
      "metadata": {
        "colab": {
          "base_uri": "https://localhost:8080/",
          "height": 131
        },
        "id": "C7Rd94LTnwAP",
        "outputId": "9490c794-2bb0-42b4-a4c8-4ea0e2424bb8"
      },
      "source": [
        "data_ml['Cluster_KMeans_St']=preds\n",
        "data_ml.head(2)"
      ],
      "execution_count": 60,
      "outputs": [
        {
          "output_type": "execute_result",
          "data": {
            "text/html": [
              "<div>\n",
              "<style scoped>\n",
              "    .dataframe tbody tr th:only-of-type {\n",
              "        vertical-align: middle;\n",
              "    }\n",
              "\n",
              "    .dataframe tbody tr th {\n",
              "        vertical-align: top;\n",
              "    }\n",
              "\n",
              "    .dataframe thead th {\n",
              "        text-align: right;\n",
              "    }\n",
              "</style>\n",
              "<table border=\"1\" class=\"dataframe\">\n",
              "  <thead>\n",
              "    <tr style=\"text-align: right;\">\n",
              "      <th></th>\n",
              "      <th>EPOC</th>\n",
              "      <th>Asma</th>\n",
              "      <th>Cardiovascular</th>\n",
              "      <th>Diabetes</th>\n",
              "      <th>Hipertension</th>\n",
              "      <th>Inmunosupresion</th>\n",
              "      <th>Inf_Renal</th>\n",
              "      <th>Neumonia</th>\n",
              "      <th>Obesidad</th>\n",
              "      <th>Edad</th>\n",
              "      <th>Ninguno</th>\n",
              "      <th>IMSS</th>\n",
              "      <th>ISSSTE</th>\n",
              "      <th>PEMEX</th>\n",
              "      <th>SEDENA</th>\n",
              "      <th>SEMAR</th>\n",
              "      <th>Popular/Bienestar</th>\n",
              "      <th>Otro</th>\n",
              "      <th>Prospera</th>\n",
              "      <th>Estado</th>\n",
              "      <th>Cluster_KMeans</th>\n",
              "      <th>Cluster_KMeans_St</th>\n",
              "    </tr>\n",
              "  </thead>\n",
              "  <tbody>\n",
              "    <tr>\n",
              "      <th>0</th>\n",
              "      <td>0</td>\n",
              "      <td>0</td>\n",
              "      <td>0</td>\n",
              "      <td>1</td>\n",
              "      <td>0</td>\n",
              "      <td>0</td>\n",
              "      <td>0</td>\n",
              "      <td>0</td>\n",
              "      <td>0</td>\n",
              "      <td>67</td>\n",
              "      <td>1</td>\n",
              "      <td>0</td>\n",
              "      <td>0</td>\n",
              "      <td>0</td>\n",
              "      <td>0</td>\n",
              "      <td>0</td>\n",
              "      <td>0</td>\n",
              "      <td>0</td>\n",
              "      <td>0</td>\n",
              "      <td>1</td>\n",
              "      <td>2</td>\n",
              "      <td>0</td>\n",
              "    </tr>\n",
              "    <tr>\n",
              "      <th>1</th>\n",
              "      <td>0</td>\n",
              "      <td>0</td>\n",
              "      <td>0</td>\n",
              "      <td>1</td>\n",
              "      <td>0</td>\n",
              "      <td>0</td>\n",
              "      <td>0</td>\n",
              "      <td>0</td>\n",
              "      <td>0</td>\n",
              "      <td>74</td>\n",
              "      <td>0</td>\n",
              "      <td>0</td>\n",
              "      <td>0</td>\n",
              "      <td>0</td>\n",
              "      <td>0</td>\n",
              "      <td>0</td>\n",
              "      <td>1</td>\n",
              "      <td>0</td>\n",
              "      <td>0</td>\n",
              "      <td>1</td>\n",
              "      <td>2</td>\n",
              "      <td>3</td>\n",
              "    </tr>\n",
              "  </tbody>\n",
              "</table>\n",
              "</div>"
            ],
            "text/plain": [
              "   EPOC  Asma  Cardiovascular  ...  Estado  Cluster_KMeans  Cluster_KMeans_St\n",
              "0     0     0               0  ...       1               2                  0\n",
              "1     0     0               0  ...       1               2                  3\n",
              "\n",
              "[2 rows x 22 columns]"
            ]
          },
          "metadata": {
            "tags": []
          },
          "execution_count": 60
        }
      ]
    },
    {
      "cell_type": "code",
      "metadata": {
        "id": "D0AWd6Q0n-9W"
      },
      "source": [
        "data_ml.to_csv('Cluster_KMeans.csv')"
      ],
      "execution_count": 61,
      "outputs": []
    },
    {
      "cell_type": "code",
      "metadata": {
        "id": "m2i8x1JUomnN"
      },
      "source": [
        "# data_api_ml[data_api_ml.Cluster==0].Estado.value_counts()\n",
        "silhouette_score(standardized_data,kmeans.labels_,metric='euclidean',sample_size=len(standardized_data))"
      ],
      "execution_count": null,
      "outputs": []
    },
    {
      "cell_type": "code",
      "metadata": {
        "colab": {
          "base_uri": "https://localhost:8080/",
          "height": 456
        },
        "id": "mlJ71vO1aSPu",
        "outputId": "acb2185f-ab4f-43e4-9d34-07b40b9a1904"
      },
      "source": [
        "data_api_ml"
      ],
      "execution_count": 20,
      "outputs": [
        {
          "output_type": "execute_result",
          "data": {
            "text/html": [
              "<div>\n",
              "<style scoped>\n",
              "    .dataframe tbody tr th:only-of-type {\n",
              "        vertical-align: middle;\n",
              "    }\n",
              "\n",
              "    .dataframe tbody tr th {\n",
              "        vertical-align: top;\n",
              "    }\n",
              "\n",
              "    .dataframe thead th {\n",
              "        text-align: right;\n",
              "    }\n",
              "</style>\n",
              "<table border=\"1\" class=\"dataframe\">\n",
              "  <thead>\n",
              "    <tr style=\"text-align: right;\">\n",
              "      <th></th>\n",
              "      <th>Unnamed: 0</th>\n",
              "      <th>EPOC</th>\n",
              "      <th>Asma</th>\n",
              "      <th>Cardiovascular</th>\n",
              "      <th>Diabetes</th>\n",
              "      <th>Hipertension</th>\n",
              "      <th>Inmunosupresion</th>\n",
              "      <th>Inf_Renal</th>\n",
              "      <th>Neumonia</th>\n",
              "      <th>Obesidad</th>\n",
              "      <th>Edad</th>\n",
              "      <th>Ninguno</th>\n",
              "      <th>IMSS</th>\n",
              "      <th>ISSSTE</th>\n",
              "      <th>PEMEX</th>\n",
              "      <th>SEDENA</th>\n",
              "      <th>SEMAR</th>\n",
              "      <th>Popular/Bienestar</th>\n",
              "      <th>Otro</th>\n",
              "      <th>Prospera</th>\n",
              "      <th>Estado</th>\n",
              "      <th>Cluster_KMeans</th>\n",
              "    </tr>\n",
              "  </thead>\n",
              "  <tbody>\n",
              "    <tr>\n",
              "      <th>0</th>\n",
              "      <td>0</td>\n",
              "      <td>0</td>\n",
              "      <td>0</td>\n",
              "      <td>0</td>\n",
              "      <td>0</td>\n",
              "      <td>0</td>\n",
              "      <td>1</td>\n",
              "      <td>0</td>\n",
              "      <td>0</td>\n",
              "      <td>0</td>\n",
              "      <td>65</td>\n",
              "      <td>0</td>\n",
              "      <td>1</td>\n",
              "      <td>0</td>\n",
              "      <td>0</td>\n",
              "      <td>0</td>\n",
              "      <td>0</td>\n",
              "      <td>0</td>\n",
              "      <td>0</td>\n",
              "      <td>0</td>\n",
              "      <td>9</td>\n",
              "      <td>2</td>\n",
              "    </tr>\n",
              "    <tr>\n",
              "      <th>1</th>\n",
              "      <td>1</td>\n",
              "      <td>0</td>\n",
              "      <td>0</td>\n",
              "      <td>0</td>\n",
              "      <td>1</td>\n",
              "      <td>0</td>\n",
              "      <td>0</td>\n",
              "      <td>0</td>\n",
              "      <td>0</td>\n",
              "      <td>1</td>\n",
              "      <td>67</td>\n",
              "      <td>0</td>\n",
              "      <td>1</td>\n",
              "      <td>0</td>\n",
              "      <td>0</td>\n",
              "      <td>0</td>\n",
              "      <td>0</td>\n",
              "      <td>0</td>\n",
              "      <td>0</td>\n",
              "      <td>0</td>\n",
              "      <td>5</td>\n",
              "      <td>2</td>\n",
              "    </tr>\n",
              "    <tr>\n",
              "      <th>2</th>\n",
              "      <td>2</td>\n",
              "      <td>1</td>\n",
              "      <td>1</td>\n",
              "      <td>0</td>\n",
              "      <td>0</td>\n",
              "      <td>1</td>\n",
              "      <td>1</td>\n",
              "      <td>0</td>\n",
              "      <td>0</td>\n",
              "      <td>1</td>\n",
              "      <td>67</td>\n",
              "      <td>0</td>\n",
              "      <td>0</td>\n",
              "      <td>0</td>\n",
              "      <td>1</td>\n",
              "      <td>0</td>\n",
              "      <td>0</td>\n",
              "      <td>0</td>\n",
              "      <td>0</td>\n",
              "      <td>0</td>\n",
              "      <td>13</td>\n",
              "      <td>2</td>\n",
              "    </tr>\n",
              "    <tr>\n",
              "      <th>3</th>\n",
              "      <td>3</td>\n",
              "      <td>0</td>\n",
              "      <td>0</td>\n",
              "      <td>0</td>\n",
              "      <td>0</td>\n",
              "      <td>0</td>\n",
              "      <td>0</td>\n",
              "      <td>0</td>\n",
              "      <td>0</td>\n",
              "      <td>0</td>\n",
              "      <td>46</td>\n",
              "      <td>0</td>\n",
              "      <td>1</td>\n",
              "      <td>0</td>\n",
              "      <td>0</td>\n",
              "      <td>0</td>\n",
              "      <td>0</td>\n",
              "      <td>0</td>\n",
              "      <td>0</td>\n",
              "      <td>0</td>\n",
              "      <td>30</td>\n",
              "      <td>2</td>\n",
              "    </tr>\n",
              "    <tr>\n",
              "      <th>4</th>\n",
              "      <td>4</td>\n",
              "      <td>0</td>\n",
              "      <td>0</td>\n",
              "      <td>0</td>\n",
              "      <td>1</td>\n",
              "      <td>0</td>\n",
              "      <td>0</td>\n",
              "      <td>0</td>\n",
              "      <td>0</td>\n",
              "      <td>1</td>\n",
              "      <td>56</td>\n",
              "      <td>0</td>\n",
              "      <td>1</td>\n",
              "      <td>0</td>\n",
              "      <td>0</td>\n",
              "      <td>0</td>\n",
              "      <td>0</td>\n",
              "      <td>0</td>\n",
              "      <td>0</td>\n",
              "      <td>0</td>\n",
              "      <td>5</td>\n",
              "      <td>2</td>\n",
              "    </tr>\n",
              "    <tr>\n",
              "      <th>...</th>\n",
              "      <td>...</td>\n",
              "      <td>...</td>\n",
              "      <td>...</td>\n",
              "      <td>...</td>\n",
              "      <td>...</td>\n",
              "      <td>...</td>\n",
              "      <td>...</td>\n",
              "      <td>...</td>\n",
              "      <td>...</td>\n",
              "      <td>...</td>\n",
              "      <td>...</td>\n",
              "      <td>...</td>\n",
              "      <td>...</td>\n",
              "      <td>...</td>\n",
              "      <td>...</td>\n",
              "      <td>...</td>\n",
              "      <td>...</td>\n",
              "      <td>...</td>\n",
              "      <td>...</td>\n",
              "      <td>...</td>\n",
              "      <td>...</td>\n",
              "      <td>...</td>\n",
              "    </tr>\n",
              "    <tr>\n",
              "      <th>99881</th>\n",
              "      <td>99881</td>\n",
              "      <td>0</td>\n",
              "      <td>0</td>\n",
              "      <td>0</td>\n",
              "      <td>0</td>\n",
              "      <td>0</td>\n",
              "      <td>0</td>\n",
              "      <td>0</td>\n",
              "      <td>0</td>\n",
              "      <td>0</td>\n",
              "      <td>71</td>\n",
              "      <td>0</td>\n",
              "      <td>1</td>\n",
              "      <td>0</td>\n",
              "      <td>0</td>\n",
              "      <td>0</td>\n",
              "      <td>0</td>\n",
              "      <td>0</td>\n",
              "      <td>0</td>\n",
              "      <td>0</td>\n",
              "      <td>14</td>\n",
              "      <td>1</td>\n",
              "    </tr>\n",
              "    <tr>\n",
              "      <th>99882</th>\n",
              "      <td>99882</td>\n",
              "      <td>0</td>\n",
              "      <td>0</td>\n",
              "      <td>0</td>\n",
              "      <td>1</td>\n",
              "      <td>1</td>\n",
              "      <td>1</td>\n",
              "      <td>0</td>\n",
              "      <td>1</td>\n",
              "      <td>0</td>\n",
              "      <td>75</td>\n",
              "      <td>0</td>\n",
              "      <td>0</td>\n",
              "      <td>0</td>\n",
              "      <td>0</td>\n",
              "      <td>0</td>\n",
              "      <td>0</td>\n",
              "      <td>0</td>\n",
              "      <td>1</td>\n",
              "      <td>0</td>\n",
              "      <td>3</td>\n",
              "      <td>1</td>\n",
              "    </tr>\n",
              "    <tr>\n",
              "      <th>99883</th>\n",
              "      <td>99883</td>\n",
              "      <td>0</td>\n",
              "      <td>0</td>\n",
              "      <td>0</td>\n",
              "      <td>0</td>\n",
              "      <td>0</td>\n",
              "      <td>0</td>\n",
              "      <td>0</td>\n",
              "      <td>1</td>\n",
              "      <td>0</td>\n",
              "      <td>51</td>\n",
              "      <td>0</td>\n",
              "      <td>0</td>\n",
              "      <td>0</td>\n",
              "      <td>0</td>\n",
              "      <td>0</td>\n",
              "      <td>0</td>\n",
              "      <td>0</td>\n",
              "      <td>1</td>\n",
              "      <td>0</td>\n",
              "      <td>9</td>\n",
              "      <td>1</td>\n",
              "    </tr>\n",
              "    <tr>\n",
              "      <th>99884</th>\n",
              "      <td>99884</td>\n",
              "      <td>0</td>\n",
              "      <td>0</td>\n",
              "      <td>0</td>\n",
              "      <td>0</td>\n",
              "      <td>1</td>\n",
              "      <td>0</td>\n",
              "      <td>0</td>\n",
              "      <td>1</td>\n",
              "      <td>1</td>\n",
              "      <td>61</td>\n",
              "      <td>0</td>\n",
              "      <td>1</td>\n",
              "      <td>0</td>\n",
              "      <td>0</td>\n",
              "      <td>0</td>\n",
              "      <td>0</td>\n",
              "      <td>0</td>\n",
              "      <td>0</td>\n",
              "      <td>0</td>\n",
              "      <td>9</td>\n",
              "      <td>1</td>\n",
              "    </tr>\n",
              "    <tr>\n",
              "      <th>99885</th>\n",
              "      <td>99885</td>\n",
              "      <td>0</td>\n",
              "      <td>0</td>\n",
              "      <td>0</td>\n",
              "      <td>1</td>\n",
              "      <td>1</td>\n",
              "      <td>0</td>\n",
              "      <td>0</td>\n",
              "      <td>0</td>\n",
              "      <td>0</td>\n",
              "      <td>68</td>\n",
              "      <td>0</td>\n",
              "      <td>1</td>\n",
              "      <td>0</td>\n",
              "      <td>0</td>\n",
              "      <td>0</td>\n",
              "      <td>0</td>\n",
              "      <td>0</td>\n",
              "      <td>0</td>\n",
              "      <td>0</td>\n",
              "      <td>20</td>\n",
              "      <td>1</td>\n",
              "    </tr>\n",
              "  </tbody>\n",
              "</table>\n",
              "<p>99886 rows × 22 columns</p>\n",
              "</div>"
            ],
            "text/plain": [
              "       Unnamed: 0  EPOC  Asma  ...  Prospera  Estado  Cluster_KMeans\n",
              "0               0     0     0  ...         0       9               2\n",
              "1               1     0     0  ...         0       5               2\n",
              "2               2     1     1  ...         0      13               2\n",
              "3               3     0     0  ...         0      30               2\n",
              "4               4     0     0  ...         0       5               2\n",
              "...           ...   ...   ...  ...       ...     ...             ...\n",
              "99881       99881     0     0  ...         0      14               1\n",
              "99882       99882     0     0  ...         0       3               1\n",
              "99883       99883     0     0  ...         0       9               1\n",
              "99884       99884     0     0  ...         0       9               1\n",
              "99885       99885     0     0  ...         0      20               1\n",
              "\n",
              "[99886 rows x 22 columns]"
            ]
          },
          "metadata": {
            "tags": []
          },
          "execution_count": 20
        }
      ]
    },
    {
      "cell_type": "markdown",
      "metadata": {
        "id": "yLsb8brmcS48"
      },
      "source": [
        ""
      ]
    },
    {
      "cell_type": "markdown",
      "metadata": {
        "id": "eC4OlXTIypCf"
      },
      "source": [
        "### DBSCAN"
      ]
    },
    {
      "cell_type": "code",
      "metadata": {
        "id": "dJ4ZO71qyrDV"
      },
      "source": [
        "from sklearn.neighbors import NearestNeighbors\n",
        "from sklearn.cluster import DBSCAN"
      ],
      "execution_count": 5,
      "outputs": []
    },
    {
      "cell_type": "markdown",
      "metadata": {
        "id": "i5NkJFWUy3XX"
      },
      "source": [
        "Con ayuda de NN identificamos la distancia óptima"
      ]
    },
    {
      "cell_type": "code",
      "metadata": {
        "id": "7fJmE_6Ayxnb"
      },
      "source": [
        "# nearest_neighbors = NearestNeighbors(n_neighbors=1000)\n",
        "# nearest_neighbors.fit(data_api_ml.drop('Estado',axis=1))\n",
        "# distances, indices = nearest_neighbors.kneighbors(data_api_ml.drop('Estado',axis=1))\n",
        "# distances = np.sort(distances, axis=0)[:,1]\n",
        "# plt.figure(figsize=(10,6))\n",
        "# plt.plot(distances)\n",
        "# plt.show()"
      ],
      "execution_count": null,
      "outputs": []
    },
    {
      "cell_type": "markdown",
      "metadata": {
        "id": "UTB6mGmkziGF"
      },
      "source": [
        "Creamos el modelo:"
      ]
    },
    {
      "cell_type": "code",
      "metadata": {
        "colab": {
          "base_uri": "https://localhost:8080/"
        },
        "id": "2kCfVgU5yxkd",
        "outputId": "7fa12d59-acde-40c0-d342-2dc697351379"
      },
      "source": [
        "m = DBSCAN(eps=200,min_samples=40)\n",
        "m"
      ],
      "execution_count": 6,
      "outputs": [
        {
          "output_type": "execute_result",
          "data": {
            "text/plain": [
              "DBSCAN(algorithm='auto', eps=200, leaf_size=30, metric='euclidean',\n",
              "       metric_params=None, min_samples=40, n_jobs=None, p=None)"
            ]
          },
          "metadata": {
            "tags": []
          },
          "execution_count": 6
        }
      ]
    },
    {
      "cell_type": "code",
      "metadata": {
        "id": "w7eGzJzVJpXz"
      },
      "source": [
        "# m.fit(data_api_ml.drop('Estado',axis=1))\n",
        "m.fit(data_ml.drop('Estado',axis=1))"
      ],
      "execution_count": null,
      "outputs": []
    },
    {
      "cell_type": "markdown",
      "metadata": {
        "id": "Wdho3psKWayO"
      },
      "source": [
        "Creamos los cluster y etiquetamos el ruido."
      ]
    },
    {
      "cell_type": "code",
      "metadata": {
        "colab": {
          "base_uri": "https://localhost:8080/"
        },
        "id": "5smV77Oqrz2e",
        "outputId": "b0c0c427-3d23-4a84-9825-2f0d420c2c70"
      },
      "source": [
        "#Asignar nuestros labels/clusters\n",
        "labels = m.labels_\n",
        "\n",
        "#Empezar a enmascarar nuestros datos\n",
        "labels_mask_general = np.zeros_like(labels,dtype=bool)\n",
        "\n",
        "#Colocar outliers como verdadero\n",
        "labels_mask_general[m.core_sample_indices_] = True\n",
        "\n",
        "n_clusters = len(set(labels)) - (1 if -1 in labels else 0)\n",
        "n_noise = list(labels).count(-1)\n",
        "\n",
        "print(f'Número de clusters: {n_clusters}')\n",
        "print(f'Registros con ruido: {n_noise}')"
      ],
      "execution_count": 20,
      "outputs": [
        {
          "output_type": "stream",
          "text": [
            "Número de clusters: 10\n",
            "Registros con ruido: 970\n"
          ],
          "name": "stdout"
        }
      ]
    },
    {
      "cell_type": "code",
      "metadata": {
        "id": "hMhZK65-WKdp"
      },
      "source": [
        "# Estandarizado\n",
        "m.fit(standardized_data)"
      ],
      "execution_count": null,
      "outputs": []
    },
    {
      "cell_type": "code",
      "metadata": {
        "id": "noYLShgLWcwD"
      },
      "source": [
        "#Asignar nuestros labels/clusters\n",
        "labels = m.labels_\n",
        "\n",
        "#Empezar a enmascarar nuestros datos\n",
        "labels_mask_general = np.zeros_like(labels,dtype=bool)\n",
        "\n",
        "#Colocar outliers como verdadero\n",
        "labels_mask_general[m.core_sample_indices_] = True\n",
        "\n",
        "n_clusters = len(set(labels)) - (1 if -1 in labels else 0)\n",
        "n_noise = list(labels).count(-1)\n",
        "\n",
        "print(f'Número de clusters: {n_clusters}')\n",
        "print(f'Registros con ruido: {n_noise}')"
      ],
      "execution_count": null,
      "outputs": []
    },
    {
      "cell_type": "markdown",
      "metadata": {
        "id": "nd00llNIuEpH"
      },
      "source": [
        "Creamos los cluster y etiquetamos el ruido."
      ]
    },
    {
      "cell_type": "code",
      "metadata": {
        "id": "2gMzAeIeyxhY"
      },
      "source": [
        "data_api_ml['Cluster_DBSCAN10']=labels"
      ],
      "execution_count": 21,
      "outputs": []
    },
    {
      "cell_type": "markdown",
      "metadata": {
        "id": "9oOEgHoQt9OU"
      },
      "source": [
        "Analicemos los clusters:"
      ]
    },
    {
      "cell_type": "code",
      "metadata": {
        "id": "02u0SNPVsW36"
      },
      "source": [
        "data_api_ml.to_csv('Cluster_Covid1.csv')"
      ],
      "execution_count": 16,
      "outputs": []
    },
    {
      "cell_type": "markdown",
      "metadata": {
        "id": "8OxzQn4RxJTM"
      },
      "source": [
        "### HDBSCAN"
      ]
    },
    {
      "cell_type": "code",
      "metadata": {
        "id": "JnMb590pxIt8"
      },
      "source": [
        "pip install hdbscan"
      ],
      "execution_count": 5,
      "outputs": []
    },
    {
      "cell_type": "code",
      "metadata": {
        "id": "h_6bKgF5wXTE"
      },
      "source": [
        "import sklearn.cluster as cluster\n",
        "import scipy.cluster.hierarchy as sch\n",
        "import hdbscan\n",
        "from random import sample \n",
        "import matplotlib.pyplot as plt"
      ],
      "execution_count": 6,
      "outputs": []
    },
    {
      "cell_type": "markdown",
      "metadata": {
        "id": "QlQ5nj2y-H4O"
      },
      "source": [
        "Para la visualización del dendograma y visualizar los parámetros de clusterización tomaremos una muestra aleatoria de los datos:"
      ]
    },
    {
      "cell_type": "code",
      "metadata": {
        "id": "kygcAwPtsWx8"
      },
      "source": [
        "muestra_hdbscan=data_api_ml.drop(['Estado','Cluster_DBSCAN10'],axis=1).sample(frac=.1)\n",
        "\n",
        "dendogram = sch.dendrogram(sch.linkage(muestra_hdbscan,method='ward'))\n",
        "\n",
        "plt.title('Dendogram')\n",
        "plt.xlabel('Customers')\n",
        "plt.ylabel('Distancia Euclidiana')\n",
        "plt.show()"
      ],
      "execution_count": null,
      "outputs": []
    },
    {
      "cell_type": "markdown",
      "metadata": {
        "id": "SO2wrugOAJOu"
      },
      "source": [
        "Tomando la distancia vertical más larga y contando las veces que cruza con otras ramos, obtenemos que el tamaño minimo de los clusters debe ser de . \n",
        "Ejecutamos el modelo con esos parámetros:"
      ]
    },
    {
      "cell_type": "code",
      "metadata": {
        "id": "MVUUiFhNsWtC"
      },
      "source": [
        "clusterer = hdbscan.HDBSCAN(min_cluster_size=200, gen_min_span_tree=True)"
      ],
      "execution_count": 40,
      "outputs": []
    },
    {
      "cell_type": "code",
      "metadata": {
        "colab": {
          "base_uri": "https://localhost:8080/"
        },
        "id": "Cr5sXea3O4Ye",
        "outputId": "ce178550-6712-48fa-dd97-70091997a5b4"
      },
      "source": [
        "# clusterer.fit(data_api_ml.drop(['Estado','Cluster_DBSCAN10'],axis=1))\n",
        "clusterer.fit(data_ml.drop(['Estado','Ninguno','IMSS','ISSSTE','PEMEX','SEDENA','SEMAR','Popular/Bienestar','Otro','Prospera'],axis=1))"
      ],
      "execution_count": 42,
      "outputs": [
        {
          "output_type": "execute_result",
          "data": {
            "text/plain": [
              "HDBSCAN(algorithm='best', allow_single_cluster=False, alpha=1.0,\n",
              "        approx_min_span_tree=True, cluster_selection_epsilon=0.0,\n",
              "        cluster_selection_method='eom', core_dist_n_jobs=4,\n",
              "        gen_min_span_tree=True, leaf_size=40,\n",
              "        match_reference_implementation=False, memory=Memory(location=None),\n",
              "        metric='euclidean', min_cluster_size=200, min_samples=None, p=None,\n",
              "        prediction_data=False)"
            ]
          },
          "metadata": {
            "tags": []
          },
          "execution_count": 42
        }
      ]
    },
    {
      "cell_type": "code",
      "metadata": {
        "colab": {
          "base_uri": "https://localhost:8080/"
        },
        "id": "--wTebSuBPCm",
        "outputId": "2aa80683-1837-4c80-918f-a3bf401748ee"
      },
      "source": [
        "# Asignar nuestros labels/clusters\n",
        "labels = clusterer.labels_\n",
        "\n",
        "# Empezar a enmascarar nuestros datos\n",
        "labels_mask_general = np.zeros_like(labels,dtype=bool)\n",
        "\n",
        "n_clusters = len(set(labels)) - (1 if -1 in labels else 0)\n",
        "n_noise = list(labels).count(-1)\n",
        "\n",
        "print(f'Número de clusters: {n_clusters}')\n",
        "print(f'Registros con ruido: {n_noise}')"
      ],
      "execution_count": 43,
      "outputs": [
        {
          "output_type": "stream",
          "text": [
            "Número de clusters: 550\n",
            "Registros con ruido: 58282\n"
          ],
          "name": "stdout"
        }
      ]
    },
    {
      "cell_type": "markdown",
      "metadata": {
        "id": "DU9dA-wQBSFb"
      },
      "source": [
        "Asignamos los labels obtenidos:"
      ]
    },
    {
      "cell_type": "code",
      "metadata": {
        "colab": {
          "base_uri": "https://localhost:8080/",
          "height": 131
        },
        "id": "J66TRjFGBRbL",
        "outputId": "3adebd9a-c569-4f39-83fc-52b232529685"
      },
      "source": [
        "data_ml['Cluster_HDBSCAN_200']=labels\n",
        "data_ml.head(2)"
      ],
      "execution_count": 44,
      "outputs": [
        {
          "output_type": "execute_result",
          "data": {
            "text/html": [
              "<div>\n",
              "<style scoped>\n",
              "    .dataframe tbody tr th:only-of-type {\n",
              "        vertical-align: middle;\n",
              "    }\n",
              "\n",
              "    .dataframe tbody tr th {\n",
              "        vertical-align: top;\n",
              "    }\n",
              "\n",
              "    .dataframe thead th {\n",
              "        text-align: right;\n",
              "    }\n",
              "</style>\n",
              "<table border=\"1\" class=\"dataframe\">\n",
              "  <thead>\n",
              "    <tr style=\"text-align: right;\">\n",
              "      <th></th>\n",
              "      <th>EPOC</th>\n",
              "      <th>Asma</th>\n",
              "      <th>Cardiovascular</th>\n",
              "      <th>Diabetes</th>\n",
              "      <th>Hipertension</th>\n",
              "      <th>Inmunosupresion</th>\n",
              "      <th>Inf_Renal</th>\n",
              "      <th>Neumonia</th>\n",
              "      <th>Obesidad</th>\n",
              "      <th>Edad</th>\n",
              "      <th>Ninguno</th>\n",
              "      <th>IMSS</th>\n",
              "      <th>ISSSTE</th>\n",
              "      <th>PEMEX</th>\n",
              "      <th>SEDENA</th>\n",
              "      <th>SEMAR</th>\n",
              "      <th>Popular/Bienestar</th>\n",
              "      <th>Otro</th>\n",
              "      <th>Prospera</th>\n",
              "      <th>Estado</th>\n",
              "      <th>Cluster_HDBSCAN_200</th>\n",
              "    </tr>\n",
              "  </thead>\n",
              "  <tbody>\n",
              "    <tr>\n",
              "      <th>0</th>\n",
              "      <td>0</td>\n",
              "      <td>0</td>\n",
              "      <td>0</td>\n",
              "      <td>1</td>\n",
              "      <td>0</td>\n",
              "      <td>0</td>\n",
              "      <td>0</td>\n",
              "      <td>0</td>\n",
              "      <td>0</td>\n",
              "      <td>67</td>\n",
              "      <td>1</td>\n",
              "      <td>0</td>\n",
              "      <td>0</td>\n",
              "      <td>0</td>\n",
              "      <td>0</td>\n",
              "      <td>0</td>\n",
              "      <td>0</td>\n",
              "      <td>0</td>\n",
              "      <td>0</td>\n",
              "      <td>1</td>\n",
              "      <td>235</td>\n",
              "    </tr>\n",
              "    <tr>\n",
              "      <th>1</th>\n",
              "      <td>0</td>\n",
              "      <td>0</td>\n",
              "      <td>0</td>\n",
              "      <td>1</td>\n",
              "      <td>0</td>\n",
              "      <td>0</td>\n",
              "      <td>0</td>\n",
              "      <td>0</td>\n",
              "      <td>0</td>\n",
              "      <td>74</td>\n",
              "      <td>0</td>\n",
              "      <td>0</td>\n",
              "      <td>0</td>\n",
              "      <td>0</td>\n",
              "      <td>0</td>\n",
              "      <td>0</td>\n",
              "      <td>1</td>\n",
              "      <td>0</td>\n",
              "      <td>0</td>\n",
              "      <td>1</td>\n",
              "      <td>256</td>\n",
              "    </tr>\n",
              "  </tbody>\n",
              "</table>\n",
              "</div>"
            ],
            "text/plain": [
              "   EPOC  Asma  Cardiovascular  ...  Prospera  Estado  Cluster_HDBSCAN_200\n",
              "0     0     0               0  ...         0       1                  235\n",
              "1     0     0               0  ...         0       1                  256\n",
              "\n",
              "[2 rows x 21 columns]"
            ]
          },
          "metadata": {
            "tags": []
          },
          "execution_count": 44
        }
      ]
    },
    {
      "cell_type": "code",
      "metadata": {
        "colab": {
          "base_uri": "https://localhost:8080/"
        },
        "id": "-IIInFSIS78v",
        "outputId": "6c7a0d34-ebe0-4995-9598-09e32ccaee09"
      },
      "source": [
        "data_api_ml['Cluster_HDBSCAN'].value_counts()"
      ],
      "execution_count": 42,
      "outputs": [
        {
          "output_type": "execute_result",
          "data": {
            "text/plain": [
              " 3    95739\n",
              "-1     4128\n",
              " 1        7\n",
              " 2        6\n",
              " 0        6\n",
              "Name: Cluster_HDBSCAN, dtype: int64"
            ]
          },
          "metadata": {
            "tags": []
          },
          "execution_count": 42
        }
      ]
    },
    {
      "cell_type": "markdown",
      "metadata": {
        "id": "eUW4Jh2aTJAS"
      },
      "source": [
        "### GMM"
      ]
    },
    {
      "cell_type": "code",
      "metadata": {
        "id": "DViFs3fITLIk"
      },
      "source": [
        "from sklearn.mixture import GaussianMixture as GMM\n",
        "from matplotlib.pyplot import figure"
      ],
      "execution_count": null,
      "outputs": []
    },
    {
      "cell_type": "code",
      "metadata": {
        "colab": {
          "base_uri": "https://localhost:8080/",
          "height": 374
        },
        "id": "9zs_Vlki0bI1",
        "outputId": "50c47474-a459-4b42-ac27-954c8069f3c4"
      },
      "source": [
        "figure(figsize=(15,6))\n",
        "data_api_ml.Edad.plot(kind='kde');"
      ],
      "execution_count": null,
      "outputs": [
        {
          "output_type": "display_data",
          "data": {
            "image/png": "[encoded data removed]",
            "text/plain": [
              "<Figure size 1080x432 with 1 Axes>"
            ]
          },
          "metadata": {
            "tags": [],
            "needs_background": "light"
          }
        }
      ]
    },
    {
      "cell_type": "markdown",
      "metadata": {
        "id": "s26pebhATeHj"
      },
      "source": [
        "Para obtener el número de componentes, obtenemos el valor de las 4 covarianzas."
      ]
    },
    {
      "cell_type": "code",
      "metadata": {
        "colab": {
          "base_uri": "https://localhost:8080/",
          "height": 350
        },
        "id": "wJmVatTjTNGi",
        "outputId": "31ce367f-f44f-40d2-9a25-967f266b78d4"
      },
      "source": [
        "fig, ax = plt.subplots(figsize=(10, 5))\n",
        "\n",
        "n_components = range(1, 20)\n",
        "covariance_types = ['spherical', 'tied', 'diag', 'full']\n",
        "\n",
        "for covariance_type in covariance_types:\n",
        "    valores_bic = []\n",
        "    \n",
        "    for i in n_components:\n",
        "        modelo = GMM(n_components=i, covariance_type=covariance_type)\n",
        "        modelo = modelo.fit(data_api_ml.drop('Cluster_KMeans',axis=1))\n",
        "        valores_bic.append(modelo.bic(data_api_ml.drop('Cluster_KMeans',axis=1)))\n",
        "        # modelo = modelo.fit(data_api_ml.drop(['Cluster','Cluster_DBSCAN','Cluster_HDBSCAN'],axis=1))\n",
        "        # valores_bic.append(modelo.bic(data_api_ml.drop(['Cluster','Cluster_DBSCAN','Cluster_HDBSCAN'],axis=1)))\n",
        "        \n",
        "    ax.plot(n_components, valores_bic, label=covariance_type)\n",
        "ax.set_title(\"Valores BIC\")\n",
        "ax.set_xlabel(\"Número componentes\")\n",
        "ax.legend();"
      ],
      "execution_count": null,
      "outputs": [
        {
          "output_type": "display_data",
          "data": {
            "image/png": "[encoded data removed]",
            "text/plain": [
              "<Figure size 720x360 with 1 Axes>"
            ]
          },
          "metadata": {
            "tags": [],
            "needs_background": "light"
          }
        }
      ]
    },
    {
      "cell_type": "markdown",
      "metadata": {
        "id": "7eISAs7dToDx"
      },
      "source": [
        "Corremos el modelo con el número de componentes = 13. "
      ]
    },
    {
      "cell_type": "code",
      "metadata": {
        "colab": {
          "base_uri": "https://localhost:8080/",
          "height": 131
        },
        "id": "IZgTO7NaTdZ-",
        "outputId": "78b2f7ad-ea08-48ee-885d-b618c40e164d"
      },
      "source": [
        "gm  = GMM(n_components=13, covariance_type='full')\n",
        "gm.fit(data_api_ml.drop('Cluster_KMeans',axis=1))\n",
        "# gm.fit(data_api_ml.drop(['Cluster','Cluster_DBSCAN','Cluster_HDBSCAN'],axis=1))\n",
        "\n",
        "labels = gm.predict(data_api_ml.drop('Cluster_KMeans',axis=1))\n",
        "# labels = gm.predict(data_api_ml.drop(['Cluster','Cluster_DBSCAN','Cluster_HDBSCAN'],axis=1))\n",
        "data_api_ml['Cluster_GMM']= labels\n",
        "data_api_ml.head(2)"
      ],
      "execution_count": null,
      "outputs": [
        {
          "output_type": "execute_result",
          "data": {
            "text/html": [
              "<div>\n",
              "<style scoped>\n",
              "    .dataframe tbody tr th:only-of-type {\n",
              "        vertical-align: middle;\n",
              "    }\n",
              "\n",
              "    .dataframe tbody tr th {\n",
              "        vertical-align: top;\n",
              "    }\n",
              "\n",
              "    .dataframe thead th {\n",
              "        text-align: right;\n",
              "    }\n",
              "</style>\n",
              "<table border=\"1\" class=\"dataframe\">\n",
              "  <thead>\n",
              "    <tr style=\"text-align: right;\">\n",
              "      <th></th>\n",
              "      <th>EPOC</th>\n",
              "      <th>Asma</th>\n",
              "      <th>Cardiovascular</th>\n",
              "      <th>Diabetes</th>\n",
              "      <th>Hipertension</th>\n",
              "      <th>Inmunosupresion</th>\n",
              "      <th>Inf_Renal</th>\n",
              "      <th>Neumonia</th>\n",
              "      <th>Obesidad</th>\n",
              "      <th>Edad</th>\n",
              "      <th>Institucion</th>\n",
              "      <th>Estado</th>\n",
              "      <th>Cluster_KMeans</th>\n",
              "      <th>Cluster_GMM</th>\n",
              "    </tr>\n",
              "  </thead>\n",
              "  <tbody>\n",
              "    <tr>\n",
              "      <th>0</th>\n",
              "      <td>0</td>\n",
              "      <td>0</td>\n",
              "      <td>0</td>\n",
              "      <td>0</td>\n",
              "      <td>0</td>\n",
              "      <td>1</td>\n",
              "      <td>0</td>\n",
              "      <td>0</td>\n",
              "      <td>0</td>\n",
              "      <td>65</td>\n",
              "      <td>2</td>\n",
              "      <td>9</td>\n",
              "      <td>2</td>\n",
              "      <td>7</td>\n",
              "    </tr>\n",
              "    <tr>\n",
              "      <th>1</th>\n",
              "      <td>0</td>\n",
              "      <td>0</td>\n",
              "      <td>0</td>\n",
              "      <td>1</td>\n",
              "      <td>0</td>\n",
              "      <td>0</td>\n",
              "      <td>0</td>\n",
              "      <td>0</td>\n",
              "      <td>1</td>\n",
              "      <td>67</td>\n",
              "      <td>2</td>\n",
              "      <td>5</td>\n",
              "      <td>2</td>\n",
              "      <td>3</td>\n",
              "    </tr>\n",
              "  </tbody>\n",
              "</table>\n",
              "</div>"
            ],
            "text/plain": [
              "   EPOC  Asma  Cardiovascular  ...  Estado  Cluster_KMeans  Cluster_GMM\n",
              "0     0     0               0  ...       9               2            7\n",
              "1     0     0               0  ...       5               2            3\n",
              "\n",
              "[2 rows x 14 columns]"
            ]
          },
          "metadata": {
            "tags": []
          },
          "execution_count": 65
        }
      ]
    },
    {
      "cell_type": "code",
      "metadata": {
        "id": "bHROlmNrWp58"
      },
      "source": [
        "# data_api_ml['Cluster_GMM'].value_counts()"
      ],
      "execution_count": null,
      "outputs": []
    },
    {
      "cell_type": "markdown",
      "metadata": {
        "id": "DFeRZqbY797r"
      },
      "source": [
        "### Evaluando nuestro modelo"
      ]
    },
    {
      "cell_type": "code",
      "metadata": {
        "id": "Uhm4yKZh8BLM"
      },
      "source": [
        "from sklearn.metrics import silhouette_score"
      ],
      "execution_count": null,
      "outputs": []
    },
    {
      "cell_type": "code",
      "metadata": {
        "id": "1RfeUv729X9x"
      },
      "source": [
        "silhouette_score(data_api_ml.drop(['Cluster_KMeans'],axis=1),kmeans.labels_,metric='euclidean',sample_size=len(X))"
      ],
      "execution_count": null,
      "outputs": []
    },
    {
      "cell_type": "code",
      "metadata": {
        "id": "gBvUXs_C9X6-"
      },
      "source": [
        ""
      ],
      "execution_count": null,
      "outputs": []
    },
    {
      "cell_type": "code",
      "metadata": {
        "id": "P_Ho4f-q9X3n"
      },
      "source": [
        ""
      ],
      "execution_count": null,
      "outputs": []
    },
    {
      "cell_type": "code",
      "metadata": {
        "id": "oQp03J0z9X0Q"
      },
      "source": [
        ""
      ],
      "execution_count": null,
      "outputs": []
    },
    {
      "cell_type": "code",
      "metadata": {
        "id": "O1Xo7PLO9Xxh"
      },
      "source": [
        ""
      ],
      "execution_count": null,
      "outputs": []
    },
    {
      "cell_type": "code",
      "metadata": {
        "id": "rzmDcJbx9Xs8"
      },
      "source": [
        ""
      ],
      "execution_count": null,
      "outputs": []
    },
    {
      "cell_type": "code",
      "metadata": {
        "id": "oe2JwQuyW5g7"
      },
      "source": [
        "data_ml.to_csv('Cluster_Covid_200.csv')"
      ],
      "execution_count": 45,
      "outputs": []
    }
  ]
}