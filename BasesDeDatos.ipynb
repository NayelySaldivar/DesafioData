{
  "nbformat": 4,
  "nbformat_minor": 0,
  "metadata": {
    "colab": {
      "name": "BasesDeDatos.ipynb",
      "provenance": [],
      "collapsed_sections": [
        "nqv4RUdsBll3",
        "goy41ld1CcTa",
        "avNuw8r9Crgp",
        "kZnJSPmkIqM3",
        "KFScHtupCoil"
      ],
      "toc_visible": true,
      "authorship_tag": "ABX9TyOa84Uik91m1O4ir2rKRQs9",
      "include_colab_link": true
    },
    "kernelspec": {
      "name": "python3",
      "display_name": "Python 3"
    }
  },
  "cells": [
    {
      "cell_type": "markdown",
      "metadata": {
        "id": "view-in-github",
        "colab_type": "text"
      },
      "source": [
        "<a href=\"https://colab.research.google.com/github/NayelySaldivar/DesafioData/blob/main/BasesDeDatos.ipynb\" target=\"_parent\"><img src=\"https://colab.research.google.com/assets/colab-badge.svg\" alt=\"Open In Colab\"/></a>"
      ]
    },
    {
      "cell_type": "markdown",
      "metadata": {
        "id": "-XH8IxckBd0N"
      },
      "source": [
        "<h2> Desafío Data México </h2>\r\n",
        "<h4> <p> Segunda Edición - Datos con perspectiva de género </p> </h4> "
      ]
    },
    {
      "cell_type": "markdown",
      "metadata": {
        "id": "nqv4RUdsBll3"
      },
      "source": [
        "##### Importación de librerías:"
      ]
    },
    {
      "cell_type": "code",
      "metadata": {
        "id": "ORWSSmHFBSMl"
      },
      "source": [
        "import pandas as pd\r\n",
        "import numpy as np\r\n",
        "import requests\r\n",
        "import plotly.express as px\r\n",
        "import seaborn as sns"
      ],
      "execution_count": 2,
      "outputs": []
    },
    {
      "cell_type": "code",
      "metadata": {
        "colab": {
          "base_uri": "https://localhost:8080/"
        },
        "id": "lVrs6aAMK4zT",
        "outputId": "35bb703f-f3b2-4984-eeba-76ad2398d11d"
      },
      "source": [
        "from google.colab import drive\r\n",
        "drive.mount('/content/drive')"
      ],
      "execution_count": 3,
      "outputs": [
        {
          "output_type": "stream",
          "text": [
            "Mounted at /content/drive\n"
          ],
          "name": "stdout"
        }
      ]
    },
    {
      "cell_type": "markdown",
      "metadata": {
        "id": "mXdZ1b9YBteA"
      },
      "source": [
        "## Carga y modificación de las bases:"
      ]
    },
    {
      "cell_type": "markdown",
      "metadata": {
        "id": "B6Swq34pBwIT"
      },
      "source": [
        "### - Resultados Covid desde la plataforma **DataMexico**:"
      ]
    },
    {
      "cell_type": "markdown",
      "metadata": {
        "id": "mRxsuIU4GuUf"
      },
      "source": [
        "- Utilizamos la **DataMexico API Explorer** para obtener los datos actualizados:"
      ]
    },
    {
      "cell_type": "code",
      "metadata": {
        "id": "prCoMD3OBp-T"
      },
      "source": [
        "data=requests.get('https://api.datamexico.org/tesseract/data.jsonrecords?cube=gobmx_covid&drilldowns=Death+Date%2CCovid+Result%2CHealth+Institution+Attended%2CPneumonia+Diagnose%2CSpeaks+Indigenous+Language%2CCOPD+Diagnose%2CAsthma+Diagnose%2CInmunosupresion+Diagnose%2CHypertension+Diagnose%2CCardiovascular+Diagnose%2CObesity+Diagnose%2CChronic+Kidney+Failure+Diagnose%2CDiabetes+Diagnose%2CSmoking+Diagnose%2CContact+with+Another+Covid+Case%2CState+Patient+Attended%2CState+Patient+Origin&measures=Cases&parents=false&sparse=false')\r\n",
        "data_api=pd.DataFrame(data.json()[\"data\"])"
      ],
      "execution_count": 4,
      "outputs": []
    },
    {
      "cell_type": "code",
      "metadata": {
        "colab": {
          "base_uri": "https://localhost:8080/",
          "height": 0
        },
        "id": "gCwem-LbBp5o",
        "outputId": "effdbbe5-61f5-41de-9b99-64e6dd79a21c"
      },
      "source": [
        "data_api.head(3)"
      ],
      "execution_count": 5,
      "outputs": [
        {
          "output_type": "execute_result",
          "data": {
            "text/html": [
              "<div>\n",
              "<style scoped>\n",
              "    .dataframe tbody tr th:only-of-type {\n",
              "        vertical-align: middle;\n",
              "    }\n",
              "\n",
              "    .dataframe tbody tr th {\n",
              "        vertical-align: top;\n",
              "    }\n",
              "\n",
              "    .dataframe thead th {\n",
              "        text-align: right;\n",
              "    }\n",
              "</style>\n",
              "<table border=\"1\" class=\"dataframe\">\n",
              "  <thead>\n",
              "    <tr style=\"text-align: right;\">\n",
              "      <th></th>\n",
              "    </tr>\n",
              "  </thead>\n",
              "  <tbody>\n",
              "  </tbody>\n",
              "</table>\n",
              "</div>"
            ],
            "text/plain": [
              "Empty DataFrame\n",
              "Columns: []\n",
              "Index: []"
            ]
          },
          "metadata": {
            "tags": []
          },
          "execution_count": 5
        }
      ]
    },
    {
      "cell_type": "markdown",
      "metadata": {
        "id": "goy41ld1CcTa"
      },
      "source": [
        "### - Datos históricos de **Mortalidad 2012-2019** del INEGI:"
      ]
    },
    {
      "cell_type": "code",
      "metadata": {
        "id": "olWWodSsBp2y"
      },
      "source": [
        "# hist_muertes=pd.read_csv(f'defunciones_generales_{2012}.csv')\r\n",
        "hist_muertes=pd.read_csv(f'/content/drive/MyDrive/DesafioData/defunciones_generales_{2012}.csv')\r\n",
        "hist_muertes['date']='2012'\r\n",
        "\r\n",
        "for i in range(2013,2020):\r\n",
        "    aux=pd.read_csv(f'/content/drive/MyDrive/DesafioData/defunciones_generales_{i}.csv')\r\n",
        "    # aux=pd.read_csv(f'defunciones_generales_{i}.csv')\r\n",
        "    aux['date']=i\r\n",
        "    hist_muertes=pd.concat([hist_muertes,aux])"
      ],
      "execution_count": 6,
      "outputs": []
    },
    {
      "cell_type": "markdown",
      "metadata": {
        "id": "avNuw8r9Crgp"
      },
      "source": [
        "### - Catálogo de enfermedades según la **CIE - 10**"
      ]
    },
    {
      "cell_type": "markdown",
      "metadata": {
        "id": "nRhLr_-DCzgZ"
      },
      "source": [
        "Concatenamos todas las incidencias:"
      ]
    },
    {
      "cell_type": "code",
      "metadata": {
        "id": "5-Ot09jKBpt1"
      },
      "source": [
        "cat_enfermedad=pd.read_csv(f'/content/drive/MyDrive/DesafioData/decatcausa{2012}.csv', encoding='latin-1')\r\n",
        "\r\n",
        "for i in range(2013,2020):\r\n",
        "    aux=pd.read_csv(f'/content/drive/MyDrive/DesafioData/decatcausa{i}.csv',encoding='latin-1')\r\n",
        "    cat_enfermedad=pd.concat([cat_enfermedad,aux])\r\n",
        "    \r\n",
        "cat_enfermedad=cat_enfermedad.reset_index()"
      ],
      "execution_count": 9,
      "outputs": []
    },
    {
      "cell_type": "markdown",
      "metadata": {
        "id": "Z__B6sBuC5B1"
      },
      "source": [
        "Creamos los diccionarios para encontrar las claves únicas:"
      ]
    },
    {
      "cell_type": "code",
      "metadata": {
        "id": "Iu2IVK9pBprj"
      },
      "source": [
        "claves_duplicadas={}\r\n",
        "\r\n",
        "for i in range(len(cat_enfermedad)):\r\n",
        "    claves_duplicadas[cat_enfermedad['CVE'][i]]=str(cat_enfermedad['DESCRIP'][i])\r\n",
        "    \r\n",
        "dict_no_duplicados = {} \r\n",
        "for key, value in claves_duplicadas.items(): \r\n",
        "    if not value in dict_no_duplicados.values(): \r\n",
        "        dict_no_duplicados[key] = value "
      ],
      "execution_count": 13,
      "outputs": []
    },
    {
      "cell_type": "markdown",
      "metadata": {
        "id": "-kC5R_8AGj_f"
      },
      "source": [
        "Archivamos para usar en el script principal:"
      ]
    },
    {
      "cell_type": "code",
      "metadata": {
        "id": "rThESqwZC3O_"
      },
      "source": [
        "claves=pd.DataFrame(list(dict_no_duplicados.keys()),columns=['Clave'])  \r\n",
        "\r\n",
        "desc=[]\r\n",
        "for i in claves['Clave'][:-1]:\r\n",
        "    desc.append(dict_no_duplicados[str(i)])\r\n",
        "    \r\n",
        "descr=pd.DataFrame(pd.Series(desc),columns=['Dictamen'])\r\n",
        "\r\n",
        "catalogo_completo=pd.concat([claves,descr],axis=1)\r\n",
        "\r\n",
        "catalogo_completo.to_csv('Catalogo_CIE_10.csv')"
      ],
      "execution_count": 27,
      "outputs": []
    },
    {
      "cell_type": "markdown",
      "metadata": {
        "id": "Y4yDOxBLDQNi"
      },
      "source": [
        "#### - Segmentación de padecimientos"
      ]
    },
    {
      "cell_type": "code",
      "metadata": {
        "id": "1Yi3OdYrC3Ki"
      },
      "source": [
        "EPOC=[\"J44\"+str(i) for i in range(0,10)]\r\n",
        "\r\n",
        "asma=[\"J450\",\"J451\",\"J458\",\"J459\",\"J46X\"]\r\n",
        "# cardiovascular=[\"I0\"+str(i)+str(j) for i in range(5,10) for j in range(0,10)]+\\ # Cardiopatía reumática\r\n",
        "# [\"I10X\"]+[\"I1\"+str(i)+str(j) for i in range(0,6) for j in range(0,10)]+\\ # Hipertensión Arterial\r\n",
        "# [\"I42X\"]+[\"I42\"+str(i)+str(j)  for i in range(0,10) for j in range(0,10)]+\\ # Miocardiopatías\r\n",
        "# [\"I50X\"]+[\"I50\"+str(i)+str(j)  for i in range(0,10) for j in range(0,10)]+\\ # Insuficiencia cardiaca\r\n",
        "# [\"I60X\"]+[\"I\"+str(i)+str(j)  for i in range(60,70) for j in range(0,10)] +\\ # Enfermedad cerebrovascular\r\n",
        "# [\"I70X\",\"I80X\"]+[\"I\"+str(i)+str(j)  for i in range(70,90) for j in range(0,10)] +\\ # Enfermedad vascular perifería\r\n",
        "# [\"Q20X\"]+[\"Q2\"+str(i)+str(j)  for i in range(0,9) for j in range(0,10)] # Cardiopatía congénita\r\n",
        "\r\n",
        "cardiovascular=[\"I0\"+str(i)+str(j) for i in range(5,10) for j in range(0,10)]+ \\\r\n",
        "[\"I10X\"]+[\"I1\"+str(i)+str(j) for i in range(0,6) for j in range(0,10)]+ \\\r\n",
        "[\"I42X\"]+[\"I42\"+str(i) for i in range(0,10)]+\\\r\n",
        "[\"I50X\"]+[\"I50\"+str(i)  for i in range(0,10)]+\\\r\n",
        "[\"I60X\"]+[\"I\"+str(i)+str(j)  for i in range(60,70) for j in range(0,10)] +\\\r\n",
        "[\"I70X\",\"I80X\"]+[\"I\"+str(i)+str(j)  for i in range(70,90) for j in range(0,10)] +\\\r\n",
        "[\"Q20X\"]+[\"Q2\"+str(i)+str(j)  for i in range(0,9) for j in range(0,10)] \r\n",
        "\r\n",
        "hipertension=['G932','I270','I272','K766','O10X','O11X','O13X','O14X','O16X','P292']+ \\\r\n",
        "[\"O\"+str(i)+str(j) for i in range(10,15) for j in range(0,10)]+\\\r\n",
        "[\"O16\"+str(i) for i in range(0,10)]\r\n",
        "\r\n",
        "diabetes=[\"E1\"+str(i)+str(j) for i in range(0,5) for j in range(0,10)]+['E232','N251','P702']+[\"O24\"+str(i) for i in range(0,10)]\r\n",
        "\r\n",
        "neumonia=[\"J1\"+str(i)+str(j) for i in range(0,9) for j in range(0,10)]+['J851']+[\"P23\"+str(i) for i in range(0,10)]\r\n",
        "\r\n",
        "insuf_renal=[\"N1\"+str(i)+str(j) for i in range(7,10) for j in range(0,10)]+[\"I17X\",\"I18X\",\"I19X\"]+['P960']\r\n",
        "\r\n",
        "obesidad=[\"E66\"+str(i) for i in range(0,10)]\r\n",
        "\r\n",
        "'''VIH [B20-B24] + Cáncer [C0-C97] + Rechazo de trasplantes [T86] ''' \r\n",
        "inmunosup=[\"B\"+str(i)+str(j) for i in range(20,25) for j in range(0,10)]+['B24X','O987','R75X']+\\\r\n",
        "[\"C00\"+str(i) for i in range(0,10)]+[\"C0\"+str(i) for i in range(10,100)]+[\"C\"+str(i)+str(j) for i in range(10,97) for j in range(0,10)]+\\\r\n",
        "[\"D00\"+str(i) for i in range(0,10)]+[\"D0\"+str(i) for i in range(10,100)]+\\\r\n",
        "[\"D\"+str(i)+str(j) for i in range(80,90) for j in range(0,10)]+\\\r\n",
        "[\"T86\"+str(i) for i in range(0,10)]"
      ],
      "execution_count": 28,
      "outputs": []
    },
    {
      "cell_type": "markdown",
      "metadata": {
        "id": "VppA33ZFO6ky"
      },
      "source": [
        "Añadimos el grupo a la base de mortalidad:"
      ]
    },
    {
      "cell_type": "code",
      "metadata": {
        "id": "JPAy8ntHO6k4"
      },
      "source": [
        "hist_muertes['gpo_enfermedad']=np.where(hist_muertes['causa_def'].isin(EPOC),'EPOC',\r\n",
        "                                               np.where(hist_muertes['causa_def'].isin(asma),'asma',\r\n",
        "                                                 np.where(hist_muertes['causa_def'].isin(cardiovascular),'cardiovascular',\r\n",
        "                                                   np.where(hist_muertes['causa_def'].isin(hipertension),'hipertension',\r\n",
        "                                                     np.where(hist_muertes['causa_def'].isin(diabetes),'diabetes',\r\n",
        "                                                       np.where(hist_muertes['causa_def'].isin(neumonia),'neumonia',\r\n",
        "                                                         np.where(hist_muertes['causa_def'].isin(insuf_renal),'insuf_renal',\r\n",
        "                                                           np.where(hist_muertes['causa_def'].isin(obesidad),'obesidad',\r\n",
        "                                                              np.where(hist_muertes['causa_def'].isin(inmunosup),'inmunosupresores','otros'\r\n",
        "                                             )\r\n",
        "                                             )\r\n",
        "                                             )\r\n",
        "                                             )\r\n",
        "                                             )\r\n",
        "                                             )\r\n",
        "                                             )\r\n",
        "                                             )\r\n",
        "                                             )"
      ],
      "execution_count": 29,
      "outputs": []
    },
    {
      "cell_type": "code",
      "metadata": {
        "colab": {
          "base_uri": "https://localhost:8080/"
        },
        "id": "LUYnUcYMPC5B",
        "outputId": "408e38b8-026c-4f6f-8ccb-c1edcfaf0636"
      },
      "source": [
        "# hist_muertes[['gpo_enfermedad','causa_def']].head(3)\r\n",
        "hist_muertes.groupby(['gpo_enfermedad','sexo'])['edad'].count()"
      ],
      "execution_count": 30,
      "outputs": [
        {
          "output_type": "execute_result",
          "data": {
            "text/plain": [
              "gpo_enfermedad    sexo\n",
              "EPOC              1         91039\n",
              "                  2         82159\n",
              "                  9             3\n",
              "asma              1          4945\n",
              "                  2          5716\n",
              "                  9             1\n",
              "cardiovascular    1        254973\n",
              "                  2        277265\n",
              "                  9            94\n",
              "diabetes          1        383722\n",
              "                  2        401268\n",
              "                  9             5\n",
              "hipertension      1          2917\n",
              "                  2          3672\n",
              "                  9             1\n",
              "inmunosupresores  1        272761\n",
              "                  2        291195\n",
              "                  9             6\n",
              "insuf_renal       1         51206\n",
              "                  2         40068\n",
              "                  9             7\n",
              "neumonia          1         99415\n",
              "                  2         80069\n",
              "                  9            42\n",
              "obesidad          1          5703\n",
              "                  2          4703\n",
              "otros             1       1842434\n",
              "                  2       1175977\n",
              "                  9          3124\n",
              "Name: edad, dtype: int64"
            ]
          },
          "metadata": {
            "tags": []
          },
          "execution_count": 30
        }
      ]
    },
    {
      "cell_type": "markdown",
      "metadata": {
        "id": "kZnJSPmkIqM3"
      },
      "source": [
        "### - **Regiones Nielsen**"
      ]
    },
    {
      "cell_type": "markdown",
      "metadata": {
        "id": "mT6wgdtDI89Y"
      },
      "source": [
        "**Área I: Pacífico** - Baja California Norte, Baja California Sur, Sonora, Sinaloa, Nayarit (5) - [2, 3, 26, 25, 18]"
      ]
    },
    {
      "cell_type": "markdown",
      "metadata": {
        "id": "4dOcikq8JE-V"
      },
      "source": [
        "**Área II: Norte** - Chihuahua, Coahuila, Durango, Nuevo León, San Luis Potosí,Tamaulipas, Zacatecas (7) - [8, 5, 10, 19, 24, 28, 32]"
      ]
    },
    {
      "cell_type": "markdown",
      "metadata": {
        "id": "foZlpKEQJXnL"
      },
      "source": [
        "**Área III: Bajío** -  Aguascalientes, Jalisco, Guanajuato, Colima, Michoacan (5) - [1, 14, 11, 6, 16]"
      ]
    },
    {
      "cell_type": "markdown",
      "metadata": {
        "id": "V1N08M3bJQsT"
      },
      "source": [
        "**Área IV: Centro** - Hidalgo, Querétaro, Morelos, Edo. México, Tlaxcala, Puebla, Guerrero (7) - [13, 22, 17, 15, 29, 21, 12]"
      ]
    },
    {
      "cell_type": "markdown",
      "metadata": {
        "id": "nJBf3j_PJj2N"
      },
      "source": [
        "**Área V**: Valle de México - Cdmx (1) - [9]"
      ]
    },
    {
      "cell_type": "markdown",
      "metadata": {
        "id": "jI-Tu-6gJqP4"
      },
      "source": [
        "\r\n",
        "**Área VI**: Sureste - Chiapas, Campeche, Yucatan, Quintana Roo, Veracruz, Oaxaca, Tabasco (7) - [7, 4, 31, 23, 30, 20, 27]"
      ]
    },
    {
      "cell_type": "code",
      "metadata": {
        "id": "50hoRoxvJvdv"
      },
      "source": [
        "pacifico = [2, 3, 26, 25, 18]\r\n",
        "norte = [8, 5, 10, 19, 24, 28, 32]\r\n",
        "bajio = [1, 14, 11, 6, 16]\r\n",
        "centro = [13, 22, 17, 15, 29, 21, 12]\r\n",
        "vallem = [9]\r\n",
        "sureste = [7, 4, 31, 23, 30, 20, 27]"
      ],
      "execution_count": 31,
      "outputs": []
    },
    {
      "cell_type": "markdown",
      "metadata": {
        "id": "PykoiSDxJ3bD"
      },
      "source": [
        "Añadimos la región a la base de mortalidad:"
      ]
    },
    {
      "cell_type": "code",
      "metadata": {
        "id": "2ciZllzWJ9nC"
      },
      "source": [
        "hist_muertes['region']=np.where(hist_muertes['ent_regis'].isin(pacifico),'pacifico',\r\n",
        "                                      np.where(hist_muertes['ent_regis'].isin(norte),'norte',\r\n",
        "                                               np.where(hist_muertes['ent_regis'].isin(bajio),'bajio',\r\n",
        "                                                np.where(hist_muertes['ent_regis'].isin(centro),'centro',\r\n",
        "                                                         np.where(hist_muertes['ent_regis'].isin(vallem),'vallem',\r\n",
        "                                                             np.where(hist_muertes['ent_regis'].isin(sureste),'sureste','revisar' \r\n",
        "                                                                  )\r\n",
        "                                                             )\r\n",
        "                                                       )\r\n",
        "                                                  )\r\n",
        "                                              )\r\n",
        "                                        )"
      ],
      "execution_count": 32,
      "outputs": []
    },
    {
      "cell_type": "code",
      "metadata": {
        "colab": {
          "base_uri": "https://localhost:8080/"
        },
        "id": "U5As4qmTNIx3",
        "outputId": "06cf343a-59c0-4975-8e9b-f41dae82a08d"
      },
      "source": [
        "hist_muertes.groupby('region')['edad'].count()"
      ],
      "execution_count": 33,
      "outputs": [
        {
          "output_type": "execute_result",
          "data": {
            "text/plain": [
              "region\n",
              "bajio        911412\n",
              "centro      1344366\n",
              "norte        960247\n",
              "pacifico     485468\n",
              "sureste     1091112\n",
              "vallem       581885\n",
              "Name: edad, dtype: int64"
            ]
          },
          "metadata": {
            "tags": []
          },
          "execution_count": 33
        }
      ]
    },
    {
      "cell_type": "markdown",
      "metadata": {
        "id": "SaEgzyvJFcT-"
      },
      "source": [
        "Archivamos los cambios para usar en el script principal:"
      ]
    },
    {
      "cell_type": "code",
      "metadata": {
        "id": "4c19ZzxcBp0N"
      },
      "source": [
        "hist_muertes.to_csv(\"Bases_INEGI.csv\")"
      ],
      "execution_count": 34,
      "outputs": []
    },
    {
      "cell_type": "markdown",
      "metadata": {
        "id": "KFScHtupCoil"
      },
      "source": [
        "### - Resultados de **Censo Nacional de Población 2020** realizado por el INEGI:"
      ]
    },
    {
      "cell_type": "code",
      "metadata": {
        "id": "QEohkdwqBpxo"
      },
      "source": [
        "# inegi2020=pd.read_csv('inegi2020_con_clavegeo.csv')"
      ],
      "execution_count": 35,
      "outputs": []
    },
    {
      "cell_type": "markdown",
      "metadata": {
        "id": "Nrdk68ChT54X"
      },
      "source": [
        "## - **Extracto de Mujeres** del histórico de mortalidad:"
      ]
    },
    {
      "cell_type": "code",
      "metadata": {
        "id": "qCwXcLgOUF2_"
      },
      "source": [
        "mortalidad_mujeres=hist_muertes[hist_muertes['sexo']==2]\r\n",
        "mortalidad_mujeres.to_csv('Bases_INEGI_Mujeres')"
      ],
      "execution_count": 37,
      "outputs": []
    }
  ]
}