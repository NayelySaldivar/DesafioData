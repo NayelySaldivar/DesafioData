{
  "nbformat": 4,
  "nbformat_minor": 0,
  "metadata": {
    "colab": {
      "name": "BasesDeDatos.ipynb",
      "provenance": [],
      "collapsed_sections": [
        "goy41ld1CcTa",
        "KFScHtupCoil",
        "Nrdk68ChT54X",
        "nsNety93IJlw"
      ],
      "authorship_tag": "ABX9TyOrnfHfQb3FhyCroFuXohWM",
      "include_colab_link": true
    },
    "kernelspec": {
      "name": "python3",
      "display_name": "Python 3"
    }
  },
  "cells": [
    {
      "cell_type": "markdown",
      "metadata": {
        "id": "view-in-github",
        "colab_type": "text"
      },
      "source": [
        "<a href=\"https://colab.research.google.com/github/NayelySaldivar/DesafioData/blob/main/BasesDeDatos.ipynb\" target=\"_parent\"><img src=\"https://colab.research.google.com/assets/colab-badge.svg\" alt=\"Open In Colab\"/></a>"
      ]
    },
    {
      "cell_type": "markdown",
      "metadata": {
        "id": "-XH8IxckBd0N"
      },
      "source": [
        "<h2> Desafío Data México </h2>\n",
        "<h4> <p> Segunda Edición - Datos con perspectiva de género </p> </h4> "
      ]
    },
    {
      "cell_type": "markdown",
      "metadata": {
        "id": "nqv4RUdsBll3"
      },
      "source": [
        "##### Importación de librerías:"
      ]
    },
    {
      "cell_type": "code",
      "metadata": {
        "id": "ORWSSmHFBSMl"
      },
      "source": [
        "import pandas as pd\n",
        "import numpy as np\n",
        "import requests\n",
        "import plotly.express as px\n",
        "import seaborn as sns"
      ],
      "execution_count": 2,
      "outputs": []
    },
    {
      "cell_type": "code",
      "metadata": {
        "colab": {
          "base_uri": "https://localhost:8080/"
        },
        "id": "lVrs6aAMK4zT",
        "outputId": "13ed1643-39bd-46c8-8760-252a96be902c"
      },
      "source": [
        "from google.colab import drive\n",
        "drive.mount('/content/drive')"
      ],
      "execution_count": 3,
      "outputs": [
        {
          "output_type": "stream",
          "text": [
            "Mounted at /content/drive\n"
          ],
          "name": "stdout"
        }
      ]
    },
    {
      "cell_type": "markdown",
      "metadata": {
        "id": "mXdZ1b9YBteA"
      },
      "source": [
        "## Carga y modificación de las bases:"
      ]
    },
    {
      "cell_type": "markdown",
      "metadata": {
        "id": "B6Swq34pBwIT"
      },
      "source": [
        "### - Resultados Covid desde la plataforma **DataMexico**:"
      ]
    },
    {
      "cell_type": "markdown",
      "metadata": {
        "id": "mRxsuIU4GuUf"
      },
      "source": [
        "- Utilizamos la **DataMexico API Explorer** para obtener los datos actualizados:"
      ]
    },
    {
      "cell_type": "code",
      "metadata": {
        "id": "prCoMD3OBp-T"
      },
      "source": [
        "data=requests.get('https://api.datamexico.org/tesseract/cubes/gobmx_covid/aggregate.jsonrecords?drilldowns%5B%5D=Death+Date.Death+Date.Death+Date&drilldowns%5B%5D=Covid+Result.Covid+Result.Covid+Result&drilldowns%5B%5D=Health+Institution+Attended.Health+Institution+Attended.Health+Institution+Attended&drilldowns%5B%5D=Pneumonia+Diagnose.Pneumonia+Diagnose.Pneumonia+Diagnose&drilldowns%5B%5D=COPD+Diagnose.COPD+Diagnose.COPD+Diagnose&drilldowns%5B%5D=Asthma+Diagnose.Asthma+Diagnose.Asthma+Diagnose&drilldowns%5B%5D=Inmunosupresion+Diagnose.Inmunosupresion+Diagnose.Inmunosupresion+Diagnose&drilldowns%5B%5D=Hypertension+Diagnose.Hypertension+Diagnose.Hypertension+Diagnose&drilldowns%5B%5D=Cardiovascular+Diagnose.Cardiovascular+Diagnose.Cardiovascular+Diagnose&drilldowns%5B%5D=Obesity+Diagnose.Obesity+Diagnose.Obesity+Diagnose&drilldowns%5B%5D=Chronic+Kidney+Failure+Diagnose.Chronic+Kidney+Failure+Diagnose.Chronic+Kidney+Failure+Diagnose&drilldowns%5B%5D=Diabetes+Diagnose.Diabetes+Diagnose.Diabetes+Diagnose&drilldowns%5B%5D=State+Patient+Attended.State+Patient+Attended.State+Patient+Attended&drilldowns%5B%5D=State+Patient+Origin.State+Patient+Origin.State+Patient+Origin&drilldowns%5B%5D=Sex.Sex.Sex&drilldowns%5B%5D=Age+Group.Age+Group.Age&drilldowns%5B%5D=Municipality+Patient+Residence.Geography.Municipality&measures%5B%5D=Cases&parents=false&sparse=false')\n",
        "data_api=pd.DataFrame(data.json()[\"data\"])"
      ],
      "execution_count": null,
      "outputs": []
    },
    {
      "cell_type": "code",
      "metadata": {
        "id": "4a1n-lwjcTo9",
        "colab": {
          "base_uri": "https://localhost:8080/",
          "height": 383
        },
        "outputId": "22bece42-4a54-47e5-a8ab-283b62da2e63"
      },
      "source": [
        "data_api.head(3)"
      ],
      "execution_count": null,
      "outputs": [
        {
          "output_type": "execute_result",
          "data": {
            "text/html": [
              "<div>\n",
              "<style scoped>\n",
              "    .dataframe tbody tr th:only-of-type {\n",
              "        vertical-align: middle;\n",
              "    }\n",
              "\n",
              "    .dataframe tbody tr th {\n",
              "        vertical-align: top;\n",
              "    }\n",
              "\n",
              "    .dataframe thead th {\n",
              "        text-align: right;\n",
              "    }\n",
              "</style>\n",
              "<table border=\"1\" class=\"dataframe\">\n",
              "  <thead>\n",
              "    <tr style=\"text-align: right;\">\n",
              "      <th></th>\n",
              "      <th>Death Date ID</th>\n",
              "      <th>Death Date</th>\n",
              "      <th>Covid Result ID</th>\n",
              "      <th>Covid Result</th>\n",
              "      <th>Health Institution Attended ID</th>\n",
              "      <th>Health Institution Attended</th>\n",
              "      <th>Pneumonia Diagnose ID</th>\n",
              "      <th>Pneumonia Diagnose</th>\n",
              "      <th>COPD Diagnose ID</th>\n",
              "      <th>COPD Diagnose</th>\n",
              "      <th>Asthma Diagnose ID</th>\n",
              "      <th>Asthma Diagnose</th>\n",
              "      <th>Inmunosupresion Diagnose ID</th>\n",
              "      <th>Inmunosupresion Diagnose</th>\n",
              "      <th>Hypertension Diagnose ID</th>\n",
              "      <th>Hypertension Diagnose</th>\n",
              "      <th>Cardiovascular Diagnose ID</th>\n",
              "      <th>Cardiovascular Diagnose</th>\n",
              "      <th>Obesity Diagnose ID</th>\n",
              "      <th>Obesity Diagnose</th>\n",
              "      <th>Chronic Kidney Failure Diagnose ID</th>\n",
              "      <th>Chronic Kidney Failure Diagnose</th>\n",
              "      <th>Diabetes Diagnose ID</th>\n",
              "      <th>Diabetes Diagnose</th>\n",
              "      <th>State Patient Attended ID</th>\n",
              "      <th>State Patient Attended</th>\n",
              "      <th>State Patient Origin ID</th>\n",
              "      <th>State Patient Origin</th>\n",
              "      <th>Sex ID</th>\n",
              "      <th>Sex</th>\n",
              "      <th>Age</th>\n",
              "      <th>Municipality ID</th>\n",
              "      <th>Municipality</th>\n",
              "      <th>Cases</th>\n",
              "    </tr>\n",
              "  </thead>\n",
              "  <tbody>\n",
              "    <tr>\n",
              "      <th>0</th>\n",
              "      <td>20200102</td>\n",
              "      <td>2020-01-02</td>\n",
              "      <td>2</td>\n",
              "      <td>Non Positive SARS-CoV-2</td>\n",
              "      <td>4</td>\n",
              "      <td>IMSS</td>\n",
              "      <td>99</td>\n",
              "      <td>Not Specified</td>\n",
              "      <td>2</td>\n",
              "      <td>No</td>\n",
              "      <td>2</td>\n",
              "      <td>No</td>\n",
              "      <td>1</td>\n",
              "      <td>Yes</td>\n",
              "      <td>2</td>\n",
              "      <td>No</td>\n",
              "      <td>2</td>\n",
              "      <td>No</td>\n",
              "      <td>2</td>\n",
              "      <td>No</td>\n",
              "      <td>2</td>\n",
              "      <td>No</td>\n",
              "      <td>2</td>\n",
              "      <td>No</td>\n",
              "      <td>9</td>\n",
              "      <td>Ciudad de México</td>\n",
              "      <td>9</td>\n",
              "      <td>Ciudad de México</td>\n",
              "      <td>2</td>\n",
              "      <td>Female</td>\n",
              "      <td>65</td>\n",
              "      <td>9007</td>\n",
              "      <td>Iztapalapa</td>\n",
              "      <td>1</td>\n",
              "    </tr>\n",
              "    <tr>\n",
              "      <th>1</th>\n",
              "      <td>20200103</td>\n",
              "      <td>2020-01-03</td>\n",
              "      <td>2</td>\n",
              "      <td>Non Positive SARS-CoV-2</td>\n",
              "      <td>4</td>\n",
              "      <td>IMSS</td>\n",
              "      <td>99</td>\n",
              "      <td>Not Specified</td>\n",
              "      <td>2</td>\n",
              "      <td>No</td>\n",
              "      <td>1</td>\n",
              "      <td>Yes</td>\n",
              "      <td>2</td>\n",
              "      <td>No</td>\n",
              "      <td>2</td>\n",
              "      <td>No</td>\n",
              "      <td>2</td>\n",
              "      <td>No</td>\n",
              "      <td>2</td>\n",
              "      <td>No</td>\n",
              "      <td>2</td>\n",
              "      <td>No</td>\n",
              "      <td>2</td>\n",
              "      <td>No</td>\n",
              "      <td>2</td>\n",
              "      <td>Baja California</td>\n",
              "      <td>2</td>\n",
              "      <td>Baja California</td>\n",
              "      <td>1</td>\n",
              "      <td>Male</td>\n",
              "      <td>15</td>\n",
              "      <td>2004</td>\n",
              "      <td>Tijuana</td>\n",
              "      <td>1</td>\n",
              "    </tr>\n",
              "    <tr>\n",
              "      <th>2</th>\n",
              "      <td>20200103</td>\n",
              "      <td>2020-01-03</td>\n",
              "      <td>2</td>\n",
              "      <td>Non Positive SARS-CoV-2</td>\n",
              "      <td>4</td>\n",
              "      <td>IMSS</td>\n",
              "      <td>99</td>\n",
              "      <td>Not Specified</td>\n",
              "      <td>2</td>\n",
              "      <td>No</td>\n",
              "      <td>2</td>\n",
              "      <td>No</td>\n",
              "      <td>2</td>\n",
              "      <td>No</td>\n",
              "      <td>2</td>\n",
              "      <td>No</td>\n",
              "      <td>2</td>\n",
              "      <td>No</td>\n",
              "      <td>1</td>\n",
              "      <td>Yes</td>\n",
              "      <td>2</td>\n",
              "      <td>No</td>\n",
              "      <td>1</td>\n",
              "      <td>Yes</td>\n",
              "      <td>5</td>\n",
              "      <td>Coahuila de Zaragoza</td>\n",
              "      <td>5</td>\n",
              "      <td>Coahuila de Zaragoza</td>\n",
              "      <td>2</td>\n",
              "      <td>Female</td>\n",
              "      <td>67</td>\n",
              "      <td>5030</td>\n",
              "      <td>Saltillo</td>\n",
              "      <td>1</td>\n",
              "    </tr>\n",
              "  </tbody>\n",
              "</table>\n",
              "</div>"
            ],
            "text/plain": [
              "   Death Date ID  Death Date  ...  Municipality Cases\n",
              "0       20200102  2020-01-02  ...    Iztapalapa     1\n",
              "1       20200103  2020-01-03  ...       Tijuana     1\n",
              "2       20200103  2020-01-03  ...      Saltillo     1\n",
              "\n",
              "[3 rows x 34 columns]"
            ]
          },
          "metadata": {
            "tags": []
          },
          "execution_count": 13
        }
      ]
    },
    {
      "cell_type": "code",
      "metadata": {
        "colab": {
          "base_uri": "https://localhost:8080/"
        },
        "id": "e80RZXe0Fbsa",
        "outputId": "f3f25d26-5313-4f1c-a34a-bf4fad057139"
      },
      "source": [
        "data_api.shape"
      ],
      "execution_count": null,
      "outputs": [
        {
          "output_type": "execute_result",
          "data": {
            "text/plain": [
              "(263200, 34)"
            ]
          },
          "metadata": {
            "tags": []
          },
          "execution_count": 14
        }
      ]
    },
    {
      "cell_type": "markdown",
      "metadata": {
        "id": "goy41ld1CcTa"
      },
      "source": [
        "### - Datos históricos de **Mortalidad 2012-2019** del INEGI:"
      ]
    },
    {
      "cell_type": "code",
      "metadata": {
        "id": "olWWodSsBp2y"
      },
      "source": [
        "# hist_muertes=pd.read_csv(f'defunciones_generales_{2012}.csv')\n",
        "hist_muertes=pd.read_csv(f'/content/drive/MyDrive/DesafioData/defunciones_generales_{2012}.csv')\n",
        "hist_muertes['date']='2012'\n",
        "\n",
        "for i in range(2013,2020):\n",
        "    aux=pd.read_csv(f'/content/drive/MyDrive/DesafioData/defunciones_generales_{i}.csv')\n",
        "    # aux=pd.read_csv(f'defunciones_generales_{i}.csv')\n",
        "    aux['date']=i\n",
        "    hist_muertes=pd.concat([hist_muertes,aux])\n",
        "\n",
        "hist_muertes=hist_muertes.reset_index(drop=True)"
      ],
      "execution_count": null,
      "outputs": []
    },
    {
      "cell_type": "code",
      "metadata": {
        "colab": {
          "base_uri": "https://localhost:8080/"
        },
        "id": "58BM0ymkaZXt",
        "outputId": "ffadf7ec-60eb-4d4b-e201-4ee1845fbcb1"
      },
      "source": [
        "hist_muertes.tail(3)"
      ],
      "execution_count": null,
      "outputs": [
        {
          "output_type": "execute_result",
          "data": {
            "text/html": [
              "<div>\n",
              "<style scoped>\n",
              "    .dataframe tbody tr th:only-of-type {\n",
              "        vertical-align: middle;\n",
              "    }\n",
              "\n",
              "    .dataframe tbody tr th {\n",
              "        vertical-align: top;\n",
              "    }\n",
              "\n",
              "    .dataframe thead th {\n",
              "        text-align: right;\n",
              "    }\n",
              "</style>\n",
              "<table border=\"1\" class=\"dataframe\">\n",
              "  <thead>\n",
              "    <tr style=\"text-align: right;\">\n",
              "      <th></th>\n",
              "      <th>ent_regis</th>\n",
              "      <th>mun_regis</th>\n",
              "      <th>causa_def</th>\n",
              "      <th>lista_mex</th>\n",
              "      <th>sexo</th>\n",
              "      <th>edad</th>\n",
              "      <th>mes_regis</th>\n",
              "      <th>ocupacion</th>\n",
              "      <th>escolarida</th>\n",
              "      <th>edo_civil</th>\n",
              "      <th>ocurr_trab</th>\n",
              "      <th>asist_medi</th>\n",
              "      <th>nacionalid</th>\n",
              "      <th>derechohab</th>\n",
              "      <th>embarazo</th>\n",
              "      <th>rel_emba</th>\n",
              "      <th>area_ur</th>\n",
              "      <th>date</th>\n",
              "    </tr>\n",
              "  </thead>\n",
              "  <tbody>\n",
              "    <tr>\n",
              "      <th>5374487</th>\n",
              "      <td>32</td>\n",
              "      <td>56</td>\n",
              "      <td>X999</td>\n",
              "      <td>55</td>\n",
              "      <td>1</td>\n",
              "      <td>4998</td>\n",
              "      <td>12</td>\n",
              "      <td>99</td>\n",
              "      <td>99</td>\n",
              "      <td>9</td>\n",
              "      <td>8</td>\n",
              "      <td>9</td>\n",
              "      <td>9</td>\n",
              "      <td>99</td>\n",
              "      <td>8</td>\n",
              "      <td>8</td>\n",
              "      <td>9</td>\n",
              "      <td>2019</td>\n",
              "    </tr>\n",
              "    <tr>\n",
              "      <th>5374488</th>\n",
              "      <td>32</td>\n",
              "      <td>37</td>\n",
              "      <td>X954</td>\n",
              "      <td>55</td>\n",
              "      <td>1</td>\n",
              "      <td>4998</td>\n",
              "      <td>12</td>\n",
              "      <td>99</td>\n",
              "      <td>99</td>\n",
              "      <td>9</td>\n",
              "      <td>8</td>\n",
              "      <td>9</td>\n",
              "      <td>9</td>\n",
              "      <td>99</td>\n",
              "      <td>8</td>\n",
              "      <td>8</td>\n",
              "      <td>9</td>\n",
              "      <td>2019</td>\n",
              "    </tr>\n",
              "    <tr>\n",
              "      <th>5374489</th>\n",
              "      <td>32</td>\n",
              "      <td>56</td>\n",
              "      <td>J09X</td>\n",
              "      <td>33C</td>\n",
              "      <td>2</td>\n",
              "      <td>4061</td>\n",
              "      <td>2</td>\n",
              "      <td>11</td>\n",
              "      <td>4</td>\n",
              "      <td>5</td>\n",
              "      <td>8</td>\n",
              "      <td>1</td>\n",
              "      <td>1</td>\n",
              "      <td>7</td>\n",
              "      <td>8</td>\n",
              "      <td>8</td>\n",
              "      <td>1</td>\n",
              "      <td>2019</td>\n",
              "    </tr>\n",
              "  </tbody>\n",
              "</table>\n",
              "</div>"
            ],
            "text/plain": [
              "         ent_regis  mun_regis causa_def  ... rel_emba  area_ur  date\n",
              "5374487         32         56      X999  ...        8        9  2019\n",
              "5374488         32         37      X954  ...        8        9  2019\n",
              "5374489         32         56      J09X  ...        8        1  2019\n",
              "\n",
              "[3 rows x 18 columns]"
            ]
          },
          "metadata": {
            "tags": []
          },
          "execution_count": 16
        }
      ]
    },
    {
      "cell_type": "code",
      "metadata": {
        "colab": {
          "base_uri": "https://localhost:8080/"
        },
        "id": "34pvgmHTOinK",
        "outputId": "28efe9e4-7901-4376-f71a-6cd63208211b"
      },
      "source": [
        "hist_muertes[hist_muertes['date']==2019].shape"
      ],
      "execution_count": null,
      "outputs": [
        {
          "output_type": "execute_result",
          "data": {
            "text/plain": [
              "(747784, 18)"
            ]
          },
          "metadata": {
            "tags": []
          },
          "execution_count": 17
        }
      ]
    },
    {
      "cell_type": "markdown",
      "metadata": {
        "id": "GHLB0earaeVd"
      },
      "source": [
        "Transformamos el formato de la **edad**:"
      ]
    },
    {
      "cell_type": "code",
      "metadata": {
        "id": "yg8RLaOtad1X"
      },
      "source": [
        "hist_muertes['edad_real']=np.where(hist_muertes['edad']>4000,hist_muertes['edad']-4000,-1)\n",
        "# hist_muertes[hist_muertes['edad_real']==-1]"
      ],
      "execution_count": null,
      "outputs": []
    },
    {
      "cell_type": "markdown",
      "metadata": {
        "id": "vt6709_qc9l5"
      },
      "source": [
        "Eliminamos los registros que carecen de esta información ya que también cuentan con vacíos en otras variables:"
      ]
    },
    {
      "cell_type": "code",
      "metadata": {
        "colab": {
          "base_uri": "https://localhost:8080/"
        },
        "id": "EH2orm5Mc4fr",
        "outputId": "2bcad75b-4070-4f06-8eff-c40a18c87062"
      },
      "source": [
        "rows_sin_edad=list(hist_muertes[hist_muertes['edad_real']==-1].index)\n",
        "print(f'Coincidencias: {len(rows_sin_edad)}')\n",
        "print(f'Shape Inicial:{hist_muertes.shape}')\n",
        "hist_muertes=hist_muertes.drop(rows_sin_edad,axis=0)\n",
        "print(f'Shape Final:{hist_muertes.shape}')\n",
        "\n",
        "hist_muertes=hist_muertes.reset_index(drop=True)"
      ],
      "execution_count": null,
      "outputs": [
        {
          "output_type": "stream",
          "text": [
            "Coincidencias: 205810\n",
            "Shape Inicial:(5374490, 19)\n",
            "Shape Final:(5168680, 19)\n"
          ],
          "name": "stdout"
        }
      ]
    },
    {
      "cell_type": "markdown",
      "metadata": {
        "id": "SGJydJLrgl4k"
      },
      "source": [
        "Nuestra investigación se concentra en el estudio de la población femenina por lo que es necesario limpiar también la variable de **sexo**:"
      ]
    },
    {
      "cell_type": "code",
      "metadata": {
        "colab": {
          "base_uri": "https://localhost:8080/"
        },
        "id": "dTOIdcvXglHl",
        "outputId": "a0f6a196-0a92-4cb1-afdb-d5643ada84d9"
      },
      "source": [
        "rows_sin_sex=list(hist_muertes[hist_muertes['sexo']==9].index)\n",
        "\n",
        "print(f'Coincidencias: {len(rows_sin_sex)}')\n",
        "print(f'Shape Inicial:{hist_muertes.shape}')\n",
        "hist_muertes=hist_muertes.drop(rows_sin_sex,axis=0)\n",
        "print(f'Shape Final:{hist_muertes.shape}')\n",
        "\n",
        "hist_muertes=hist_muertes.reset_index(drop=True)"
      ],
      "execution_count": null,
      "outputs": [
        {
          "output_type": "stream",
          "text": [
            "Coincidencias: 2408\n",
            "Shape Inicial:(5168680, 19)\n",
            "Shape Final:(5166272, 19)\n"
          ],
          "name": "stdout"
        }
      ]
    },
    {
      "cell_type": "markdown",
      "metadata": {
        "id": "avNuw8r9Crgp"
      },
      "source": [
        "### - Catálogo de enfermedades según la **CIE - 10**"
      ]
    },
    {
      "cell_type": "markdown",
      "metadata": {
        "id": "nRhLr_-DCzgZ"
      },
      "source": [
        "Concatenamos todas las incidencias:"
      ]
    },
    {
      "cell_type": "code",
      "metadata": {
        "id": "5-Ot09jKBpt1"
      },
      "source": [
        "cat_enfermedad=pd.read_csv(f'/content/drive/MyDrive/DesafioData/decatcausa{2012}.csv', encoding='latin-1')\n",
        "\n",
        "for i in range(2013,2020):\n",
        "    aux=pd.read_csv(f'/content/drive/MyDrive/DesafioData/decatcausa{i}.csv',encoding='latin-1')\n",
        "    cat_enfermedad=pd.concat([cat_enfermedad,aux])\n",
        "    \n",
        "cat_enfermedad=cat_enfermedad.reset_index()"
      ],
      "execution_count": null,
      "outputs": []
    },
    {
      "cell_type": "markdown",
      "metadata": {
        "id": "Z__B6sBuC5B1"
      },
      "source": [
        "Creamos los diccionarios para encontrar las claves únicas:"
      ]
    },
    {
      "cell_type": "code",
      "metadata": {
        "id": "Iu2IVK9pBprj"
      },
      "source": [
        "claves_duplicadas={}\n",
        "\n",
        "for i in range(len(cat_enfermedad)):\n",
        "    claves_duplicadas[cat_enfermedad['CVE'][i]]=str(cat_enfermedad['DESCRIP'][i])\n",
        "    \n",
        "dict_no_duplicados = {} \n",
        "for key, value in claves_duplicadas.items(): \n",
        "    if not value in dict_no_duplicados.values(): \n",
        "        dict_no_duplicados[key] = value "
      ],
      "execution_count": null,
      "outputs": []
    },
    {
      "cell_type": "markdown",
      "metadata": {
        "id": "-kC5R_8AGj_f"
      },
      "source": [
        "Archivamos para usar en el script principal:"
      ]
    },
    {
      "cell_type": "code",
      "metadata": {
        "id": "rThESqwZC3O_"
      },
      "source": [
        "claves=pd.DataFrame(list(dict_no_duplicados.keys()),columns=['Clave'])  \n",
        "\n",
        "desc=[]\n",
        "for i in claves['Clave'][:-1]:\n",
        "    desc.append(dict_no_duplicados[str(i)])\n",
        "    \n",
        "descr=pd.DataFrame(pd.Series(desc),columns=['Dictamen'])\n",
        "\n",
        "catalogo_completo=pd.concat([claves,descr],axis=1)\n",
        "\n",
        "catalogo_completo.to_csv('Catalogo_CIE_10.csv')"
      ],
      "execution_count": null,
      "outputs": []
    },
    {
      "cell_type": "markdown",
      "metadata": {
        "id": "Y4yDOxBLDQNi"
      },
      "source": [
        "#### - Segmentación de padecimientos"
      ]
    },
    {
      "cell_type": "code",
      "metadata": {
        "id": "1Yi3OdYrC3Ki"
      },
      "source": [
        "EPOC=[\"J44\"+str(i) for i in range(0,10)]\n",
        "\n",
        "asma=[\"J450\",\"J451\",\"J458\",\"J459\",\"J46X\"]\n",
        "# cardiovascular=[\"I0\"+str(i)+str(j) for i in range(5,10) for j in range(0,10)]+\\ # Cardiopatía reumática\n",
        "# [\"I10X\"]+[\"I1\"+str(i)+str(j) for i in range(0,6) for j in range(0,10)]+\\ # Hipertensión Arterial\n",
        "# [\"I42X\"]+[\"I42\"+str(i)+str(j)  for i in range(0,10) for j in range(0,10)]+\\ # Miocardiopatías\n",
        "# [\"I50X\"]+[\"I50\"+str(i)+str(j)  for i in range(0,10) for j in range(0,10)]+\\ # Insuficiencia cardiaca\n",
        "# [\"I60X\"]+[\"I\"+str(i)+str(j)  for i in range(60,70) for j in range(0,10)] +\\ # Enfermedad cerebrovascular\n",
        "# [\"I70X\",\"I80X\"]+[\"I\"+str(i)+str(j)  for i in range(70,90) for j in range(0,10)] +\\ # Enfermedad vascular perifería\n",
        "# [\"Q20X\"]+[\"Q2\"+str(i)+str(j)  for i in range(0,9) for j in range(0,10)] # Cardiopatía congénita\n",
        "\n",
        "cardiovascular=[\"I0\"+str(i)+str(j) for i in range(5,10) for j in range(0,10)]+ \\\n",
        "[\"I20X\"]+[\"I2\"+str(i)+str(j) for i in range(0,6) for j in range(0,10)]+ \\\n",
        "[\"I42X\"]+[\"I42\"+str(i) for i in range(0,10)]+\\\n",
        "[\"I50X\"]+[\"I50\"+str(i)  for i in range(0,10)]+\\\n",
        "[\"I60X\"]+[\"I\"+str(i)+str(j)  for i in range(60,70) for j in range(0,10)] +\\\n",
        "[\"I70X\",\"I80X\"]+[\"I\"+str(i)+str(j)  for i in range(70,90) for j in range(0,10)] +\\\n",
        "[\"Q20X\"]+[\"Q2\"+str(i)+str(j)  for i in range(0,9) for j in range(0,10)] \n",
        "\n",
        "hipertension=['G932','I270','I272','K766','O10X','O11X','O13X','O14X','O16X','P292']+ \\\n",
        "[\"I10X\"]+[\"I1\"+str(i)+str(j) for i in range(0,6) for j in range(0,10)]+ \\\n",
        "[\"O\"+str(i)+str(j) for i in range(10,15) for j in range(0,10)]+\\\n",
        "[\"O16\"+str(i) for i in range(0,10)]\n",
        "\n",
        "diabetes=[\"E1\"+str(i)+str(j) for i in range(0,5) for j in range(0,10)]+['E232','N251','P702']+[\"O24\"+str(i) for i in range(0,10)]\n",
        "\n",
        "neumonia=[\"J1\"+str(i)+str(j) for i in range(0,9) for j in range(0,10)]+['J851']+[\"P23\"+str(i) for i in range(0,10)]\n",
        "\n",
        "insuf_renal=[\"N1\"+str(i)+str(j) for i in range(7,10) for j in range(0,10)]+[\"I17X\",\"I18X\",\"I19X\"]+['P960']\n",
        "\n",
        "obesidad=[\"E66\"+str(i) for i in range(0,10)]\n",
        "\n",
        "'''VIH [B20-B24] + Cáncer [C0-C97] + Rechazo de trasplantes [T86] ''' \n",
        "inmunosup=[\"B\"+str(i)+str(j) for i in range(20,25) for j in range(0,10)]+['B24X','O987','R75X']+\\\n",
        "[\"C00\"+str(i) for i in range(0,10)]+[\"C0\"+str(i) for i in range(10,100)]+[\"C\"+str(i)+str(j) for i in range(10,97) for j in range(0,10)]+\\\n",
        "[\"D00\"+str(i) for i in range(0,10)]+[\"D0\"+str(i) for i in range(10,100)]+\\\n",
        "[\"D\"+str(i)+str(j) for i in range(80,90) for j in range(0,10)]+\\\n",
        "[\"T86\"+str(i) for i in range(0,10)]"
      ],
      "execution_count": null,
      "outputs": []
    },
    {
      "cell_type": "markdown",
      "metadata": {
        "id": "VppA33ZFO6ky"
      },
      "source": [
        "Añadimos el grupo a la base de mortalidad:"
      ]
    },
    {
      "cell_type": "code",
      "metadata": {
        "id": "JPAy8ntHO6k4"
      },
      "source": [
        "hist_muertes['gpo_enfermedad']=np.where(hist_muertes['causa_def'].isin(EPOC),'EPOC',\n",
        "                                               np.where(hist_muertes['causa_def'].isin(asma),'asma',\n",
        "                                                 np.where(hist_muertes['causa_def'].isin(cardiovascular),'cardiovascular',\n",
        "                                                   np.where(hist_muertes['causa_def'].isin(hipertension),'hipertension',\n",
        "                                                     np.where(hist_muertes['causa_def'].isin(diabetes),'diabetes',\n",
        "                                                       np.where(hist_muertes['causa_def'].isin(neumonia),'neumonia',\n",
        "                                                         np.where(hist_muertes['causa_def'].isin(insuf_renal),'insuf_renal',\n",
        "                                                           np.where(hist_muertes['causa_def'].isin(obesidad),'obesidad',\n",
        "                                                              np.where(hist_muertes['causa_def'].isin(inmunosup),'inmunosupresores','otros'\n",
        "                                             )\n",
        "                                             )\n",
        "                                             )\n",
        "                                             )\n",
        "                                             )\n",
        "                                             )\n",
        "                                             )\n",
        "                                             )\n",
        "                                             )"
      ],
      "execution_count": null,
      "outputs": []
    },
    {
      "cell_type": "code",
      "metadata": {
        "id": "LUYnUcYMPC5B"
      },
      "source": [
        "# hist_muertes[['gpo_enfermedad','causa_def']].head(3)\n",
        "# hist_muertes.groupby(['gpo_enfermedad','sexo'])['edad'].count()"
      ],
      "execution_count": null,
      "outputs": []
    },
    {
      "cell_type": "markdown",
      "metadata": {
        "id": "kZnJSPmkIqM3"
      },
      "source": [
        "### - **Regiones Nielsen**"
      ]
    },
    {
      "cell_type": "markdown",
      "metadata": {
        "id": "mT6wgdtDI89Y"
      },
      "source": [
        "**Área I: Pacífico** - Baja California Norte, Baja California Sur, Sonora, Sinaloa, Nayarit (5) - [2, 3, 26, 25, 18]"
      ]
    },
    {
      "cell_type": "markdown",
      "metadata": {
        "id": "4dOcikq8JE-V"
      },
      "source": [
        "**Área II: Norte** - Chihuahua, Coahuila, Durango, Nuevo León, San Luis Potosí,Tamaulipas, Zacatecas (7) - [8, 5, 10, 19, 24, 28, 32]"
      ]
    },
    {
      "cell_type": "markdown",
      "metadata": {
        "id": "foZlpKEQJXnL"
      },
      "source": [
        "**Área III: Bajío** -  Aguascalientes, Jalisco, Guanajuato, Colima, Michoacan (5) - [1, 14, 11, 6, 16]"
      ]
    },
    {
      "cell_type": "markdown",
      "metadata": {
        "id": "V1N08M3bJQsT"
      },
      "source": [
        "**Área IV: Centro** - Hidalgo, Querétaro, Morelos, Edo. México, Tlaxcala, Puebla, Guerrero (7) - [13, 22, 17, 15, 29, 21, 12]"
      ]
    },
    {
      "cell_type": "markdown",
      "metadata": {
        "id": "nJBf3j_PJj2N"
      },
      "source": [
        "**Área V**: Valle de México - Cdmx (1) - [9]"
      ]
    },
    {
      "cell_type": "markdown",
      "metadata": {
        "id": "jI-Tu-6gJqP4"
      },
      "source": [
        "\n",
        "**Área VI**: Sureste - Chiapas, Campeche, Yucatan, Quintana Roo, Veracruz, Oaxaca, Tabasco (7) - [7, 4, 31, 23, 30, 20, 27]"
      ]
    },
    {
      "cell_type": "code",
      "metadata": {
        "id": "50hoRoxvJvdv"
      },
      "source": [
        "pacifico = [2, 3, 26, 25, 18]\n",
        "norte = [8, 5, 10, 19, 24, 28, 32]\n",
        "bajio = [1, 14, 11, 6, 16]\n",
        "centro = [13, 22, 17, 15, 29, 21, 12]\n",
        "vallem = [9]\n",
        "sureste = [7, 4, 31, 23, 30, 20, 27]"
      ],
      "execution_count": null,
      "outputs": []
    },
    {
      "cell_type": "markdown",
      "metadata": {
        "id": "PykoiSDxJ3bD"
      },
      "source": [
        "Añadimos la región a la base de mortalidad:"
      ]
    },
    {
      "cell_type": "code",
      "metadata": {
        "id": "2ciZllzWJ9nC"
      },
      "source": [
        "hist_muertes['region']=np.where(hist_muertes['ent_regis'].isin(pacifico),'pacifico',\n",
        "                                      np.where(hist_muertes['ent_regis'].isin(norte),'norte',\n",
        "                                               np.where(hist_muertes['ent_regis'].isin(bajio),'bajio',\n",
        "                                                np.where(hist_muertes['ent_regis'].isin(centro),'centro',\n",
        "                                                         np.where(hist_muertes['ent_regis'].isin(vallem),'vallem',\n",
        "                                                             np.where(hist_muertes['ent_regis'].isin(sureste),'sureste','revisar' \n",
        "                                                                  )\n",
        "                                                             )\n",
        "                                                       )\n",
        "                                                  )\n",
        "                                              )\n",
        "                                        )"
      ],
      "execution_count": null,
      "outputs": []
    },
    {
      "cell_type": "code",
      "metadata": {
        "colab": {
          "base_uri": "https://localhost:8080/"
        },
        "id": "U5As4qmTNIx3",
        "outputId": "a5f0a4f6-620e-4f90-dbdf-137bed0ab459"
      },
      "source": [
        "hist_muertes.groupby('region')['edad'].count()"
      ],
      "execution_count": null,
      "outputs": [
        {
          "output_type": "execute_result",
          "data": {
            "text/plain": [
              "region\n",
              "bajio        878828\n",
              "centro      1284247\n",
              "norte        922959\n",
              "pacifico     469595\n",
              "sureste     1047342\n",
              "vallem       563301\n",
              "Name: edad, dtype: int64"
            ]
          },
          "metadata": {
            "tags": []
          },
          "execution_count": 29
        }
      ]
    },
    {
      "cell_type": "markdown",
      "metadata": {
        "id": "SaEgzyvJFcT-"
      },
      "source": [
        "Archivamos los cambios para usar en el script principal:"
      ]
    },
    {
      "cell_type": "code",
      "metadata": {
        "id": "4c19ZzxcBp0N"
      },
      "source": [
        "hist_muertes.to_csv(\"Bases_INEGI.csv\")"
      ],
      "execution_count": null,
      "outputs": []
    },
    {
      "cell_type": "markdown",
      "metadata": {
        "id": "KFScHtupCoil"
      },
      "source": [
        "### - Resultados de **Censo Nacional de Población 2020** realizado por el INEGI:"
      ]
    },
    {
      "cell_type": "code",
      "metadata": {
        "id": "QEohkdwqBpxo"
      },
      "source": [
        "inegi2020=pd.read_csv('/content/drive/MyDrive/DesafioData/inegi2020_con_clavegeo.csv')"
      ],
      "execution_count": 4,
      "outputs": []
    },
    {
      "cell_type": "code",
      "metadata": {
        "id": "Yiu_U3gtiAy8",
        "outputId": "eb051d49-3e60-4465-e016-37de23a6e3c6",
        "colab": {
          "base_uri": "https://localhost:8080/"
        }
      },
      "source": [
        "inegi2020.columns"
      ],
      "execution_count": 5,
      "outputs": [
        {
          "output_type": "execute_result",
          "data": {
            "text/plain": [
              "Index(['ENTIDAD', 'NOM_ENT', 'MUN', 'NOM_MUN', 'LOC', 'NOM_LOC', 'AGEB', 'MZA',\n",
              "       'POBTOT', 'POBFEM',\n",
              "       ...\n",
              "       'VPH_CEL', 'VPH_INTER', 'VPH_STVP', 'VPH_SPMVPI', 'VPH_CVJ',\n",
              "       'VPH_SINRTV', 'VPH_SINLTC', 'VPH_SINCINT', 'VPH_SINTIC', 'CVEGEO'],\n",
              "      dtype='object', length=230)"
            ]
          },
          "metadata": {
            "tags": []
          },
          "execution_count": 5
        }
      ]
    },
    {
      "cell_type": "code",
      "metadata": {
        "id": "0MKGse2QiNDj",
        "outputId": "4ad11f41-8109-41b5-b4a2-a0be42fb6225",
        "colab": {
          "base_uri": "https://localhost:8080/",
          "height": 1000
        }
      },
      "source": [
        "pd.DataFrame(inegi2020['NOM_ENT'].value_counts())"
      ],
      "execution_count": 7,
      "outputs": [
        {
          "output_type": "execute_result",
          "data": {
            "text/html": [
              "<div>\n",
              "<style scoped>\n",
              "    .dataframe tbody tr th:only-of-type {\n",
              "        vertical-align: middle;\n",
              "    }\n",
              "\n",
              "    .dataframe tbody tr th {\n",
              "        vertical-align: top;\n",
              "    }\n",
              "\n",
              "    .dataframe thead th {\n",
              "        text-align: right;\n",
              "    }\n",
              "</style>\n",
              "<table border=\"1\" class=\"dataframe\">\n",
              "  <thead>\n",
              "    <tr style=\"text-align: right;\">\n",
              "      <th></th>\n",
              "      <th>NOM_ENT</th>\n",
              "    </tr>\n",
              "  </thead>\n",
              "  <tbody>\n",
              "    <tr>\n",
              "      <th>México</th>\n",
              "      <td>133820</td>\n",
              "    </tr>\n",
              "    <tr>\n",
              "      <th>Jalisco</th>\n",
              "      <td>97527</td>\n",
              "    </tr>\n",
              "    <tr>\n",
              "      <th>Veracruz de Ignacio de la Llave</th>\n",
              "      <td>89308</td>\n",
              "    </tr>\n",
              "    <tr>\n",
              "      <th>Nuevo León</th>\n",
              "      <td>68298</td>\n",
              "    </tr>\n",
              "    <tr>\n",
              "      <th>Chihuahua</th>\n",
              "      <td>67664</td>\n",
              "    </tr>\n",
              "    <tr>\n",
              "      <th>Puebla</th>\n",
              "      <td>66310</td>\n",
              "    </tr>\n",
              "    <tr>\n",
              "      <th>Ciudad de México</th>\n",
              "      <td>65649</td>\n",
              "    </tr>\n",
              "    <tr>\n",
              "      <th>Michoacán de Ocampo</th>\n",
              "      <td>64784</td>\n",
              "    </tr>\n",
              "    <tr>\n",
              "      <th>Guanajuato</th>\n",
              "      <td>62992</td>\n",
              "    </tr>\n",
              "    <tr>\n",
              "      <th>Sonora</th>\n",
              "      <td>60112</td>\n",
              "    </tr>\n",
              "    <tr>\n",
              "      <th>Tamaulipas</th>\n",
              "      <td>58897</td>\n",
              "    </tr>\n",
              "    <tr>\n",
              "      <th>Guerrero</th>\n",
              "      <td>54200</td>\n",
              "    </tr>\n",
              "    <tr>\n",
              "      <th>Baja California</th>\n",
              "      <td>53272</td>\n",
              "    </tr>\n",
              "    <tr>\n",
              "      <th>Coahuila de Zaragoza</th>\n",
              "      <td>52492</td>\n",
              "    </tr>\n",
              "    <tr>\n",
              "      <th>Chiapas</th>\n",
              "      <td>50866</td>\n",
              "    </tr>\n",
              "    <tr>\n",
              "      <th>Oaxaca</th>\n",
              "      <td>46398</td>\n",
              "    </tr>\n",
              "    <tr>\n",
              "      <th>Sinaloa</th>\n",
              "      <td>43554</td>\n",
              "    </tr>\n",
              "    <tr>\n",
              "      <th>Hidalgo</th>\n",
              "      <td>36683</td>\n",
              "    </tr>\n",
              "    <tr>\n",
              "      <th>Yucatán</th>\n",
              "      <td>35500</td>\n",
              "    </tr>\n",
              "    <tr>\n",
              "      <th>San Luis Potosí</th>\n",
              "      <td>35027</td>\n",
              "    </tr>\n",
              "    <tr>\n",
              "      <th>Durango</th>\n",
              "      <td>31027</td>\n",
              "    </tr>\n",
              "    <tr>\n",
              "      <th>Zacatecas</th>\n",
              "      <td>29241</td>\n",
              "    </tr>\n",
              "    <tr>\n",
              "      <th>Morelos</th>\n",
              "      <td>27655</td>\n",
              "    </tr>\n",
              "    <tr>\n",
              "      <th>Querétaro</th>\n",
              "      <td>27548</td>\n",
              "    </tr>\n",
              "    <tr>\n",
              "      <th>Quintana Roo</th>\n",
              "      <td>23665</td>\n",
              "    </tr>\n",
              "    <tr>\n",
              "      <th>Nayarit</th>\n",
              "      <td>19140</td>\n",
              "    </tr>\n",
              "    <tr>\n",
              "      <th>Tabasco</th>\n",
              "      <td>16249</td>\n",
              "    </tr>\n",
              "    <tr>\n",
              "      <th>Tlaxcala</th>\n",
              "      <td>16093</td>\n",
              "    </tr>\n",
              "    <tr>\n",
              "      <th>Baja California Sur</th>\n",
              "      <td>16070</td>\n",
              "    </tr>\n",
              "    <tr>\n",
              "      <th>Aguascalientes</th>\n",
              "      <td>14899</td>\n",
              "    </tr>\n",
              "    <tr>\n",
              "      <th>Colima</th>\n",
              "      <td>13039</td>\n",
              "    </tr>\n",
              "    <tr>\n",
              "      <th>Campeche</th>\n",
              "      <td>11082</td>\n",
              "    </tr>\n",
              "  </tbody>\n",
              "</table>\n",
              "</div>"
            ],
            "text/plain": [
              "                                 NOM_ENT\n",
              "México                            133820\n",
              "Jalisco                            97527\n",
              "Veracruz de Ignacio de la Llave    89308\n",
              "Nuevo León                         68298\n",
              "Chihuahua                          67664\n",
              "Puebla                             66310\n",
              "Ciudad de México                   65649\n",
              "Michoacán de Ocampo                64784\n",
              "Guanajuato                         62992\n",
              "Sonora                             60112\n",
              "Tamaulipas                         58897\n",
              "Guerrero                           54200\n",
              "Baja California                    53272\n",
              "Coahuila de Zaragoza               52492\n",
              "Chiapas                            50866\n",
              "Oaxaca                             46398\n",
              "Sinaloa                            43554\n",
              "Hidalgo                            36683\n",
              "Yucatán                            35500\n",
              "San Luis Potosí                    35027\n",
              "Durango                            31027\n",
              "Zacatecas                          29241\n",
              "Morelos                            27655\n",
              "Querétaro                          27548\n",
              "Quintana Roo                       23665\n",
              "Nayarit                            19140\n",
              "Tabasco                            16249\n",
              "Tlaxcala                           16093\n",
              "Baja California Sur                16070\n",
              "Aguascalientes                     14899\n",
              "Colima                             13039\n",
              "Campeche                           11082"
            ]
          },
          "metadata": {
            "tags": []
          },
          "execution_count": 7
        }
      ]
    },
    {
      "cell_type": "markdown",
      "metadata": {
        "id": "Nrdk68ChT54X"
      },
      "source": [
        "### - **Extracto de Mujeres** del histórico de mortalidad:"
      ]
    },
    {
      "cell_type": "code",
      "metadata": {
        "id": "qCwXcLgOUF2_"
      },
      "source": [
        "mortalidad_mujeres=hist_muertes[hist_muertes['sexo']==2]\n",
        "mortalidad_mujeres.to_csv('Bases_INEGI_Mujeres.csv')"
      ],
      "execution_count": null,
      "outputs": []
    },
    {
      "cell_type": "code",
      "metadata": {
        "colab": {
          "base_uri": "https://localhost:8080/"
        },
        "id": "1WRYgYZamtam",
        "outputId": "fec67789-a74c-4932-bfda-bc8a6f5cba3f"
      },
      "source": [
        "mortalidad_mujeres.shape"
      ],
      "execution_count": null,
      "outputs": [
        {
          "output_type": "execute_result",
          "data": {
            "text/plain": [
              "(2272081, 21)"
            ]
          },
          "metadata": {
            "tags": []
          },
          "execution_count": 33
        }
      ]
    },
    {
      "cell_type": "code",
      "metadata": {
        "colab": {
          "base_uri": "https://localhost:8080/"
        },
        "id": "PgS6Kh0Umyvv",
        "outputId": "dba73783-0fe3-46c1-f1ff-b850ba8cafac"
      },
      "source": [
        "hist_muertes.shape"
      ],
      "execution_count": null,
      "outputs": [
        {
          "output_type": "execute_result",
          "data": {
            "text/plain": [
              "(5166272, 21)"
            ]
          },
          "metadata": {
            "tags": []
          },
          "execution_count": 34
        }
      ]
    },
    {
      "cell_type": "markdown",
      "metadata": {
        "id": "nsNety93IJlw"
      },
      "source": [
        "### - Tranformación para el modelo"
      ]
    },
    {
      "cell_type": "code",
      "metadata": {
        "colab": {
          "base_uri": "https://localhost:8080/"
        },
        "id": "Gki5BZO7iUlM",
        "outputId": "b110c45c-b098-4616-ec6a-d7b5e6c6d2ec"
      },
      "source": [
        "!pip install feature_engine"
      ],
      "execution_count": null,
      "outputs": [
        {
          "output_type": "stream",
          "text": [
            "Requirement already satisfied: feature_engine in /usr/local/lib/python3.7/dist-packages (1.0.2)\n",
            "Requirement already satisfied: scikit-learn>=0.22.2 in /usr/local/lib/python3.7/dist-packages (from feature_engine) (0.22.2.post1)\n",
            "Requirement already satisfied: statsmodels>=0.11.1 in /usr/local/lib/python3.7/dist-packages (from feature_engine) (0.12.2)\n",
            "Requirement already satisfied: numpy>=1.18.2 in /usr/local/lib/python3.7/dist-packages (from feature_engine) (1.19.5)\n",
            "Requirement already satisfied: scipy>=1.4.1 in /usr/local/lib/python3.7/dist-packages (from feature_engine) (1.4.1)\n",
            "Requirement already satisfied: pandas>=1.0.3 in /usr/local/lib/python3.7/dist-packages (from feature_engine) (1.1.5)\n",
            "Requirement already satisfied: joblib>=0.11 in /usr/local/lib/python3.7/dist-packages (from scikit-learn>=0.22.2->feature_engine) (1.0.1)\n",
            "Requirement already satisfied: patsy>=0.5 in /usr/local/lib/python3.7/dist-packages (from statsmodels>=0.11.1->feature_engine) (0.5.1)\n",
            "Requirement already satisfied: python-dateutil>=2.7.3 in /usr/local/lib/python3.7/dist-packages (from pandas>=1.0.3->feature_engine) (2.8.1)\n",
            "Requirement already satisfied: pytz>=2017.2 in /usr/local/lib/python3.7/dist-packages (from pandas>=1.0.3->feature_engine) (2018.9)\n",
            "Requirement already satisfied: six in /usr/local/lib/python3.7/dist-packages (from patsy>=0.5->statsmodels>=0.11.1->feature_engine) (1.15.0)\n"
          ],
          "name": "stdout"
        }
      ]
    },
    {
      "cell_type": "markdown",
      "metadata": {
        "id": "n32AiNEJZd6Q"
      },
      "source": [
        "Debido a la cantidad de datos y los recursos con los que contamos, decidimos tomar el último quiquenio que tenemos registrado en e histórico de muertes para crear nuestro modelo de ML"
      ]
    },
    {
      "cell_type": "code",
      "metadata": {
        "id": "HjPVOOEWbMQf"
      },
      "source": [
        "data_mujeres_quinquenio = mortalidad_mujeres[mortalidad_mujeres['date'].isin([2015,2016,2017,2018,2019])].reset_index(drop=True)"
      ],
      "execution_count": null,
      "outputs": []
    },
    {
      "cell_type": "markdown",
      "metadata": {
        "id": "4GE83rkrc6Q8"
      },
      "source": [
        "Volvemos dummies las variables de los grupos de enfermedad:"
      ]
    },
    {
      "cell_type": "code",
      "metadata": {
        "id": "zOQRjnjsdjJC"
      },
      "source": [
        "data_mujeres=data_mujeres_quinquenio['gpo_enfermedad']"
      ],
      "execution_count": null,
      "outputs": []
    },
    {
      "cell_type": "code",
      "metadata": {
        "id": "8u-5_Lxckp23"
      },
      "source": [
        "dum_df = pd.get_dummies(data_mujeres, columns=['gpo_enfermedad'], prefix=\"Gpo_Enfermedad_is\")\n",
        "# dum_df.head(3)"
      ],
      "execution_count": null,
      "outputs": []
    },
    {
      "cell_type": "markdown",
      "metadata": {
        "id": "d_8oUdxnZjTz"
      },
      "source": [
        "Guardamos las variables que coinciden con la base de COVID:"
      ]
    },
    {
      "cell_type": "code",
      "metadata": {
        "colab": {
          "base_uri": "https://localhost:8080/"
        },
        "id": "1JPJMCDXbbGS",
        "outputId": "28c8417e-c5c9-4b8f-8222-948ae742f919"
      },
      "source": [
        "data_mujeres=pd.concat([dum_df,data_mujeres_quinquenio[['sexo','edad_real','derechohab','ent_regis','mun_regis']]],axis=1)\n",
        "data_mujeres.head(2)"
      ],
      "execution_count": null,
      "outputs": [
        {
          "output_type": "execute_result",
          "data": {
            "text/html": [
              "<div>\n",
              "<style scoped>\n",
              "    .dataframe tbody tr th:only-of-type {\n",
              "        vertical-align: middle;\n",
              "    }\n",
              "\n",
              "    .dataframe tbody tr th {\n",
              "        vertical-align: top;\n",
              "    }\n",
              "\n",
              "    .dataframe thead th {\n",
              "        text-align: right;\n",
              "    }\n",
              "</style>\n",
              "<table border=\"1\" class=\"dataframe\">\n",
              "  <thead>\n",
              "    <tr style=\"text-align: right;\">\n",
              "      <th></th>\n",
              "      <th>Gpo_Enfermedad_is_EPOC</th>\n",
              "      <th>Gpo_Enfermedad_is_asma</th>\n",
              "      <th>Gpo_Enfermedad_is_cardiovascular</th>\n",
              "      <th>Gpo_Enfermedad_is_diabetes</th>\n",
              "      <th>Gpo_Enfermedad_is_hipertension</th>\n",
              "      <th>Gpo_Enfermedad_is_inmunosupresores</th>\n",
              "      <th>Gpo_Enfermedad_is_insuf_renal</th>\n",
              "      <th>Gpo_Enfermedad_is_neumonia</th>\n",
              "      <th>Gpo_Enfermedad_is_obesidad</th>\n",
              "      <th>Gpo_Enfermedad_is_otros</th>\n",
              "      <th>sexo</th>\n",
              "      <th>edad_real</th>\n",
              "      <th>derechohab</th>\n",
              "      <th>ent_regis</th>\n",
              "      <th>mun_regis</th>\n",
              "    </tr>\n",
              "  </thead>\n",
              "  <tbody>\n",
              "    <tr>\n",
              "      <th>0</th>\n",
              "      <td>0</td>\n",
              "      <td>0</td>\n",
              "      <td>0</td>\n",
              "      <td>0</td>\n",
              "      <td>0</td>\n",
              "      <td>0</td>\n",
              "      <td>0</td>\n",
              "      <td>0</td>\n",
              "      <td>0</td>\n",
              "      <td>1</td>\n",
              "      <td>2</td>\n",
              "      <td>40</td>\n",
              "      <td>7</td>\n",
              "      <td>1</td>\n",
              "      <td>1</td>\n",
              "    </tr>\n",
              "    <tr>\n",
              "      <th>1</th>\n",
              "      <td>0</td>\n",
              "      <td>0</td>\n",
              "      <td>0</td>\n",
              "      <td>0</td>\n",
              "      <td>0</td>\n",
              "      <td>0</td>\n",
              "      <td>0</td>\n",
              "      <td>0</td>\n",
              "      <td>0</td>\n",
              "      <td>1</td>\n",
              "      <td>2</td>\n",
              "      <td>66</td>\n",
              "      <td>2</td>\n",
              "      <td>1</td>\n",
              "      <td>1</td>\n",
              "    </tr>\n",
              "  </tbody>\n",
              "</table>\n",
              "</div>"
            ],
            "text/plain": [
              "   Gpo_Enfermedad_is_EPOC  Gpo_Enfermedad_is_asma  ...  ent_regis  mun_regis\n",
              "0                       0                       0  ...          1          1\n",
              "1                       0                       0  ...          1          1\n",
              "\n",
              "[2 rows x 15 columns]"
            ]
          },
          "metadata": {
            "tags": []
          },
          "execution_count": 39
        }
      ]
    },
    {
      "cell_type": "code",
      "metadata": {
        "colab": {
          "base_uri": "https://localhost:8080/"
        },
        "id": "xw05GwHZjPcp",
        "outputId": "09f7800f-e7f2-4128-b8e9-486fa7d3e319"
      },
      "source": [
        "rows_to_drop=data_mujeres[data_mujeres['Gpo_Enfermedad_is_otros']==1].index\n",
        "data_mujeres_limpia=data_mujeres.copy()\n",
        "\n",
        "print(f'Shape Inicial: {data_mujeres_limpia.shape}')\n",
        "data_mujeres_limpia=data_mujeres_limpia.drop(rows_to_drop,axis=0).reset_index(drop=True)\n",
        "data_mujeres_limpia=data_mujeres_limpia.drop('Gpo_Enfermedad_is_otros',axis=1)\n",
        "print(f'Shape Inicial: {data_mujeres_limpia.shape}')"
      ],
      "execution_count": null,
      "outputs": [
        {
          "output_type": "stream",
          "text": [
            "Shape Inicial: (1488372, 15)\n",
            "Shape Inicial: (988232, 14)\n"
          ],
          "name": "stdout"
        }
      ]
    },
    {
      "cell_type": "markdown",
      "metadata": {
        "id": "38pW4REmX0ax"
      },
      "source": [
        "Datos Covid-19"
      ]
    },
    {
      "cell_type": "code",
      "metadata": {
        "colab": {
          "base_uri": "https://localhost:8080/"
        },
        "id": "svbouGIoVC75",
        "outputId": "92cd70ae-de67-42e6-dcf5-4adfb4266b74"
      },
      "source": [
        "data=requests.get('https://api.datamexico.org/tesseract/cubes/gobmx_covid/aggregate.jsonrecords?drilldowns%5B%5D=Death+Date.Death+Date.Death+Date&drilldowns%5B%5D=Covid+Result.Covid+Result.Covid+Result&drilldowns%5B%5D=Health+Institution+Attended.Health+Institution+Attended.Health+Institution+Attended&drilldowns%5B%5D=Pneumonia+Diagnose.Pneumonia+Diagnose.Pneumonia+Diagnose&drilldowns%5B%5D=COPD+Diagnose.COPD+Diagnose.COPD+Diagnose&drilldowns%5B%5D=Asthma+Diagnose.Asthma+Diagnose.Asthma+Diagnose&drilldowns%5B%5D=Inmunosupresion+Diagnose.Inmunosupresion+Diagnose.Inmunosupresion+Diagnose&drilldowns%5B%5D=Hypertension+Diagnose.Hypertension+Diagnose.Hypertension+Diagnose&drilldowns%5B%5D=Cardiovascular+Diagnose.Cardiovascular+Diagnose.Cardiovascular+Diagnose&drilldowns%5B%5D=Obesity+Diagnose.Obesity+Diagnose.Obesity+Diagnose&drilldowns%5B%5D=Chronic+Kidney+Failure+Diagnose.Chronic+Kidney+Failure+Diagnose.Chronic+Kidney+Failure+Diagnose&drilldowns%5B%5D=Diabetes+Diagnose.Diabetes+Diagnose.Diabetes+Diagnose&drilldowns%5B%5D=State+Patient+Attended.State+Patient+Attended.State+Patient+Attended&drilldowns%5B%5D=State+Patient+Origin.State+Patient+Origin.State+Patient+Origin&drilldowns%5B%5D=Sex.Sex.Sex&drilldowns%5B%5D=Age+Group.Age+Group.Age&drilldowns%5B%5D=Municipality+Patient+Residence.Geography.Municipality&measures%5B%5D=Cases&parents=false&sparse=false')\n",
        "data_api=pd.DataFrame(data.json()[\"data\"])\n",
        "print(data_api.shape)"
      ],
      "execution_count": null,
      "outputs": [
        {
          "output_type": "stream",
          "text": [
            "(263200, 34)\n"
          ],
          "name": "stdout"
        }
      ]
    },
    {
      "cell_type": "code",
      "metadata": {
        "id": "wur5F0LgfaE1"
      },
      "source": [
        "# data_api.head(2)"
      ],
      "execution_count": null,
      "outputs": []
    },
    {
      "cell_type": "markdown",
      "metadata": {
        "id": "pk7pTUZLhcFe"
      },
      "source": [
        "Homologamos los valores dummies de la base:"
      ]
    },
    {
      "cell_type": "code",
      "metadata": {
        "id": "IinvEa8hfc5k"
      },
      "source": [
        "enfermedades=['Pneumonia Diagnose ID','COPD Diagnose ID','Asthma Diagnose ID','Inmunosupresion Diagnose ID','Hypertension Diagnose ID','Cardiovascular Diagnose ID','Obesity Diagnose ID','Chronic Kidney Failure Diagnose ID','Diabetes Diagnose ID']\n",
        "\n",
        "for enf in enfermedades:\n",
        "\n",
        "  data_api[enf]=np.where(data_api[enf]==1,1,0)"
      ],
      "execution_count": null,
      "outputs": []
    },
    {
      "cell_type": "code",
      "metadata": {
        "id": "mF2s2nh6lvLJ"
      },
      "source": [
        "# Orden de las columnas\n",
        "# columnas_ml=['EPOC','Asma','Cardiovascular','Diabetes','Hipertension','Inmunosupresion','Inf_Renal','Neumonia','Obesidad','Sexo','Edad','Institucion','Estado','Municipio']\n",
        "data_api_ml_completo=data_api[['COPD Diagnose ID','Asthma Diagnose ID','Cardiovascular Diagnose ID','Diabetes Diagnose ID','Hypertension Diagnose ID','Inmunosupresion Diagnose ID','Chronic Kidney Failure Diagnose ID','Pneumonia Diagnose ID','Obesity Diagnose ID','Sex ID','Age','Health Institution Attended','State Patient Attended ID','Municipality ID']]"
      ],
      "execution_count": null,
      "outputs": []
    },
    {
      "cell_type": "code",
      "metadata": {
        "colab": {
          "base_uri": "https://localhost:8080/"
        },
        "id": "pXLEottlXW4H",
        "outputId": "dcb9d07e-480b-4f27-c7a4-8e43dd4d2f60"
      },
      "source": [
        "data_api_ml_completo['Health Institution Attended']=np.where(\n",
        "    data_api_ml_completo['Health Institution Attended']=='IMSS',2,np.where(\n",
        "    data_api_ml_completo['Health Institution Attended']=='ISSSTE',3,np.where(\n",
        "    data_api_ml_completo['Health Institution Attended']=='PEMEX',4,np.where(\n",
        "    data_api_ml_completo['Health Institution Attended']=='SEDENA',5,np.where(\n",
        "    data_api_ml_completo['Health Institution Attended']=='SEMAR',6,np.where(\n",
        "    data_api_ml_completo['Health Institution Attended']=='IMSS-Bienestar',7,8    \n",
        "    )    \n",
        "    )\n",
        "    )    \n",
        "    )    \n",
        "    )\n",
        "    )"
      ],
      "execution_count": null,
      "outputs": [
        {
          "output_type": "stream",
          "text": [
            "/usr/local/lib/python3.7/dist-packages/ipykernel_launcher.py:7: SettingWithCopyWarning:\n",
            "\n",
            "\n",
            "A value is trying to be set on a copy of a slice from a DataFrame.\n",
            "Try using .loc[row_indexer,col_indexer] = value instead\n",
            "\n",
            "See the caveats in the documentation: https://pandas.pydata.org/pandas-docs/stable/user_guide/indexing.html#returning-a-view-versus-a-copy\n",
            "\n"
          ],
          "name": "stderr"
        }
      ]
    },
    {
      "cell_type": "code",
      "metadata": {
        "colab": {
          "base_uri": "https://localhost:8080/"
        },
        "id": "Eb8FKKAVYZJ6",
        "outputId": "b86a486b-e3ff-4f23-d0f7-188ddf8563f7"
      },
      "source": [
        "data_api_ml_completo.head()"
      ],
      "execution_count": null,
      "outputs": [
        {
          "output_type": "execute_result",
          "data": {
            "text/html": [
              "<div>\n",
              "<style scoped>\n",
              "    .dataframe tbody tr th:only-of-type {\n",
              "        vertical-align: middle;\n",
              "    }\n",
              "\n",
              "    .dataframe tbody tr th {\n",
              "        vertical-align: top;\n",
              "    }\n",
              "\n",
              "    .dataframe thead th {\n",
              "        text-align: right;\n",
              "    }\n",
              "</style>\n",
              "<table border=\"1\" class=\"dataframe\">\n",
              "  <thead>\n",
              "    <tr style=\"text-align: right;\">\n",
              "      <th></th>\n",
              "      <th>COPD Diagnose ID</th>\n",
              "      <th>Asthma Diagnose ID</th>\n",
              "      <th>Cardiovascular Diagnose ID</th>\n",
              "      <th>Diabetes Diagnose ID</th>\n",
              "      <th>Hypertension Diagnose ID</th>\n",
              "      <th>Inmunosupresion Diagnose ID</th>\n",
              "      <th>Chronic Kidney Failure Diagnose ID</th>\n",
              "      <th>Pneumonia Diagnose ID</th>\n",
              "      <th>Obesity Diagnose ID</th>\n",
              "      <th>Sex ID</th>\n",
              "      <th>Age</th>\n",
              "      <th>Health Institution Attended</th>\n",
              "      <th>State Patient Attended ID</th>\n",
              "      <th>Municipality ID</th>\n",
              "    </tr>\n",
              "  </thead>\n",
              "  <tbody>\n",
              "    <tr>\n",
              "      <th>0</th>\n",
              "      <td>0</td>\n",
              "      <td>0</td>\n",
              "      <td>0</td>\n",
              "      <td>0</td>\n",
              "      <td>0</td>\n",
              "      <td>1</td>\n",
              "      <td>0</td>\n",
              "      <td>0</td>\n",
              "      <td>0</td>\n",
              "      <td>2</td>\n",
              "      <td>65</td>\n",
              "      <td>2</td>\n",
              "      <td>9</td>\n",
              "      <td>9007</td>\n",
              "    </tr>\n",
              "    <tr>\n",
              "      <th>1</th>\n",
              "      <td>0</td>\n",
              "      <td>1</td>\n",
              "      <td>0</td>\n",
              "      <td>0</td>\n",
              "      <td>0</td>\n",
              "      <td>0</td>\n",
              "      <td>0</td>\n",
              "      <td>0</td>\n",
              "      <td>0</td>\n",
              "      <td>1</td>\n",
              "      <td>15</td>\n",
              "      <td>2</td>\n",
              "      <td>2</td>\n",
              "      <td>2004</td>\n",
              "    </tr>\n",
              "    <tr>\n",
              "      <th>2</th>\n",
              "      <td>0</td>\n",
              "      <td>0</td>\n",
              "      <td>0</td>\n",
              "      <td>1</td>\n",
              "      <td>0</td>\n",
              "      <td>0</td>\n",
              "      <td>0</td>\n",
              "      <td>0</td>\n",
              "      <td>1</td>\n",
              "      <td>2</td>\n",
              "      <td>67</td>\n",
              "      <td>2</td>\n",
              "      <td>5</td>\n",
              "      <td>5030</td>\n",
              "    </tr>\n",
              "    <tr>\n",
              "      <th>3</th>\n",
              "      <td>0</td>\n",
              "      <td>0</td>\n",
              "      <td>0</td>\n",
              "      <td>0</td>\n",
              "      <td>0</td>\n",
              "      <td>0</td>\n",
              "      <td>0</td>\n",
              "      <td>0</td>\n",
              "      <td>0</td>\n",
              "      <td>1</td>\n",
              "      <td>32</td>\n",
              "      <td>2</td>\n",
              "      <td>26</td>\n",
              "      <td>26018</td>\n",
              "    </tr>\n",
              "    <tr>\n",
              "      <th>4</th>\n",
              "      <td>1</td>\n",
              "      <td>1</td>\n",
              "      <td>0</td>\n",
              "      <td>0</td>\n",
              "      <td>1</td>\n",
              "      <td>1</td>\n",
              "      <td>0</td>\n",
              "      <td>0</td>\n",
              "      <td>1</td>\n",
              "      <td>2</td>\n",
              "      <td>67</td>\n",
              "      <td>4</td>\n",
              "      <td>13</td>\n",
              "      <td>13070</td>\n",
              "    </tr>\n",
              "  </tbody>\n",
              "</table>\n",
              "</div>"
            ],
            "text/plain": [
              "   COPD Diagnose ID  ...  Municipality ID\n",
              "0                 0  ...             9007\n",
              "1                 0  ...             2004\n",
              "2                 0  ...             5030\n",
              "3                 0  ...            26018\n",
              "4                 1  ...            13070\n",
              "\n",
              "[5 rows x 14 columns]"
            ]
          },
          "metadata": {
            "tags": []
          },
          "execution_count": 46
        }
      ]
    },
    {
      "cell_type": "code",
      "metadata": {
        "id": "IcG5sNfqSOz4"
      },
      "source": [
        "# data_api_ml_completo.to_csv('Base_Covid_2003.csv')"
      ],
      "execution_count": null,
      "outputs": []
    },
    {
      "cell_type": "markdown",
      "metadata": {
        "id": "d24Duw3kPpdZ"
      },
      "source": [
        "## Unsupervised ML - Clusterización "
      ]
    },
    {
      "cell_type": "markdown",
      "metadata": {
        "id": "7HqEw3OtQBI1"
      },
      "source": [
        "Tenemos nuestras bases completas, ahora hay que homologar el nombre de las columnas:"
      ]
    },
    {
      "cell_type": "code",
      "metadata": {
        "id": "LCZn7Jh2PoG3"
      },
      "source": [
        "data_inegi_ml=data_mujeres_limpia.copy().drop('sexo',axis=1)\n",
        "data_api_ml=data_api_ml_completo[data_api_ml_completo['Sex ID']==2].drop('Sex ID',axis=1).reset_index(drop=True)\n",
        "\n",
        "columnas_ml=['EPOC','Asma','Cardiovascular','Diabetes','Hipertension','Inmunosupresion','Inf_Renal','Neumonia','Obesidad','Edad','Institucion','Estado','Municipio']\n",
        "data_inegi_ml.columns=columnas_ml\n",
        "data_api_ml.columns=columnas_ml"
      ],
      "execution_count": null,
      "outputs": []
    },
    {
      "cell_type": "markdown",
      "metadata": {
        "id": "MRtb2Jowlv0y"
      },
      "source": [
        "### K Means"
      ]
    },
    {
      "cell_type": "code",
      "metadata": {
        "id": "EMU7id4Ilxnp"
      },
      "source": [
        "from sklearn.cluster import KMeans\n",
        "import matplotlib.pyplot as plt"
      ],
      "execution_count": null,
      "outputs": []
    },
    {
      "cell_type": "markdown",
      "metadata": {
        "id": "G1xNC8Mdnjqn"
      },
      "source": [
        "Con ayuda el elbow method buscamos el número de clusters óptimo para la partición:"
      ]
    },
    {
      "cell_type": "code",
      "metadata": {
        "colab": {
          "base_uri": "https://localhost:8080/",
          "height": 295
        },
        "id": "mYvSpZv7lzgW",
        "outputId": "e7539cce-6f47-4584-fa99-a61dd9851317"
      },
      "source": [
        "K = range(1,15)\n",
        "sum_squared_distances = []\n",
        "for k in K:\n",
        "  model = KMeans(n_clusters=k).fit(data_api_ml)\n",
        "  sum_squared_distances.append(model.inertia_)\n",
        "plt.plot(K, sum_squared_distances, \"bx-\")\n",
        "plt.xlabel(\"K Values\")\n",
        "plt.ylabel(\"Sum Squared Distances\")\n",
        "plt.title(\"Elbow Method\")\n",
        "plt.show()"
      ],
      "execution_count": null,
      "outputs": [
        {
          "output_type": "display_data",
          "data": {
            "image/png": "[encoded data removed]",
            "text/plain": [
              "<Figure size 432x288 with 1 Axes>"
            ]
          },
          "metadata": {
            "tags": [],
            "needs_background": "light"
          }
        }
      ]
    },
    {
      "cell_type": "markdown",
      "metadata": {
        "id": "xU-6qcCunyVm"
      },
      "source": [
        "Identificamos 4 clusters"
      ]
    },
    {
      "cell_type": "code",
      "metadata": {
        "id": "0t7Anny0nwJW"
      },
      "source": [
        "kmeans = KMeans(n_clusters=4)\n",
        "data_api_clusters = kmeans.fit(data_api_ml)\n",
        "preds = data_api_clusters.fit_predict(data_api_ml)"
      ],
      "execution_count": null,
      "outputs": []
    },
    {
      "cell_type": "markdown",
      "metadata": {
        "id": "mE3lOZ-HoVbl"
      },
      "source": [
        "Marcamos cada cluster en la base con la columna **cluster**:"
      ]
    },
    {
      "cell_type": "code",
      "metadata": {
        "colab": {
          "base_uri": "https://localhost:8080/",
          "height": 131
        },
        "id": "C7Rd94LTnwAP",
        "outputId": "79569c9d-733a-4364-dd08-76d2035fc987"
      },
      "source": [
        "data_api_ml['Cluster']=preds\n",
        "data_api_ml.head(2)"
      ],
      "execution_count": null,
      "outputs": [
        {
          "output_type": "execute_result",
          "data": {
            "text/html": [
              "<div>\n",
              "<style scoped>\n",
              "    .dataframe tbody tr th:only-of-type {\n",
              "        vertical-align: middle;\n",
              "    }\n",
              "\n",
              "    .dataframe tbody tr th {\n",
              "        vertical-align: top;\n",
              "    }\n",
              "\n",
              "    .dataframe thead th {\n",
              "        text-align: right;\n",
              "    }\n",
              "</style>\n",
              "<table border=\"1\" class=\"dataframe\">\n",
              "  <thead>\n",
              "    <tr style=\"text-align: right;\">\n",
              "      <th></th>\n",
              "      <th>EPOC</th>\n",
              "      <th>Asma</th>\n",
              "      <th>Cardiovascular</th>\n",
              "      <th>Diabetes</th>\n",
              "      <th>Hipertension</th>\n",
              "      <th>Inmunosupresion</th>\n",
              "      <th>Inf_Renal</th>\n",
              "      <th>Neumonia</th>\n",
              "      <th>Obesidad</th>\n",
              "      <th>Edad</th>\n",
              "      <th>Institucion</th>\n",
              "      <th>Estado</th>\n",
              "      <th>Municipio</th>\n",
              "      <th>Cluster</th>\n",
              "    </tr>\n",
              "  </thead>\n",
              "  <tbody>\n",
              "    <tr>\n",
              "      <th>0</th>\n",
              "      <td>0</td>\n",
              "      <td>0</td>\n",
              "      <td>0</td>\n",
              "      <td>0</td>\n",
              "      <td>0</td>\n",
              "      <td>1</td>\n",
              "      <td>0</td>\n",
              "      <td>0</td>\n",
              "      <td>0</td>\n",
              "      <td>65</td>\n",
              "      <td>2</td>\n",
              "      <td>9</td>\n",
              "      <td>9007</td>\n",
              "      <td>0</td>\n",
              "    </tr>\n",
              "    <tr>\n",
              "      <th>1</th>\n",
              "      <td>0</td>\n",
              "      <td>0</td>\n",
              "      <td>0</td>\n",
              "      <td>1</td>\n",
              "      <td>0</td>\n",
              "      <td>0</td>\n",
              "      <td>0</td>\n",
              "      <td>0</td>\n",
              "      <td>1</td>\n",
              "      <td>67</td>\n",
              "      <td>2</td>\n",
              "      <td>5</td>\n",
              "      <td>5030</td>\n",
              "      <td>0</td>\n",
              "    </tr>\n",
              "  </tbody>\n",
              "</table>\n",
              "</div>"
            ],
            "text/plain": [
              "   EPOC  Asma  Cardiovascular  ...  Estado  Municipio  Cluster\n",
              "0     0     0               0  ...       9       9007        0\n",
              "1     0     0               0  ...       5       5030        0\n",
              "\n",
              "[2 rows x 14 columns]"
            ]
          },
          "metadata": {
            "tags": []
          },
          "execution_count": 52
        }
      ]
    },
    {
      "cell_type": "code",
      "metadata": {
        "colab": {
          "base_uri": "https://localhost:8080/"
        },
        "id": "m2i8x1JUomnN",
        "outputId": "4f64fd7e-d742-4c19-fa22-3e16a009c0bd"
      },
      "source": [
        "data_api_ml[data_api_ml.Cluster==0].Estado.value_counts()"
      ],
      "execution_count": null,
      "outputs": [
        {
          "output_type": "execute_result",
          "data": {
            "text/plain": [
              "9     14281\n",
              "2      3951\n",
              "8      3546\n",
              "5      3373\n",
              "1      1174\n",
              "10     1078\n",
              "7       706\n",
              "3       624\n",
              "6       576\n",
              "15      524\n",
              "4       502\n",
              "26       60\n",
              "27       44\n",
              "19       41\n",
              "13       30\n",
              "14       19\n",
              "31       18\n",
              "21       16\n",
              "30       13\n",
              "25       11\n",
              "22        8\n",
              "32        7\n",
              "16        5\n",
              "11        5\n",
              "20        4\n",
              "18        4\n",
              "17        4\n",
              "12        3\n",
              "24        2\n",
              "23        2\n",
              "29        1\n",
              "Name: Estado, dtype: int64"
            ]
          },
          "metadata": {
            "tags": []
          },
          "execution_count": 53
        }
      ]
    },
    {
      "cell_type": "markdown",
      "metadata": {
        "id": "eC4OlXTIypCf"
      },
      "source": [
        "### DBSCAN"
      ]
    },
    {
      "cell_type": "code",
      "metadata": {
        "id": "dJ4ZO71qyrDV"
      },
      "source": [
        "from sklearn.neighbors import NearestNeighbors\n",
        "from sklearn.cluster import DBSCAN"
      ],
      "execution_count": null,
      "outputs": []
    },
    {
      "cell_type": "markdown",
      "metadata": {
        "id": "i5NkJFWUy3XX"
      },
      "source": [
        "Con ayuda de NN identificamos la distancia óptima"
      ]
    },
    {
      "cell_type": "code",
      "metadata": {
        "colab": {
          "base_uri": "https://localhost:8080/",
          "height": 374
        },
        "id": "7fJmE_6Ayxnb",
        "outputId": "74e0b5db-a5dd-481a-fa42-d27d08aaecc7"
      },
      "source": [
        "nearest_neighbors = NearestNeighbors(n_neighbors=100)\n",
        "nearest_neighbors.fit(data_api_ml.drop('Cluster',axis=1))\n",
        "distances, indices = nearest_neighbors.kneighbors(data_api_ml.drop('Cluster',axis=1))\n",
        "distances = np.sort(distances, axis=0)[:,1]\n",
        "plt.figure(figsize=(10,6))\n",
        "plt.plot(distances)\n",
        "plt.show()"
      ],
      "execution_count": null,
      "outputs": [
        {
          "output_type": "display_data",
          "data": {
            "image/png": "[encoded data removed]",
            "text/plain": [
              "<Figure size 720x432 with 1 Axes>"
            ]
          },
          "metadata": {
            "tags": [],
            "needs_background": "light"
          }
        }
      ]
    },
    {
      "cell_type": "markdown",
      "metadata": {
        "id": "UTB6mGmkziGF"
      },
      "source": [
        "Creamos el modelo:"
      ]
    },
    {
      "cell_type": "code",
      "metadata": {
        "colab": {
          "base_uri": "https://localhost:8080/"
        },
        "id": "2kCfVgU5yxkd",
        "outputId": "8f22e65b-7b84-43b0-8731-12e1da0dc49c"
      },
      "source": [
        "m = DBSCAN(eps=3, min_samples=28)\n",
        "m.fit(data_api_ml.drop('Cluster',axis=1))"
      ],
      "execution_count": null,
      "outputs": [
        {
          "output_type": "execute_result",
          "data": {
            "text/plain": [
              "DBSCAN(algorithm='auto', eps=3, leaf_size=30, metric='euclidean',\n",
              "       metric_params=None, min_samples=28, n_jobs=None, p=None)"
            ]
          },
          "metadata": {
            "tags": []
          },
          "execution_count": 56
        }
      ]
    },
    {
      "cell_type": "markdown",
      "metadata": {
        "id": "nd00llNIuEpH"
      },
      "source": [
        "Creamos los cluster y etiquetamos el ruido."
      ]
    },
    {
      "cell_type": "code",
      "metadata": {
        "colab": {
          "base_uri": "https://localhost:8080/"
        },
        "id": "5smV77Oqrz2e",
        "outputId": "e14540ae-3867-4d3a-b9bc-36f3ea812599"
      },
      "source": [
        "#Asignar nuestros labels/clusters\n",
        "labels = m.labels_\n",
        "\n",
        "#Empezar a enmascarar nuestros datos\n",
        "labels_mask_general = np.zeros_like(labels,dtype=bool)\n",
        "\n",
        "#Colocar outliers como verdadero\n",
        "labels_mask_general[m.core_sample_indices_] = True\n",
        "\n",
        "n_clusters = len(set(labels)) - (1 if -1 in labels else 0)\n",
        "n_noise = list(labels).count(-1)\n",
        "\n",
        "print(f'Número de clusters: {n_clusters}')\n",
        "print(f'Registros con ruido: {n_noise}')"
      ],
      "execution_count": null,
      "outputs": [
        {
          "output_type": "stream",
          "text": [
            "Número de clusters: 121\n",
            "Registros con ruido: 35776\n"
          ],
          "name": "stdout"
        }
      ]
    },
    {
      "cell_type": "code",
      "metadata": {
        "colab": {
          "base_uri": "https://localhost:8080/",
          "height": 131
        },
        "id": "2gMzAeIeyxhY",
        "outputId": "509484cd-40ce-4e4e-f6fd-c414096abf0d"
      },
      "source": [
        "data_api_ml['Cluster_DBSCAN']=labels\n",
        "data_api_ml.head(2)"
      ],
      "execution_count": null,
      "outputs": [
        {
          "output_type": "execute_result",
          "data": {
            "text/html": [
              "<div>\n",
              "<style scoped>\n",
              "    .dataframe tbody tr th:only-of-type {\n",
              "        vertical-align: middle;\n",
              "    }\n",
              "\n",
              "    .dataframe tbody tr th {\n",
              "        vertical-align: top;\n",
              "    }\n",
              "\n",
              "    .dataframe thead th {\n",
              "        text-align: right;\n",
              "    }\n",
              "</style>\n",
              "<table border=\"1\" class=\"dataframe\">\n",
              "  <thead>\n",
              "    <tr style=\"text-align: right;\">\n",
              "      <th></th>\n",
              "      <th>EPOC</th>\n",
              "      <th>Asma</th>\n",
              "      <th>Cardiovascular</th>\n",
              "      <th>Diabetes</th>\n",
              "      <th>Hipertension</th>\n",
              "      <th>Inmunosupresion</th>\n",
              "      <th>Inf_Renal</th>\n",
              "      <th>Neumonia</th>\n",
              "      <th>Obesidad</th>\n",
              "      <th>Edad</th>\n",
              "      <th>Institucion</th>\n",
              "      <th>Estado</th>\n",
              "      <th>Municipio</th>\n",
              "      <th>Cluster</th>\n",
              "      <th>Cluster_DBSCAN</th>\n",
              "    </tr>\n",
              "  </thead>\n",
              "  <tbody>\n",
              "    <tr>\n",
              "      <th>0</th>\n",
              "      <td>0</td>\n",
              "      <td>0</td>\n",
              "      <td>0</td>\n",
              "      <td>0</td>\n",
              "      <td>0</td>\n",
              "      <td>1</td>\n",
              "      <td>0</td>\n",
              "      <td>0</td>\n",
              "      <td>0</td>\n",
              "      <td>65</td>\n",
              "      <td>2</td>\n",
              "      <td>9</td>\n",
              "      <td>9007</td>\n",
              "      <td>0</td>\n",
              "      <td>0</td>\n",
              "    </tr>\n",
              "    <tr>\n",
              "      <th>1</th>\n",
              "      <td>0</td>\n",
              "      <td>0</td>\n",
              "      <td>0</td>\n",
              "      <td>1</td>\n",
              "      <td>0</td>\n",
              "      <td>0</td>\n",
              "      <td>0</td>\n",
              "      <td>0</td>\n",
              "      <td>1</td>\n",
              "      <td>67</td>\n",
              "      <td>2</td>\n",
              "      <td>5</td>\n",
              "      <td>5030</td>\n",
              "      <td>0</td>\n",
              "      <td>1</td>\n",
              "    </tr>\n",
              "  </tbody>\n",
              "</table>\n",
              "</div>"
            ],
            "text/plain": [
              "   EPOC  Asma  Cardiovascular  ...  Municipio  Cluster  Cluster_DBSCAN\n",
              "0     0     0               0  ...       9007        0               0\n",
              "1     0     0               0  ...       5030        0               1\n",
              "\n",
              "[2 rows x 15 columns]"
            ]
          },
          "metadata": {
            "tags": []
          },
          "execution_count": 58
        }
      ]
    },
    {
      "cell_type": "markdown",
      "metadata": {
        "id": "9oOEgHoQt9OU"
      },
      "source": [
        "Analicemos los clusters:"
      ]
    },
    {
      "cell_type": "code",
      "metadata": {
        "id": "02u0SNPVsW36"
      },
      "source": [
        ""
      ],
      "execution_count": null,
      "outputs": []
    },
    {
      "cell_type": "markdown",
      "metadata": {
        "id": "8OxzQn4RxJTM"
      },
      "source": [
        "### HDBSCAN"
      ]
    },
    {
      "cell_type": "code",
      "metadata": {
        "colab": {
          "base_uri": "https://localhost:8080/"
        },
        "id": "JnMb590pxIt8",
        "outputId": "b85bad3d-b9eb-4665-cdfb-f63e80334174"
      },
      "source": [
        "pip install hdbscan"
      ],
      "execution_count": null,
      "outputs": [
        {
          "output_type": "stream",
          "text": [
            "Requirement already satisfied: hdbscan in /usr/local/lib/python3.7/dist-packages (0.8.27)\n",
            "Requirement already satisfied: scipy>=1.0 in /usr/local/lib/python3.7/dist-packages (from hdbscan) (1.4.1)\n",
            "Requirement already satisfied: cython>=0.27 in /usr/local/lib/python3.7/dist-packages (from hdbscan) (0.29.22)\n",
            "Requirement already satisfied: scikit-learn>=0.20 in /usr/local/lib/python3.7/dist-packages (from hdbscan) (0.22.2.post1)\n",
            "Requirement already satisfied: joblib>=1.0 in /usr/local/lib/python3.7/dist-packages (from hdbscan) (1.0.1)\n",
            "Requirement already satisfied: six in /usr/local/lib/python3.7/dist-packages (from hdbscan) (1.15.0)\n",
            "Requirement already satisfied: numpy>=1.16 in /usr/local/lib/python3.7/dist-packages (from hdbscan) (1.19.5)\n"
          ],
          "name": "stdout"
        }
      ]
    },
    {
      "cell_type": "code",
      "metadata": {
        "id": "h_6bKgF5wXTE"
      },
      "source": [
        "import sklearn.cluster as cluster\n",
        "import scipy.cluster.hierarchy as sch\n",
        "import hdbscan\n",
        "from random import sample "
      ],
      "execution_count": null,
      "outputs": []
    },
    {
      "cell_type": "markdown",
      "metadata": {
        "id": "QlQ5nj2y-H4O"
      },
      "source": [
        "Para la visualización del dendograma y visualizar los parámetros de clusterización tomaremos una muestra aleatoria de los datos:"
      ]
    },
    {
      "cell_type": "code",
      "metadata": {
        "id": "ANGh3IzV-GbC"
      },
      "source": [
        "muestra_hdbscan=data_api_ml.drop(['Cluster','Cluster_DBSCAN'],axis=1).sample(frac=.1)"
      ],
      "execution_count": null,
      "outputs": []
    },
    {
      "cell_type": "code",
      "metadata": {
        "colab": {
          "base_uri": "https://localhost:8080/",
          "height": 268
        },
        "id": "kygcAwPtsWx8",
        "outputId": "2dfd8b99-63c2-436d-994b-015040be56e8"
      },
      "source": [
        "dendogram = sch.dendrogram(sch.linkage(muestra_hdbscan,method='ward'))\n",
        "plt.title('Dendogram')\n",
        "plt.xlabel('Customers')\n",
        "plt.ylabel('Distancia Euclidiana')\n",
        "plt.show()"
      ],
      "execution_count": null,
      "outputs": [
        {
          "output_type": "display_data",
          "data": {
            "image/png": "[encoded data removed]",
            "text/plain": [
              "<Figure size 432x288 with 1 Axes>"
            ]
          },
          "metadata": {
            "tags": [],
            "needs_background": "light"
          }
        }
      ]
    },
    {
      "cell_type": "markdown",
      "metadata": {
        "id": "SO2wrugOAJOu"
      },
      "source": [
        "Tomando la distancia vertical más larga y contando las veces que cruza con otras ramos, obtenemos que el tamaño minimo de los clusters debe ser de . \n",
        "Ejecutamos el modelo con esos parámetros:"
      ]
    },
    {
      "cell_type": "code",
      "metadata": {
        "colab": {
          "base_uri": "https://localhost:8080/"
        },
        "id": "MVUUiFhNsWtC",
        "outputId": "a709c89f-5669-4f6e-d4da-08d4053c9a4d"
      },
      "source": [
        "clusterer = hdbscan.HDBSCAN(min_cluster_size=5, gen_min_span_tree=True)\n",
        "m.fit(data_api_ml.drop(['Cluster','Cluster_DBSCAN'],axis=1))"
      ],
      "execution_count": null,
      "outputs": [
        {
          "output_type": "execute_result",
          "data": {
            "text/plain": [
              "DBSCAN(algorithm='auto', eps=3, leaf_size=30, metric='euclidean',\n",
              "       metric_params=None, min_samples=28, n_jobs=None, p=None)"
            ]
          },
          "metadata": {
            "tags": []
          },
          "execution_count": 66
        }
      ]
    },
    {
      "cell_type": "code",
      "metadata": {
        "colab": {
          "base_uri": "https://localhost:8080/"
        },
        "id": "--wTebSuBPCm",
        "outputId": "5cb79eac-2321-4a68-b3f6-d3e21b628763"
      },
      "source": [
        "# Asignar nuestros labels/clusters\n",
        "labels = m.labels_\n",
        "\n",
        "# Empezar a enmascarar nuestros datos\n",
        "labels_mask_general = np.zeros_like(labels,dtype=bool)\n",
        "\n",
        "# Colocar outliers como verdadero\n",
        "labels_mask_general[m.core_sample_indices_] = True\n",
        "\n",
        "n_clusters = len(set(labels)) - (1 if -1 in labels else 0)\n",
        "n_noise = list(labels).count(-1)\n",
        "\n",
        "print(f'Número de clusters: {n_clusters}')\n",
        "print(f'Registros con ruido: {n_noise}')"
      ],
      "execution_count": null,
      "outputs": [
        {
          "output_type": "stream",
          "text": [
            "Número de clusters: 121\n",
            "Registros con ruido: 35776\n"
          ],
          "name": "stdout"
        }
      ]
    },
    {
      "cell_type": "markdown",
      "metadata": {
        "id": "DU9dA-wQBSFb"
      },
      "source": [
        "Asignamos los labels obtenidos:"
      ]
    },
    {
      "cell_type": "code",
      "metadata": {
        "colab": {
          "base_uri": "https://localhost:8080/",
          "height": 131
        },
        "id": "J66TRjFGBRbL",
        "outputId": "ceb80b5c-26c9-4588-cada-99a8d24fa965"
      },
      "source": [
        "data_api_ml['Cluster_HDBSCAN']=labels\n",
        "data_api_ml.head(2)"
      ],
      "execution_count": null,
      "outputs": [
        {
          "output_type": "execute_result",
          "data": {
            "text/html": [
              "<div>\n",
              "<style scoped>\n",
              "    .dataframe tbody tr th:only-of-type {\n",
              "        vertical-align: middle;\n",
              "    }\n",
              "\n",
              "    .dataframe tbody tr th {\n",
              "        vertical-align: top;\n",
              "    }\n",
              "\n",
              "    .dataframe thead th {\n",
              "        text-align: right;\n",
              "    }\n",
              "</style>\n",
              "<table border=\"1\" class=\"dataframe\">\n",
              "  <thead>\n",
              "    <tr style=\"text-align: right;\">\n",
              "      <th></th>\n",
              "      <th>EPOC</th>\n",
              "      <th>Asma</th>\n",
              "      <th>Cardiovascular</th>\n",
              "      <th>Diabetes</th>\n",
              "      <th>Hipertension</th>\n",
              "      <th>Inmunosupresion</th>\n",
              "      <th>Inf_Renal</th>\n",
              "      <th>Neumonia</th>\n",
              "      <th>Obesidad</th>\n",
              "      <th>Edad</th>\n",
              "      <th>Institucion</th>\n",
              "      <th>Estado</th>\n",
              "      <th>Municipio</th>\n",
              "      <th>Cluster</th>\n",
              "      <th>Cluster_DBSCAN</th>\n",
              "      <th>Cluster_HDBSCAN</th>\n",
              "    </tr>\n",
              "  </thead>\n",
              "  <tbody>\n",
              "    <tr>\n",
              "      <th>0</th>\n",
              "      <td>0</td>\n",
              "      <td>0</td>\n",
              "      <td>0</td>\n",
              "      <td>0</td>\n",
              "      <td>0</td>\n",
              "      <td>1</td>\n",
              "      <td>0</td>\n",
              "      <td>0</td>\n",
              "      <td>0</td>\n",
              "      <td>65</td>\n",
              "      <td>2</td>\n",
              "      <td>9</td>\n",
              "      <td>9007</td>\n",
              "      <td>0</td>\n",
              "      <td>0</td>\n",
              "      <td>0</td>\n",
              "    </tr>\n",
              "    <tr>\n",
              "      <th>1</th>\n",
              "      <td>0</td>\n",
              "      <td>0</td>\n",
              "      <td>0</td>\n",
              "      <td>1</td>\n",
              "      <td>0</td>\n",
              "      <td>0</td>\n",
              "      <td>0</td>\n",
              "      <td>0</td>\n",
              "      <td>1</td>\n",
              "      <td>67</td>\n",
              "      <td>2</td>\n",
              "      <td>5</td>\n",
              "      <td>5030</td>\n",
              "      <td>0</td>\n",
              "      <td>1</td>\n",
              "      <td>1</td>\n",
              "    </tr>\n",
              "  </tbody>\n",
              "</table>\n",
              "</div>"
            ],
            "text/plain": [
              "   EPOC  Asma  Cardiovascular  ...  Cluster  Cluster_DBSCAN  Cluster_HDBSCAN\n",
              "0     0     0               0  ...        0               0                0\n",
              "1     0     0               0  ...        0               1                1\n",
              "\n",
              "[2 rows x 16 columns]"
            ]
          },
          "metadata": {
            "tags": []
          },
          "execution_count": 68
        }
      ]
    },
    {
      "cell_type": "markdown",
      "metadata": {
        "id": "eUW4Jh2aTJAS"
      },
      "source": [
        "### GMM"
      ]
    },
    {
      "cell_type": "code",
      "metadata": {
        "id": "DViFs3fITLIk"
      },
      "source": [
        "from sklearn.mixture import GaussianMixture as GMM"
      ],
      "execution_count": null,
      "outputs": []
    },
    {
      "cell_type": "markdown",
      "metadata": {
        "id": "s26pebhATeHj"
      },
      "source": [
        "Para obtener el número de componentes, obtenemos el valor de las 4 covarianzas."
      ]
    },
    {
      "cell_type": "code",
      "metadata": {
        "colab": {
          "base_uri": "https://localhost:8080/",
          "height": 350
        },
        "id": "wJmVatTjTNGi",
        "outputId": "25051f0e-fdae-452f-edf8-b6598f5de3a4"
      },
      "source": [
        "fig, ax = plt.subplots(figsize=(10, 5))\n",
        "\n",
        "n_components = range(1, 20)\n",
        "covariance_types = ['spherical', 'tied', 'diag', 'full']\n",
        "\n",
        "for covariance_type in covariance_types:\n",
        "    valores_bic = []\n",
        "    \n",
        "    for i in n_components:\n",
        "        modelo = GMM(n_components=i, covariance_type=covariance_type, random_state=123)\n",
        "        modelo = modelo.fit(data_api_ml.drop(['Cluster','Cluster_DBSCAN','Cluster_HDBSCAN'],axis=1))\n",
        "        valores_bic.append(modelo.bic(data_api_ml.drop(['Cluster','Cluster_DBSCAN','Cluster_HDBSCAN'],axis=1)))\n",
        "        \n",
        "    ax.plot(n_components, valores_bic, label=covariance_type)\n",
        "ax.set_title(\"Valores BIC\")\n",
        "ax.set_xlabel(\"Número componentes\")\n",
        "ax.legend();"
      ],
      "execution_count": null,
      "outputs": [
        {
          "output_type": "display_data",
          "data": {
            "image/png": "[encoded data removed]",
            "text/plain": [
              "<Figure size 720x360 with 1 Axes>"
            ]
          },
          "metadata": {
            "tags": [],
            "needs_background": "light"
          }
        }
      ]
    },
    {
      "cell_type": "markdown",
      "metadata": {
        "id": "7eISAs7dToDx"
      },
      "source": [
        "Corremos el modelo con el número de componentes = . "
      ]
    },
    {
      "cell_type": "code",
      "metadata": {
        "colab": {
          "base_uri": "https://localhost:8080/",
          "height": 131
        },
        "id": "IZgTO7NaTdZ-",
        "outputId": "331c0187-c982-407f-8e9f-fe81a4330bea"
      },
      "source": [
        "gm  = GMM(n_components=7, covariance_type='full')\n",
        "gm.fit(data_api_ml.drop(['Cluster','Cluster_DBSCAN','Cluster_HDBSCAN'],axis=1))\n",
        "\n",
        "labels = gm.predict(data_api_ml.drop(['Cluster','Cluster_DBSCAN','Cluster_HDBSCAN'],axis=1))\n",
        "data_api_ml['Cluster_GMM']= labels\n",
        "data_api_ml.head(2)"
      ],
      "execution_count": null,
      "outputs": [
        {
          "output_type": "execute_result",
          "data": {
            "text/html": [
              "<div>\n",
              "<style scoped>\n",
              "    .dataframe tbody tr th:only-of-type {\n",
              "        vertical-align: middle;\n",
              "    }\n",
              "\n",
              "    .dataframe tbody tr th {\n",
              "        vertical-align: top;\n",
              "    }\n",
              "\n",
              "    .dataframe thead th {\n",
              "        text-align: right;\n",
              "    }\n",
              "</style>\n",
              "<table border=\"1\" class=\"dataframe\">\n",
              "  <thead>\n",
              "    <tr style=\"text-align: right;\">\n",
              "      <th></th>\n",
              "      <th>EPOC</th>\n",
              "      <th>Asma</th>\n",
              "      <th>Cardiovascular</th>\n",
              "      <th>Diabetes</th>\n",
              "      <th>Hipertension</th>\n",
              "      <th>Inmunosupresion</th>\n",
              "      <th>Inf_Renal</th>\n",
              "      <th>Neumonia</th>\n",
              "      <th>Obesidad</th>\n",
              "      <th>Edad</th>\n",
              "      <th>Institucion</th>\n",
              "      <th>Estado</th>\n",
              "      <th>Municipio</th>\n",
              "      <th>Cluster</th>\n",
              "      <th>Cluster_DBSCAN</th>\n",
              "      <th>Cluster_HDBSCAN</th>\n",
              "      <th>Cluster_GMM</th>\n",
              "    </tr>\n",
              "  </thead>\n",
              "  <tbody>\n",
              "    <tr>\n",
              "      <th>0</th>\n",
              "      <td>0</td>\n",
              "      <td>0</td>\n",
              "      <td>0</td>\n",
              "      <td>0</td>\n",
              "      <td>0</td>\n",
              "      <td>1</td>\n",
              "      <td>0</td>\n",
              "      <td>0</td>\n",
              "      <td>0</td>\n",
              "      <td>65</td>\n",
              "      <td>2</td>\n",
              "      <td>9</td>\n",
              "      <td>9007</td>\n",
              "      <td>0</td>\n",
              "      <td>0</td>\n",
              "      <td>0</td>\n",
              "      <td>1</td>\n",
              "    </tr>\n",
              "    <tr>\n",
              "      <th>1</th>\n",
              "      <td>0</td>\n",
              "      <td>0</td>\n",
              "      <td>0</td>\n",
              "      <td>1</td>\n",
              "      <td>0</td>\n",
              "      <td>0</td>\n",
              "      <td>0</td>\n",
              "      <td>0</td>\n",
              "      <td>1</td>\n",
              "      <td>67</td>\n",
              "      <td>2</td>\n",
              "      <td>5</td>\n",
              "      <td>5030</td>\n",
              "      <td>0</td>\n",
              "      <td>1</td>\n",
              "      <td>1</td>\n",
              "      <td>2</td>\n",
              "    </tr>\n",
              "  </tbody>\n",
              "</table>\n",
              "</div>"
            ],
            "text/plain": [
              "   EPOC  Asma  Cardiovascular  ...  Cluster_DBSCAN  Cluster_HDBSCAN  Cluster_GMM\n",
              "0     0     0               0  ...               0                0            1\n",
              "1     0     0               0  ...               1                1            2\n",
              "\n",
              "[2 rows x 17 columns]"
            ]
          },
          "metadata": {
            "tags": []
          },
          "execution_count": 76
        }
      ]
    },
    {
      "cell_type": "code",
      "metadata": {
        "colab": {
          "base_uri": "https://localhost:8080/"
        },
        "id": "bHROlmNrWp58",
        "outputId": "aea3455c-b66f-4191-dab2-48fa1f600279"
      },
      "source": [
        "data_api_ml['Cluster_GMM'].value_counts()"
      ],
      "execution_count": null,
      "outputs": [
        {
          "output_type": "execute_result",
          "data": {
            "text/plain": [
              "2    74581\n",
              "5     9949\n",
              "1     5682\n",
              "0     4263\n",
              "6     3140\n",
              "3     1404\n",
              "4      327\n",
              "Name: Cluster_GMM, dtype: int64"
            ]
          },
          "metadata": {
            "tags": []
          },
          "execution_count": 77
        }
      ]
    },
    {
      "cell_type": "code",
      "metadata": {
        "id": "oe2JwQuyW5g7"
      },
      "source": [
        "data_api_ml.to_csv('Cluster_Covid.csv')"
      ],
      "execution_count": null,
      "outputs": []
    }
  ]
}