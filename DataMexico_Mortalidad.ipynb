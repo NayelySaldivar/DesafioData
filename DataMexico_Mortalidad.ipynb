{
 "cells": [
  {
   "cell_type": "markdown",
   "metadata": {},
   "source": [
    "<h2> Desafío Data México </h2>\n",
    "<h4> <p> Segunda Edición - Datos con perspectiva de género </p> </h4> "
   ]
  },
  {
   "cell_type": "markdown",
   "metadata": {},
   "source": [
    "Importación de librerías:"
   ]
  },
  {
   "cell_type": "code",
   "execution_count": 82,
   "metadata": {},
   "outputs": [],
   "source": [
    "import pandas as pd\n",
    "import numpy as np\n",
    "import requests\n",
    "import plotly.express as px\n",
    "import seaborn as sns"
   ]
  },
  {
   "cell_type": "code",
   "execution_count": 2,
   "metadata": {},
   "outputs": [],
   "source": [
    "pd.options.display.max_columns = None\n",
    "pd.options.display.max_rows = None"
   ]
  },
  {
   "cell_type": "markdown",
   "metadata": {},
   "source": [
    "Carga de información:"
   ]
  },
  {
   "cell_type": "markdown",
   "metadata": {},
   "source": [
    "- Utilizamos la **DataMexico API Explorer** para obtener los datos actualizados:"
   ]
  },
  {
   "cell_type": "code",
   "execution_count": 3,
   "metadata": {},
   "outputs": [],
   "source": [
    "data=requests.get('https://api.datamexico.org/tesseract/data.jsonrecords?cube=gobmx_covid&drilldowns=Death+Date%2CCovid+Result%2CHealth+Institution+Attended%2CPneumonia+Diagnose%2CSpeaks+Indigenous+Language%2CCOPD+Diagnose%2CAsthma+Diagnose%2CInmunosupresion+Diagnose%2CHypertension+Diagnose%2CCardiovascular+Diagnose%2CObesity+Diagnose%2CChronic+Kidney+Failure+Diagnose%2CDiabetes+Diagnose%2CSmoking+Diagnose%2CContact+with+Another+Covid+Case%2CState+Patient+Attended%2CState+Patient+Origin&measures=Cases&parents=false&sparse=false')\n",
    "data_api=pd.DataFrame(data.json()[\"data\"])"
   ]
  },
  {
   "cell_type": "code",
   "execution_count": 12,
   "metadata": {},
   "outputs": [
    {
     "data": {
      "text/plain": [
       "Index(['Death Date ID', 'Death Date', 'Covid Result ID', 'Covid Result',\n",
       "       'Health Institution Attended ID', 'Health Institution Attended',\n",
       "       'Pneumonia Diagnose ID', 'Pneumonia Diagnose',\n",
       "       'Speaks Indigenous Language ID', 'Speaks Indigenous Language',\n",
       "       'COPD Diagnose ID', 'COPD Diagnose', 'Asthma Diagnose ID',\n",
       "       'Asthma Diagnose', 'Inmunosupresion Diagnose ID',\n",
       "       'Inmunosupresion Diagnose', 'Hypertension Diagnose ID',\n",
       "       'Hypertension Diagnose', 'Cardiovascular Diagnose ID',\n",
       "       'Cardiovascular Diagnose', 'Obesity Diagnose ID', 'Obesity Diagnose',\n",
       "       'Chronic Kidney Failure Diagnose ID', 'Chronic Kidney Failure Diagnose',\n",
       "       'Diabetes Diagnose ID', 'Diabetes Diagnose', 'Smoking Diagnose ID',\n",
       "       'Smoking Diagnose', 'Contact with Another Covid Case ID',\n",
       "       'Contact with Another Covid Case', 'State Patient Attended ID',\n",
       "       'State Patient Attended', 'State Patient Origin ID',\n",
       "       'State Patient Origin', 'Cases'],\n",
       "      dtype='object')"
      ]
     },
     "execution_count": 12,
     "metadata": {},
     "output_type": "execute_result"
    }
   ],
   "source": [
    "data_api.columnsns"
   ]
  },
  {
   "cell_type": "code",
   "execution_count": 4,
   "metadata": {},
   "outputs": [],
   "source": [
    "# basecovid=pd.read_csv('BaseCovid2021.csv')"
   ]
  },
  {
   "cell_type": "markdown",
   "metadata": {},
   "source": [
    "- Datos históricos de **Mortalidad 2012-2019** del INEGI:"
   ]
  },
  {
   "cell_type": "code",
   "execution_count": 5,
   "metadata": {},
   "outputs": [],
   "source": [
    "hist_muertes=pd.read_csv(f'defunciones_generales_{2012}.csv')\n",
    "hist_muertes['date']='2012'\n",
    "\n",
    "for i in range(2013,2020):\n",
    "    aux=pd.read_csv(f'defunciones_generales_{i}.csv')\n",
    "    aux['date']=i\n",
    "    hist_muertes=pd.concat([hist_muertes,aux])"
   ]
  },
  {
   "cell_type": "code",
   "execution_count": 6,
   "metadata": {},
   "outputs": [],
   "source": [
    "hist_muertes.to_csv(\"Bases_INEGI.csv\")"
   ]
  },
  {
   "cell_type": "code",
   "execution_count": 7,
   "metadata": {},
   "outputs": [
    {
     "data": {
      "text/html": [
       "<div>\n",
       "<style scoped>\n",
       "    .dataframe tbody tr th:only-of-type {\n",
       "        vertical-align: middle;\n",
       "    }\n",
       "\n",
       "    .dataframe tbody tr th {\n",
       "        vertical-align: top;\n",
       "    }\n",
       "\n",
       "    .dataframe thead th {\n",
       "        text-align: right;\n",
       "    }\n",
       "</style>\n",
       "<table border=\"1\" class=\"dataframe\">\n",
       "  <thead>\n",
       "    <tr style=\"text-align: right;\">\n",
       "      <th></th>\n",
       "      <th>ent_regis</th>\n",
       "      <th>mun_regis</th>\n",
       "      <th>causa_def</th>\n",
       "      <th>lista_mex</th>\n",
       "      <th>sexo</th>\n",
       "      <th>edad</th>\n",
       "      <th>mes_regis</th>\n",
       "      <th>ocupacion</th>\n",
       "      <th>escolarida</th>\n",
       "      <th>edo_civil</th>\n",
       "      <th>ocurr_trab</th>\n",
       "      <th>asist_medi</th>\n",
       "      <th>nacionalid</th>\n",
       "      <th>derechohab</th>\n",
       "      <th>embarazo</th>\n",
       "      <th>rel_emba</th>\n",
       "      <th>area_ur</th>\n",
       "      <th>date</th>\n",
       "    </tr>\n",
       "  </thead>\n",
       "  <tbody>\n",
       "    <tr>\n",
       "      <th>747782</th>\n",
       "      <td>32</td>\n",
       "      <td>37</td>\n",
       "      <td>X954</td>\n",
       "      <td>55</td>\n",
       "      <td>1</td>\n",
       "      <td>4998</td>\n",
       "      <td>12</td>\n",
       "      <td>99</td>\n",
       "      <td>99</td>\n",
       "      <td>9</td>\n",
       "      <td>8</td>\n",
       "      <td>9</td>\n",
       "      <td>9</td>\n",
       "      <td>99</td>\n",
       "      <td>8</td>\n",
       "      <td>8</td>\n",
       "      <td>9</td>\n",
       "      <td>2019</td>\n",
       "    </tr>\n",
       "    <tr>\n",
       "      <th>747783</th>\n",
       "      <td>32</td>\n",
       "      <td>56</td>\n",
       "      <td>J09X</td>\n",
       "      <td>33C</td>\n",
       "      <td>2</td>\n",
       "      <td>4061</td>\n",
       "      <td>2</td>\n",
       "      <td>11</td>\n",
       "      <td>4</td>\n",
       "      <td>5</td>\n",
       "      <td>8</td>\n",
       "      <td>1</td>\n",
       "      <td>1</td>\n",
       "      <td>7</td>\n",
       "      <td>8</td>\n",
       "      <td>8</td>\n",
       "      <td>1</td>\n",
       "      <td>2019</td>\n",
       "    </tr>\n",
       "  </tbody>\n",
       "</table>\n",
       "</div>"
      ],
      "text/plain": [
       "        ent_regis  mun_regis causa_def lista_mex  sexo  edad  mes_regis  \\\n",
       "747782         32         37      X954        55     1  4998         12   \n",
       "747783         32         56      J09X       33C     2  4061          2   \n",
       "\n",
       "        ocupacion  escolarida  edo_civil  ocurr_trab  asist_medi  nacionalid  \\\n",
       "747782         99          99          9           8           9           9   \n",
       "747783         11           4          5           8           1           1   \n",
       "\n",
       "        derechohab  embarazo  rel_emba  area_ur  date  \n",
       "747782          99         8         8        9  2019  \n",
       "747783           7         8         8        1  2019  "
      ]
     },
     "execution_count": 7,
     "metadata": {},
     "output_type": "execute_result"
    }
   ],
   "source": [
    "# hist_muertes[600000:600050]\n",
    "hist_muertes.tail(2)"
   ]
  },
  {
   "cell_type": "markdown",
   "metadata": {},
   "source": [
    "- Resultados de **Censo Nacional de Población 2020** realizado por el INEGI:"
   ]
  },
  {
   "cell_type": "code",
   "execution_count": 8,
   "metadata": {
    "scrolled": false
   },
   "outputs": [],
   "source": [
    "# inegi2020=pd.read_csv('inegi2020_con_clavegeo.csv')"
   ]
  },
  {
   "cell_type": "markdown",
   "metadata": {},
   "source": [
    "- Creamos el catálogo de enfermedades según la **CIE - 10**"
   ]
  },
  {
   "cell_type": "markdown",
   "metadata": {},
   "source": [
    "Concatenamos todas las incidencias:"
   ]
  },
  {
   "cell_type": "code",
   "execution_count": 21,
   "metadata": {},
   "outputs": [],
   "source": [
    "cat_enfermedad=pd.read_csv(f'decatcausa{2012}.csv', encoding='latin-1')\n",
    "\n",
    "for i in range(2013,2020):\n",
    "    aux=pd.read_csv(f'decatcausa{i}.csv',encoding='latin-1')\n",
    "    cat_enfermedad=pd.concat([cat_enfermedad,aux])\n",
    "    \n",
    "cat_enfermedad=cat_enfermedad.reset_index()"
   ]
  },
  {
   "cell_type": "markdown",
   "metadata": {},
   "source": [
    "Creamos los diccionarios para encontrar las claves únicas:"
   ]
  },
  {
   "cell_type": "code",
   "execution_count": 22,
   "metadata": {},
   "outputs": [],
   "source": [
    "claves_duplicadas={}\n",
    "\n",
    "for i in range(len(cat_enfermedad)):\n",
    "    claves_duplicadas[cat_enfermedad['CVE'][i]]=str(cat_enfermedad['DESCRIP'][i])\n",
    "    \n",
    "dict_no_duplicados = {} \n",
    "for key, value in claves_duplicadas.items(): \n",
    "    if not value in dict_no_duplicados.values(): \n",
    "        dict_no_duplicados[key] = value "
   ]
  },
  {
   "cell_type": "markdown",
   "metadata": {},
   "source": [
    "Creamos y exportamos un DF con todas los dictámenes históricos:"
   ]
  },
  {
   "cell_type": "code",
   "execution_count": 23,
   "metadata": {},
   "outputs": [
    {
     "data": {
      "text/html": [
       "<div>\n",
       "<style scoped>\n",
       "    .dataframe tbody tr th:only-of-type {\n",
       "        vertical-align: middle;\n",
       "    }\n",
       "\n",
       "    .dataframe tbody tr th {\n",
       "        vertical-align: top;\n",
       "    }\n",
       "\n",
       "    .dataframe thead th {\n",
       "        text-align: right;\n",
       "    }\n",
       "</style>\n",
       "<table border=\"1\" class=\"dataframe\">\n",
       "  <thead>\n",
       "    <tr style=\"text-align: right;\">\n",
       "      <th></th>\n",
       "      <th>Clave</th>\n",
       "      <th>Dictamen</th>\n",
       "    </tr>\n",
       "  </thead>\n",
       "  <tbody>\n",
       "    <tr>\n",
       "      <th>0</th>\n",
       "      <td>A000</td>\n",
       "      <td>Cólera debido a Vibrio cholerae 01, biotipo ch...</td>\n",
       "    </tr>\n",
       "    <tr>\n",
       "      <th>1</th>\n",
       "      <td>A001</td>\n",
       "      <td>Cólera debido a Vibrio cholerae 01, biotipo el...</td>\n",
       "    </tr>\n",
       "    <tr>\n",
       "      <th>2</th>\n",
       "      <td>A009</td>\n",
       "      <td>Cólera, no especificado</td>\n",
       "    </tr>\n",
       "    <tr>\n",
       "      <th>3</th>\n",
       "      <td>A010</td>\n",
       "      <td>Fiebre tifoidea</td>\n",
       "    </tr>\n",
       "    <tr>\n",
       "      <th>4</th>\n",
       "      <td>A011</td>\n",
       "      <td>Fiebre paratifoidea A</td>\n",
       "    </tr>\n",
       "  </tbody>\n",
       "</table>\n",
       "</div>"
      ],
      "text/plain": [
       "  Clave                                           Dictamen\n",
       "0  A000  Cólera debido a Vibrio cholerae 01, biotipo ch...\n",
       "1  A001  Cólera debido a Vibrio cholerae 01, biotipo el...\n",
       "2  A009                            Cólera, no especificado\n",
       "3  A010                                    Fiebre tifoidea\n",
       "4  A011                              Fiebre paratifoidea A"
      ]
     },
     "execution_count": 23,
     "metadata": {},
     "output_type": "execute_result"
    }
   ],
   "source": [
    "claves=pd.DataFrame(list(dict_no_duplicados.keys()),columns=['Clave'])  \n",
    "\n",
    "desc=[]\n",
    "for i in claves['Clave']:\n",
    "    desc.append(dict_no_duplicados[str(i)])\n",
    "    \n",
    "descr=pd.DataFrame(pd.Series(desc),columns=['Dictamen'])\n",
    "\n",
    "catalogo_completo=pd.concat([claves,descr],axis=1)\n",
    "\n",
    "catalogo_completo.to_csv('Catalogo_CIE_10.csv')\n",
    "catalogo_completo.head(5)"
   ]
  },
  {
   "cell_type": "markdown",
   "metadata": {},
   "source": [
    "### Exploración de Información"
   ]
  },
  {
   "cell_type": "code",
   "execution_count": 9,
   "metadata": {},
   "outputs": [],
   "source": [
    "def Exp_Data(data):\n",
    "    \n",
    "    print(f'Shape: {data.shape}\\n')\n",
    "\n",
    "    nulos=data.isnull().sum()\n",
    "    print(f'Datos nulos: \\n {nulos[nulos>0]}\\n')\n",
    "    \n",
    "    info=data.info()\n",
    "    \n",
    "    return data.head(3)"
   ]
  },
  {
   "cell_type": "markdown",
   "metadata": {},
   "source": [
    "API Data México"
   ]
  },
  {
   "cell_type": "code",
   "execution_count": 10,
   "metadata": {},
   "outputs": [
    {
     "name": "stdout",
     "output_type": "stream",
     "text": [
      "Shape: (213916, 35)\n",
      "\n",
      "Datos nulos: \n",
      " Series([], dtype: int64)\n",
      "\n",
      "<class 'pandas.core.frame.DataFrame'>\n",
      "RangeIndex: 213916 entries, 0 to 213915\n",
      "Data columns (total 35 columns):\n",
      " #   Column                              Non-Null Count   Dtype \n",
      "---  ------                              --------------   ----- \n",
      " 0   Death Date ID                       213916 non-null  int64 \n",
      " 1   Death Date                          213916 non-null  object\n",
      " 2   Covid Result ID                     213916 non-null  int64 \n",
      " 3   Covid Result                        213916 non-null  object\n",
      " 4   Health Institution Attended ID      213916 non-null  int64 \n",
      " 5   Health Institution Attended         213916 non-null  object\n",
      " 6   Pneumonia Diagnose ID               213916 non-null  int64 \n",
      " 7   Pneumonia Diagnose                  213916 non-null  object\n",
      " 8   Speaks Indigenous Language ID       213916 non-null  int64 \n",
      " 9   Speaks Indigenous Language          213916 non-null  object\n",
      " 10  COPD Diagnose ID                    213916 non-null  int64 \n",
      " 11  COPD Diagnose                       213916 non-null  object\n",
      " 12  Asthma Diagnose ID                  213916 non-null  int64 \n",
      " 13  Asthma Diagnose                     213916 non-null  object\n",
      " 14  Inmunosupresion Diagnose ID         213916 non-null  int64 \n",
      " 15  Inmunosupresion Diagnose            213916 non-null  object\n",
      " 16  Hypertension Diagnose ID            213916 non-null  int64 \n",
      " 17  Hypertension Diagnose               213916 non-null  object\n",
      " 18  Cardiovascular Diagnose ID          213916 non-null  int64 \n",
      " 19  Cardiovascular Diagnose             213916 non-null  object\n",
      " 20  Obesity Diagnose ID                 213916 non-null  int64 \n",
      " 21  Obesity Diagnose                    213916 non-null  object\n",
      " 22  Chronic Kidney Failure Diagnose ID  213916 non-null  int64 \n",
      " 23  Chronic Kidney Failure Diagnose     213916 non-null  object\n",
      " 24  Diabetes Diagnose ID                213916 non-null  int64 \n",
      " 25  Diabetes Diagnose                   213916 non-null  object\n",
      " 26  Smoking Diagnose ID                 213916 non-null  int64 \n",
      " 27  Smoking Diagnose                    213916 non-null  object\n",
      " 28  Contact with Another Covid Case ID  213916 non-null  int64 \n",
      " 29  Contact with Another Covid Case     213916 non-null  object\n",
      " 30  State Patient Attended ID           213916 non-null  int64 \n",
      " 31  State Patient Attended              213916 non-null  object\n",
      " 32  State Patient Origin ID             213916 non-null  int64 \n",
      " 33  State Patient Origin                213916 non-null  object\n",
      " 34  Cases                               213916 non-null  int64 \n",
      "dtypes: int64(18), object(17)\n",
      "memory usage: 57.1+ MB\n"
     ]
    },
    {
     "data": {
      "text/html": [
       "<div>\n",
       "<style scoped>\n",
       "    .dataframe tbody tr th:only-of-type {\n",
       "        vertical-align: middle;\n",
       "    }\n",
       "\n",
       "    .dataframe tbody tr th {\n",
       "        vertical-align: top;\n",
       "    }\n",
       "\n",
       "    .dataframe thead th {\n",
       "        text-align: right;\n",
       "    }\n",
       "</style>\n",
       "<table border=\"1\" class=\"dataframe\">\n",
       "  <thead>\n",
       "    <tr style=\"text-align: right;\">\n",
       "      <th></th>\n",
       "      <th>Death Date ID</th>\n",
       "      <th>Death Date</th>\n",
       "      <th>Covid Result ID</th>\n",
       "      <th>Covid Result</th>\n",
       "      <th>Health Institution Attended ID</th>\n",
       "      <th>Health Institution Attended</th>\n",
       "      <th>Pneumonia Diagnose ID</th>\n",
       "      <th>Pneumonia Diagnose</th>\n",
       "      <th>Speaks Indigenous Language ID</th>\n",
       "      <th>Speaks Indigenous Language</th>\n",
       "      <th>COPD Diagnose ID</th>\n",
       "      <th>COPD Diagnose</th>\n",
       "      <th>Asthma Diagnose ID</th>\n",
       "      <th>Asthma Diagnose</th>\n",
       "      <th>Inmunosupresion Diagnose ID</th>\n",
       "      <th>Inmunosupresion Diagnose</th>\n",
       "      <th>Hypertension Diagnose ID</th>\n",
       "      <th>Hypertension Diagnose</th>\n",
       "      <th>Cardiovascular Diagnose ID</th>\n",
       "      <th>Cardiovascular Diagnose</th>\n",
       "      <th>Obesity Diagnose ID</th>\n",
       "      <th>Obesity Diagnose</th>\n",
       "      <th>Chronic Kidney Failure Diagnose ID</th>\n",
       "      <th>Chronic Kidney Failure Diagnose</th>\n",
       "      <th>Diabetes Diagnose ID</th>\n",
       "      <th>Diabetes Diagnose</th>\n",
       "      <th>Smoking Diagnose ID</th>\n",
       "      <th>Smoking Diagnose</th>\n",
       "      <th>Contact with Another Covid Case ID</th>\n",
       "      <th>Contact with Another Covid Case</th>\n",
       "      <th>State Patient Attended ID</th>\n",
       "      <th>State Patient Attended</th>\n",
       "      <th>State Patient Origin ID</th>\n",
       "      <th>State Patient Origin</th>\n",
       "      <th>Cases</th>\n",
       "    </tr>\n",
       "  </thead>\n",
       "  <tbody>\n",
       "    <tr>\n",
       "      <th>0</th>\n",
       "      <td>20200102</td>\n",
       "      <td>2020-01-02</td>\n",
       "      <td>2</td>\n",
       "      <td>Non Positive SARS-CoV-2</td>\n",
       "      <td>4</td>\n",
       "      <td>IMSS</td>\n",
       "      <td>99</td>\n",
       "      <td>Not Specified</td>\n",
       "      <td>2</td>\n",
       "      <td>No</td>\n",
       "      <td>2</td>\n",
       "      <td>No</td>\n",
       "      <td>2</td>\n",
       "      <td>No</td>\n",
       "      <td>1</td>\n",
       "      <td>Yes</td>\n",
       "      <td>2</td>\n",
       "      <td>No</td>\n",
       "      <td>2</td>\n",
       "      <td>No</td>\n",
       "      <td>2</td>\n",
       "      <td>No</td>\n",
       "      <td>2</td>\n",
       "      <td>No</td>\n",
       "      <td>2</td>\n",
       "      <td>No</td>\n",
       "      <td>2</td>\n",
       "      <td>No</td>\n",
       "      <td>99</td>\n",
       "      <td>Not Specified</td>\n",
       "      <td>9</td>\n",
       "      <td>Ciudad de México</td>\n",
       "      <td>9</td>\n",
       "      <td>Ciudad de México</td>\n",
       "      <td>1</td>\n",
       "    </tr>\n",
       "    <tr>\n",
       "      <th>1</th>\n",
       "      <td>20200103</td>\n",
       "      <td>2020-01-03</td>\n",
       "      <td>2</td>\n",
       "      <td>Non Positive SARS-CoV-2</td>\n",
       "      <td>4</td>\n",
       "      <td>IMSS</td>\n",
       "      <td>99</td>\n",
       "      <td>Not Specified</td>\n",
       "      <td>2</td>\n",
       "      <td>No</td>\n",
       "      <td>2</td>\n",
       "      <td>No</td>\n",
       "      <td>1</td>\n",
       "      <td>Yes</td>\n",
       "      <td>2</td>\n",
       "      <td>No</td>\n",
       "      <td>2</td>\n",
       "      <td>No</td>\n",
       "      <td>2</td>\n",
       "      <td>No</td>\n",
       "      <td>2</td>\n",
       "      <td>No</td>\n",
       "      <td>2</td>\n",
       "      <td>No</td>\n",
       "      <td>2</td>\n",
       "      <td>No</td>\n",
       "      <td>2</td>\n",
       "      <td>No</td>\n",
       "      <td>99</td>\n",
       "      <td>Not Specified</td>\n",
       "      <td>2</td>\n",
       "      <td>Baja California</td>\n",
       "      <td>2</td>\n",
       "      <td>Baja California</td>\n",
       "      <td>1</td>\n",
       "    </tr>\n",
       "    <tr>\n",
       "      <th>2</th>\n",
       "      <td>20200103</td>\n",
       "      <td>2020-01-03</td>\n",
       "      <td>2</td>\n",
       "      <td>Non Positive SARS-CoV-2</td>\n",
       "      <td>4</td>\n",
       "      <td>IMSS</td>\n",
       "      <td>99</td>\n",
       "      <td>Not Specified</td>\n",
       "      <td>2</td>\n",
       "      <td>No</td>\n",
       "      <td>2</td>\n",
       "      <td>No</td>\n",
       "      <td>2</td>\n",
       "      <td>No</td>\n",
       "      <td>2</td>\n",
       "      <td>No</td>\n",
       "      <td>2</td>\n",
       "      <td>No</td>\n",
       "      <td>2</td>\n",
       "      <td>No</td>\n",
       "      <td>1</td>\n",
       "      <td>Yes</td>\n",
       "      <td>2</td>\n",
       "      <td>No</td>\n",
       "      <td>1</td>\n",
       "      <td>Yes</td>\n",
       "      <td>2</td>\n",
       "      <td>No</td>\n",
       "      <td>99</td>\n",
       "      <td>Not Specified</td>\n",
       "      <td>5</td>\n",
       "      <td>Coahuila de Zaragoza</td>\n",
       "      <td>5</td>\n",
       "      <td>Coahuila de Zaragoza</td>\n",
       "      <td>1</td>\n",
       "    </tr>\n",
       "  </tbody>\n",
       "</table>\n",
       "</div>"
      ],
      "text/plain": [
       "   Death Date ID  Death Date  Covid Result ID             Covid Result  \\\n",
       "0       20200102  2020-01-02                2  Non Positive SARS-CoV-2   \n",
       "1       20200103  2020-01-03                2  Non Positive SARS-CoV-2   \n",
       "2       20200103  2020-01-03                2  Non Positive SARS-CoV-2   \n",
       "\n",
       "   Health Institution Attended ID Health Institution Attended  \\\n",
       "0                               4                        IMSS   \n",
       "1                               4                        IMSS   \n",
       "2                               4                        IMSS   \n",
       "\n",
       "   Pneumonia Diagnose ID Pneumonia Diagnose  Speaks Indigenous Language ID  \\\n",
       "0                     99      Not Specified                              2   \n",
       "1                     99      Not Specified                              2   \n",
       "2                     99      Not Specified                              2   \n",
       "\n",
       "  Speaks Indigenous Language  COPD Diagnose ID COPD Diagnose  \\\n",
       "0                         No                 2            No   \n",
       "1                         No                 2            No   \n",
       "2                         No                 2            No   \n",
       "\n",
       "   Asthma Diagnose ID Asthma Diagnose  Inmunosupresion Diagnose ID  \\\n",
       "0                   2              No                            1   \n",
       "1                   1             Yes                            2   \n",
       "2                   2              No                            2   \n",
       "\n",
       "  Inmunosupresion Diagnose  Hypertension Diagnose ID Hypertension Diagnose  \\\n",
       "0                      Yes                         2                    No   \n",
       "1                       No                         2                    No   \n",
       "2                       No                         2                    No   \n",
       "\n",
       "   Cardiovascular Diagnose ID Cardiovascular Diagnose  Obesity Diagnose ID  \\\n",
       "0                           2                      No                    2   \n",
       "1                           2                      No                    2   \n",
       "2                           2                      No                    1   \n",
       "\n",
       "  Obesity Diagnose  Chronic Kidney Failure Diagnose ID  \\\n",
       "0               No                                   2   \n",
       "1               No                                   2   \n",
       "2              Yes                                   2   \n",
       "\n",
       "  Chronic Kidney Failure Diagnose  Diabetes Diagnose ID Diabetes Diagnose  \\\n",
       "0                              No                     2                No   \n",
       "1                              No                     2                No   \n",
       "2                              No                     1               Yes   \n",
       "\n",
       "   Smoking Diagnose ID Smoking Diagnose  Contact with Another Covid Case ID  \\\n",
       "0                    2               No                                  99   \n",
       "1                    2               No                                  99   \n",
       "2                    2               No                                  99   \n",
       "\n",
       "  Contact with Another Covid Case  State Patient Attended ID  \\\n",
       "0                   Not Specified                          9   \n",
       "1                   Not Specified                          2   \n",
       "2                   Not Specified                          5   \n",
       "\n",
       "  State Patient Attended  State Patient Origin ID  State Patient Origin  Cases  \n",
       "0       Ciudad de México                        9      Ciudad de México      1  \n",
       "1        Baja California                        2       Baja California      1  \n",
       "2   Coahuila de Zaragoza                        5  Coahuila de Zaragoza      1  "
      ]
     },
     "execution_count": 10,
     "metadata": {},
     "output_type": "execute_result"
    }
   ],
   "source": [
    "Exp_Data(data_api)"
   ]
  },
  {
   "cell_type": "markdown",
   "metadata": {},
   "source": [
    "Hay valores nulos en **State** los podemos llenar con el ID que les corresponda, para eso creamos una dupla con las claves únicas:"
   ]
  },
  {
   "cell_type": "code",
   "execution_count": 13,
   "metadata": {},
   "outputs": [],
   "source": [
    "# cve_state=[[clave,data_api[data_api['State ID']==clave]['State'].unique()[0]] for clave in sorted(data_api['State ID'].unique())]\n",
    "# claves=[clave[0] for clave in cve_state]\n",
    "# edos=[edo[1] for edo in cve_state]"
   ]
  },
  {
   "cell_type": "markdown",
   "metadata": {},
   "source": [
    "Y tranformamos la data en DF:"
   ]
  },
  {
   "cell_type": "code",
   "execution_count": null,
   "metadata": {},
   "outputs": [],
   "source": [
    "# df_cve_state=pd.DataFrame({'State ID':claves, 'State': edos}).set_index('State ID')\n",
    "# df_cve_state.head(2)"
   ]
  },
  {
   "cell_type": "markdown",
   "metadata": {},
   "source": [
    "Hacemos *merge* para rellenar los valores y eliminamos la columna dulicada:"
   ]
  },
  {
   "cell_type": "code",
   "execution_count": null,
   "metadata": {},
   "outputs": [],
   "source": [
    "# inner_join = pd.merge(data_api,df_cve_state,on ='State ID',how ='inner')\n",
    "# data_api=inner_join.drop('State_x',axis=1)\n",
    "# print(f'Valores nulos: {data_api.isna().sum().sum()}')"
   ]
  },
  {
   "cell_type": "markdown",
   "metadata": {},
   "source": [
    "**INEGI**"
   ]
  },
  {
   "cell_type": "code",
   "execution_count": null,
   "metadata": {},
   "outputs": [],
   "source": [
    "Exp_Data(inegi2020)"
   ]
  },
  {
   "cell_type": "code",
   "execution_count": null,
   "metadata": {},
   "outputs": [],
   "source": [
    "data_api.head(3)"
   ]
  },
  {
   "cell_type": "markdown",
   "metadata": {},
   "source": [
    "### Mortalidad mujeres"
   ]
  },
  {
   "cell_type": "code",
   "execution_count": null,
   "metadata": {
    "scrolled": true
   },
   "outputs": [],
   "source": [
    "hist_muertes=pd.read_csv('Bases_INEGI.csv',engine='python')"
   ]
  },
  {
   "cell_type": "code",
   "execution_count": 30,
   "metadata": {},
   "outputs": [],
   "source": [
    "mortalidad_mujeres = hist_muertes.loc[hist_muertes['sexo'] == 2]"
   ]
  },
  {
   "cell_type": "code",
   "execution_count": 31,
   "metadata": {},
   "outputs": [
    {
     "data": {
      "text/plain": [
       "Index(['Unnamed: 0', 'ent_regis', 'mun_regis', 'ent_resid', 'mun_resid',\n",
       "       'tloc_resid', 'loc_resid', 'ent_ocurr', 'mun_ocurr', 'tloc_ocurr',\n",
       "       'loc_ocurr', 'causa_def', 'lista_mex', 'sexo', 'edad', 'dia_ocurr',\n",
       "       'mes_ocurr', 'anio_ocur', 'dia_regis', 'mes_regis', 'anio_regis',\n",
       "       'dia_nacim', 'mes_nacim', 'anio_nacim', 'ocupacion', 'escolarida',\n",
       "       'edo_civil', 'presunto', 'ocurr_trab', 'lugar_ocur', 'necropsia',\n",
       "       'asist_medi', 'sitio_ocur', 'cond_cert', 'nacionalid', 'derechohab',\n",
       "       'embarazo', 'rel_emba', 'horas', 'minutos', 'capitulo', 'grupo',\n",
       "       'lista1', 'gr_lismex', 'vio_fami', 'area_ur', 'edad_agru', 'complicaro',\n",
       "       'dia_cert', 'mes_cert', 'anio_cert', 'maternas', 'lengua', 'cond_act',\n",
       "       'par_agre', 'ent_ocules', 'mun_ocules', 'loc_ocules', 'razon_m',\n",
       "       'dis_re_oax', 'date'],\n",
       "      dtype='object')"
      ]
     },
     "execution_count": 31,
     "metadata": {},
     "output_type": "execute_result"
    }
   ],
   "source": [
    "mortalidad_mujeres.columns"
   ]
  },
  {
   "cell_type": "markdown",
   "metadata": {},
   "source": [
    "\n",
    "Removemos outliers para el año de ocurrencia"
   ]
  },
  {
   "cell_type": "code",
   "execution_count": 32,
   "metadata": {},
   "outputs": [],
   "source": [
    "outliers = mortalidad_mujeres.loc[mortalidad_mujeres['anio_ocur'] == 9999]\n",
    "lista = outliers.index.to_list()"
   ]
  },
  {
   "cell_type": "code",
   "execution_count": 33,
   "metadata": {},
   "outputs": [],
   "source": [
    "mortalidad_mujeres = mortalidad_mujeres.drop([65254,75238,85213,87781,191879, 209226, 349174, 391293, 470337, 481586, 578035, 579352, 580016,580972, 581455, 601474])"
   ]
  },
  {
   "cell_type": "code",
   "execution_count": 37,
   "metadata": {},
   "outputs": [],
   "source": [
    "frecuencias= mortalidad_mujeres['causa_def'].value_counts()\n",
    "# frecuencias.head(20)"
   ]
  },
  {
   "cell_type": "code",
   "execution_count": 39,
   "metadata": {},
   "outputs": [
    {
     "data": {
      "text/html": [
       "<div>\n",
       "<style scoped>\n",
       "    .dataframe tbody tr th:only-of-type {\n",
       "        vertical-align: middle;\n",
       "    }\n",
       "\n",
       "    .dataframe tbody tr th {\n",
       "        vertical-align: top;\n",
       "    }\n",
       "\n",
       "    .dataframe thead th {\n",
       "        text-align: right;\n",
       "    }\n",
       "</style>\n",
       "<table border=\"1\" class=\"dataframe\">\n",
       "  <thead>\n",
       "    <tr style=\"text-align: right;\">\n",
       "      <th></th>\n",
       "      <th>Unnamed: 0</th>\n",
       "      <th>ent_regis</th>\n",
       "      <th>mun_regis</th>\n",
       "      <th>ent_resid</th>\n",
       "      <th>mun_resid</th>\n",
       "      <th>tloc_resid</th>\n",
       "      <th>loc_resid</th>\n",
       "      <th>ent_ocurr</th>\n",
       "      <th>mun_ocurr</th>\n",
       "      <th>tloc_ocurr</th>\n",
       "      <th>loc_ocurr</th>\n",
       "      <th>causa_def</th>\n",
       "      <th>lista_mex</th>\n",
       "      <th>sexo</th>\n",
       "      <th>edad</th>\n",
       "      <th>dia_ocurr</th>\n",
       "      <th>mes_ocurr</th>\n",
       "      <th>anio_ocur</th>\n",
       "      <th>dia_regis</th>\n",
       "      <th>mes_regis</th>\n",
       "      <th>anio_regis</th>\n",
       "      <th>dia_nacim</th>\n",
       "      <th>mes_nacim</th>\n",
       "      <th>anio_nacim</th>\n",
       "      <th>ocupacion</th>\n",
       "      <th>escolarida</th>\n",
       "      <th>edo_civil</th>\n",
       "      <th>presunto</th>\n",
       "      <th>ocurr_trab</th>\n",
       "      <th>lugar_ocur</th>\n",
       "      <th>necropsia</th>\n",
       "      <th>asist_medi</th>\n",
       "      <th>sitio_ocur</th>\n",
       "      <th>cond_cert</th>\n",
       "      <th>nacionalid</th>\n",
       "      <th>derechohab</th>\n",
       "      <th>embarazo</th>\n",
       "      <th>rel_emba</th>\n",
       "      <th>horas</th>\n",
       "      <th>minutos</th>\n",
       "      <th>capitulo</th>\n",
       "      <th>grupo</th>\n",
       "      <th>lista1</th>\n",
       "      <th>gr_lismex</th>\n",
       "      <th>vio_fami</th>\n",
       "      <th>area_ur</th>\n",
       "      <th>edad_agru</th>\n",
       "      <th>complicaro</th>\n",
       "      <th>dia_cert</th>\n",
       "      <th>mes_cert</th>\n",
       "      <th>anio_cert</th>\n",
       "      <th>maternas</th>\n",
       "      <th>lengua</th>\n",
       "      <th>cond_act</th>\n",
       "      <th>par_agre</th>\n",
       "      <th>ent_ocules</th>\n",
       "      <th>mun_ocules</th>\n",
       "      <th>loc_ocules</th>\n",
       "      <th>razon_m</th>\n",
       "      <th>dis_re_oax</th>\n",
       "      <th>date</th>\n",
       "    </tr>\n",
       "  </thead>\n",
       "  <tbody>\n",
       "    <tr>\n",
       "      <th>2</th>\n",
       "      <td>2</td>\n",
       "      <td>1</td>\n",
       "      <td>1</td>\n",
       "      <td>1.0</td>\n",
       "      <td>1.0</td>\n",
       "      <td>1.0</td>\n",
       "      <td>7777.0</td>\n",
       "      <td>1.0</td>\n",
       "      <td>1.0</td>\n",
       "      <td>1.0</td>\n",
       "      <td>7777.0</td>\n",
       "      <td>M729</td>\n",
       "      <td>37H</td>\n",
       "      <td>2</td>\n",
       "      <td>4081</td>\n",
       "      <td>28.0</td>\n",
       "      <td>2.0</td>\n",
       "      <td>2012.0</td>\n",
       "      <td>2.0</td>\n",
       "      <td>3</td>\n",
       "      <td>2012.0</td>\n",
       "      <td>99.0</td>\n",
       "      <td>99.0</td>\n",
       "      <td>1931.0</td>\n",
       "      <td>12</td>\n",
       "      <td>8</td>\n",
       "      <td>3</td>\n",
       "      <td>8.0</td>\n",
       "      <td>8</td>\n",
       "      <td>88.0</td>\n",
       "      <td>2.0</td>\n",
       "      <td>1</td>\n",
       "      <td>11.0</td>\n",
       "      <td>1.0</td>\n",
       "      <td>1</td>\n",
       "      <td>1</td>\n",
       "      <td>8</td>\n",
       "      <td>8</td>\n",
       "      <td>19.0</td>\n",
       "      <td>55.0</td>\n",
       "      <td>13.0</td>\n",
       "      <td>11.0</td>\n",
       "      <td>83.0</td>\n",
       "      <td>37</td>\n",
       "      <td>8.0</td>\n",
       "      <td>2</td>\n",
       "      <td>21.0</td>\n",
       "      <td>8.0</td>\n",
       "      <td>28.0</td>\n",
       "      <td>2.0</td>\n",
       "      <td>2012.0</td>\n",
       "      <td>NaN</td>\n",
       "      <td>9.0</td>\n",
       "      <td>1.0</td>\n",
       "      <td>88.0</td>\n",
       "      <td>88.0</td>\n",
       "      <td>888.0</td>\n",
       "      <td>8888.0</td>\n",
       "      <td>0.0</td>\n",
       "      <td>999.0</td>\n",
       "      <td>2012</td>\n",
       "    </tr>\n",
       "    <tr>\n",
       "      <th>7</th>\n",
       "      <td>7</td>\n",
       "      <td>1</td>\n",
       "      <td>1</td>\n",
       "      <td>1.0</td>\n",
       "      <td>1.0</td>\n",
       "      <td>15.0</td>\n",
       "      <td>1.0</td>\n",
       "      <td>1.0</td>\n",
       "      <td>1.0</td>\n",
       "      <td>15.0</td>\n",
       "      <td>1.0</td>\n",
       "      <td>C349</td>\n",
       "      <td>10B</td>\n",
       "      <td>2</td>\n",
       "      <td>4048</td>\n",
       "      <td>19.0</td>\n",
       "      <td>8.0</td>\n",
       "      <td>2011.0</td>\n",
       "      <td>13.0</td>\n",
       "      <td>3</td>\n",
       "      <td>2012.0</td>\n",
       "      <td>25.0</td>\n",
       "      <td>4.0</td>\n",
       "      <td>1963.0</td>\n",
       "      <td>81</td>\n",
       "      <td>6</td>\n",
       "      <td>5</td>\n",
       "      <td>8.0</td>\n",
       "      <td>8</td>\n",
       "      <td>88.0</td>\n",
       "      <td>2.0</td>\n",
       "      <td>1</td>\n",
       "      <td>11.0</td>\n",
       "      <td>1.0</td>\n",
       "      <td>1</td>\n",
       "      <td>2</td>\n",
       "      <td>5</td>\n",
       "      <td>2</td>\n",
       "      <td>17.0</td>\n",
       "      <td>50.0</td>\n",
       "      <td>2.0</td>\n",
       "      <td>3.0</td>\n",
       "      <td>34.0</td>\n",
       "      <td>10</td>\n",
       "      <td>8.0</td>\n",
       "      <td>1</td>\n",
       "      <td>14.0</td>\n",
       "      <td>2.0</td>\n",
       "      <td>19.0</td>\n",
       "      <td>8.0</td>\n",
       "      <td>2011.0</td>\n",
       "      <td>NaN</td>\n",
       "      <td>9.0</td>\n",
       "      <td>1.0</td>\n",
       "      <td>88.0</td>\n",
       "      <td>88.0</td>\n",
       "      <td>888.0</td>\n",
       "      <td>8888.0</td>\n",
       "      <td>0.0</td>\n",
       "      <td>999.0</td>\n",
       "      <td>2012</td>\n",
       "    </tr>\n",
       "    <tr>\n",
       "      <th>8</th>\n",
       "      <td>8</td>\n",
       "      <td>1</td>\n",
       "      <td>1</td>\n",
       "      <td>1.0</td>\n",
       "      <td>1.0</td>\n",
       "      <td>15.0</td>\n",
       "      <td>1.0</td>\n",
       "      <td>1.0</td>\n",
       "      <td>1.0</td>\n",
       "      <td>15.0</td>\n",
       "      <td>1.0</td>\n",
       "      <td>I219</td>\n",
       "      <td>28A</td>\n",
       "      <td>2</td>\n",
       "      <td>4070</td>\n",
       "      <td>15.0</td>\n",
       "      <td>3.0</td>\n",
       "      <td>2012.0</td>\n",
       "      <td>20.0</td>\n",
       "      <td>3</td>\n",
       "      <td>2012.0</td>\n",
       "      <td>15.0</td>\n",
       "      <td>3.0</td>\n",
       "      <td>1942.0</td>\n",
       "      <td>2</td>\n",
       "      <td>4</td>\n",
       "      <td>1</td>\n",
       "      <td>8.0</td>\n",
       "      <td>8</td>\n",
       "      <td>88.0</td>\n",
       "      <td>2.0</td>\n",
       "      <td>1</td>\n",
       "      <td>8.0</td>\n",
       "      <td>1.0</td>\n",
       "      <td>1</td>\n",
       "      <td>7</td>\n",
       "      <td>8</td>\n",
       "      <td>8</td>\n",
       "      <td>9.0</td>\n",
       "      <td>15.0</td>\n",
       "      <td>9.0</td>\n",
       "      <td>4.0</td>\n",
       "      <td>67.0</td>\n",
       "      <td>28</td>\n",
       "      <td>8.0</td>\n",
       "      <td>1</td>\n",
       "      <td>19.0</td>\n",
       "      <td>8.0</td>\n",
       "      <td>15.0</td>\n",
       "      <td>3.0</td>\n",
       "      <td>2012.0</td>\n",
       "      <td>NaN</td>\n",
       "      <td>9.0</td>\n",
       "      <td>2.0</td>\n",
       "      <td>88.0</td>\n",
       "      <td>88.0</td>\n",
       "      <td>888.0</td>\n",
       "      <td>8888.0</td>\n",
       "      <td>0.0</td>\n",
       "      <td>999.0</td>\n",
       "      <td>2012</td>\n",
       "    </tr>\n",
       "  </tbody>\n",
       "</table>\n",
       "</div>"
      ],
      "text/plain": [
       "   Unnamed: 0  ent_regis  mun_regis  ent_resid  mun_resid  tloc_resid  \\\n",
       "2           2          1          1        1.0        1.0         1.0   \n",
       "7           7          1          1        1.0        1.0        15.0   \n",
       "8           8          1          1        1.0        1.0        15.0   \n",
       "\n",
       "   loc_resid  ent_ocurr  mun_ocurr  tloc_ocurr  loc_ocurr causa_def lista_mex  \\\n",
       "2     7777.0        1.0        1.0         1.0     7777.0      M729       37H   \n",
       "7        1.0        1.0        1.0        15.0        1.0      C349       10B   \n",
       "8        1.0        1.0        1.0        15.0        1.0      I219       28A   \n",
       "\n",
       "   sexo  edad  dia_ocurr  mes_ocurr  anio_ocur  dia_regis  mes_regis  \\\n",
       "2     2  4081       28.0        2.0     2012.0        2.0          3   \n",
       "7     2  4048       19.0        8.0     2011.0       13.0          3   \n",
       "8     2  4070       15.0        3.0     2012.0       20.0          3   \n",
       "\n",
       "   anio_regis  dia_nacim  mes_nacim  anio_nacim  ocupacion  escolarida  \\\n",
       "2      2012.0       99.0       99.0      1931.0         12           8   \n",
       "7      2012.0       25.0        4.0      1963.0         81           6   \n",
       "8      2012.0       15.0        3.0      1942.0          2           4   \n",
       "\n",
       "   edo_civil  presunto  ocurr_trab  lugar_ocur  necropsia  asist_medi  \\\n",
       "2          3       8.0           8        88.0        2.0           1   \n",
       "7          5       8.0           8        88.0        2.0           1   \n",
       "8          1       8.0           8        88.0        2.0           1   \n",
       "\n",
       "   sitio_ocur  cond_cert  nacionalid  derechohab  embarazo  rel_emba  horas  \\\n",
       "2        11.0        1.0           1           1         8         8   19.0   \n",
       "7        11.0        1.0           1           2         5         2   17.0   \n",
       "8         8.0        1.0           1           7         8         8    9.0   \n",
       "\n",
       "   minutos  capitulo  grupo  lista1 gr_lismex  vio_fami  area_ur  edad_agru  \\\n",
       "2     55.0      13.0   11.0    83.0        37       8.0        2       21.0   \n",
       "7     50.0       2.0    3.0    34.0        10       8.0        1       14.0   \n",
       "8     15.0       9.0    4.0    67.0        28       8.0        1       19.0   \n",
       "\n",
       "   complicaro  dia_cert  mes_cert  anio_cert maternas  lengua  cond_act  \\\n",
       "2         8.0      28.0       2.0     2012.0      NaN     9.0       1.0   \n",
       "7         2.0      19.0       8.0     2011.0      NaN     9.0       1.0   \n",
       "8         8.0      15.0       3.0     2012.0      NaN     9.0       2.0   \n",
       "\n",
       "   par_agre  ent_ocules  mun_ocules  loc_ocules  razon_m  dis_re_oax  date  \n",
       "2      88.0        88.0       888.0      8888.0      0.0       999.0  2012  \n",
       "7      88.0        88.0       888.0      8888.0      0.0       999.0  2012  \n",
       "8      88.0        88.0       888.0      8888.0      0.0       999.0  2012  "
      ]
     },
     "execution_count": 39,
     "metadata": {},
     "output_type": "execute_result"
    }
   ],
   "source": [
    "mortalidad_mujeres.head(3)"
   ]
  },
  {
   "cell_type": "code",
   "execution_count": null,
   "metadata": {},
   "outputs": [],
   "source": [
    "#I219 Infarto agudo del miocardio\n",
    "#E119 Diabetes mellitus no insulinodependiente, sin complicaciones\n",
    "#E112 Diabetes mellitus no insulinodependiente, con complicaciones renales\n",
    "#E149 Diabetes mellitus no especificada\n",
    "#J189 Neumonia no especificada \n",
    "#C509 Tumor maligno de mama \n",
    "#J449 Enfermedad pulmonar obstructiva\n",
    "#K746 Cirrosis del higado\n",
    "#E142 Diabetes mellitus no especificada, con complicaciones renales\n",
    "#C539 Tumor maligno del cuello del utero\n",
    "#I10X Hipertension esencial (primaria)\n",
    "#I64X Accidente vascular encefálico \n",
    "#I110 Enfermedad cardiaca hipertensiva con insuficiencia cardiaca\n",
    "#J440 Enfermedad pulmonar obstructiva crónica con infección aguda de las vías respiratorias\n",
    "#E117 Diabetes mellitus no insulinodependiente con complicaciones múltiples\n",
    "#N189 Enfermedad renal crónica \n",
    "#I120 Enfermedad renal hipertensiva\n",
    "#I619 Enfermedad renal hipertensiva con insuficiencia renal\n",
    "#C169 Tumor maligno del estómago\n",
    "#N390 Infección en vías urinarias "
   ]
  },
  {
   "cell_type": "markdown",
   "metadata": {},
   "source": [
    "### Regiones Nielsen "
   ]
  },
  {
   "cell_type": "code",
   "execution_count": 24,
   "metadata": {},
   "outputs": [],
   "source": [
    "# Área I: Pacífico - Baja California Norte, Baja California Sur, Sonora, Sinaloa, Nayarit (5) - [2, 3, 26, 25, 18]\n",
    "# Área II: Norte - Chihuahua, Coahuila, Durango, Nuevo León, San Luis Potosí, Tamaulipas, Zacatecas (7) - [8, 5, 10, 19, 24, 28, 32]\n",
    "# Área III: Bajío-  Aguascalientes, Jalisco, Guanajuato, Colima, Michoacan (5) - [1, 14, 11, 6, 16]\n",
    "# Área IV: Centro- Hidalgo, Querétaro, Morelos, Edo. México, Tlaxcala, Puebla, Guerrero (7) - [13, 22, 17, 15, 29, 21, 12]\n",
    "# Área V: Valle de México - Cdmx (1) - [9]\n",
    "# Área VI: Sureste - Chiapas, Campeche, Yucatan, Quintana Roo, Veracruz, Oaxaca, Tabasco (7) - [7, 4, 31, 23, 30, 20, 27]"
   ]
  },
  {
   "cell_type": "code",
   "execution_count": 40,
   "metadata": {},
   "outputs": [],
   "source": [
    "pacifico = [2, 3, 26, 25, 18]\n",
    "norte = [8, 5, 10, 19, 24, 28, 32]\n",
    "bajio = [1, 14, 11, 6, 16]\n",
    "centro = [13, 22, 17, 15, 29, 21, 12]\n",
    "vallem = [9]\n",
    "sureste = [7, 4, 31, 23, 30, 20, 27]"
   ]
  },
  {
   "cell_type": "code",
   "execution_count": 42,
   "metadata": {},
   "outputs": [],
   "source": [
    "mortalidad_mujeres['region']=np.where(mortalidad_mujeres['ent_regis'].isin(pacifico),'pacifico',\n",
    "                                      np.where(mortalidad_mujeres['ent_regis'].isin(norte),'norte',\n",
    "                                               np.where(mortalidad_mujeres['ent_regis'].isin(bajio),'bajio',\n",
    "                                                np.where(mortalidad_mujeres['ent_regis'].isin(centro),'centro',\n",
    "                                                         np.where(mortalidad_mujeres['ent_regis'].isin(vallem),'vallem',\n",
    "                                                             np.where(mortalidad_mujeres['ent_regis'].isin(sureste),'sureste','revisar' \n",
    "                                                                  )\n",
    "                                                             )\n",
    "                                                       )\n",
    "                                                  )\n",
    "                                              )\n",
    "                                        )"
   ]
  },
  {
   "cell_type": "code",
   "execution_count": 44,
   "metadata": {},
   "outputs": [
    {
     "data": {
      "text/html": [
       "<div>\n",
       "<style scoped>\n",
       "    .dataframe tbody tr th:only-of-type {\n",
       "        vertical-align: middle;\n",
       "    }\n",
       "\n",
       "    .dataframe tbody tr th {\n",
       "        vertical-align: top;\n",
       "    }\n",
       "\n",
       "    .dataframe thead th {\n",
       "        text-align: right;\n",
       "    }\n",
       "</style>\n",
       "<table border=\"1\" class=\"dataframe\">\n",
       "  <thead>\n",
       "    <tr style=\"text-align: right;\">\n",
       "      <th></th>\n",
       "      <th>ent_regis</th>\n",
       "      <th>region</th>\n",
       "    </tr>\n",
       "  </thead>\n",
       "  <tbody>\n",
       "    <tr>\n",
       "      <th>2</th>\n",
       "      <td>1</td>\n",
       "      <td>bajio</td>\n",
       "    </tr>\n",
       "    <tr>\n",
       "      <th>7</th>\n",
       "      <td>1</td>\n",
       "      <td>bajio</td>\n",
       "    </tr>\n",
       "    <tr>\n",
       "      <th>8</th>\n",
       "      <td>1</td>\n",
       "      <td>bajio</td>\n",
       "    </tr>\n",
       "  </tbody>\n",
       "</table>\n",
       "</div>"
      ],
      "text/plain": [
       "   ent_regis region\n",
       "2          1  bajio\n",
       "7          1  bajio\n",
       "8          1  bajio"
      ]
     },
     "execution_count": 44,
     "metadata": {},
     "output_type": "execute_result"
    }
   ],
   "source": [
    "mortalidad_mujeres[['ent_regis','region']].head(3)"
   ]
  },
  {
   "cell_type": "code",
   "execution_count": 52,
   "metadata": {},
   "outputs": [],
   "source": [
    "mortalidad_mujeres['gpo_enfermedad']=np.where(mortalidad_mujeres['causa_def'].isin(EPOC),'EPOC',\n",
    "                                               np.where(mortalidad_mujeres['causa_def'].isin(asma),'asma',\n",
    "                                                 np.where(mortalidad_mujeres['causa_def'].isin(cardiovascular),'cardiovascular',\n",
    "                                                   np.where(mortalidad_mujeres['causa_def'].isin(hipertension),'hipertension',\n",
    "                                                     np.where(mortalidad_mujeres['causa_def'].isin(diabetes),'diabetes',\n",
    "                                                       np.where(mortalidad_mujeres['causa_def'].isin(neumonia),'neumonia',\n",
    "                                                         np.where(mortalidad_mujeres['causa_def'].isin(insuf_renal),'insuf_renal',\n",
    "                                                           np.where(mortalidad_mujeres['causa_def'].isin(obesidad),'obesidad',\n",
    "                                                              np.where(mortalidad_mujeres['causa_def'].isin(inmunosup),'inmunosupresores','otros'\n",
    "                                             )\n",
    "                                             )\n",
    "                                             )\n",
    "                                             )\n",
    "                                             )\n",
    "                                             )\n",
    "                                             )\n",
    "                                             )\n",
    "                                             )"
   ]
  },
  {
   "cell_type": "code",
   "execution_count": 53,
   "metadata": {},
   "outputs": [
    {
     "data": {
      "text/html": [
       "<div>\n",
       "<style scoped>\n",
       "    .dataframe tbody tr th:only-of-type {\n",
       "        vertical-align: middle;\n",
       "    }\n",
       "\n",
       "    .dataframe tbody tr th {\n",
       "        vertical-align: top;\n",
       "    }\n",
       "\n",
       "    .dataframe thead th {\n",
       "        text-align: right;\n",
       "    }\n",
       "</style>\n",
       "<table border=\"1\" class=\"dataframe\">\n",
       "  <thead>\n",
       "    <tr style=\"text-align: right;\">\n",
       "      <th></th>\n",
       "      <th>gpo_enfermedad</th>\n",
       "      <th>causa_def</th>\n",
       "    </tr>\n",
       "  </thead>\n",
       "  <tbody>\n",
       "    <tr>\n",
       "      <th>2</th>\n",
       "      <td>otros</td>\n",
       "      <td>M729</td>\n",
       "    </tr>\n",
       "    <tr>\n",
       "      <th>7</th>\n",
       "      <td>inmunosupresores</td>\n",
       "      <td>C349</td>\n",
       "    </tr>\n",
       "    <tr>\n",
       "      <th>8</th>\n",
       "      <td>otros</td>\n",
       "      <td>I219</td>\n",
       "    </tr>\n",
       "  </tbody>\n",
       "</table>\n",
       "</div>"
      ],
      "text/plain": [
       "     gpo_enfermedad causa_def\n",
       "2             otros      M729\n",
       "7  inmunosupresores      C349\n",
       "8             otros      I219"
      ]
     },
     "execution_count": 53,
     "metadata": {},
     "output_type": "execute_result"
    }
   ],
   "source": [
    "mortalidad_mujeres[['gpo_enfermedad','causa_def']].head(3)"
   ]
  },
  {
   "cell_type": "code",
   "execution_count": 25,
   "metadata": {},
   "outputs": [],
   "source": [
    "# pacifico = mortalidad_mujeres[mortalidad_mujeres['ent_regis'].isin([2, 3, 26, 25, 18])]\n",
    "# norte = mortalidad_mujeres[mortalidad_mujeres['ent_regis'].isin([8, 5, 10, 19, 24, 28, 32])]\n",
    "# bajio = mortalidad_mujeres[mortalidad_mujeres['ent_regis'].isin([1, 14, 11, 6, 16])]\n",
    "# centro = mortalidad_mujeres[mortalidad_mujeres['ent_regis'].isin([13, 22, 17, 15, 29, 21, 12])]\n",
    "# vallem = mortalidad_mujeres[mortalidad_mujeres['ent_regis'].isin([9])]\n",
    "# sureste = mortalidad_mujeres[mortalidad_mujeres['ent_regis'].isin([7, 4, 31, 23, 30, 20, 27])]"
   ]
  },
  {
   "cell_type": "code",
   "execution_count": 80,
   "metadata": {},
   "outputs": [],
   "source": [
    "# df = pacifico\n",
    "# # fig = px.line(df, x='anio_ocur', y='causa_def', color='causa_def')\n",
    "# fig = px.line(df, x='date', y='causa_def', color='causa_def')\n",
    "# fig.show()"
   ]
  },
  {
   "cell_type": "code",
   "execution_count": null,
   "metadata": {},
   "outputs": [],
   "source": [
    "defuncionesi = pacifico['causa_def'].value_counts() # No hay diferencias significativas\n",
    "#Infarto agudo del miocardio, Diabetes no insulinodependiente, Tumor maligno de mama, Neumonia no especificada, Diabetes no especificada "
   ]
  },
  {
   "cell_type": "code",
   "execution_count": null,
   "metadata": {},
   "outputs": [],
   "source": [
    "defuncionesii = norte['causa_def'].value_counts() # No hay diferencias significativas\n",
    "# Infarto agudo del miocardio, Diabetes no insulinodependiente, Diabetes no insulinodependiente, Neumonia no especificada, Tumor maligno de mama  "
   ]
  },
  {
   "cell_type": "code",
   "execution_count": null,
   "metadata": {},
   "outputs": [],
   "source": [
    "defuncionesiii = bajio['causa_def'].value_counts() # No hay diferencias significativas\n",
    "# Infarto agudo del miocardio, Diabetes no insulinodependiente, Diabetes no insulinodependiente, Neumonia, Tumor maligno de mama"
   ]
  },
  {
   "cell_type": "code",
   "execution_count": null,
   "metadata": {},
   "outputs": [],
   "source": [
    "defuncionesiv = centro['causa_def'].value_counts() #Registra más probabilidad de morir de diabetes\n",
    "# Infarto agudo del miocardio, Diabetes no insulinodependiente, Diabetes no insulinodependiente, Enfermedad pulmonar obstructiva, Diabetes mellitus no insulinodependiente "
   ]
  },
  {
   "cell_type": "code",
   "execution_count": null,
   "metadata": {},
   "outputs": [],
   "source": [
    "defuncionesv= vallem['causa_def'].value_counts() #No hay diferencias significativas\n",
    "#Infarto agudo del miocardio, Diabetes no insulinodependiente, Neumonia no especificada, Diabetes no insulinodependiente, Tumor maligno de mama  "
   ]
  },
  {
   "cell_type": "code",
   "execution_count": null,
   "metadata": {},
   "outputs": [],
   "source": [
    "defuncionesvi = sureste['causa_def'].value_counts() #Más probabilidad de morir de diabetes, único caso de cirrosis\n",
    "#Infarto agudo, Diabetes, Diabetes, Cirrosis del higado, Diabetes"
   ]
  },
  {
   "cell_type": "markdown",
   "metadata": {},
   "source": [
    "### Clasificación de las Enfermedades según la CIE-10 "
   ]
  },
  {
   "cell_type": "code",
   "execution_count": 45,
   "metadata": {},
   "outputs": [],
   "source": [
    "EPOC=[\"J44\"+str(i) for i in range(0,10)]\n",
    "\n",
    "asma=[\"J450\",\"J451\",\"J458\",\"J459\",\"J46X\"]\n",
    "# cardiovascular=[\"I0\"+str(i)+str(j) for i in range(5,10) for j in range(0,10)]+\\ # Cardiopatía reumática\n",
    "# [\"I10X\"]+[\"I1\"+str(i)+str(j) for i in range(0,6) for j in range(0,10)]+\\ # Hipertensión Arterial\n",
    "# [\"I42X\"]+[\"I42\"+str(i)+str(j)  for i in range(0,10) for j in range(0,10)]+\\ # Miocardiopatías\n",
    "# [\"I50X\"]+[\"I50\"+str(i)+str(j)  for i in range(0,10) for j in range(0,10)]+\\ # Insuficiencia cardiaca\n",
    "# [\"I60X\"]+[\"I\"+str(i)+str(j)  for i in range(60,70) for j in range(0,10)] +\\ # Enfermedad cerebrovascular\n",
    "# [\"I70X\",\"I80X\"]+[\"I\"+str(i)+str(j)  for i in range(70,90) for j in range(0,10)] +\\ # Enfermedad vascular perifería\n",
    "# [\"Q20X\"]+[\"Q2\"+str(i)+str(j)  for i in range(0,9) for j in range(0,10)] # Cardiopatía congénita\n",
    "\n",
    "cardiovascular=[\"I0\"+str(i)+str(j) for i in range(5,10) for j in range(0,10)]+ \\\n",
    "[\"I10X\"]+[\"I1\"+str(i)+str(j) for i in range(0,6) for j in range(0,10)]+ \\\n",
    "[\"I42X\"]+[\"I42\"+str(i) for i in range(0,10)]+\\\n",
    "[\"I50X\"]+[\"I50\"+str(i)  for i in range(0,10)]+\\\n",
    "[\"I60X\"]+[\"I\"+str(i)+str(j)  for i in range(60,70) for j in range(0,10)] +\\\n",
    "[\"I70X\",\"I80X\"]+[\"I\"+str(i)+str(j)  for i in range(70,90) for j in range(0,10)] +\\\n",
    "[\"Q20X\"]+[\"Q2\"+str(i)+str(j)  for i in range(0,9) for j in range(0,10)] \n",
    "\n",
    "hipertension=['G932','I270','I272','K766','O10X','O11X','O13X','O14X','O16X','P292']+ \\\n",
    "[\"O\"+str(i)+str(j) for i in range(10,15) for j in range(0,10)]+\\\n",
    "[\"O16\"+str(i) for i in range(0,10)]\n",
    "\n",
    "diabetes=[\"E1\"+str(i)+str(j) for i in range(0,5) for j in range(0,10)]+['E232','N251','P702']+[\"O24\"+str(i) for i in range(0,10)]\n",
    "\n",
    "neumonia=[\"J1\"+str(i)+str(j) for i in range(0,9) for j in range(0,10)]+['J851']+[\"P23\"+str(i) for i in range(0,10)]\n",
    "\n",
    "insuf_renal=[\"N1\"+str(i)+str(j) for i in range(7,10) for j in range(0,10)]+[\"I17X\",\"I18X\",\"I19X\"]+['P960']\n",
    "\n",
    "obesidad=[\"E66\"+str(i) for i in range(0,10)]\n",
    "\n",
    "'''VIH [B20-B24] + Cáncer [C0-C97] + Rechazo de trasplantes [T86] ''' \n",
    "inmunosup=[\"B\"+str(i)+str(j) for i in range(20,25) for j in range(0,10)]+['B24X','O987','R75X']+\\\n",
    "[\"C00\"+str(i) for i in range(0,10)]+[\"C0\"+str(i) for i in range(10,100)]+[\"C\"+str(i)+str(j) for i in range(10,97) for j in range(0,10)]+\\\n",
    "[\"T86\"+str(i) for i in range(0,10)]"
   ]
  },
  {
   "cell_type": "code",
   "execution_count": null,
   "metadata": {},
   "outputs": [],
   "source": [
    "import altair as alt\n",
    "from vega_datasets import data\n",
    "\n",
    "source = data.unemployment_across_industries.url\n",
    "selection = alt.selection_multi(fields=['series'], bind='legend')\n",
    "\n",
    "alt.Chart(source).mark_area().encode(\n",
    "    alt.X('yearmonth(date):T', axis=alt.Axis(domain=False, format='%Y', tickSize=0)),\n",
    "    alt.Y('sum(count):Q', stack='center', axis=None),\n",
    "    alt.Color('series:N', scale=alt.Scale(scheme='category20b')),\n",
    "    opacity=alt.condition(selection, alt.value(1), alt.value(0.2))\n",
    ").add_selection(\n",
    "    selection\n",
    ")\n"
   ]
  },
  {
   "cell_type": "code",
   "execution_count": null,
   "metadata": {},
   "outputs": [],
   "source": [
    "import plotly.express as px\n",
    "df = px.data.iris()\n",
    "fig = px.scatter(df, x=\"sepal_width\", y=\"sepal_length\", color=\"species\",\n",
    "                 size='petal_length', hover_data=['petal_width'])\n",
    "fig.show()"
   ]
  },
  {
   "cell_type": "code",
   "execution_count": 36,
   "metadata": {},
   "outputs": [
    {
     "data": {
      "application/vnd.plotly.v1+json": {
       "config": {
        "plotlyServerURL": "https://plot.ly"
       },
       "data": [
        {
         "branchvalues": "total",
         "domain": {
          "x": [
           0,
           1
          ],
          "y": [
           0,
           1
          ]
         },
         "hovertemplate": "labels=%{label}<br>total_bill=%{value}<br>parent=%{parent}<br>id=%{id}<extra></extra>",
         "ids": [
          "Fri/Dinner/Female",
          "Sat/Dinner/Female",
          "Sun/Dinner/Female",
          "Thur/Dinner/Female",
          "Fri/Lunch/Female",
          "Thur/Lunch/Female",
          "Fri/Dinner/Male",
          "Sat/Dinner/Male",
          "Sun/Dinner/Male",
          "Fri/Lunch/Male",
          "Thur/Lunch/Male",
          "Fri/Dinner",
          "Sat/Dinner",
          "Sun/Dinner",
          "Thur/Dinner",
          "Fri/Lunch",
          "Thur/Lunch",
          "Fri",
          "Sat",
          "Sun",
          "Thur"
         ],
         "labels": [
          "Female",
          "Female",
          "Female",
          "Female",
          "Female",
          "Female",
          "Male",
          "Male",
          "Male",
          "Male",
          "Male",
          "Dinner",
          "Dinner",
          "Dinner",
          "Dinner",
          "Lunch",
          "Lunch",
          "Fri",
          "Sat",
          "Sun",
          "Thur"
         ],
         "name": "",
         "parents": [
          "Fri/Dinner",
          "Sat/Dinner",
          "Sun/Dinner",
          "Thur/Dinner",
          "Fri/Lunch",
          "Thur/Lunch",
          "Fri/Dinner",
          "Sat/Dinner",
          "Sun/Dinner",
          "Fri/Lunch",
          "Thur/Lunch",
          "Fri",
          "Sat",
          "Sun",
          "Thur",
          "Fri",
          "Thur",
          "",
          "",
          "",
          ""
         ],
         "type": "sunburst",
         "values": [
          71.55,
          551.0499999999998,
          357.69999999999993,
          18.78,
          55.760000000000005,
          516.11,
          164.41,
          1227.3499999999997,
          1269.46,
          34.160000000000004,
          561.4399999999999,
          235.95999999999998,
          1778.3999999999996,
          1627.1600000000003,
          18.78,
          89.92,
          1077.5499999999997,
          325.87999999999994,
          1778.3999999999996,
          1627.1600000000003,
          1096.3299999999997
         ]
        }
       ],
       "layout": {
        "legend": {
         "tracegroupgap": 0
        },
        "margin": {
         "t": 60
        },
        "template": {
         "data": {
          "bar": [
           {
            "error_x": {
             "color": "#2a3f5f"
            },
            "error_y": {
             "color": "#2a3f5f"
            },
            "marker": {
             "line": {
              "color": "#E5ECF6",
              "width": 0.5
             }
            },
            "type": "bar"
           }
          ],
          "barpolar": [
           {
            "marker": {
             "line": {
              "color": "#E5ECF6",
              "width": 0.5
             }
            },
            "type": "barpolar"
           }
          ],
          "carpet": [
           {
            "aaxis": {
             "endlinecolor": "#2a3f5f",
             "gridcolor": "white",
             "linecolor": "white",
             "minorgridcolor": "white",
             "startlinecolor": "#2a3f5f"
            },
            "baxis": {
             "endlinecolor": "#2a3f5f",
             "gridcolor": "white",
             "linecolor": "white",
             "minorgridcolor": "white",
             "startlinecolor": "#2a3f5f"
            },
            "type": "carpet"
           }
          ],
          "choropleth": [
           {
            "colorbar": {
             "outlinewidth": 0,
             "ticks": ""
            },
            "type": "choropleth"
           }
          ],
          "contour": [
           {
            "colorbar": {
             "outlinewidth": 0,
             "ticks": ""
            },
            "colorscale": [
             [
              0,
              "#0d0887"
             ],
             [
              0.1111111111111111,
              "#46039f"
             ],
             [
              0.2222222222222222,
              "#7201a8"
             ],
             [
              0.3333333333333333,
              "#9c179e"
             ],
             [
              0.4444444444444444,
              "#bd3786"
             ],
             [
              0.5555555555555556,
              "#d8576b"
             ],
             [
              0.6666666666666666,
              "#ed7953"
             ],
             [
              0.7777777777777778,
              "#fb9f3a"
             ],
             [
              0.8888888888888888,
              "#fdca26"
             ],
             [
              1,
              "#f0f921"
             ]
            ],
            "type": "contour"
           }
          ],
          "contourcarpet": [
           {
            "colorbar": {
             "outlinewidth": 0,
             "ticks": ""
            },
            "type": "contourcarpet"
           }
          ],
          "heatmap": [
           {
            "colorbar": {
             "outlinewidth": 0,
             "ticks": ""
            },
            "colorscale": [
             [
              0,
              "#0d0887"
             ],
             [
              0.1111111111111111,
              "#46039f"
             ],
             [
              0.2222222222222222,
              "#7201a8"
             ],
             [
              0.3333333333333333,
              "#9c179e"
             ],
             [
              0.4444444444444444,
              "#bd3786"
             ],
             [
              0.5555555555555556,
              "#d8576b"
             ],
             [
              0.6666666666666666,
              "#ed7953"
             ],
             [
              0.7777777777777778,
              "#fb9f3a"
             ],
             [
              0.8888888888888888,
              "#fdca26"
             ],
             [
              1,
              "#f0f921"
             ]
            ],
            "type": "heatmap"
           }
          ],
          "heatmapgl": [
           {
            "colorbar": {
             "outlinewidth": 0,
             "ticks": ""
            },
            "colorscale": [
             [
              0,
              "#0d0887"
             ],
             [
              0.1111111111111111,
              "#46039f"
             ],
             [
              0.2222222222222222,
              "#7201a8"
             ],
             [
              0.3333333333333333,
              "#9c179e"
             ],
             [
              0.4444444444444444,
              "#bd3786"
             ],
             [
              0.5555555555555556,
              "#d8576b"
             ],
             [
              0.6666666666666666,
              "#ed7953"
             ],
             [
              0.7777777777777778,
              "#fb9f3a"
             ],
             [
              0.8888888888888888,
              "#fdca26"
             ],
             [
              1,
              "#f0f921"
             ]
            ],
            "type": "heatmapgl"
           }
          ],
          "histogram": [
           {
            "marker": {
             "colorbar": {
              "outlinewidth": 0,
              "ticks": ""
             }
            },
            "type": "histogram"
           }
          ],
          "histogram2d": [
           {
            "colorbar": {
             "outlinewidth": 0,
             "ticks": ""
            },
            "colorscale": [
             [
              0,
              "#0d0887"
             ],
             [
              0.1111111111111111,
              "#46039f"
             ],
             [
              0.2222222222222222,
              "#7201a8"
             ],
             [
              0.3333333333333333,
              "#9c179e"
             ],
             [
              0.4444444444444444,
              "#bd3786"
             ],
             [
              0.5555555555555556,
              "#d8576b"
             ],
             [
              0.6666666666666666,
              "#ed7953"
             ],
             [
              0.7777777777777778,
              "#fb9f3a"
             ],
             [
              0.8888888888888888,
              "#fdca26"
             ],
             [
              1,
              "#f0f921"
             ]
            ],
            "type": "histogram2d"
           }
          ],
          "histogram2dcontour": [
           {
            "colorbar": {
             "outlinewidth": 0,
             "ticks": ""
            },
            "colorscale": [
             [
              0,
              "#0d0887"
             ],
             [
              0.1111111111111111,
              "#46039f"
             ],
             [
              0.2222222222222222,
              "#7201a8"
             ],
             [
              0.3333333333333333,
              "#9c179e"
             ],
             [
              0.4444444444444444,
              "#bd3786"
             ],
             [
              0.5555555555555556,
              "#d8576b"
             ],
             [
              0.6666666666666666,
              "#ed7953"
             ],
             [
              0.7777777777777778,
              "#fb9f3a"
             ],
             [
              0.8888888888888888,
              "#fdca26"
             ],
             [
              1,
              "#f0f921"
             ]
            ],
            "type": "histogram2dcontour"
           }
          ],
          "mesh3d": [
           {
            "colorbar": {
             "outlinewidth": 0,
             "ticks": ""
            },
            "type": "mesh3d"
           }
          ],
          "parcoords": [
           {
            "line": {
             "colorbar": {
              "outlinewidth": 0,
              "ticks": ""
             }
            },
            "type": "parcoords"
           }
          ],
          "pie": [
           {
            "automargin": true,
            "type": "pie"
           }
          ],
          "scatter": [
           {
            "marker": {
             "colorbar": {
              "outlinewidth": 0,
              "ticks": ""
             }
            },
            "type": "scatter"
           }
          ],
          "scatter3d": [
           {
            "line": {
             "colorbar": {
              "outlinewidth": 0,
              "ticks": ""
             }
            },
            "marker": {
             "colorbar": {
              "outlinewidth": 0,
              "ticks": ""
             }
            },
            "type": "scatter3d"
           }
          ],
          "scattercarpet": [
           {
            "marker": {
             "colorbar": {
              "outlinewidth": 0,
              "ticks": ""
             }
            },
            "type": "scattercarpet"
           }
          ],
          "scattergeo": [
           {
            "marker": {
             "colorbar": {
              "outlinewidth": 0,
              "ticks": ""
             }
            },
            "type": "scattergeo"
           }
          ],
          "scattergl": [
           {
            "marker": {
             "colorbar": {
              "outlinewidth": 0,
              "ticks": ""
             }
            },
            "type": "scattergl"
           }
          ],
          "scattermapbox": [
           {
            "marker": {
             "colorbar": {
              "outlinewidth": 0,
              "ticks": ""
             }
            },
            "type": "scattermapbox"
           }
          ],
          "scatterpolar": [
           {
            "marker": {
             "colorbar": {
              "outlinewidth": 0,
              "ticks": ""
             }
            },
            "type": "scatterpolar"
           }
          ],
          "scatterpolargl": [
           {
            "marker": {
             "colorbar": {
              "outlinewidth": 0,
              "ticks": ""
             }
            },
            "type": "scatterpolargl"
           }
          ],
          "scatterternary": [
           {
            "marker": {
             "colorbar": {
              "outlinewidth": 0,
              "ticks": ""
             }
            },
            "type": "scatterternary"
           }
          ],
          "surface": [
           {
            "colorbar": {
             "outlinewidth": 0,
             "ticks": ""
            },
            "colorscale": [
             [
              0,
              "#0d0887"
             ],
             [
              0.1111111111111111,
              "#46039f"
             ],
             [
              0.2222222222222222,
              "#7201a8"
             ],
             [
              0.3333333333333333,
              "#9c179e"
             ],
             [
              0.4444444444444444,
              "#bd3786"
             ],
             [
              0.5555555555555556,
              "#d8576b"
             ],
             [
              0.6666666666666666,
              "#ed7953"
             ],
             [
              0.7777777777777778,
              "#fb9f3a"
             ],
             [
              0.8888888888888888,
              "#fdca26"
             ],
             [
              1,
              "#f0f921"
             ]
            ],
            "type": "surface"
           }
          ],
          "table": [
           {
            "cells": {
             "fill": {
              "color": "#EBF0F8"
             },
             "line": {
              "color": "white"
             }
            },
            "header": {
             "fill": {
              "color": "#C8D4E3"
             },
             "line": {
              "color": "white"
             }
            },
            "type": "table"
           }
          ]
         },
         "layout": {
          "annotationdefaults": {
           "arrowcolor": "#2a3f5f",
           "arrowhead": 0,
           "arrowwidth": 1
          },
          "autotypenumbers": "strict",
          "coloraxis": {
           "colorbar": {
            "outlinewidth": 0,
            "ticks": ""
           }
          },
          "colorscale": {
           "diverging": [
            [
             0,
             "#8e0152"
            ],
            [
             0.1,
             "#c51b7d"
            ],
            [
             0.2,
             "#de77ae"
            ],
            [
             0.3,
             "#f1b6da"
            ],
            [
             0.4,
             "#fde0ef"
            ],
            [
             0.5,
             "#f7f7f7"
            ],
            [
             0.6,
             "#e6f5d0"
            ],
            [
             0.7,
             "#b8e186"
            ],
            [
             0.8,
             "#7fbc41"
            ],
            [
             0.9,
             "#4d9221"
            ],
            [
             1,
             "#276419"
            ]
           ],
           "sequential": [
            [
             0,
             "#0d0887"
            ],
            [
             0.1111111111111111,
             "#46039f"
            ],
            [
             0.2222222222222222,
             "#7201a8"
            ],
            [
             0.3333333333333333,
             "#9c179e"
            ],
            [
             0.4444444444444444,
             "#bd3786"
            ],
            [
             0.5555555555555556,
             "#d8576b"
            ],
            [
             0.6666666666666666,
             "#ed7953"
            ],
            [
             0.7777777777777778,
             "#fb9f3a"
            ],
            [
             0.8888888888888888,
             "#fdca26"
            ],
            [
             1,
             "#f0f921"
            ]
           ],
           "sequentialminus": [
            [
             0,
             "#0d0887"
            ],
            [
             0.1111111111111111,
             "#46039f"
            ],
            [
             0.2222222222222222,
             "#7201a8"
            ],
            [
             0.3333333333333333,
             "#9c179e"
            ],
            [
             0.4444444444444444,
             "#bd3786"
            ],
            [
             0.5555555555555556,
             "#d8576b"
            ],
            [
             0.6666666666666666,
             "#ed7953"
            ],
            [
             0.7777777777777778,
             "#fb9f3a"
            ],
            [
             0.8888888888888888,
             "#fdca26"
            ],
            [
             1,
             "#f0f921"
            ]
           ]
          },
          "colorway": [
           "#636efa",
           "#EF553B",
           "#00cc96",
           "#ab63fa",
           "#FFA15A",
           "#19d3f3",
           "#FF6692",
           "#B6E880",
           "#FF97FF",
           "#FECB52"
          ],
          "font": {
           "color": "#2a3f5f"
          },
          "geo": {
           "bgcolor": "white",
           "lakecolor": "white",
           "landcolor": "#E5ECF6",
           "showlakes": true,
           "showland": true,
           "subunitcolor": "white"
          },
          "hoverlabel": {
           "align": "left"
          },
          "hovermode": "closest",
          "mapbox": {
           "style": "light"
          },
          "paper_bgcolor": "white",
          "plot_bgcolor": "#E5ECF6",
          "polar": {
           "angularaxis": {
            "gridcolor": "white",
            "linecolor": "white",
            "ticks": ""
           },
           "bgcolor": "#E5ECF6",
           "radialaxis": {
            "gridcolor": "white",
            "linecolor": "white",
            "ticks": ""
           }
          },
          "scene": {
           "xaxis": {
            "backgroundcolor": "#E5ECF6",
            "gridcolor": "white",
            "gridwidth": 2,
            "linecolor": "white",
            "showbackground": true,
            "ticks": "",
            "zerolinecolor": "white"
           },
           "yaxis": {
            "backgroundcolor": "#E5ECF6",
            "gridcolor": "white",
            "gridwidth": 2,
            "linecolor": "white",
            "showbackground": true,
            "ticks": "",
            "zerolinecolor": "white"
           },
           "zaxis": {
            "backgroundcolor": "#E5ECF6",
            "gridcolor": "white",
            "gridwidth": 2,
            "linecolor": "white",
            "showbackground": true,
            "ticks": "",
            "zerolinecolor": "white"
           }
          },
          "shapedefaults": {
           "line": {
            "color": "#2a3f5f"
           }
          },
          "ternary": {
           "aaxis": {
            "gridcolor": "white",
            "linecolor": "white",
            "ticks": ""
           },
           "baxis": {
            "gridcolor": "white",
            "linecolor": "white",
            "ticks": ""
           },
           "bgcolor": "#E5ECF6",
           "caxis": {
            "gridcolor": "white",
            "linecolor": "white",
            "ticks": ""
           }
          },
          "title": {
           "x": 0.05
          },
          "xaxis": {
           "automargin": true,
           "gridcolor": "white",
           "linecolor": "white",
           "ticks": "",
           "title": {
            "standoff": 15
           },
           "zerolinecolor": "white",
           "zerolinewidth": 2
          },
          "yaxis": {
           "automargin": true,
           "gridcolor": "white",
           "linecolor": "white",
           "ticks": "",
           "title": {
            "standoff": 15
           },
           "zerolinecolor": "white",
           "zerolinewidth": 2
          }
         }
        }
       }
      },
      "text/html": [
       "<div>                            <div id=\"6b2227d4-2ad6-43cc-9bbf-d32447806aee\" class=\"plotly-graph-div\" style=\"height:525px; width:100%;\"></div>            <script type=\"text/javascript\">                require([\"plotly\"], function(Plotly) {                    window.PLOTLYENV=window.PLOTLYENV || {};                                    if (document.getElementById(\"6b2227d4-2ad6-43cc-9bbf-d32447806aee\")) {                    Plotly.newPlot(                        \"6b2227d4-2ad6-43cc-9bbf-d32447806aee\",                        [{\"branchvalues\": \"total\", \"domain\": {\"x\": [0.0, 1.0], \"y\": [0.0, 1.0]}, \"hovertemplate\": \"labels=%{label}<br>total_bill=%{value}<br>parent=%{parent}<br>id=%{id}<extra></extra>\", \"ids\": [\"Fri/Dinner/Female\", \"Sat/Dinner/Female\", \"Sun/Dinner/Female\", \"Thur/Dinner/Female\", \"Fri/Lunch/Female\", \"Thur/Lunch/Female\", \"Fri/Dinner/Male\", \"Sat/Dinner/Male\", \"Sun/Dinner/Male\", \"Fri/Lunch/Male\", \"Thur/Lunch/Male\", \"Fri/Dinner\", \"Sat/Dinner\", \"Sun/Dinner\", \"Thur/Dinner\", \"Fri/Lunch\", \"Thur/Lunch\", \"Fri\", \"Sat\", \"Sun\", \"Thur\"], \"labels\": [\"Female\", \"Female\", \"Female\", \"Female\", \"Female\", \"Female\", \"Male\", \"Male\", \"Male\", \"Male\", \"Male\", \"Dinner\", \"Dinner\", \"Dinner\", \"Dinner\", \"Lunch\", \"Lunch\", \"Fri\", \"Sat\", \"Sun\", \"Thur\"], \"name\": \"\", \"parents\": [\"Fri/Dinner\", \"Sat/Dinner\", \"Sun/Dinner\", \"Thur/Dinner\", \"Fri/Lunch\", \"Thur/Lunch\", \"Fri/Dinner\", \"Sat/Dinner\", \"Sun/Dinner\", \"Fri/Lunch\", \"Thur/Lunch\", \"Fri\", \"Sat\", \"Sun\", \"Thur\", \"Fri\", \"Thur\", \"\", \"\", \"\", \"\"], \"type\": \"sunburst\", \"values\": [71.55, 551.0499999999998, 357.69999999999993, 18.78, 55.760000000000005, 516.11, 164.41, 1227.3499999999997, 1269.46, 34.160000000000004, 561.4399999999999, 235.95999999999998, 1778.3999999999996, 1627.1600000000003, 18.78, 89.92, 1077.5499999999997, 325.87999999999994, 1778.3999999999996, 1627.1600000000003, 1096.3299999999997]}],                        {\"legend\": {\"tracegroupgap\": 0}, \"margin\": {\"t\": 60}, \"template\": {\"data\": {\"bar\": [{\"error_x\": {\"color\": \"#2a3f5f\"}, \"error_y\": {\"color\": \"#2a3f5f\"}, \"marker\": {\"line\": {\"color\": \"#E5ECF6\", \"width\": 0.5}}, \"type\": \"bar\"}], \"barpolar\": [{\"marker\": {\"line\": {\"color\": \"#E5ECF6\", \"width\": 0.5}}, \"type\": \"barpolar\"}], \"carpet\": [{\"aaxis\": {\"endlinecolor\": \"#2a3f5f\", \"gridcolor\": \"white\", \"linecolor\": \"white\", \"minorgridcolor\": \"white\", \"startlinecolor\": \"#2a3f5f\"}, \"baxis\": {\"endlinecolor\": \"#2a3f5f\", \"gridcolor\": \"white\", \"linecolor\": \"white\", \"minorgridcolor\": \"white\", \"startlinecolor\": \"#2a3f5f\"}, \"type\": \"carpet\"}], \"choropleth\": [{\"colorbar\": {\"outlinewidth\": 0, \"ticks\": \"\"}, \"type\": \"choropleth\"}], \"contour\": [{\"colorbar\": {\"outlinewidth\": 0, \"ticks\": \"\"}, \"colorscale\": [[0.0, \"#0d0887\"], [0.1111111111111111, \"#46039f\"], [0.2222222222222222, \"#7201a8\"], [0.3333333333333333, \"#9c179e\"], [0.4444444444444444, \"#bd3786\"], [0.5555555555555556, \"#d8576b\"], [0.6666666666666666, \"#ed7953\"], [0.7777777777777778, \"#fb9f3a\"], [0.8888888888888888, \"#fdca26\"], [1.0, \"#f0f921\"]], \"type\": \"contour\"}], \"contourcarpet\": [{\"colorbar\": {\"outlinewidth\": 0, \"ticks\": \"\"}, \"type\": \"contourcarpet\"}], \"heatmap\": [{\"colorbar\": {\"outlinewidth\": 0, \"ticks\": \"\"}, \"colorscale\": [[0.0, \"#0d0887\"], [0.1111111111111111, \"#46039f\"], [0.2222222222222222, \"#7201a8\"], [0.3333333333333333, \"#9c179e\"], [0.4444444444444444, \"#bd3786\"], [0.5555555555555556, \"#d8576b\"], [0.6666666666666666, \"#ed7953\"], [0.7777777777777778, \"#fb9f3a\"], [0.8888888888888888, \"#fdca26\"], [1.0, \"#f0f921\"]], \"type\": \"heatmap\"}], \"heatmapgl\": [{\"colorbar\": {\"outlinewidth\": 0, \"ticks\": \"\"}, \"colorscale\": [[0.0, \"#0d0887\"], [0.1111111111111111, \"#46039f\"], [0.2222222222222222, \"#7201a8\"], [0.3333333333333333, \"#9c179e\"], [0.4444444444444444, \"#bd3786\"], [0.5555555555555556, \"#d8576b\"], [0.6666666666666666, \"#ed7953\"], [0.7777777777777778, \"#fb9f3a\"], [0.8888888888888888, \"#fdca26\"], [1.0, \"#f0f921\"]], \"type\": \"heatmapgl\"}], \"histogram\": [{\"marker\": {\"colorbar\": {\"outlinewidth\": 0, \"ticks\": \"\"}}, \"type\": \"histogram\"}], \"histogram2d\": [{\"colorbar\": {\"outlinewidth\": 0, \"ticks\": \"\"}, \"colorscale\": [[0.0, \"#0d0887\"], [0.1111111111111111, \"#46039f\"], [0.2222222222222222, \"#7201a8\"], [0.3333333333333333, \"#9c179e\"], [0.4444444444444444, \"#bd3786\"], [0.5555555555555556, \"#d8576b\"], [0.6666666666666666, \"#ed7953\"], [0.7777777777777778, \"#fb9f3a\"], [0.8888888888888888, \"#fdca26\"], [1.0, \"#f0f921\"]], \"type\": \"histogram2d\"}], \"histogram2dcontour\": [{\"colorbar\": {\"outlinewidth\": 0, \"ticks\": \"\"}, \"colorscale\": [[0.0, \"#0d0887\"], [0.1111111111111111, \"#46039f\"], [0.2222222222222222, \"#7201a8\"], [0.3333333333333333, \"#9c179e\"], [0.4444444444444444, \"#bd3786\"], [0.5555555555555556, \"#d8576b\"], [0.6666666666666666, \"#ed7953\"], [0.7777777777777778, \"#fb9f3a\"], [0.8888888888888888, \"#fdca26\"], [1.0, \"#f0f921\"]], \"type\": \"histogram2dcontour\"}], \"mesh3d\": [{\"colorbar\": {\"outlinewidth\": 0, \"ticks\": \"\"}, \"type\": \"mesh3d\"}], \"parcoords\": [{\"line\": {\"colorbar\": {\"outlinewidth\": 0, \"ticks\": \"\"}}, \"type\": \"parcoords\"}], \"pie\": [{\"automargin\": true, \"type\": \"pie\"}], \"scatter\": [{\"marker\": {\"colorbar\": {\"outlinewidth\": 0, \"ticks\": \"\"}}, \"type\": \"scatter\"}], \"scatter3d\": [{\"line\": {\"colorbar\": {\"outlinewidth\": 0, \"ticks\": \"\"}}, \"marker\": {\"colorbar\": {\"outlinewidth\": 0, \"ticks\": \"\"}}, \"type\": \"scatter3d\"}], \"scattercarpet\": [{\"marker\": {\"colorbar\": {\"outlinewidth\": 0, \"ticks\": \"\"}}, \"type\": \"scattercarpet\"}], \"scattergeo\": [{\"marker\": {\"colorbar\": {\"outlinewidth\": 0, \"ticks\": \"\"}}, \"type\": \"scattergeo\"}], \"scattergl\": [{\"marker\": {\"colorbar\": {\"outlinewidth\": 0, \"ticks\": \"\"}}, \"type\": \"scattergl\"}], \"scattermapbox\": [{\"marker\": {\"colorbar\": {\"outlinewidth\": 0, \"ticks\": \"\"}}, \"type\": \"scattermapbox\"}], \"scatterpolar\": [{\"marker\": {\"colorbar\": {\"outlinewidth\": 0, \"ticks\": \"\"}}, \"type\": \"scatterpolar\"}], \"scatterpolargl\": [{\"marker\": {\"colorbar\": {\"outlinewidth\": 0, \"ticks\": \"\"}}, \"type\": \"scatterpolargl\"}], \"scatterternary\": [{\"marker\": {\"colorbar\": {\"outlinewidth\": 0, \"ticks\": \"\"}}, \"type\": \"scatterternary\"}], \"surface\": [{\"colorbar\": {\"outlinewidth\": 0, \"ticks\": \"\"}, \"colorscale\": [[0.0, \"#0d0887\"], [0.1111111111111111, \"#46039f\"], [0.2222222222222222, \"#7201a8\"], [0.3333333333333333, \"#9c179e\"], [0.4444444444444444, \"#bd3786\"], [0.5555555555555556, \"#d8576b\"], [0.6666666666666666, \"#ed7953\"], [0.7777777777777778, \"#fb9f3a\"], [0.8888888888888888, \"#fdca26\"], [1.0, \"#f0f921\"]], \"type\": \"surface\"}], \"table\": [{\"cells\": {\"fill\": {\"color\": \"#EBF0F8\"}, \"line\": {\"color\": \"white\"}}, \"header\": {\"fill\": {\"color\": \"#C8D4E3\"}, \"line\": {\"color\": \"white\"}}, \"type\": \"table\"}]}, \"layout\": {\"annotationdefaults\": {\"arrowcolor\": \"#2a3f5f\", \"arrowhead\": 0, \"arrowwidth\": 1}, \"autotypenumbers\": \"strict\", \"coloraxis\": {\"colorbar\": {\"outlinewidth\": 0, \"ticks\": \"\"}}, \"colorscale\": {\"diverging\": [[0, \"#8e0152\"], [0.1, \"#c51b7d\"], [0.2, \"#de77ae\"], [0.3, \"#f1b6da\"], [0.4, \"#fde0ef\"], [0.5, \"#f7f7f7\"], [0.6, \"#e6f5d0\"], [0.7, \"#b8e186\"], [0.8, \"#7fbc41\"], [0.9, \"#4d9221\"], [1, \"#276419\"]], \"sequential\": [[0.0, \"#0d0887\"], [0.1111111111111111, \"#46039f\"], [0.2222222222222222, \"#7201a8\"], [0.3333333333333333, \"#9c179e\"], [0.4444444444444444, \"#bd3786\"], [0.5555555555555556, \"#d8576b\"], [0.6666666666666666, \"#ed7953\"], [0.7777777777777778, \"#fb9f3a\"], [0.8888888888888888, \"#fdca26\"], [1.0, \"#f0f921\"]], \"sequentialminus\": [[0.0, \"#0d0887\"], [0.1111111111111111, \"#46039f\"], [0.2222222222222222, \"#7201a8\"], [0.3333333333333333, \"#9c179e\"], [0.4444444444444444, \"#bd3786\"], [0.5555555555555556, \"#d8576b\"], [0.6666666666666666, \"#ed7953\"], [0.7777777777777778, \"#fb9f3a\"], [0.8888888888888888, \"#fdca26\"], [1.0, \"#f0f921\"]]}, \"colorway\": [\"#636efa\", \"#EF553B\", \"#00cc96\", \"#ab63fa\", \"#FFA15A\", \"#19d3f3\", \"#FF6692\", \"#B6E880\", \"#FF97FF\", \"#FECB52\"], \"font\": {\"color\": \"#2a3f5f\"}, \"geo\": {\"bgcolor\": \"white\", \"lakecolor\": \"white\", \"landcolor\": \"#E5ECF6\", \"showlakes\": true, \"showland\": true, \"subunitcolor\": \"white\"}, \"hoverlabel\": {\"align\": \"left\"}, \"hovermode\": \"closest\", \"mapbox\": {\"style\": \"light\"}, \"paper_bgcolor\": \"white\", \"plot_bgcolor\": \"#E5ECF6\", \"polar\": {\"angularaxis\": {\"gridcolor\": \"white\", \"linecolor\": \"white\", \"ticks\": \"\"}, \"bgcolor\": \"#E5ECF6\", \"radialaxis\": {\"gridcolor\": \"white\", \"linecolor\": \"white\", \"ticks\": \"\"}}, \"scene\": {\"xaxis\": {\"backgroundcolor\": \"#E5ECF6\", \"gridcolor\": \"white\", \"gridwidth\": 2, \"linecolor\": \"white\", \"showbackground\": true, \"ticks\": \"\", \"zerolinecolor\": \"white\"}, \"yaxis\": {\"backgroundcolor\": \"#E5ECF6\", \"gridcolor\": \"white\", \"gridwidth\": 2, \"linecolor\": \"white\", \"showbackground\": true, \"ticks\": \"\", \"zerolinecolor\": \"white\"}, \"zaxis\": {\"backgroundcolor\": \"#E5ECF6\", \"gridcolor\": \"white\", \"gridwidth\": 2, \"linecolor\": \"white\", \"showbackground\": true, \"ticks\": \"\", \"zerolinecolor\": \"white\"}}, \"shapedefaults\": {\"line\": {\"color\": \"#2a3f5f\"}}, \"ternary\": {\"aaxis\": {\"gridcolor\": \"white\", \"linecolor\": \"white\", \"ticks\": \"\"}, \"baxis\": {\"gridcolor\": \"white\", \"linecolor\": \"white\", \"ticks\": \"\"}, \"bgcolor\": \"#E5ECF6\", \"caxis\": {\"gridcolor\": \"white\", \"linecolor\": \"white\", \"ticks\": \"\"}}, \"title\": {\"x\": 0.05}, \"xaxis\": {\"automargin\": true, \"gridcolor\": \"white\", \"linecolor\": \"white\", \"ticks\": \"\", \"title\": {\"standoff\": 15}, \"zerolinecolor\": \"white\", \"zerolinewidth\": 2}, \"yaxis\": {\"automargin\": true, \"gridcolor\": \"white\", \"linecolor\": \"white\", \"ticks\": \"\", \"title\": {\"standoff\": 15}, \"zerolinecolor\": \"white\", \"zerolinewidth\": 2}}}},                        {\"responsive\": true}                    ).then(function(){\n",
       "                            \n",
       "var gd = document.getElementById('6b2227d4-2ad6-43cc-9bbf-d32447806aee');\n",
       "var x = new MutationObserver(function (mutations, observer) {{\n",
       "        var display = window.getComputedStyle(gd).display;\n",
       "        if (!display || display === 'none') {{\n",
       "            console.log([gd, 'removed!']);\n",
       "            Plotly.purge(gd);\n",
       "            observer.disconnect();\n",
       "        }}\n",
       "}});\n",
       "\n",
       "// Listen for the removal of the full notebook cells\n",
       "var notebookContainer = gd.closest('#notebook-container');\n",
       "if (notebookContainer) {{\n",
       "    x.observe(notebookContainer, {childList: true});\n",
       "}}\n",
       "\n",
       "// Listen for the clearing of the current output cell\n",
       "var outputEl = gd.closest('.output');\n",
       "if (outputEl) {{\n",
       "    x.observe(outputEl, {childList: true});\n",
       "}}\n",
       "\n",
       "                        })                };                });            </script>        </div>"
      ]
     },
     "metadata": {},
     "output_type": "display_data"
    }
   ],
   "source": [
    "import plotly.express as px\n",
    "df = px.data.tips()\n",
    "fig = px.sunburst(df, path=['day', 'time', 'sex'], values='total_bill')\n",
    "fig.show()"
   ]
  },
  {
   "cell_type": "code",
   "execution_count": 54,
   "metadata": {},
   "outputs": [
    {
     "data": {
      "text/plain": [
       "Index(['Unnamed: 0', 'ent_regis', 'mun_regis', 'ent_resid', 'mun_resid',\n",
       "       'tloc_resid', 'loc_resid', 'ent_ocurr', 'mun_ocurr', 'tloc_ocurr',\n",
       "       'loc_ocurr', 'causa_def', 'lista_mex', 'sexo', 'edad', 'dia_ocurr',\n",
       "       'mes_ocurr', 'anio_ocur', 'dia_regis', 'mes_regis', 'anio_regis',\n",
       "       'dia_nacim', 'mes_nacim', 'anio_nacim', 'ocupacion', 'escolarida',\n",
       "       'edo_civil', 'presunto', 'ocurr_trab', 'lugar_ocur', 'necropsia',\n",
       "       'asist_medi', 'sitio_ocur', 'cond_cert', 'nacionalid', 'derechohab',\n",
       "       'embarazo', 'rel_emba', 'horas', 'minutos', 'capitulo', 'grupo',\n",
       "       'lista1', 'gr_lismex', 'vio_fami', 'area_ur', 'edad_agru', 'complicaro',\n",
       "       'dia_cert', 'mes_cert', 'anio_cert', 'maternas', 'lengua', 'cond_act',\n",
       "       'par_agre', 'ent_ocules', 'mun_ocules', 'loc_ocules', 'razon_m',\n",
       "       'dis_re_oax', 'date', 'region', 'gpo_enfermedad'],\n",
       "      dtype='object')"
      ]
     },
     "execution_count": 54,
     "metadata": {},
     "output_type": "execute_result"
    }
   ],
   "source": [
    "mortalidad_mujeres.columns"
   ]
  },
  {
   "cell_type": "code",
   "execution_count": 84,
   "metadata": {},
   "outputs": [
    {
     "data": {
      "text/plain": [
       "Index(['Unnamed: 0', 'ent_regis', 'mun_regis', 'ent_resid', 'mun_resid',\n",
       "       'tloc_resid', 'loc_resid', 'ent_ocurr', 'mun_ocurr', 'tloc_ocurr',\n",
       "       'loc_ocurr', 'causa_def', 'lista_mex', 'sexo', 'edad', 'dia_ocurr',\n",
       "       'mes_ocurr', 'anio_ocur', 'dia_regis', 'mes_regis', 'anio_regis',\n",
       "       'dia_nacim', 'mes_nacim', 'anio_nacim', 'ocupacion', 'escolarida',\n",
       "       'edo_civil', 'presunto', 'ocurr_trab', 'lugar_ocur', 'necropsia',\n",
       "       'asist_medi', 'sitio_ocur', 'cond_cert', 'nacionalid', 'derechohab',\n",
       "       'embarazo', 'rel_emba', 'horas', 'minutos', 'capitulo', 'grupo',\n",
       "       'lista1', 'gr_lismex', 'vio_fami', 'area_ur', 'edad_agru', 'complicaro',\n",
       "       'dia_cert', 'mes_cert', 'anio_cert', 'maternas', 'lengua', 'cond_act',\n",
       "       'par_agre', 'ent_ocules', 'mun_ocules', 'loc_ocules', 'razon_m',\n",
       "       'dis_re_oax', 'date'],\n",
       "      dtype='object')"
      ]
     },
     "execution_count": 84,
     "metadata": {},
     "output_type": "execute_result"
    }
   ],
   "source": [
    "hist_muertes.columns"
   ]
  },
  {
   "cell_type": "code",
   "execution_count": null,
   "metadata": {},
   "outputs": [],
   "source": [
    "hist_muertes"
   ]
  },
  {
   "cell_type": "code",
   "execution_count": 94,
   "metadata": {},
   "outputs": [
    {
     "data": {
      "text/plain": [
       "array([2012.,   nan])"
      ]
     },
     "execution_count": 94,
     "metadata": {},
     "output_type": "execute_result"
    }
   ],
   "source": [
    "hist_muertes[\"anio_regis\"].unique()"
   ]
  },
  {
   "cell_type": "code",
   "execution_count": 91,
   "metadata": {},
   "outputs": [
    {
     "data": {
      "image/png": "[encoded data removed]",
      "text/plain": [
       "<Figure size 432x288 with 1 Axes>"
      ]
     },
     "metadata": {
      "needs_background": "light"
     },
     "output_type": "display_data"
    }
   ],
   "source": [
    "ax = sns.barplot(x=\"anio_ocur\", y=\"edad\", hue=\"sexo\", data=hist_muertes)"
   ]
  },
  {
   "cell_type": "code",
   "execution_count": 60,
   "metadata": {},
   "outputs": [],
   "source": [
    "mortalidad_mujeres_1=mortalidad_mujeres[mortalidad_mujeres['gpo_enfermedad']!='otros']"
   ]
  },
  {
   "cell_type": "code",
   "execution_count": 65,
   "metadata": {
    "scrolled": true
   },
   "outputs": [
    {
     "data": {
      "application/vnd.plotly.v1+json": {
       "config": {
        "plotlyServerURL": "https://plot.ly"
       },
       "data": [
        {
         "branchvalues": "total",
         "customdata": [
          [
           2012
          ],
          [
           2013
          ],
          [
           2014
          ],
          [
           2015
          ],
          [
           2016
          ],
          [
           2017
          ],
          [
           2018
          ],
          [
           2019
          ],
          [
           2012
          ],
          [
           2013
          ],
          [
           2014
          ],
          [
           2015
          ],
          [
           2016
          ],
          [
           2017
          ],
          [
           2018
          ],
          [
           2019
          ],
          [
           2012
          ],
          [
           2013
          ],
          [
           2014
          ],
          [
           2015
          ],
          [
           2016
          ],
          [
           2017
          ],
          [
           2018
          ],
          [
           2019
          ],
          [
           2012
          ],
          [
           2013
          ],
          [
           2014
          ],
          [
           2015
          ],
          [
           2016
          ],
          [
           2017
          ],
          [
           2018
          ],
          [
           2019
          ],
          [
           2012
          ],
          [
           2013
          ],
          [
           2014
          ],
          [
           2015
          ],
          [
           2016
          ],
          [
           2017
          ],
          [
           2018
          ],
          [
           2019
          ],
          [
           2012
          ],
          [
           2013
          ],
          [
           2014
          ],
          [
           2015
          ],
          [
           2016
          ],
          [
           2017
          ],
          [
           2018
          ],
          [
           2019
          ],
          [
           2012
          ],
          [
           2013
          ],
          [
           2014
          ],
          [
           2015
          ],
          [
           2016
          ],
          [
           2017
          ],
          [
           2018
          ],
          [
           2019
          ],
          [
           2012
          ],
          [
           2013
          ],
          [
           2014
          ],
          [
           2015
          ],
          [
           2016
          ],
          [
           2017
          ],
          [
           2018
          ],
          [
           2019
          ],
          [
           2012
          ],
          [
           2013
          ],
          [
           2014
          ],
          [
           2015
          ],
          [
           2016
          ],
          [
           2017
          ],
          [
           2018
          ],
          [
           2019
          ],
          [
           2012
          ],
          [
           2013
          ],
          [
           2014
          ],
          [
           2015
          ],
          [
           2016
          ],
          [
           2017
          ],
          [
           2018
          ],
          [
           2019
          ]
         ],
         "domain": {
          "x": [
           0,
           1
          ],
          "y": [
           0,
           1
          ]
         },
         "hovertemplate": "labels=%{label}<br>count=%{value}<br>parent=%{parent}<br>id=%{id}<br>date=%{color}<extra></extra>",
         "ids": [
          "2012/EPOC",
          "2013/EPOC",
          "2014/EPOC",
          "2015/EPOC",
          "2016/EPOC",
          "2017/EPOC",
          "2018/EPOC",
          "2019/EPOC",
          "2012/asma",
          "2013/asma",
          "2014/asma",
          "2015/asma",
          "2016/asma",
          "2017/asma",
          "2018/asma",
          "2019/asma",
          "2012/cardiovascular",
          "2013/cardiovascular",
          "2014/cardiovascular",
          "2015/cardiovascular",
          "2016/cardiovascular",
          "2017/cardiovascular",
          "2018/cardiovascular",
          "2019/cardiovascular",
          "2012/diabetes",
          "2013/diabetes",
          "2014/diabetes",
          "2015/diabetes",
          "2016/diabetes",
          "2017/diabetes",
          "2018/diabetes",
          "2019/diabetes",
          "2012/hipertension",
          "2013/hipertension",
          "2014/hipertension",
          "2015/hipertension",
          "2016/hipertension",
          "2017/hipertension",
          "2018/hipertension",
          "2019/hipertension",
          "2012/inmunosupresores",
          "2013/inmunosupresores",
          "2014/inmunosupresores",
          "2015/inmunosupresores",
          "2016/inmunosupresores",
          "2017/inmunosupresores",
          "2018/inmunosupresores",
          "2019/inmunosupresores",
          "2012/insuf_renal",
          "2013/insuf_renal",
          "2014/insuf_renal",
          "2015/insuf_renal",
          "2016/insuf_renal",
          "2017/insuf_renal",
          "2018/insuf_renal",
          "2019/insuf_renal",
          "2012/neumonia",
          "2013/neumonia",
          "2014/neumonia",
          "2015/neumonia",
          "2016/neumonia",
          "2017/neumonia",
          "2018/neumonia",
          "2019/neumonia",
          "2012/obesidad",
          "2013/obesidad",
          "2014/obesidad",
          "2015/obesidad",
          "2016/obesidad",
          "2017/obesidad",
          "2018/obesidad",
          "2019/obesidad",
          "2012",
          "2013",
          "2014",
          "2015",
          "2016",
          "2017",
          "2018",
          "2019"
         ],
         "labels": [
          "EPOC",
          "EPOC",
          "EPOC",
          "EPOC",
          "EPOC",
          "EPOC",
          "EPOC",
          "EPOC",
          "asma",
          "asma",
          "asma",
          "asma",
          "asma",
          "asma",
          "asma",
          "asma",
          "cardiovascular",
          "cardiovascular",
          "cardiovascular",
          "cardiovascular",
          "cardiovascular",
          "cardiovascular",
          "cardiovascular",
          "cardiovascular",
          "diabetes",
          "diabetes",
          "diabetes",
          "diabetes",
          "diabetes",
          "diabetes",
          "diabetes",
          "diabetes",
          "hipertension",
          "hipertension",
          "hipertension",
          "hipertension",
          "hipertension",
          "hipertension",
          "hipertension",
          "hipertension",
          "inmunosupresores",
          "inmunosupresores",
          "inmunosupresores",
          "inmunosupresores",
          "inmunosupresores",
          "inmunosupresores",
          "inmunosupresores",
          "inmunosupresores",
          "insuf_renal",
          "insuf_renal",
          "insuf_renal",
          "insuf_renal",
          "insuf_renal",
          "insuf_renal",
          "insuf_renal",
          "insuf_renal",
          "neumonia",
          "neumonia",
          "neumonia",
          "neumonia",
          "neumonia",
          "neumonia",
          "neumonia",
          "neumonia",
          "obesidad",
          "obesidad",
          "obesidad",
          "obesidad",
          "obesidad",
          "obesidad",
          "obesidad",
          "obesidad",
          "2012",
          "2013",
          "2014",
          "2015",
          "2016",
          "2017",
          "2018",
          "2019"
         ],
         "marker": {
          "coloraxis": "coloraxis",
          "colors": [
           2012,
           2013,
           2014,
           2015,
           2016,
           2017,
           2018,
           2019,
           2012,
           2013,
           2014,
           2015,
           2016,
           2017,
           2018,
           2019,
           2012,
           2013,
           2014,
           2015,
           2016,
           2017,
           2018,
           2019,
           2012,
           2013,
           2014,
           2015,
           2016,
           2017,
           2018,
           2019,
           2012,
           2013,
           2014,
           2015,
           2016,
           2017,
           2018,
           2019,
           2012,
           2013,
           2014,
           2015,
           2016,
           2017,
           2018,
           2019,
           2012,
           2013,
           2014,
           2015,
           2016,
           2017,
           2018,
           2019,
           2012,
           2013,
           2014,
           2015,
           2016,
           2017,
           2018,
           2019,
           2012,
           2013,
           2014,
           2015,
           2016,
           2017,
           2018,
           2019,
           2012,
           2013,
           2014,
           2015,
           2016,
           2017,
           2018,
           2019
          ]
         },
         "name": "",
         "parents": [
          "2012",
          "2013",
          "2014",
          "2015",
          "2016",
          "2017",
          "2018",
          "2019",
          "2012",
          "2013",
          "2014",
          "2015",
          "2016",
          "2017",
          "2018",
          "2019",
          "2012",
          "2013",
          "2014",
          "2015",
          "2016",
          "2017",
          "2018",
          "2019",
          "2012",
          "2013",
          "2014",
          "2015",
          "2016",
          "2017",
          "2018",
          "2019",
          "2012",
          "2013",
          "2014",
          "2015",
          "2016",
          "2017",
          "2018",
          "2019",
          "2012",
          "2013",
          "2014",
          "2015",
          "2016",
          "2017",
          "2018",
          "2019",
          "2012",
          "2013",
          "2014",
          "2015",
          "2016",
          "2017",
          "2018",
          "2019",
          "2012",
          "2013",
          "2014",
          "2015",
          "2016",
          "2017",
          "2018",
          "2019",
          "2012",
          "2013",
          "2014",
          "2015",
          "2016",
          "2017",
          "2018",
          "2019",
          "",
          "",
          "",
          "",
          "",
          "",
          "",
          ""
         ],
         "type": "sunburst",
         "values": [
          8493,
          9653,
          9298,
          9964,
          11122,
          11140,
          11220,
          11269,
          720,
          802,
          692,
          717,
          760,
          735,
          649,
          641,
          32587,
          33664,
          34994,
          35535,
          34672,
          34856,
          35100,
          35857,
          43839,
          46098,
          48275,
          50720,
          53857,
          54238,
          51584,
          52657,
          496,
          535,
          460,
          443,
          447,
          417,
          425,
          449,
          31906,
          32659,
          35138,
          36193,
          37196,
          38242,
          39290,
          40130,
          4560,
          4491,
          4794,
          5129,
          5075,
          5123,
          5234,
          5662,
          7291,
          8180,
          9085,
          8735,
          9636,
          9980,
          13006,
          14156,
          621,
          590,
          628,
          587,
          576,
          598,
          553,
          550,
          130513,
          136672,
          143364,
          148023,
          153341,
          155329,
          157061,
          161371
         ]
        }
       ],
       "layout": {
        "coloraxis": {
         "colorbar": {
          "title": {
           "text": "date"
          }
         },
         "colorscale": [
          [
           0,
           "rgb(158,1,66)"
          ],
          [
           0.1,
           "rgb(213,62,79)"
          ],
          [
           0.2,
           "rgb(244,109,67)"
          ],
          [
           0.3,
           "rgb(253,174,97)"
          ],
          [
           0.4,
           "rgb(254,224,139)"
          ],
          [
           0.5,
           "rgb(255,255,191)"
          ],
          [
           0.6,
           "rgb(230,245,152)"
          ],
          [
           0.7,
           "rgb(171,221,164)"
          ],
          [
           0.8,
           "rgb(102,194,165)"
          ],
          [
           0.9,
           "rgb(50,136,189)"
          ],
          [
           1,
           "rgb(94,79,162)"
          ]
         ]
        },
        "legend": {
         "tracegroupgap": 0
        },
        "margin": {
         "t": 60
        },
        "template": {
         "data": {
          "bar": [
           {
            "error_x": {
             "color": "#2a3f5f"
            },
            "error_y": {
             "color": "#2a3f5f"
            },
            "marker": {
             "line": {
              "color": "#E5ECF6",
              "width": 0.5
             }
            },
            "type": "bar"
           }
          ],
          "barpolar": [
           {
            "marker": {
             "line": {
              "color": "#E5ECF6",
              "width": 0.5
             }
            },
            "type": "barpolar"
           }
          ],
          "carpet": [
           {
            "aaxis": {
             "endlinecolor": "#2a3f5f",
             "gridcolor": "white",
             "linecolor": "white",
             "minorgridcolor": "white",
             "startlinecolor": "#2a3f5f"
            },
            "baxis": {
             "endlinecolor": "#2a3f5f",
             "gridcolor": "white",
             "linecolor": "white",
             "minorgridcolor": "white",
             "startlinecolor": "#2a3f5f"
            },
            "type": "carpet"
           }
          ],
          "choropleth": [
           {
            "colorbar": {
             "outlinewidth": 0,
             "ticks": ""
            },
            "type": "choropleth"
           }
          ],
          "contour": [
           {
            "colorbar": {
             "outlinewidth": 0,
             "ticks": ""
            },
            "colorscale": [
             [
              0,
              "#0d0887"
             ],
             [
              0.1111111111111111,
              "#46039f"
             ],
             [
              0.2222222222222222,
              "#7201a8"
             ],
             [
              0.3333333333333333,
              "#9c179e"
             ],
             [
              0.4444444444444444,
              "#bd3786"
             ],
             [
              0.5555555555555556,
              "#d8576b"
             ],
             [
              0.6666666666666666,
              "#ed7953"
             ],
             [
              0.7777777777777778,
              "#fb9f3a"
             ],
             [
              0.8888888888888888,
              "#fdca26"
             ],
             [
              1,
              "#f0f921"
             ]
            ],
            "type": "contour"
           }
          ],
          "contourcarpet": [
           {
            "colorbar": {
             "outlinewidth": 0,
             "ticks": ""
            },
            "type": "contourcarpet"
           }
          ],
          "heatmap": [
           {
            "colorbar": {
             "outlinewidth": 0,
             "ticks": ""
            },
            "colorscale": [
             [
              0,
              "#0d0887"
             ],
             [
              0.1111111111111111,
              "#46039f"
             ],
             [
              0.2222222222222222,
              "#7201a8"
             ],
             [
              0.3333333333333333,
              "#9c179e"
             ],
             [
              0.4444444444444444,
              "#bd3786"
             ],
             [
              0.5555555555555556,
              "#d8576b"
             ],
             [
              0.6666666666666666,
              "#ed7953"
             ],
             [
              0.7777777777777778,
              "#fb9f3a"
             ],
             [
              0.8888888888888888,
              "#fdca26"
             ],
             [
              1,
              "#f0f921"
             ]
            ],
            "type": "heatmap"
           }
          ],
          "heatmapgl": [
           {
            "colorbar": {
             "outlinewidth": 0,
             "ticks": ""
            },
            "colorscale": [
             [
              0,
              "#0d0887"
             ],
             [
              0.1111111111111111,
              "#46039f"
             ],
             [
              0.2222222222222222,
              "#7201a8"
             ],
             [
              0.3333333333333333,
              "#9c179e"
             ],
             [
              0.4444444444444444,
              "#bd3786"
             ],
             [
              0.5555555555555556,
              "#d8576b"
             ],
             [
              0.6666666666666666,
              "#ed7953"
             ],
             [
              0.7777777777777778,
              "#fb9f3a"
             ],
             [
              0.8888888888888888,
              "#fdca26"
             ],
             [
              1,
              "#f0f921"
             ]
            ],
            "type": "heatmapgl"
           }
          ],
          "histogram": [
           {
            "marker": {
             "colorbar": {
              "outlinewidth": 0,
              "ticks": ""
             }
            },
            "type": "histogram"
           }
          ],
          "histogram2d": [
           {
            "colorbar": {
             "outlinewidth": 0,
             "ticks": ""
            },
            "colorscale": [
             [
              0,
              "#0d0887"
             ],
             [
              0.1111111111111111,
              "#46039f"
             ],
             [
              0.2222222222222222,
              "#7201a8"
             ],
             [
              0.3333333333333333,
              "#9c179e"
             ],
             [
              0.4444444444444444,
              "#bd3786"
             ],
             [
              0.5555555555555556,
              "#d8576b"
             ],
             [
              0.6666666666666666,
              "#ed7953"
             ],
             [
              0.7777777777777778,
              "#fb9f3a"
             ],
             [
              0.8888888888888888,
              "#fdca26"
             ],
             [
              1,
              "#f0f921"
             ]
            ],
            "type": "histogram2d"
           }
          ],
          "histogram2dcontour": [
           {
            "colorbar": {
             "outlinewidth": 0,
             "ticks": ""
            },
            "colorscale": [
             [
              0,
              "#0d0887"
             ],
             [
              0.1111111111111111,
              "#46039f"
             ],
             [
              0.2222222222222222,
              "#7201a8"
             ],
             [
              0.3333333333333333,
              "#9c179e"
             ],
             [
              0.4444444444444444,
              "#bd3786"
             ],
             [
              0.5555555555555556,
              "#d8576b"
             ],
             [
              0.6666666666666666,
              "#ed7953"
             ],
             [
              0.7777777777777778,
              "#fb9f3a"
             ],
             [
              0.8888888888888888,
              "#fdca26"
             ],
             [
              1,
              "#f0f921"
             ]
            ],
            "type": "histogram2dcontour"
           }
          ],
          "mesh3d": [
           {
            "colorbar": {
             "outlinewidth": 0,
             "ticks": ""
            },
            "type": "mesh3d"
           }
          ],
          "parcoords": [
           {
            "line": {
             "colorbar": {
              "outlinewidth": 0,
              "ticks": ""
             }
            },
            "type": "parcoords"
           }
          ],
          "pie": [
           {
            "automargin": true,
            "type": "pie"
           }
          ],
          "scatter": [
           {
            "marker": {
             "colorbar": {
              "outlinewidth": 0,
              "ticks": ""
             }
            },
            "type": "scatter"
           }
          ],
          "scatter3d": [
           {
            "line": {
             "colorbar": {
              "outlinewidth": 0,
              "ticks": ""
             }
            },
            "marker": {
             "colorbar": {
              "outlinewidth": 0,
              "ticks": ""
             }
            },
            "type": "scatter3d"
           }
          ],
          "scattercarpet": [
           {
            "marker": {
             "colorbar": {
              "outlinewidth": 0,
              "ticks": ""
             }
            },
            "type": "scattercarpet"
           }
          ],
          "scattergeo": [
           {
            "marker": {
             "colorbar": {
              "outlinewidth": 0,
              "ticks": ""
             }
            },
            "type": "scattergeo"
           }
          ],
          "scattergl": [
           {
            "marker": {
             "colorbar": {
              "outlinewidth": 0,
              "ticks": ""
             }
            },
            "type": "scattergl"
           }
          ],
          "scattermapbox": [
           {
            "marker": {
             "colorbar": {
              "outlinewidth": 0,
              "ticks": ""
             }
            },
            "type": "scattermapbox"
           }
          ],
          "scatterpolar": [
           {
            "marker": {
             "colorbar": {
              "outlinewidth": 0,
              "ticks": ""
             }
            },
            "type": "scatterpolar"
           }
          ],
          "scatterpolargl": [
           {
            "marker": {
             "colorbar": {
              "outlinewidth": 0,
              "ticks": ""
             }
            },
            "type": "scatterpolargl"
           }
          ],
          "scatterternary": [
           {
            "marker": {
             "colorbar": {
              "outlinewidth": 0,
              "ticks": ""
             }
            },
            "type": "scatterternary"
           }
          ],
          "surface": [
           {
            "colorbar": {
             "outlinewidth": 0,
             "ticks": ""
            },
            "colorscale": [
             [
              0,
              "#0d0887"
             ],
             [
              0.1111111111111111,
              "#46039f"
             ],
             [
              0.2222222222222222,
              "#7201a8"
             ],
             [
              0.3333333333333333,
              "#9c179e"
             ],
             [
              0.4444444444444444,
              "#bd3786"
             ],
             [
              0.5555555555555556,
              "#d8576b"
             ],
             [
              0.6666666666666666,
              "#ed7953"
             ],
             [
              0.7777777777777778,
              "#fb9f3a"
             ],
             [
              0.8888888888888888,
              "#fdca26"
             ],
             [
              1,
              "#f0f921"
             ]
            ],
            "type": "surface"
           }
          ],
          "table": [
           {
            "cells": {
             "fill": {
              "color": "#EBF0F8"
             },
             "line": {
              "color": "white"
             }
            },
            "header": {
             "fill": {
              "color": "#C8D4E3"
             },
             "line": {
              "color": "white"
             }
            },
            "type": "table"
           }
          ]
         },
         "layout": {
          "annotationdefaults": {
           "arrowcolor": "#2a3f5f",
           "arrowhead": 0,
           "arrowwidth": 1
          },
          "autotypenumbers": "strict",
          "coloraxis": {
           "colorbar": {
            "outlinewidth": 0,
            "ticks": ""
           }
          },
          "colorscale": {
           "diverging": [
            [
             0,
             "#8e0152"
            ],
            [
             0.1,
             "#c51b7d"
            ],
            [
             0.2,
             "#de77ae"
            ],
            [
             0.3,
             "#f1b6da"
            ],
            [
             0.4,
             "#fde0ef"
            ],
            [
             0.5,
             "#f7f7f7"
            ],
            [
             0.6,
             "#e6f5d0"
            ],
            [
             0.7,
             "#b8e186"
            ],
            [
             0.8,
             "#7fbc41"
            ],
            [
             0.9,
             "#4d9221"
            ],
            [
             1,
             "#276419"
            ]
           ],
           "sequential": [
            [
             0,
             "#0d0887"
            ],
            [
             0.1111111111111111,
             "#46039f"
            ],
            [
             0.2222222222222222,
             "#7201a8"
            ],
            [
             0.3333333333333333,
             "#9c179e"
            ],
            [
             0.4444444444444444,
             "#bd3786"
            ],
            [
             0.5555555555555556,
             "#d8576b"
            ],
            [
             0.6666666666666666,
             "#ed7953"
            ],
            [
             0.7777777777777778,
             "#fb9f3a"
            ],
            [
             0.8888888888888888,
             "#fdca26"
            ],
            [
             1,
             "#f0f921"
            ]
           ],
           "sequentialminus": [
            [
             0,
             "#0d0887"
            ],
            [
             0.1111111111111111,
             "#46039f"
            ],
            [
             0.2222222222222222,
             "#7201a8"
            ],
            [
             0.3333333333333333,
             "#9c179e"
            ],
            [
             0.4444444444444444,
             "#bd3786"
            ],
            [
             0.5555555555555556,
             "#d8576b"
            ],
            [
             0.6666666666666666,
             "#ed7953"
            ],
            [
             0.7777777777777778,
             "#fb9f3a"
            ],
            [
             0.8888888888888888,
             "#fdca26"
            ],
            [
             1,
             "#f0f921"
            ]
           ]
          },
          "colorway": [
           "#636efa",
           "#EF553B",
           "#00cc96",
           "#ab63fa",
           "#FFA15A",
           "#19d3f3",
           "#FF6692",
           "#B6E880",
           "#FF97FF",
           "#FECB52"
          ],
          "font": {
           "color": "#2a3f5f"
          },
          "geo": {
           "bgcolor": "white",
           "lakecolor": "white",
           "landcolor": "#E5ECF6",
           "showlakes": true,
           "showland": true,
           "subunitcolor": "white"
          },
          "hoverlabel": {
           "align": "left"
          },
          "hovermode": "closest",
          "mapbox": {
           "style": "light"
          },
          "paper_bgcolor": "white",
          "plot_bgcolor": "#E5ECF6",
          "polar": {
           "angularaxis": {
            "gridcolor": "white",
            "linecolor": "white",
            "ticks": ""
           },
           "bgcolor": "#E5ECF6",
           "radialaxis": {
            "gridcolor": "white",
            "linecolor": "white",
            "ticks": ""
           }
          },
          "scene": {
           "xaxis": {
            "backgroundcolor": "#E5ECF6",
            "gridcolor": "white",
            "gridwidth": 2,
            "linecolor": "white",
            "showbackground": true,
            "ticks": "",
            "zerolinecolor": "white"
           },
           "yaxis": {
            "backgroundcolor": "#E5ECF6",
            "gridcolor": "white",
            "gridwidth": 2,
            "linecolor": "white",
            "showbackground": true,
            "ticks": "",
            "zerolinecolor": "white"
           },
           "zaxis": {
            "backgroundcolor": "#E5ECF6",
            "gridcolor": "white",
            "gridwidth": 2,
            "linecolor": "white",
            "showbackground": true,
            "ticks": "",
            "zerolinecolor": "white"
           }
          },
          "shapedefaults": {
           "line": {
            "color": "#2a3f5f"
           }
          },
          "ternary": {
           "aaxis": {
            "gridcolor": "white",
            "linecolor": "white",
            "ticks": ""
           },
           "baxis": {
            "gridcolor": "white",
            "linecolor": "white",
            "ticks": ""
           },
           "bgcolor": "#E5ECF6",
           "caxis": {
            "gridcolor": "white",
            "linecolor": "white",
            "ticks": ""
           }
          },
          "title": {
           "x": 0.05
          },
          "xaxis": {
           "automargin": true,
           "gridcolor": "white",
           "linecolor": "white",
           "ticks": "",
           "title": {
            "standoff": 15
           },
           "zerolinecolor": "white",
           "zerolinewidth": 2
          },
          "yaxis": {
           "automargin": true,
           "gridcolor": "white",
           "linecolor": "white",
           "ticks": "",
           "title": {
            "standoff": 15
           },
           "zerolinecolor": "white",
           "zerolinewidth": 2
          }
         }
        }
       }
      },
      "text/html": [
       "<div>                            <div id=\"85dd7143-69d8-42bc-aae8-0851ca6e59ea\" class=\"plotly-graph-div\" style=\"height:525px; width:100%;\"></div>            <script type=\"text/javascript\">                require([\"plotly\"], function(Plotly) {                    window.PLOTLYENV=window.PLOTLYENV || {};                                    if (document.getElementById(\"85dd7143-69d8-42bc-aae8-0851ca6e59ea\")) {                    Plotly.newPlot(                        \"85dd7143-69d8-42bc-aae8-0851ca6e59ea\",                        [{\"branchvalues\": \"total\", \"customdata\": [[2012], [2013], [2014], [2015], [2016], [2017], [2018], [2019], [2012], [2013], [2014], [2015], [2016], [2017], [2018], [2019], [2012], [2013], [2014], [2015], [2016], [2017], [2018], [2019], [2012], [2013], [2014], [2015], [2016], [2017], [2018], [2019], [2012], [2013], [2014], [2015], [2016], [2017], [2018], [2019], [2012], [2013], [2014], [2015], [2016], [2017], [2018], [2019], [2012], [2013], [2014], [2015], [2016], [2017], [2018], [2019], [2012], [2013], [2014], [2015], [2016], [2017], [2018], [2019], [2012], [2013], [2014], [2015], [2016], [2017], [2018], [2019], [2012], [2013], [2014], [2015], [2016], [2017], [2018], [2019]], \"domain\": {\"x\": [0.0, 1.0], \"y\": [0.0, 1.0]}, \"hovertemplate\": \"labels=%{label}<br>count=%{value}<br>parent=%{parent}<br>id=%{id}<br>date=%{color}<extra></extra>\", \"ids\": [\"2012/EPOC\", \"2013/EPOC\", \"2014/EPOC\", \"2015/EPOC\", \"2016/EPOC\", \"2017/EPOC\", \"2018/EPOC\", \"2019/EPOC\", \"2012/asma\", \"2013/asma\", \"2014/asma\", \"2015/asma\", \"2016/asma\", \"2017/asma\", \"2018/asma\", \"2019/asma\", \"2012/cardiovascular\", \"2013/cardiovascular\", \"2014/cardiovascular\", \"2015/cardiovascular\", \"2016/cardiovascular\", \"2017/cardiovascular\", \"2018/cardiovascular\", \"2019/cardiovascular\", \"2012/diabetes\", \"2013/diabetes\", \"2014/diabetes\", \"2015/diabetes\", \"2016/diabetes\", \"2017/diabetes\", \"2018/diabetes\", \"2019/diabetes\", \"2012/hipertension\", \"2013/hipertension\", \"2014/hipertension\", \"2015/hipertension\", \"2016/hipertension\", \"2017/hipertension\", \"2018/hipertension\", \"2019/hipertension\", \"2012/inmunosupresores\", \"2013/inmunosupresores\", \"2014/inmunosupresores\", \"2015/inmunosupresores\", \"2016/inmunosupresores\", \"2017/inmunosupresores\", \"2018/inmunosupresores\", \"2019/inmunosupresores\", \"2012/insuf_renal\", \"2013/insuf_renal\", \"2014/insuf_renal\", \"2015/insuf_renal\", \"2016/insuf_renal\", \"2017/insuf_renal\", \"2018/insuf_renal\", \"2019/insuf_renal\", \"2012/neumonia\", \"2013/neumonia\", \"2014/neumonia\", \"2015/neumonia\", \"2016/neumonia\", \"2017/neumonia\", \"2018/neumonia\", \"2019/neumonia\", \"2012/obesidad\", \"2013/obesidad\", \"2014/obesidad\", \"2015/obesidad\", \"2016/obesidad\", \"2017/obesidad\", \"2018/obesidad\", \"2019/obesidad\", \"2012\", \"2013\", \"2014\", \"2015\", \"2016\", \"2017\", \"2018\", \"2019\"], \"labels\": [\"EPOC\", \"EPOC\", \"EPOC\", \"EPOC\", \"EPOC\", \"EPOC\", \"EPOC\", \"EPOC\", \"asma\", \"asma\", \"asma\", \"asma\", \"asma\", \"asma\", \"asma\", \"asma\", \"cardiovascular\", \"cardiovascular\", \"cardiovascular\", \"cardiovascular\", \"cardiovascular\", \"cardiovascular\", \"cardiovascular\", \"cardiovascular\", \"diabetes\", \"diabetes\", \"diabetes\", \"diabetes\", \"diabetes\", \"diabetes\", \"diabetes\", \"diabetes\", \"hipertension\", \"hipertension\", \"hipertension\", \"hipertension\", \"hipertension\", \"hipertension\", \"hipertension\", \"hipertension\", \"inmunosupresores\", \"inmunosupresores\", \"inmunosupresores\", \"inmunosupresores\", \"inmunosupresores\", \"inmunosupresores\", \"inmunosupresores\", \"inmunosupresores\", \"insuf_renal\", \"insuf_renal\", \"insuf_renal\", \"insuf_renal\", \"insuf_renal\", \"insuf_renal\", \"insuf_renal\", \"insuf_renal\", \"neumonia\", \"neumonia\", \"neumonia\", \"neumonia\", \"neumonia\", \"neumonia\", \"neumonia\", \"neumonia\", \"obesidad\", \"obesidad\", \"obesidad\", \"obesidad\", \"obesidad\", \"obesidad\", \"obesidad\", \"obesidad\", \"2012\", \"2013\", \"2014\", \"2015\", \"2016\", \"2017\", \"2018\", \"2019\"], \"marker\": {\"coloraxis\": \"coloraxis\", \"colors\": [2012, 2013, 2014, 2015, 2016, 2017, 2018, 2019, 2012, 2013, 2014, 2015, 2016, 2017, 2018, 2019, 2012, 2013, 2014, 2015, 2016, 2017, 2018, 2019, 2012, 2013, 2014, 2015, 2016, 2017, 2018, 2019, 2012, 2013, 2014, 2015, 2016, 2017, 2018, 2019, 2012, 2013, 2014, 2015, 2016, 2017, 2018, 2019, 2012, 2013, 2014, 2015, 2016, 2017, 2018, 2019, 2012, 2013, 2014, 2015, 2016, 2017, 2018, 2019, 2012, 2013, 2014, 2015, 2016, 2017, 2018, 2019, 2012, 2013, 2014, 2015, 2016, 2017, 2018, 2019]}, \"name\": \"\", \"parents\": [\"2012\", \"2013\", \"2014\", \"2015\", \"2016\", \"2017\", \"2018\", \"2019\", \"2012\", \"2013\", \"2014\", \"2015\", \"2016\", \"2017\", \"2018\", \"2019\", \"2012\", \"2013\", \"2014\", \"2015\", \"2016\", \"2017\", \"2018\", \"2019\", \"2012\", \"2013\", \"2014\", \"2015\", \"2016\", \"2017\", \"2018\", \"2019\", \"2012\", \"2013\", \"2014\", \"2015\", \"2016\", \"2017\", \"2018\", \"2019\", \"2012\", \"2013\", \"2014\", \"2015\", \"2016\", \"2017\", \"2018\", \"2019\", \"2012\", \"2013\", \"2014\", \"2015\", \"2016\", \"2017\", \"2018\", \"2019\", \"2012\", \"2013\", \"2014\", \"2015\", \"2016\", \"2017\", \"2018\", \"2019\", \"2012\", \"2013\", \"2014\", \"2015\", \"2016\", \"2017\", \"2018\", \"2019\", \"\", \"\", \"\", \"\", \"\", \"\", \"\", \"\"], \"type\": \"sunburst\", \"values\": [8493, 9653, 9298, 9964, 11122, 11140, 11220, 11269, 720, 802, 692, 717, 760, 735, 649, 641, 32587, 33664, 34994, 35535, 34672, 34856, 35100, 35857, 43839, 46098, 48275, 50720, 53857, 54238, 51584, 52657, 496, 535, 460, 443, 447, 417, 425, 449, 31906, 32659, 35138, 36193, 37196, 38242, 39290, 40130, 4560, 4491, 4794, 5129, 5075, 5123, 5234, 5662, 7291, 8180, 9085, 8735, 9636, 9980, 13006, 14156, 621, 590, 628, 587, 576, 598, 553, 550, 130513, 136672, 143364, 148023, 153341, 155329, 157061, 161371]}],                        {\"coloraxis\": {\"colorbar\": {\"title\": {\"text\": \"date\"}}, \"colorscale\": [[0.0, \"rgb(158,1,66)\"], [0.1, \"rgb(213,62,79)\"], [0.2, \"rgb(244,109,67)\"], [0.3, \"rgb(253,174,97)\"], [0.4, \"rgb(254,224,139)\"], [0.5, \"rgb(255,255,191)\"], [0.6, \"rgb(230,245,152)\"], [0.7, \"rgb(171,221,164)\"], [0.8, \"rgb(102,194,165)\"], [0.9, \"rgb(50,136,189)\"], [1.0, \"rgb(94,79,162)\"]]}, \"legend\": {\"tracegroupgap\": 0}, \"margin\": {\"t\": 60}, \"template\": {\"data\": {\"bar\": [{\"error_x\": {\"color\": \"#2a3f5f\"}, \"error_y\": {\"color\": \"#2a3f5f\"}, \"marker\": {\"line\": {\"color\": \"#E5ECF6\", \"width\": 0.5}}, \"type\": \"bar\"}], \"barpolar\": [{\"marker\": {\"line\": {\"color\": \"#E5ECF6\", \"width\": 0.5}}, \"type\": \"barpolar\"}], \"carpet\": [{\"aaxis\": {\"endlinecolor\": \"#2a3f5f\", \"gridcolor\": \"white\", \"linecolor\": \"white\", \"minorgridcolor\": \"white\", \"startlinecolor\": \"#2a3f5f\"}, \"baxis\": {\"endlinecolor\": \"#2a3f5f\", \"gridcolor\": \"white\", \"linecolor\": \"white\", \"minorgridcolor\": \"white\", \"startlinecolor\": \"#2a3f5f\"}, \"type\": \"carpet\"}], \"choropleth\": [{\"colorbar\": {\"outlinewidth\": 0, \"ticks\": \"\"}, \"type\": \"choropleth\"}], \"contour\": [{\"colorbar\": {\"outlinewidth\": 0, \"ticks\": \"\"}, \"colorscale\": [[0.0, \"#0d0887\"], [0.1111111111111111, \"#46039f\"], [0.2222222222222222, \"#7201a8\"], [0.3333333333333333, \"#9c179e\"], [0.4444444444444444, \"#bd3786\"], [0.5555555555555556, \"#d8576b\"], [0.6666666666666666, \"#ed7953\"], [0.7777777777777778, \"#fb9f3a\"], [0.8888888888888888, \"#fdca26\"], [1.0, \"#f0f921\"]], \"type\": \"contour\"}], \"contourcarpet\": [{\"colorbar\": {\"outlinewidth\": 0, \"ticks\": \"\"}, \"type\": \"contourcarpet\"}], \"heatmap\": [{\"colorbar\": {\"outlinewidth\": 0, \"ticks\": \"\"}, \"colorscale\": [[0.0, \"#0d0887\"], [0.1111111111111111, \"#46039f\"], [0.2222222222222222, \"#7201a8\"], [0.3333333333333333, \"#9c179e\"], [0.4444444444444444, \"#bd3786\"], [0.5555555555555556, \"#d8576b\"], [0.6666666666666666, \"#ed7953\"], [0.7777777777777778, \"#fb9f3a\"], [0.8888888888888888, \"#fdca26\"], [1.0, \"#f0f921\"]], \"type\": \"heatmap\"}], \"heatmapgl\": [{\"colorbar\": {\"outlinewidth\": 0, \"ticks\": \"\"}, \"colorscale\": [[0.0, \"#0d0887\"], [0.1111111111111111, \"#46039f\"], [0.2222222222222222, \"#7201a8\"], [0.3333333333333333, \"#9c179e\"], [0.4444444444444444, \"#bd3786\"], [0.5555555555555556, \"#d8576b\"], [0.6666666666666666, \"#ed7953\"], [0.7777777777777778, \"#fb9f3a\"], [0.8888888888888888, \"#fdca26\"], [1.0, \"#f0f921\"]], \"type\": \"heatmapgl\"}], \"histogram\": [{\"marker\": {\"colorbar\": {\"outlinewidth\": 0, \"ticks\": \"\"}}, \"type\": \"histogram\"}], \"histogram2d\": [{\"colorbar\": {\"outlinewidth\": 0, \"ticks\": \"\"}, \"colorscale\": [[0.0, \"#0d0887\"], [0.1111111111111111, \"#46039f\"], [0.2222222222222222, \"#7201a8\"], [0.3333333333333333, \"#9c179e\"], [0.4444444444444444, \"#bd3786\"], [0.5555555555555556, \"#d8576b\"], [0.6666666666666666, \"#ed7953\"], [0.7777777777777778, \"#fb9f3a\"], [0.8888888888888888, \"#fdca26\"], [1.0, \"#f0f921\"]], \"type\": \"histogram2d\"}], \"histogram2dcontour\": [{\"colorbar\": {\"outlinewidth\": 0, \"ticks\": \"\"}, \"colorscale\": [[0.0, \"#0d0887\"], [0.1111111111111111, \"#46039f\"], [0.2222222222222222, \"#7201a8\"], [0.3333333333333333, \"#9c179e\"], [0.4444444444444444, \"#bd3786\"], [0.5555555555555556, \"#d8576b\"], [0.6666666666666666, \"#ed7953\"], [0.7777777777777778, \"#fb9f3a\"], [0.8888888888888888, \"#fdca26\"], [1.0, \"#f0f921\"]], \"type\": \"histogram2dcontour\"}], \"mesh3d\": [{\"colorbar\": {\"outlinewidth\": 0, \"ticks\": \"\"}, \"type\": \"mesh3d\"}], \"parcoords\": [{\"line\": {\"colorbar\": {\"outlinewidth\": 0, \"ticks\": \"\"}}, \"type\": \"parcoords\"}], \"pie\": [{\"automargin\": true, \"type\": \"pie\"}], \"scatter\": [{\"marker\": {\"colorbar\": {\"outlinewidth\": 0, \"ticks\": \"\"}}, \"type\": \"scatter\"}], \"scatter3d\": [{\"line\": {\"colorbar\": {\"outlinewidth\": 0, \"ticks\": \"\"}}, \"marker\": {\"colorbar\": {\"outlinewidth\": 0, \"ticks\": \"\"}}, \"type\": \"scatter3d\"}], \"scattercarpet\": [{\"marker\": {\"colorbar\": {\"outlinewidth\": 0, \"ticks\": \"\"}}, \"type\": \"scattercarpet\"}], \"scattergeo\": [{\"marker\": {\"colorbar\": {\"outlinewidth\": 0, \"ticks\": \"\"}}, \"type\": \"scattergeo\"}], \"scattergl\": [{\"marker\": {\"colorbar\": {\"outlinewidth\": 0, \"ticks\": \"\"}}, \"type\": \"scattergl\"}], \"scattermapbox\": [{\"marker\": {\"colorbar\": {\"outlinewidth\": 0, \"ticks\": \"\"}}, \"type\": \"scattermapbox\"}], \"scatterpolar\": [{\"marker\": {\"colorbar\": {\"outlinewidth\": 0, \"ticks\": \"\"}}, \"type\": \"scatterpolar\"}], \"scatterpolargl\": [{\"marker\": {\"colorbar\": {\"outlinewidth\": 0, \"ticks\": \"\"}}, \"type\": \"scatterpolargl\"}], \"scatterternary\": [{\"marker\": {\"colorbar\": {\"outlinewidth\": 0, \"ticks\": \"\"}}, \"type\": \"scatterternary\"}], \"surface\": [{\"colorbar\": {\"outlinewidth\": 0, \"ticks\": \"\"}, \"colorscale\": [[0.0, \"#0d0887\"], [0.1111111111111111, \"#46039f\"], [0.2222222222222222, \"#7201a8\"], [0.3333333333333333, \"#9c179e\"], [0.4444444444444444, \"#bd3786\"], [0.5555555555555556, \"#d8576b\"], [0.6666666666666666, \"#ed7953\"], [0.7777777777777778, \"#fb9f3a\"], [0.8888888888888888, \"#fdca26\"], [1.0, \"#f0f921\"]], \"type\": \"surface\"}], \"table\": [{\"cells\": {\"fill\": {\"color\": \"#EBF0F8\"}, \"line\": {\"color\": \"white\"}}, \"header\": {\"fill\": {\"color\": \"#C8D4E3\"}, \"line\": {\"color\": \"white\"}}, \"type\": \"table\"}]}, \"layout\": {\"annotationdefaults\": {\"arrowcolor\": \"#2a3f5f\", \"arrowhead\": 0, \"arrowwidth\": 1}, \"autotypenumbers\": \"strict\", \"coloraxis\": {\"colorbar\": {\"outlinewidth\": 0, \"ticks\": \"\"}}, \"colorscale\": {\"diverging\": [[0, \"#8e0152\"], [0.1, \"#c51b7d\"], [0.2, \"#de77ae\"], [0.3, \"#f1b6da\"], [0.4, \"#fde0ef\"], [0.5, \"#f7f7f7\"], [0.6, \"#e6f5d0\"], [0.7, \"#b8e186\"], [0.8, \"#7fbc41\"], [0.9, \"#4d9221\"], [1, \"#276419\"]], \"sequential\": [[0.0, \"#0d0887\"], [0.1111111111111111, \"#46039f\"], [0.2222222222222222, \"#7201a8\"], [0.3333333333333333, \"#9c179e\"], [0.4444444444444444, \"#bd3786\"], [0.5555555555555556, \"#d8576b\"], [0.6666666666666666, \"#ed7953\"], [0.7777777777777778, \"#fb9f3a\"], [0.8888888888888888, \"#fdca26\"], [1.0, \"#f0f921\"]], \"sequentialminus\": [[0.0, \"#0d0887\"], [0.1111111111111111, \"#46039f\"], [0.2222222222222222, \"#7201a8\"], [0.3333333333333333, \"#9c179e\"], [0.4444444444444444, \"#bd3786\"], [0.5555555555555556, \"#d8576b\"], [0.6666666666666666, \"#ed7953\"], [0.7777777777777778, \"#fb9f3a\"], [0.8888888888888888, \"#fdca26\"], [1.0, \"#f0f921\"]]}, \"colorway\": [\"#636efa\", \"#EF553B\", \"#00cc96\", \"#ab63fa\", \"#FFA15A\", \"#19d3f3\", \"#FF6692\", \"#B6E880\", \"#FF97FF\", \"#FECB52\"], \"font\": {\"color\": \"#2a3f5f\"}, \"geo\": {\"bgcolor\": \"white\", \"lakecolor\": \"white\", \"landcolor\": \"#E5ECF6\", \"showlakes\": true, \"showland\": true, \"subunitcolor\": \"white\"}, \"hoverlabel\": {\"align\": \"left\"}, \"hovermode\": \"closest\", \"mapbox\": {\"style\": \"light\"}, \"paper_bgcolor\": \"white\", \"plot_bgcolor\": \"#E5ECF6\", \"polar\": {\"angularaxis\": {\"gridcolor\": \"white\", \"linecolor\": \"white\", \"ticks\": \"\"}, \"bgcolor\": \"#E5ECF6\", \"radialaxis\": {\"gridcolor\": \"white\", \"linecolor\": \"white\", \"ticks\": \"\"}}, \"scene\": {\"xaxis\": {\"backgroundcolor\": \"#E5ECF6\", \"gridcolor\": \"white\", \"gridwidth\": 2, \"linecolor\": \"white\", \"showbackground\": true, \"ticks\": \"\", \"zerolinecolor\": \"white\"}, \"yaxis\": {\"backgroundcolor\": \"#E5ECF6\", \"gridcolor\": \"white\", \"gridwidth\": 2, \"linecolor\": \"white\", \"showbackground\": true, \"ticks\": \"\", \"zerolinecolor\": \"white\"}, \"zaxis\": {\"backgroundcolor\": \"#E5ECF6\", \"gridcolor\": \"white\", \"gridwidth\": 2, \"linecolor\": \"white\", \"showbackground\": true, \"ticks\": \"\", \"zerolinecolor\": \"white\"}}, \"shapedefaults\": {\"line\": {\"color\": \"#2a3f5f\"}}, \"ternary\": {\"aaxis\": {\"gridcolor\": \"white\", \"linecolor\": \"white\", \"ticks\": \"\"}, \"baxis\": {\"gridcolor\": \"white\", \"linecolor\": \"white\", \"ticks\": \"\"}, \"bgcolor\": \"#E5ECF6\", \"caxis\": {\"gridcolor\": \"white\", \"linecolor\": \"white\", \"ticks\": \"\"}}, \"title\": {\"x\": 0.05}, \"xaxis\": {\"automargin\": true, \"gridcolor\": \"white\", \"linecolor\": \"white\", \"ticks\": \"\", \"title\": {\"standoff\": 15}, \"zerolinecolor\": \"white\", \"zerolinewidth\": 2}, \"yaxis\": {\"automargin\": true, \"gridcolor\": \"white\", \"linecolor\": \"white\", \"ticks\": \"\", \"title\": {\"standoff\": 15}, \"zerolinecolor\": \"white\", \"zerolinewidth\": 2}}}},                        {\"responsive\": true}                    ).then(function(){\n",
       "                            \n",
       "var gd = document.getElementById('85dd7143-69d8-42bc-aae8-0851ca6e59ea');\n",
       "var x = new MutationObserver(function (mutations, observer) {{\n",
       "        var display = window.getComputedStyle(gd).display;\n",
       "        if (!display || display === 'none') {{\n",
       "            console.log([gd, 'removed!']);\n",
       "            Plotly.purge(gd);\n",
       "            observer.disconnect();\n",
       "        }}\n",
       "}});\n",
       "\n",
       "// Listen for the removal of the full notebook cells\n",
       "var notebookContainer = gd.closest('#notebook-container');\n",
       "if (notebookContainer) {{\n",
       "    x.observe(notebookContainer, {childList: true});\n",
       "}}\n",
       "\n",
       "// Listen for the clearing of the current output cell\n",
       "var outputEl = gd.closest('.output');\n",
       "if (outputEl) {{\n",
       "    x.observe(outputEl, {childList: true});\n",
       "}}\n",
       "\n",
       "                        })                };                });            </script>        </div>"
      ]
     },
     "metadata": {},
     "output_type": "display_data"
    }
   ],
   "source": [
    "fig = px.sunburst(mortalidad_mujeres_1, path=['date','gpo_enfermedad'],color='date',color_continuous_scale='Spectral')\n",
    "# fig = px.sunburst(mortalidad_mujeres_1, path=['date','gpo_enfermedad'],color='date',color_continuous_scale='RdBu')\n",
    "# fig = px.sunburst(mortalidad_mujeres_1, path=['date','gpo_enfermedad'],color='date')\n",
    "fig.show()"
   ]
  },
  {
   "cell_type": "code",
   "execution_count": 73,
   "metadata": {},
   "outputs": [
    {
     "data": {
      "application/vnd.plotly.v1+json": {
       "config": {
        "plotlyServerURL": "https://plot.ly"
       },
       "data": [
        {
         "branchvalues": "total",
         "customdata": [
          [
           2012
          ],
          [
           2013
          ],
          [
           2014
          ],
          [
           2015
          ],
          [
           2016
          ],
          [
           2017
          ],
          [
           2018
          ],
          [
           2019
          ],
          [
           2012
          ],
          [
           2013
          ],
          [
           2014
          ],
          [
           2015
          ],
          [
           2016
          ],
          [
           2017
          ],
          [
           2018
          ],
          [
           2019
          ],
          [
           2012
          ],
          [
           2013
          ],
          [
           2014
          ],
          [
           2015
          ],
          [
           2016
          ],
          [
           2017
          ],
          [
           2018
          ],
          [
           2019
          ],
          [
           2012
          ],
          [
           2013
          ],
          [
           2014
          ],
          [
           2015
          ],
          [
           2016
          ],
          [
           2017
          ],
          [
           2018
          ],
          [
           2019
          ],
          [
           2012
          ],
          [
           2013
          ],
          [
           2014
          ],
          [
           2015
          ],
          [
           2016
          ],
          [
           2017
          ],
          [
           2018
          ],
          [
           2019
          ],
          [
           2012
          ],
          [
           2013
          ],
          [
           2014
          ],
          [
           2015
          ],
          [
           2016
          ],
          [
           2017
          ],
          [
           2018
          ],
          [
           2019
          ],
          [
           2012
          ],
          [
           2013
          ],
          [
           2014
          ],
          [
           2015
          ],
          [
           2016
          ],
          [
           2017
          ],
          [
           2018
          ],
          [
           2019
          ],
          [
           2012
          ],
          [
           2013
          ],
          [
           2014
          ],
          [
           2015
          ],
          [
           2016
          ],
          [
           2017
          ],
          [
           2018
          ],
          [
           2019
          ],
          [
           2012
          ],
          [
           2013
          ],
          [
           2014
          ],
          [
           2015
          ],
          [
           2016
          ],
          [
           2017
          ],
          [
           2018
          ],
          [
           2019
          ],
          [
           2012
          ],
          [
           2013
          ],
          [
           2014
          ],
          [
           2015
          ],
          [
           2016
          ],
          [
           2017
          ],
          [
           2018
          ],
          [
           2019
          ]
         ],
         "domain": {
          "x": [
           0,
           1
          ],
          "y": [
           0,
           1
          ]
         },
         "hovertemplate": "labels=%{label}<br>count=%{value}<br>parent=%{parent}<br>id=%{id}<br>date=%{color}<extra></extra>",
         "ids": [
          "2012/EPOC",
          "2013/EPOC",
          "2014/EPOC",
          "2015/EPOC",
          "2016/EPOC",
          "2017/EPOC",
          "2018/EPOC",
          "2019/EPOC",
          "2012/asma",
          "2013/asma",
          "2014/asma",
          "2015/asma",
          "2016/asma",
          "2017/asma",
          "2018/asma",
          "2019/asma",
          "2012/cardiovascular",
          "2013/cardiovascular",
          "2014/cardiovascular",
          "2015/cardiovascular",
          "2016/cardiovascular",
          "2017/cardiovascular",
          "2018/cardiovascular",
          "2019/cardiovascular",
          "2012/diabetes",
          "2013/diabetes",
          "2014/diabetes",
          "2015/diabetes",
          "2016/diabetes",
          "2017/diabetes",
          "2018/diabetes",
          "2019/diabetes",
          "2012/hipertension",
          "2013/hipertension",
          "2014/hipertension",
          "2015/hipertension",
          "2016/hipertension",
          "2017/hipertension",
          "2018/hipertension",
          "2019/hipertension",
          "2012/inmunosupresores",
          "2013/inmunosupresores",
          "2014/inmunosupresores",
          "2015/inmunosupresores",
          "2016/inmunosupresores",
          "2017/inmunosupresores",
          "2018/inmunosupresores",
          "2019/inmunosupresores",
          "2012/insuf_renal",
          "2013/insuf_renal",
          "2014/insuf_renal",
          "2015/insuf_renal",
          "2016/insuf_renal",
          "2017/insuf_renal",
          "2018/insuf_renal",
          "2019/insuf_renal",
          "2012/neumonia",
          "2013/neumonia",
          "2014/neumonia",
          "2015/neumonia",
          "2016/neumonia",
          "2017/neumonia",
          "2018/neumonia",
          "2019/neumonia",
          "2012/obesidad",
          "2013/obesidad",
          "2014/obesidad",
          "2015/obesidad",
          "2016/obesidad",
          "2017/obesidad",
          "2018/obesidad",
          "2019/obesidad",
          "2012",
          "2013",
          "2014",
          "2015",
          "2016",
          "2017",
          "2018",
          "2019"
         ],
         "labels": [
          "EPOC",
          "EPOC",
          "EPOC",
          "EPOC",
          "EPOC",
          "EPOC",
          "EPOC",
          "EPOC",
          "asma",
          "asma",
          "asma",
          "asma",
          "asma",
          "asma",
          "asma",
          "asma",
          "cardiovascular",
          "cardiovascular",
          "cardiovascular",
          "cardiovascular",
          "cardiovascular",
          "cardiovascular",
          "cardiovascular",
          "cardiovascular",
          "diabetes",
          "diabetes",
          "diabetes",
          "diabetes",
          "diabetes",
          "diabetes",
          "diabetes",
          "diabetes",
          "hipertension",
          "hipertension",
          "hipertension",
          "hipertension",
          "hipertension",
          "hipertension",
          "hipertension",
          "hipertension",
          "inmunosupresores",
          "inmunosupresores",
          "inmunosupresores",
          "inmunosupresores",
          "inmunosupresores",
          "inmunosupresores",
          "inmunosupresores",
          "inmunosupresores",
          "insuf_renal",
          "insuf_renal",
          "insuf_renal",
          "insuf_renal",
          "insuf_renal",
          "insuf_renal",
          "insuf_renal",
          "insuf_renal",
          "neumonia",
          "neumonia",
          "neumonia",
          "neumonia",
          "neumonia",
          "neumonia",
          "neumonia",
          "neumonia",
          "obesidad",
          "obesidad",
          "obesidad",
          "obesidad",
          "obesidad",
          "obesidad",
          "obesidad",
          "obesidad",
          "2012",
          "2013",
          "2014",
          "2015",
          "2016",
          "2017",
          "2018",
          "2019"
         ],
         "marker": {
          "coloraxis": "coloraxis",
          "colors": [
           2012,
           2013,
           2014,
           2015,
           2016,
           2017,
           2018,
           2019,
           2012,
           2013,
           2014,
           2015,
           2016,
           2017,
           2018,
           2019,
           2012,
           2013,
           2014,
           2015,
           2016,
           2017,
           2018,
           2019,
           2012,
           2013,
           2014,
           2015,
           2016,
           2017,
           2018,
           2019,
           2012,
           2013,
           2014,
           2015,
           2016,
           2017,
           2018,
           2019,
           2012,
           2013,
           2014,
           2015,
           2016,
           2017,
           2018,
           2019,
           2012,
           2013,
           2014,
           2015,
           2016,
           2017,
           2018,
           2019,
           2012,
           2013,
           2014,
           2015,
           2016,
           2017,
           2018,
           2019,
           2012,
           2013,
           2014,
           2015,
           2016,
           2017,
           2018,
           2019,
           2012,
           2013,
           2014,
           2015,
           2016,
           2017,
           2018,
           2019
          ]
         },
         "name": "",
         "parents": [
          "2012",
          "2013",
          "2014",
          "2015",
          "2016",
          "2017",
          "2018",
          "2019",
          "2012",
          "2013",
          "2014",
          "2015",
          "2016",
          "2017",
          "2018",
          "2019",
          "2012",
          "2013",
          "2014",
          "2015",
          "2016",
          "2017",
          "2018",
          "2019",
          "2012",
          "2013",
          "2014",
          "2015",
          "2016",
          "2017",
          "2018",
          "2019",
          "2012",
          "2013",
          "2014",
          "2015",
          "2016",
          "2017",
          "2018",
          "2019",
          "2012",
          "2013",
          "2014",
          "2015",
          "2016",
          "2017",
          "2018",
          "2019",
          "2012",
          "2013",
          "2014",
          "2015",
          "2016",
          "2017",
          "2018",
          "2019",
          "2012",
          "2013",
          "2014",
          "2015",
          "2016",
          "2017",
          "2018",
          "2019",
          "2012",
          "2013",
          "2014",
          "2015",
          "2016",
          "2017",
          "2018",
          "2019",
          "",
          "",
          "",
          "",
          "",
          "",
          "",
          ""
         ],
         "type": "sunburst",
         "values": [
          8493,
          9653,
          9298,
          9964,
          11122,
          11140,
          11220,
          11269,
          720,
          802,
          692,
          717,
          760,
          735,
          649,
          641,
          32587,
          33664,
          34994,
          35535,
          34672,
          34856,
          35100,
          35857,
          43839,
          46098,
          48275,
          50720,
          53857,
          54238,
          51584,
          52657,
          496,
          535,
          460,
          443,
          447,
          417,
          425,
          449,
          31906,
          32659,
          35138,
          36193,
          37196,
          38242,
          39290,
          40130,
          4560,
          4491,
          4794,
          5129,
          5075,
          5123,
          5234,
          5662,
          7291,
          8180,
          9085,
          8735,
          9636,
          9980,
          13006,
          14156,
          621,
          590,
          628,
          587,
          576,
          598,
          553,
          550,
          130513,
          136672,
          143364,
          148023,
          153341,
          155329,
          157061,
          161371
         ]
        }
       ],
       "layout": {
        "coloraxis": {
         "colorbar": {
          "title": {
           "text": "date"
          }
         },
         "colorscale": [
          [
           0,
           "rgb(243, 231, 155)"
          ],
          [
           0.16666666666666666,
           "rgb(250, 196, 132)"
          ],
          [
           0.3333333333333333,
           "rgb(248, 160, 126)"
          ],
          [
           0.5,
           "rgb(235, 127, 134)"
          ],
          [
           0.6666666666666666,
           "rgb(206, 102, 147)"
          ],
          [
           0.8333333333333334,
           "rgb(160, 89, 160)"
          ],
          [
           1,
           "rgb(92, 83, 165)"
          ]
         ]
        },
        "legend": {
         "tracegroupgap": 0
        },
        "margin": {
         "t": 60
        },
        "template": {
         "data": {
          "bar": [
           {
            "error_x": {
             "color": "#2a3f5f"
            },
            "error_y": {
             "color": "#2a3f5f"
            },
            "marker": {
             "line": {
              "color": "#E5ECF6",
              "width": 0.5
             }
            },
            "type": "bar"
           }
          ],
          "barpolar": [
           {
            "marker": {
             "line": {
              "color": "#E5ECF6",
              "width": 0.5
             }
            },
            "type": "barpolar"
           }
          ],
          "carpet": [
           {
            "aaxis": {
             "endlinecolor": "#2a3f5f",
             "gridcolor": "white",
             "linecolor": "white",
             "minorgridcolor": "white",
             "startlinecolor": "#2a3f5f"
            },
            "baxis": {
             "endlinecolor": "#2a3f5f",
             "gridcolor": "white",
             "linecolor": "white",
             "minorgridcolor": "white",
             "startlinecolor": "#2a3f5f"
            },
            "type": "carpet"
           }
          ],
          "choropleth": [
           {
            "colorbar": {
             "outlinewidth": 0,
             "ticks": ""
            },
            "type": "choropleth"
           }
          ],
          "contour": [
           {
            "colorbar": {
             "outlinewidth": 0,
             "ticks": ""
            },
            "colorscale": [
             [
              0,
              "#0d0887"
             ],
             [
              0.1111111111111111,
              "#46039f"
             ],
             [
              0.2222222222222222,
              "#7201a8"
             ],
             [
              0.3333333333333333,
              "#9c179e"
             ],
             [
              0.4444444444444444,
              "#bd3786"
             ],
             [
              0.5555555555555556,
              "#d8576b"
             ],
             [
              0.6666666666666666,
              "#ed7953"
             ],
             [
              0.7777777777777778,
              "#fb9f3a"
             ],
             [
              0.8888888888888888,
              "#fdca26"
             ],
             [
              1,
              "#f0f921"
             ]
            ],
            "type": "contour"
           }
          ],
          "contourcarpet": [
           {
            "colorbar": {
             "outlinewidth": 0,
             "ticks": ""
            },
            "type": "contourcarpet"
           }
          ],
          "heatmap": [
           {
            "colorbar": {
             "outlinewidth": 0,
             "ticks": ""
            },
            "colorscale": [
             [
              0,
              "#0d0887"
             ],
             [
              0.1111111111111111,
              "#46039f"
             ],
             [
              0.2222222222222222,
              "#7201a8"
             ],
             [
              0.3333333333333333,
              "#9c179e"
             ],
             [
              0.4444444444444444,
              "#bd3786"
             ],
             [
              0.5555555555555556,
              "#d8576b"
             ],
             [
              0.6666666666666666,
              "#ed7953"
             ],
             [
              0.7777777777777778,
              "#fb9f3a"
             ],
             [
              0.8888888888888888,
              "#fdca26"
             ],
             [
              1,
              "#f0f921"
             ]
            ],
            "type": "heatmap"
           }
          ],
          "heatmapgl": [
           {
            "colorbar": {
             "outlinewidth": 0,
             "ticks": ""
            },
            "colorscale": [
             [
              0,
              "#0d0887"
             ],
             [
              0.1111111111111111,
              "#46039f"
             ],
             [
              0.2222222222222222,
              "#7201a8"
             ],
             [
              0.3333333333333333,
              "#9c179e"
             ],
             [
              0.4444444444444444,
              "#bd3786"
             ],
             [
              0.5555555555555556,
              "#d8576b"
             ],
             [
              0.6666666666666666,
              "#ed7953"
             ],
             [
              0.7777777777777778,
              "#fb9f3a"
             ],
             [
              0.8888888888888888,
              "#fdca26"
             ],
             [
              1,
              "#f0f921"
             ]
            ],
            "type": "heatmapgl"
           }
          ],
          "histogram": [
           {
            "marker": {
             "colorbar": {
              "outlinewidth": 0,
              "ticks": ""
             }
            },
            "type": "histogram"
           }
          ],
          "histogram2d": [
           {
            "colorbar": {
             "outlinewidth": 0,
             "ticks": ""
            },
            "colorscale": [
             [
              0,
              "#0d0887"
             ],
             [
              0.1111111111111111,
              "#46039f"
             ],
             [
              0.2222222222222222,
              "#7201a8"
             ],
             [
              0.3333333333333333,
              "#9c179e"
             ],
             [
              0.4444444444444444,
              "#bd3786"
             ],
             [
              0.5555555555555556,
              "#d8576b"
             ],
             [
              0.6666666666666666,
              "#ed7953"
             ],
             [
              0.7777777777777778,
              "#fb9f3a"
             ],
             [
              0.8888888888888888,
              "#fdca26"
             ],
             [
              1,
              "#f0f921"
             ]
            ],
            "type": "histogram2d"
           }
          ],
          "histogram2dcontour": [
           {
            "colorbar": {
             "outlinewidth": 0,
             "ticks": ""
            },
            "colorscale": [
             [
              0,
              "#0d0887"
             ],
             [
              0.1111111111111111,
              "#46039f"
             ],
             [
              0.2222222222222222,
              "#7201a8"
             ],
             [
              0.3333333333333333,
              "#9c179e"
             ],
             [
              0.4444444444444444,
              "#bd3786"
             ],
             [
              0.5555555555555556,
              "#d8576b"
             ],
             [
              0.6666666666666666,
              "#ed7953"
             ],
             [
              0.7777777777777778,
              "#fb9f3a"
             ],
             [
              0.8888888888888888,
              "#fdca26"
             ],
             [
              1,
              "#f0f921"
             ]
            ],
            "type": "histogram2dcontour"
           }
          ],
          "mesh3d": [
           {
            "colorbar": {
             "outlinewidth": 0,
             "ticks": ""
            },
            "type": "mesh3d"
           }
          ],
          "parcoords": [
           {
            "line": {
             "colorbar": {
              "outlinewidth": 0,
              "ticks": ""
             }
            },
            "type": "parcoords"
           }
          ],
          "pie": [
           {
            "automargin": true,
            "type": "pie"
           }
          ],
          "scatter": [
           {
            "marker": {
             "colorbar": {
              "outlinewidth": 0,
              "ticks": ""
             }
            },
            "type": "scatter"
           }
          ],
          "scatter3d": [
           {
            "line": {
             "colorbar": {
              "outlinewidth": 0,
              "ticks": ""
             }
            },
            "marker": {
             "colorbar": {
              "outlinewidth": 0,
              "ticks": ""
             }
            },
            "type": "scatter3d"
           }
          ],
          "scattercarpet": [
           {
            "marker": {
             "colorbar": {
              "outlinewidth": 0,
              "ticks": ""
             }
            },
            "type": "scattercarpet"
           }
          ],
          "scattergeo": [
           {
            "marker": {
             "colorbar": {
              "outlinewidth": 0,
              "ticks": ""
             }
            },
            "type": "scattergeo"
           }
          ],
          "scattergl": [
           {
            "marker": {
             "colorbar": {
              "outlinewidth": 0,
              "ticks": ""
             }
            },
            "type": "scattergl"
           }
          ],
          "scattermapbox": [
           {
            "marker": {
             "colorbar": {
              "outlinewidth": 0,
              "ticks": ""
             }
            },
            "type": "scattermapbox"
           }
          ],
          "scatterpolar": [
           {
            "marker": {
             "colorbar": {
              "outlinewidth": 0,
              "ticks": ""
             }
            },
            "type": "scatterpolar"
           }
          ],
          "scatterpolargl": [
           {
            "marker": {
             "colorbar": {
              "outlinewidth": 0,
              "ticks": ""
             }
            },
            "type": "scatterpolargl"
           }
          ],
          "scatterternary": [
           {
            "marker": {
             "colorbar": {
              "outlinewidth": 0,
              "ticks": ""
             }
            },
            "type": "scatterternary"
           }
          ],
          "surface": [
           {
            "colorbar": {
             "outlinewidth": 0,
             "ticks": ""
            },
            "colorscale": [
             [
              0,
              "#0d0887"
             ],
             [
              0.1111111111111111,
              "#46039f"
             ],
             [
              0.2222222222222222,
              "#7201a8"
             ],
             [
              0.3333333333333333,
              "#9c179e"
             ],
             [
              0.4444444444444444,
              "#bd3786"
             ],
             [
              0.5555555555555556,
              "#d8576b"
             ],
             [
              0.6666666666666666,
              "#ed7953"
             ],
             [
              0.7777777777777778,
              "#fb9f3a"
             ],
             [
              0.8888888888888888,
              "#fdca26"
             ],
             [
              1,
              "#f0f921"
             ]
            ],
            "type": "surface"
           }
          ],
          "table": [
           {
            "cells": {
             "fill": {
              "color": "#EBF0F8"
             },
             "line": {
              "color": "white"
             }
            },
            "header": {
             "fill": {
              "color": "#C8D4E3"
             },
             "line": {
              "color": "white"
             }
            },
            "type": "table"
           }
          ]
         },
         "layout": {
          "annotationdefaults": {
           "arrowcolor": "#2a3f5f",
           "arrowhead": 0,
           "arrowwidth": 1
          },
          "autotypenumbers": "strict",
          "coloraxis": {
           "colorbar": {
            "outlinewidth": 0,
            "ticks": ""
           }
          },
          "colorscale": {
           "diverging": [
            [
             0,
             "#8e0152"
            ],
            [
             0.1,
             "#c51b7d"
            ],
            [
             0.2,
             "#de77ae"
            ],
            [
             0.3,
             "#f1b6da"
            ],
            [
             0.4,
             "#fde0ef"
            ],
            [
             0.5,
             "#f7f7f7"
            ],
            [
             0.6,
             "#e6f5d0"
            ],
            [
             0.7,
             "#b8e186"
            ],
            [
             0.8,
             "#7fbc41"
            ],
            [
             0.9,
             "#4d9221"
            ],
            [
             1,
             "#276419"
            ]
           ],
           "sequential": [
            [
             0,
             "#0d0887"
            ],
            [
             0.1111111111111111,
             "#46039f"
            ],
            [
             0.2222222222222222,
             "#7201a8"
            ],
            [
             0.3333333333333333,
             "#9c179e"
            ],
            [
             0.4444444444444444,
             "#bd3786"
            ],
            [
             0.5555555555555556,
             "#d8576b"
            ],
            [
             0.6666666666666666,
             "#ed7953"
            ],
            [
             0.7777777777777778,
             "#fb9f3a"
            ],
            [
             0.8888888888888888,
             "#fdca26"
            ],
            [
             1,
             "#f0f921"
            ]
           ],
           "sequentialminus": [
            [
             0,
             "#0d0887"
            ],
            [
             0.1111111111111111,
             "#46039f"
            ],
            [
             0.2222222222222222,
             "#7201a8"
            ],
            [
             0.3333333333333333,
             "#9c179e"
            ],
            [
             0.4444444444444444,
             "#bd3786"
            ],
            [
             0.5555555555555556,
             "#d8576b"
            ],
            [
             0.6666666666666666,
             "#ed7953"
            ],
            [
             0.7777777777777778,
             "#fb9f3a"
            ],
            [
             0.8888888888888888,
             "#fdca26"
            ],
            [
             1,
             "#f0f921"
            ]
           ]
          },
          "colorway": [
           "#636efa",
           "#EF553B",
           "#00cc96",
           "#ab63fa",
           "#FFA15A",
           "#19d3f3",
           "#FF6692",
           "#B6E880",
           "#FF97FF",
           "#FECB52"
          ],
          "font": {
           "color": "#2a3f5f"
          },
          "geo": {
           "bgcolor": "white",
           "lakecolor": "white",
           "landcolor": "#E5ECF6",
           "showlakes": true,
           "showland": true,
           "subunitcolor": "white"
          },
          "hoverlabel": {
           "align": "left"
          },
          "hovermode": "closest",
          "mapbox": {
           "style": "light"
          },
          "paper_bgcolor": "white",
          "plot_bgcolor": "#E5ECF6",
          "polar": {
           "angularaxis": {
            "gridcolor": "white",
            "linecolor": "white",
            "ticks": ""
           },
           "bgcolor": "#E5ECF6",
           "radialaxis": {
            "gridcolor": "white",
            "linecolor": "white",
            "ticks": ""
           }
          },
          "scene": {
           "xaxis": {
            "backgroundcolor": "#E5ECF6",
            "gridcolor": "white",
            "gridwidth": 2,
            "linecolor": "white",
            "showbackground": true,
            "ticks": "",
            "zerolinecolor": "white"
           },
           "yaxis": {
            "backgroundcolor": "#E5ECF6",
            "gridcolor": "white",
            "gridwidth": 2,
            "linecolor": "white",
            "showbackground": true,
            "ticks": "",
            "zerolinecolor": "white"
           },
           "zaxis": {
            "backgroundcolor": "#E5ECF6",
            "gridcolor": "white",
            "gridwidth": 2,
            "linecolor": "white",
            "showbackground": true,
            "ticks": "",
            "zerolinecolor": "white"
           }
          },
          "shapedefaults": {
           "line": {
            "color": "#2a3f5f"
           }
          },
          "ternary": {
           "aaxis": {
            "gridcolor": "white",
            "linecolor": "white",
            "ticks": ""
           },
           "baxis": {
            "gridcolor": "white",
            "linecolor": "white",
            "ticks": ""
           },
           "bgcolor": "#E5ECF6",
           "caxis": {
            "gridcolor": "white",
            "linecolor": "white",
            "ticks": ""
           }
          },
          "title": {
           "x": 0.05
          },
          "xaxis": {
           "automargin": true,
           "gridcolor": "white",
           "linecolor": "white",
           "ticks": "",
           "title": {
            "standoff": 15
           },
           "zerolinecolor": "white",
           "zerolinewidth": 2
          },
          "yaxis": {
           "automargin": true,
           "gridcolor": "white",
           "linecolor": "white",
           "ticks": "",
           "title": {
            "standoff": 15
           },
           "zerolinecolor": "white",
           "zerolinewidth": 2
          }
         }
        }
       }
      },
      "text/html": [
       "<div>                            <div id=\"aa3560b7-3c51-47fd-b627-4fb89730f9a6\" class=\"plotly-graph-div\" style=\"height:525px; width:100%;\"></div>            <script type=\"text/javascript\">                require([\"plotly\"], function(Plotly) {                    window.PLOTLYENV=window.PLOTLYENV || {};                                    if (document.getElementById(\"aa3560b7-3c51-47fd-b627-4fb89730f9a6\")) {                    Plotly.newPlot(                        \"aa3560b7-3c51-47fd-b627-4fb89730f9a6\",                        [{\"branchvalues\": \"total\", \"customdata\": [[2012], [2013], [2014], [2015], [2016], [2017], [2018], [2019], [2012], [2013], [2014], [2015], [2016], [2017], [2018], [2019], [2012], [2013], [2014], [2015], [2016], [2017], [2018], [2019], [2012], [2013], [2014], [2015], [2016], [2017], [2018], [2019], [2012], [2013], [2014], [2015], [2016], [2017], [2018], [2019], [2012], [2013], [2014], [2015], [2016], [2017], [2018], [2019], [2012], [2013], [2014], [2015], [2016], [2017], [2018], [2019], [2012], [2013], [2014], [2015], [2016], [2017], [2018], [2019], [2012], [2013], [2014], [2015], [2016], [2017], [2018], [2019], [2012], [2013], [2014], [2015], [2016], [2017], [2018], [2019]], \"domain\": {\"x\": [0.0, 1.0], \"y\": [0.0, 1.0]}, \"hovertemplate\": \"labels=%{label}<br>count=%{value}<br>parent=%{parent}<br>id=%{id}<br>date=%{color}<extra></extra>\", \"ids\": [\"2012/EPOC\", \"2013/EPOC\", \"2014/EPOC\", \"2015/EPOC\", \"2016/EPOC\", \"2017/EPOC\", \"2018/EPOC\", \"2019/EPOC\", \"2012/asma\", \"2013/asma\", \"2014/asma\", \"2015/asma\", \"2016/asma\", \"2017/asma\", \"2018/asma\", \"2019/asma\", \"2012/cardiovascular\", \"2013/cardiovascular\", \"2014/cardiovascular\", \"2015/cardiovascular\", \"2016/cardiovascular\", \"2017/cardiovascular\", \"2018/cardiovascular\", \"2019/cardiovascular\", \"2012/diabetes\", \"2013/diabetes\", \"2014/diabetes\", \"2015/diabetes\", \"2016/diabetes\", \"2017/diabetes\", \"2018/diabetes\", \"2019/diabetes\", \"2012/hipertension\", \"2013/hipertension\", \"2014/hipertension\", \"2015/hipertension\", \"2016/hipertension\", \"2017/hipertension\", \"2018/hipertension\", \"2019/hipertension\", \"2012/inmunosupresores\", \"2013/inmunosupresores\", \"2014/inmunosupresores\", \"2015/inmunosupresores\", \"2016/inmunosupresores\", \"2017/inmunosupresores\", \"2018/inmunosupresores\", \"2019/inmunosupresores\", \"2012/insuf_renal\", \"2013/insuf_renal\", \"2014/insuf_renal\", \"2015/insuf_renal\", \"2016/insuf_renal\", \"2017/insuf_renal\", \"2018/insuf_renal\", \"2019/insuf_renal\", \"2012/neumonia\", \"2013/neumonia\", \"2014/neumonia\", \"2015/neumonia\", \"2016/neumonia\", \"2017/neumonia\", \"2018/neumonia\", \"2019/neumonia\", \"2012/obesidad\", \"2013/obesidad\", \"2014/obesidad\", \"2015/obesidad\", \"2016/obesidad\", \"2017/obesidad\", \"2018/obesidad\", \"2019/obesidad\", \"2012\", \"2013\", \"2014\", \"2015\", \"2016\", \"2017\", \"2018\", \"2019\"], \"labels\": [\"EPOC\", \"EPOC\", \"EPOC\", \"EPOC\", \"EPOC\", \"EPOC\", \"EPOC\", \"EPOC\", \"asma\", \"asma\", \"asma\", \"asma\", \"asma\", \"asma\", \"asma\", \"asma\", \"cardiovascular\", \"cardiovascular\", \"cardiovascular\", \"cardiovascular\", \"cardiovascular\", \"cardiovascular\", \"cardiovascular\", \"cardiovascular\", \"diabetes\", \"diabetes\", \"diabetes\", \"diabetes\", \"diabetes\", \"diabetes\", \"diabetes\", \"diabetes\", \"hipertension\", \"hipertension\", \"hipertension\", \"hipertension\", \"hipertension\", \"hipertension\", \"hipertension\", \"hipertension\", \"inmunosupresores\", \"inmunosupresores\", \"inmunosupresores\", \"inmunosupresores\", \"inmunosupresores\", \"inmunosupresores\", \"inmunosupresores\", \"inmunosupresores\", \"insuf_renal\", \"insuf_renal\", \"insuf_renal\", \"insuf_renal\", \"insuf_renal\", \"insuf_renal\", \"insuf_renal\", \"insuf_renal\", \"neumonia\", \"neumonia\", \"neumonia\", \"neumonia\", \"neumonia\", \"neumonia\", \"neumonia\", \"neumonia\", \"obesidad\", \"obesidad\", \"obesidad\", \"obesidad\", \"obesidad\", \"obesidad\", \"obesidad\", \"obesidad\", \"2012\", \"2013\", \"2014\", \"2015\", \"2016\", \"2017\", \"2018\", \"2019\"], \"marker\": {\"coloraxis\": \"coloraxis\", \"colors\": [2012, 2013, 2014, 2015, 2016, 2017, 2018, 2019, 2012, 2013, 2014, 2015, 2016, 2017, 2018, 2019, 2012, 2013, 2014, 2015, 2016, 2017, 2018, 2019, 2012, 2013, 2014, 2015, 2016, 2017, 2018, 2019, 2012, 2013, 2014, 2015, 2016, 2017, 2018, 2019, 2012, 2013, 2014, 2015, 2016, 2017, 2018, 2019, 2012, 2013, 2014, 2015, 2016, 2017, 2018, 2019, 2012, 2013, 2014, 2015, 2016, 2017, 2018, 2019, 2012, 2013, 2014, 2015, 2016, 2017, 2018, 2019, 2012, 2013, 2014, 2015, 2016, 2017, 2018, 2019]}, \"name\": \"\", \"parents\": [\"2012\", \"2013\", \"2014\", \"2015\", \"2016\", \"2017\", \"2018\", \"2019\", \"2012\", \"2013\", \"2014\", \"2015\", \"2016\", \"2017\", \"2018\", \"2019\", \"2012\", \"2013\", \"2014\", \"2015\", \"2016\", \"2017\", \"2018\", \"2019\", \"2012\", \"2013\", \"2014\", \"2015\", \"2016\", \"2017\", \"2018\", \"2019\", \"2012\", \"2013\", \"2014\", \"2015\", \"2016\", \"2017\", \"2018\", \"2019\", \"2012\", \"2013\", \"2014\", \"2015\", \"2016\", \"2017\", \"2018\", \"2019\", \"2012\", \"2013\", \"2014\", \"2015\", \"2016\", \"2017\", \"2018\", \"2019\", \"2012\", \"2013\", \"2014\", \"2015\", \"2016\", \"2017\", \"2018\", \"2019\", \"2012\", \"2013\", \"2014\", \"2015\", \"2016\", \"2017\", \"2018\", \"2019\", \"\", \"\", \"\", \"\", \"\", \"\", \"\", \"\"], \"type\": \"sunburst\", \"values\": [8493, 9653, 9298, 9964, 11122, 11140, 11220, 11269, 720, 802, 692, 717, 760, 735, 649, 641, 32587, 33664, 34994, 35535, 34672, 34856, 35100, 35857, 43839, 46098, 48275, 50720, 53857, 54238, 51584, 52657, 496, 535, 460, 443, 447, 417, 425, 449, 31906, 32659, 35138, 36193, 37196, 38242, 39290, 40130, 4560, 4491, 4794, 5129, 5075, 5123, 5234, 5662, 7291, 8180, 9085, 8735, 9636, 9980, 13006, 14156, 621, 590, 628, 587, 576, 598, 553, 550, 130513, 136672, 143364, 148023, 153341, 155329, 157061, 161371]}],                        {\"coloraxis\": {\"colorbar\": {\"title\": {\"text\": \"date\"}}, \"colorscale\": [[0.0, \"rgb(243, 231, 155)\"], [0.16666666666666666, \"rgb(250, 196, 132)\"], [0.3333333333333333, \"rgb(248, 160, 126)\"], [0.5, \"rgb(235, 127, 134)\"], [0.6666666666666666, \"rgb(206, 102, 147)\"], [0.8333333333333334, \"rgb(160, 89, 160)\"], [1.0, \"rgb(92, 83, 165)\"]]}, \"legend\": {\"tracegroupgap\": 0}, \"margin\": {\"t\": 60}, \"template\": {\"data\": {\"bar\": [{\"error_x\": {\"color\": \"#2a3f5f\"}, \"error_y\": {\"color\": \"#2a3f5f\"}, \"marker\": {\"line\": {\"color\": \"#E5ECF6\", \"width\": 0.5}}, \"type\": \"bar\"}], \"barpolar\": [{\"marker\": {\"line\": {\"color\": \"#E5ECF6\", \"width\": 0.5}}, \"type\": \"barpolar\"}], \"carpet\": [{\"aaxis\": {\"endlinecolor\": \"#2a3f5f\", \"gridcolor\": \"white\", \"linecolor\": \"white\", \"minorgridcolor\": \"white\", \"startlinecolor\": \"#2a3f5f\"}, \"baxis\": {\"endlinecolor\": \"#2a3f5f\", \"gridcolor\": \"white\", \"linecolor\": \"white\", \"minorgridcolor\": \"white\", \"startlinecolor\": \"#2a3f5f\"}, \"type\": \"carpet\"}], \"choropleth\": [{\"colorbar\": {\"outlinewidth\": 0, \"ticks\": \"\"}, \"type\": \"choropleth\"}], \"contour\": [{\"colorbar\": {\"outlinewidth\": 0, \"ticks\": \"\"}, \"colorscale\": [[0.0, \"#0d0887\"], [0.1111111111111111, \"#46039f\"], [0.2222222222222222, \"#7201a8\"], [0.3333333333333333, \"#9c179e\"], [0.4444444444444444, \"#bd3786\"], [0.5555555555555556, \"#d8576b\"], [0.6666666666666666, \"#ed7953\"], [0.7777777777777778, \"#fb9f3a\"], [0.8888888888888888, \"#fdca26\"], [1.0, \"#f0f921\"]], \"type\": \"contour\"}], \"contourcarpet\": [{\"colorbar\": {\"outlinewidth\": 0, \"ticks\": \"\"}, \"type\": \"contourcarpet\"}], \"heatmap\": [{\"colorbar\": {\"outlinewidth\": 0, \"ticks\": \"\"}, \"colorscale\": [[0.0, \"#0d0887\"], [0.1111111111111111, \"#46039f\"], [0.2222222222222222, \"#7201a8\"], [0.3333333333333333, \"#9c179e\"], [0.4444444444444444, \"#bd3786\"], [0.5555555555555556, \"#d8576b\"], [0.6666666666666666, \"#ed7953\"], [0.7777777777777778, \"#fb9f3a\"], [0.8888888888888888, \"#fdca26\"], [1.0, \"#f0f921\"]], \"type\": \"heatmap\"}], \"heatmapgl\": [{\"colorbar\": {\"outlinewidth\": 0, \"ticks\": \"\"}, \"colorscale\": [[0.0, \"#0d0887\"], [0.1111111111111111, \"#46039f\"], [0.2222222222222222, \"#7201a8\"], [0.3333333333333333, \"#9c179e\"], [0.4444444444444444, \"#bd3786\"], [0.5555555555555556, \"#d8576b\"], [0.6666666666666666, \"#ed7953\"], [0.7777777777777778, \"#fb9f3a\"], [0.8888888888888888, \"#fdca26\"], [1.0, \"#f0f921\"]], \"type\": \"heatmapgl\"}], \"histogram\": [{\"marker\": {\"colorbar\": {\"outlinewidth\": 0, \"ticks\": \"\"}}, \"type\": \"histogram\"}], \"histogram2d\": [{\"colorbar\": {\"outlinewidth\": 0, \"ticks\": \"\"}, \"colorscale\": [[0.0, \"#0d0887\"], [0.1111111111111111, \"#46039f\"], [0.2222222222222222, \"#7201a8\"], [0.3333333333333333, \"#9c179e\"], [0.4444444444444444, \"#bd3786\"], [0.5555555555555556, \"#d8576b\"], [0.6666666666666666, \"#ed7953\"], [0.7777777777777778, \"#fb9f3a\"], [0.8888888888888888, \"#fdca26\"], [1.0, \"#f0f921\"]], \"type\": \"histogram2d\"}], \"histogram2dcontour\": [{\"colorbar\": {\"outlinewidth\": 0, \"ticks\": \"\"}, \"colorscale\": [[0.0, \"#0d0887\"], [0.1111111111111111, \"#46039f\"], [0.2222222222222222, \"#7201a8\"], [0.3333333333333333, \"#9c179e\"], [0.4444444444444444, \"#bd3786\"], [0.5555555555555556, \"#d8576b\"], [0.6666666666666666, \"#ed7953\"], [0.7777777777777778, \"#fb9f3a\"], [0.8888888888888888, \"#fdca26\"], [1.0, \"#f0f921\"]], \"type\": \"histogram2dcontour\"}], \"mesh3d\": [{\"colorbar\": {\"outlinewidth\": 0, \"ticks\": \"\"}, \"type\": \"mesh3d\"}], \"parcoords\": [{\"line\": {\"colorbar\": {\"outlinewidth\": 0, \"ticks\": \"\"}}, \"type\": \"parcoords\"}], \"pie\": [{\"automargin\": true, \"type\": \"pie\"}], \"scatter\": [{\"marker\": {\"colorbar\": {\"outlinewidth\": 0, \"ticks\": \"\"}}, \"type\": \"scatter\"}], \"scatter3d\": [{\"line\": {\"colorbar\": {\"outlinewidth\": 0, \"ticks\": \"\"}}, \"marker\": {\"colorbar\": {\"outlinewidth\": 0, \"ticks\": \"\"}}, \"type\": \"scatter3d\"}], \"scattercarpet\": [{\"marker\": {\"colorbar\": {\"outlinewidth\": 0, \"ticks\": \"\"}}, \"type\": \"scattercarpet\"}], \"scattergeo\": [{\"marker\": {\"colorbar\": {\"outlinewidth\": 0, \"ticks\": \"\"}}, \"type\": \"scattergeo\"}], \"scattergl\": [{\"marker\": {\"colorbar\": {\"outlinewidth\": 0, \"ticks\": \"\"}}, \"type\": \"scattergl\"}], \"scattermapbox\": [{\"marker\": {\"colorbar\": {\"outlinewidth\": 0, \"ticks\": \"\"}}, \"type\": \"scattermapbox\"}], \"scatterpolar\": [{\"marker\": {\"colorbar\": {\"outlinewidth\": 0, \"ticks\": \"\"}}, \"type\": \"scatterpolar\"}], \"scatterpolargl\": [{\"marker\": {\"colorbar\": {\"outlinewidth\": 0, \"ticks\": \"\"}}, \"type\": \"scatterpolargl\"}], \"scatterternary\": [{\"marker\": {\"colorbar\": {\"outlinewidth\": 0, \"ticks\": \"\"}}, \"type\": \"scatterternary\"}], \"surface\": [{\"colorbar\": {\"outlinewidth\": 0, \"ticks\": \"\"}, \"colorscale\": [[0.0, \"#0d0887\"], [0.1111111111111111, \"#46039f\"], [0.2222222222222222, \"#7201a8\"], [0.3333333333333333, \"#9c179e\"], [0.4444444444444444, \"#bd3786\"], [0.5555555555555556, \"#d8576b\"], [0.6666666666666666, \"#ed7953\"], [0.7777777777777778, \"#fb9f3a\"], [0.8888888888888888, \"#fdca26\"], [1.0, \"#f0f921\"]], \"type\": \"surface\"}], \"table\": [{\"cells\": {\"fill\": {\"color\": \"#EBF0F8\"}, \"line\": {\"color\": \"white\"}}, \"header\": {\"fill\": {\"color\": \"#C8D4E3\"}, \"line\": {\"color\": \"white\"}}, \"type\": \"table\"}]}, \"layout\": {\"annotationdefaults\": {\"arrowcolor\": \"#2a3f5f\", \"arrowhead\": 0, \"arrowwidth\": 1}, \"autotypenumbers\": \"strict\", \"coloraxis\": {\"colorbar\": {\"outlinewidth\": 0, \"ticks\": \"\"}}, \"colorscale\": {\"diverging\": [[0, \"#8e0152\"], [0.1, \"#c51b7d\"], [0.2, \"#de77ae\"], [0.3, \"#f1b6da\"], [0.4, \"#fde0ef\"], [0.5, \"#f7f7f7\"], [0.6, \"#e6f5d0\"], [0.7, \"#b8e186\"], [0.8, \"#7fbc41\"], [0.9, \"#4d9221\"], [1, \"#276419\"]], \"sequential\": [[0.0, \"#0d0887\"], [0.1111111111111111, \"#46039f\"], [0.2222222222222222, \"#7201a8\"], [0.3333333333333333, \"#9c179e\"], [0.4444444444444444, \"#bd3786\"], [0.5555555555555556, \"#d8576b\"], [0.6666666666666666, \"#ed7953\"], [0.7777777777777778, \"#fb9f3a\"], [0.8888888888888888, \"#fdca26\"], [1.0, \"#f0f921\"]], \"sequentialminus\": [[0.0, \"#0d0887\"], [0.1111111111111111, \"#46039f\"], [0.2222222222222222, \"#7201a8\"], [0.3333333333333333, \"#9c179e\"], [0.4444444444444444, \"#bd3786\"], [0.5555555555555556, \"#d8576b\"], [0.6666666666666666, \"#ed7953\"], [0.7777777777777778, \"#fb9f3a\"], [0.8888888888888888, \"#fdca26\"], [1.0, \"#f0f921\"]]}, \"colorway\": [\"#636efa\", \"#EF553B\", \"#00cc96\", \"#ab63fa\", \"#FFA15A\", \"#19d3f3\", \"#FF6692\", \"#B6E880\", \"#FF97FF\", \"#FECB52\"], \"font\": {\"color\": \"#2a3f5f\"}, \"geo\": {\"bgcolor\": \"white\", \"lakecolor\": \"white\", \"landcolor\": \"#E5ECF6\", \"showlakes\": true, \"showland\": true, \"subunitcolor\": \"white\"}, \"hoverlabel\": {\"align\": \"left\"}, \"hovermode\": \"closest\", \"mapbox\": {\"style\": \"light\"}, \"paper_bgcolor\": \"white\", \"plot_bgcolor\": \"#E5ECF6\", \"polar\": {\"angularaxis\": {\"gridcolor\": \"white\", \"linecolor\": \"white\", \"ticks\": \"\"}, \"bgcolor\": \"#E5ECF6\", \"radialaxis\": {\"gridcolor\": \"white\", \"linecolor\": \"white\", \"ticks\": \"\"}}, \"scene\": {\"xaxis\": {\"backgroundcolor\": \"#E5ECF6\", \"gridcolor\": \"white\", \"gridwidth\": 2, \"linecolor\": \"white\", \"showbackground\": true, \"ticks\": \"\", \"zerolinecolor\": \"white\"}, \"yaxis\": {\"backgroundcolor\": \"#E5ECF6\", \"gridcolor\": \"white\", \"gridwidth\": 2, \"linecolor\": \"white\", \"showbackground\": true, \"ticks\": \"\", \"zerolinecolor\": \"white\"}, \"zaxis\": {\"backgroundcolor\": \"#E5ECF6\", \"gridcolor\": \"white\", \"gridwidth\": 2, \"linecolor\": \"white\", \"showbackground\": true, \"ticks\": \"\", \"zerolinecolor\": \"white\"}}, \"shapedefaults\": {\"line\": {\"color\": \"#2a3f5f\"}}, \"ternary\": {\"aaxis\": {\"gridcolor\": \"white\", \"linecolor\": \"white\", \"ticks\": \"\"}, \"baxis\": {\"gridcolor\": \"white\", \"linecolor\": \"white\", \"ticks\": \"\"}, \"bgcolor\": \"#E5ECF6\", \"caxis\": {\"gridcolor\": \"white\", \"linecolor\": \"white\", \"ticks\": \"\"}}, \"title\": {\"x\": 0.05}, \"xaxis\": {\"automargin\": true, \"gridcolor\": \"white\", \"linecolor\": \"white\", \"ticks\": \"\", \"title\": {\"standoff\": 15}, \"zerolinecolor\": \"white\", \"zerolinewidth\": 2}, \"yaxis\": {\"automargin\": true, \"gridcolor\": \"white\", \"linecolor\": \"white\", \"ticks\": \"\", \"title\": {\"standoff\": 15}, \"zerolinecolor\": \"white\", \"zerolinewidth\": 2}}}},                        {\"responsive\": true}                    ).then(function(){\n",
       "                            \n",
       "var gd = document.getElementById('aa3560b7-3c51-47fd-b627-4fb89730f9a6');\n",
       "var x = new MutationObserver(function (mutations, observer) {{\n",
       "        var display = window.getComputedStyle(gd).display;\n",
       "        if (!display || display === 'none') {{\n",
       "            console.log([gd, 'removed!']);\n",
       "            Plotly.purge(gd);\n",
       "            observer.disconnect();\n",
       "        }}\n",
       "}});\n",
       "\n",
       "// Listen for the removal of the full notebook cells\n",
       "var notebookContainer = gd.closest('#notebook-container');\n",
       "if (notebookContainer) {{\n",
       "    x.observe(notebookContainer, {childList: true});\n",
       "}}\n",
       "\n",
       "// Listen for the clearing of the current output cell\n",
       "var outputEl = gd.closest('.output');\n",
       "if (outputEl) {{\n",
       "    x.observe(outputEl, {childList: true});\n",
       "}}\n",
       "\n",
       "                        })                };                });            </script>        </div>"
      ]
     },
     "metadata": {},
     "output_type": "display_data"
    }
   ],
   "source": [
    "fig = px.sunburst(mortalidad_mujeres_1, path=['date','gpo_enfermedad'],color='date',color_continuous_scale='sunset')\n",
    "fig.show()"
   ]
  },
  {
   "cell_type": "code",
   "execution_count": null,
   "metadata": {},
   "outputs": [],
   "source": [
    "fig = px.bar(mortalidad_mujeres_1, x=\"region\", y=\"causa_def\", color=\"causa_def\")\n",
    "fig.show()\n",
    "\n",
    "# fig = px.sunburst(mortalidad_mujeres_1, path=['gpo_enfermedad','causa_def'],color='date',color_continuous_scale='sunset')\n",
    "# fig.show()"
   ]
  },
  {
   "cell_type": "code",
   "execution_count": 90,
   "metadata": {},
   "outputs": [],
   "source": [
    "# sns.(data=mortalidad_mujeres_1,x=\"region\", y=\"causa_def\")"
   ]
  },
  {
   "cell_type": "code",
   "execution_count": 77,
   "metadata": {},
   "outputs": [],
   "source": [
    "# fig = px.sunburst(mortalidad_mujeres_1, path=['date','gpo_enfermedad'],color='date',color_continuous_scale='sunsetdark')\n",
    "# fig.show()"
   ]
  }
 ],
 "metadata": {
  "kernelspec": {
   "display_name": "Python 3",
   "language": "python",
   "name": "python3"
  },
  "language_info": {
   "codemirror_mode": {
    "name": "ipython",
    "version": 3
   },
   "file_extension": ".py",
   "mimetype": "text/x-python",
   "name": "python",
   "nbconvert_exporter": "python",
   "pygments_lexer": "ipython3",
   "version": "3.8.3"
  }
 },
 "nbformat": 4,
 "nbformat_minor": 4
}
